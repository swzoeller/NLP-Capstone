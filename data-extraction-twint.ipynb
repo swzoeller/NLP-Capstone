{
 "cells": [
  {
   "cell_type": "code",
   "execution_count": 1,
   "metadata": {},
   "outputs": [],
   "source": [
    "import pandas as pd\n",
    "import numpy as np\n",
    "import matplotlib.pyplot as plt\n",
    "import seaborn as sns\n",
    "import json\n",
    "import requests\n",
    "import time\n",
    "from bs4 import BeautifulSoup\n",
    "import twint\n",
    "import nest_asyncio\n",
    "nest_asyncio.apply()"
   ]
  },
  {
   "cell_type": "markdown",
   "metadata": {},
   "source": [
    "### Webscraping"
   ]
  },
  {
   "cell_type": "code",
   "execution_count": null,
   "metadata": {},
   "outputs": [],
   "source": [
    "url = \"https://triagecancer.org/congressional-social-media\"\n",
    "soup = BeautifulSoup(requests.get(url).text)"
   ]
  },
  {
   "cell_type": "code",
   "execution_count": null,
   "metadata": {},
   "outputs": [],
   "source": [
    "containers = [soup.findAll('tr', {\"class\": f\"ninja_table_row_{num}\"}) for num in range(541)]"
   ]
  },
  {
   "cell_type": "code",
   "execution_count": null,
   "metadata": {},
   "outputs": [],
   "source": [
    "names = [c[0].findAll(\"td\")[2].text for c in containers]"
   ]
  },
  {
   "cell_type": "code",
   "execution_count": null,
   "metadata": {},
   "outputs": [],
   "source": [
    "parties = [c[0].findAll(\"td\")[4].text for c in containers]"
   ]
  },
  {
   "cell_type": "code",
   "execution_count": null,
   "metadata": {},
   "outputs": [],
   "source": [
    "handles = [c[0].findAll(\"td\")[5].text for c in containers]"
   ]
  },
  {
   "cell_type": "code",
   "execution_count": null,
   "metadata": {},
   "outputs": [],
   "source": [
    "twitter_df = pd.DataFrame(columns = [\"name\", \"party\", \"t_handle\"])\n",
    "twitter_df[\"name\"] = names\n",
    "twitter_df[\"party\"] = parties\n",
    "twitter_df[\"t_handle\"] = handles"
   ]
  },
  {
   "cell_type": "code",
   "execution_count": null,
   "metadata": {},
   "outputs": [],
   "source": [
    "twitter_df[\"t_handle\"] = twitter_df[\"t_handle\"].map(lambda x: x.strip(\"@\"))"
   ]
  },
  {
   "cell_type": "code",
   "execution_count": null,
   "metadata": {},
   "outputs": [],
   "source": [
    "add_names = [\"Biden, Joe\", \"Clinton, Hillary\", \"Obama, Barack\", \"Pence, Mike\", \"Pompeo, Mike\"]\n",
    "add_parties = [\"D\", \"D\", \"D\", \"R\", \"R\"]\n",
    "add_handles = [\"JoeBiden\", \"HillaryClinton\", \"BarackObama\", \"Mike_Pence\", \"mikepompeo\"]\n",
    "d = {'name': add_names, 'party': add_parties, 't_handle': add_handles}\n",
    "add_df = pd.DataFrame(data=d)"
   ]
  },
  {
   "cell_type": "code",
   "execution_count": null,
   "metadata": {},
   "outputs": [],
   "source": [
    "twitter_df = twitter_df.append(add_df)"
   ]
  },
  {
   "cell_type": "code",
   "execution_count": null,
   "metadata": {},
   "outputs": [],
   "source": [
    "most_popular = twitter_df[twitter_df[\"t_handle\"].isin([\"HillaryClinton\", \"JoeBiden\", \n",
    "                                                   \"BarackObama\", \"SenSanders\",\n",
    "                                                  \"Mike_Pence\",\"KamalaHarris\"])]"
   ]
  },
  {
   "cell_type": "code",
   "execution_count": null,
   "metadata": {},
   "outputs": [],
   "source": [
    "less_popular = twitter_df[~twitter_df[\"t_handle\"].isin([\"HillaryClinton\", \"JoeBiden\", \n",
    "                                                   \"BarackObama\", \"SenSanders\",\n",
    "                                                  \"Mike_Pence\",\"KamalaHarris\"])]"
   ]
  },
  {
   "cell_type": "markdown",
   "metadata": {},
   "source": [
    "### Extracting Data from Twint"
   ]
  },
  {
   "cell_type": "code",
   "execution_count": null,
   "metadata": {},
   "outputs": [],
   "source": [
    "def extract_twint(user, since, min_likes):\n",
    "    c = twint.Config()\n",
    "    c.Username = user\n",
    "    c.Since = since\n",
    "    c.Lang = \"en\"\n",
    "    c.Min_likes = min_likes\n",
    "    c.Popular_tweets = True\n",
    "    c.Pandas = True\n",
    "    c.Hide_output = True\n",
    "    twint.run.Search(c)\n",
    "    df = twint.storage.panda.Tweets_df\n",
    "    return df"
   ]
  },
  {
   "cell_type": "code",
   "execution_count": null,
   "metadata": {},
   "outputs": [],
   "source": [
    "def extract_all(df, since, min_likes):\n",
    "    users = list(df[\"t_handle\"])\n",
    "    data = pd.DataFrame([])\n",
    "    for u in users:\n",
    "        try:\n",
    "            u_df = extract_twint(u, since, min_likes)\n",
    "            data = data.append(u_df)\n",
    "        except ValueError:\n",
    "            continue\n",
    "    return data"
   ]
  },
  {
   "cell_type": "code",
   "execution_count": null,
   "metadata": {},
   "outputs": [],
   "source": [
    "tweets_less = extract_all(less_popular,'2016-01-01', 50)"
   ]
  },
  {
   "cell_type": "code",
   "execution_count": null,
   "metadata": {},
   "outputs": [],
   "source": [
    "tweets_more = extract_all(most_popular,'2016-01-01', 500)"
   ]
  },
  {
   "cell_type": "code",
   "execution_count": null,
   "metadata": {},
   "outputs": [],
   "source": [
    "tweets_less.shape"
   ]
  },
  {
   "cell_type": "code",
   "execution_count": null,
   "metadata": {},
   "outputs": [],
   "source": [
    "tweets_less = tweets_less[tweets_less[\"language\"] == \"en\"]"
   ]
  },
  {
   "cell_type": "code",
   "execution_count": null,
   "metadata": {},
   "outputs": [],
   "source": [
    "tweets_all = tweets_less.append(tweets_more)"
   ]
  },
  {
   "cell_type": "code",
   "execution_count": null,
   "metadata": {},
   "outputs": [],
   "source": [
    "tweets_all = tweets_all[tweets_all[\"language\"] == \"en\"]"
   ]
  },
  {
   "cell_type": "code",
   "execution_count": null,
   "metadata": {},
   "outputs": [],
   "source": [
    "tweets_all = tweets_all[[\"id\", \"date\", \"tweet\", \"language\", \"username\", \"nlikes\", \"hashtags\"]]"
   ]
  },
  {
   "cell_type": "code",
   "execution_count": null,
   "metadata": {},
   "outputs": [],
   "source": [
    "tweets_all[\"characters\"] = tweets_all[\"tweet\"].map(lambda x: len(x))"
   ]
  },
  {
   "cell_type": "code",
   "execution_count": null,
   "metadata": {},
   "outputs": [],
   "source": [
    "tweets_all.to_csv(\"Data/tweets_all.csv\")"
   ]
  },
  {
   "cell_type": "code",
   "execution_count": null,
   "metadata": {},
   "outputs": [],
   "source": [
    "tweets_all = pd.read_csv(\"Data/tweets_all.csv\")"
   ]
  },
  {
   "cell_type": "code",
   "execution_count": null,
   "metadata": {},
   "outputs": [],
   "source": [
    "tweets_all.drop(columns = \"Unnamed: 0\", inplace=True)"
   ]
  },
  {
   "cell_type": "code",
   "execution_count": null,
   "metadata": {},
   "outputs": [],
   "source": [
    "twitter_df.rename(columns={\"t_handle\": \"username\"}, inplace=True)"
   ]
  },
  {
   "cell_type": "code",
   "execution_count": null,
   "metadata": {},
   "outputs": [],
   "source": [
    "expanded_df = tweets_all.join(twitter_df.set_index(\"username\"), on=\"username\", how=\"left\")"
   ]
  },
  {
   "cell_type": "code",
   "execution_count": null,
   "metadata": {},
   "outputs": [],
   "source": [
    "cols = ['id', 'name', 'username', 'date', 'tweet', 'characters', 'language', 'nlikes', 'hashtags','party']\n",
    "expanded_df = expanded_df[cols]"
   ]
  },
  {
   "cell_type": "code",
   "execution_count": null,
   "metadata": {},
   "outputs": [],
   "source": [
    "expanded_df = expanded_df[expanded_df[\"characters\"] > 50]"
   ]
  },
  {
   "cell_type": "code",
   "execution_count": null,
   "metadata": {},
   "outputs": [],
   "source": [
    "expanded_df[\"date\"] = pd.to_datetime(expanded_df[\"date\"])"
   ]
  },
  {
   "cell_type": "code",
   "execution_count": null,
   "metadata": {},
   "outputs": [],
   "source": [
    "expanded_df.drop_duplicates(subset=\"id\", inplace=True)"
   ]
  },
  {
   "cell_type": "code",
   "execution_count": null,
   "metadata": {
    "scrolled": true
   },
   "outputs": [],
   "source": [
    "expanded_df.head()"
   ]
  },
  {
   "cell_type": "markdown",
   "metadata": {},
   "source": [
    "Since there are tweets from only two independent politicians, we will either drop them or label them as republican or democrat. We will drop Angus King, but label Bernie Sanders as \"D\", due to him running under the democratic party during the 2020 election."
   ]
  },
  {
   "cell_type": "code",
   "execution_count": 5,
   "metadata": {},
   "outputs": [],
   "source": [
    "expanded_df.drop(expanded_df[expanded_df['name'] == \"Angus King\"].index, inplace = True)"
   ]
  },
  {
   "cell_type": "code",
   "execution_count": 6,
   "metadata": {},
   "outputs": [],
   "source": [
    "expanded_df.loc[(expanded_df[\"name\"] == 'Sanders, Bernie'),\"party\"]=\"D\""
   ]
  },
  {
   "cell_type": "markdown",
   "metadata": {},
   "source": [
    "We will now check for Nan values"
   ]
  },
  {
   "cell_type": "code",
   "execution_count": 7,
   "metadata": {
    "scrolled": true
   },
   "outputs": [
    {
     "data": {
      "text/plain": [
       "id                0\n",
       "name          22491\n",
       "username          0\n",
       "date              0\n",
       "tweet             0\n",
       "characters        0\n",
       "language          0\n",
       "nlikes            0\n",
       "hashtags          0\n",
       "party         22491\n",
       "dtype: int64"
      ]
     },
     "execution_count": 7,
     "metadata": {},
     "output_type": "execute_result"
    }
   ],
   "source": [
    "expanded_df.isna().sum()"
   ]
  },
  {
   "cell_type": "code",
   "execution_count": 8,
   "metadata": {
    "scrolled": true
   },
   "outputs": [
    {
     "data": {
      "text/plain": [
       "justinamash        3267\n",
       "SenatorTomUdall    2411\n",
       "mattgaetz          2018\n",
       "RepDougCollins     1589\n",
       "DougJones          1277\n",
       "TulsiPress         1159\n",
       "SteveKingIA        1011\n",
       "RepDavids           803\n",
       "SenCoryGardner      793\n",
       "RepCunningham       636\n",
       "sendavidperdue      625\n",
       "RepDMP              598\n",
       "SenatorLoeffler     579\n",
       "repjohnlewis        526\n",
       "HurdOnTheHill       514\n",
       "RepHarley           441\n",
       "RepMarkWalker       414\n",
       "RepRiggleman        398\n",
       "SenAlexander        326\n",
       "braun4indiana       291\n",
       "RepPeteKing         281\n",
       "RepEliotEngel       243\n",
       "RepTedYoho          199\n",
       "RepByrne            163\n",
       "NitaLowey           122\n",
       "RepTorresSmall      118\n",
       "LacyClayMO1         104\n",
       "RepMaxRose          103\n",
       "andybiggs4az        102\n",
       "JimLangevin          89\n",
       "SenPatRoberts        80\n",
       "RepRossSpano         73\n",
       "repgregwalden        73\n",
       "RepAbraham           73\n",
       "RepKirkpatrick       73\n",
       "RepGilCisneros       70\n",
       "jamie_raskin         66\n",
       "RepBrindisi          62\n",
       "RepJoseSerrano       60\n",
       "SusanWBrooks         59\n",
       "RepFinkenauer        58\n",
       "RepMikeRogersAL      49\n",
       "repdelgado           47\n",
       "DrPhilRoe            46\n",
       "repdonyoung          38\n",
       "RepTomGraves         37\n",
       "RepLipinski          36\n",
       "GregForMontana       34\n",
       "repkevinhern         30\n",
       "RepTjCox             28\n",
       "Name: username, dtype: int64"
      ]
     },
     "execution_count": 8,
     "metadata": {},
     "output_type": "execute_result"
    }
   ],
   "source": [
    "expanded_df.loc[(expanded_df[\"party\"] != 'R')&(expanded_df[\"party\"] != 'D')][\"username\"].value_counts()[:50]"
   ]
  },
  {
   "cell_type": "markdown",
   "metadata": {},
   "source": [
    "To preserve data, we will label the politicians that do not have a party based on their political affiliations."
   ]
  },
  {
   "cell_type": "code",
   "execution_count": 9,
   "metadata": {},
   "outputs": [],
   "source": [
    "expanded_df.loc[(expanded_df[\"username\"] == 'SenatorTomUdall'),\"party\"]=\"D\"\n",
    "expanded_df.loc[(expanded_df[\"username\"] == 'SenatorTomUdall'),\"name\"]=\"Udall, Tom\""
   ]
  },
  {
   "cell_type": "code",
   "execution_count": 10,
   "metadata": {},
   "outputs": [],
   "source": [
    "expanded_df.loc[(expanded_df[\"username\"] == 'mattgaetz'),\"party\"]=\"R\"\n",
    "expanded_df.loc[(expanded_df[\"username\"] == 'mattgaetz'),\"name\"]=\"Gaetz, Matt\""
   ]
  },
  {
   "cell_type": "code",
   "execution_count": 11,
   "metadata": {},
   "outputs": [],
   "source": [
    "expanded_df.loc[(expanded_df[\"username\"] == 'RepDougCollins'),\"party\"]=\"R\"\n",
    "expanded_df.loc[(expanded_df[\"username\"] == 'RepDougCollins'),\"name\"]=\"Collins, Doug\""
   ]
  },
  {
   "cell_type": "code",
   "execution_count": 12,
   "metadata": {},
   "outputs": [],
   "source": [
    "expanded_df.loc[(expanded_df[\"username\"] == 'DougJones'),\"party\"]=\"D\"\n",
    "expanded_df.loc[(expanded_df[\"username\"] == 'DougJones'),\"name\"]=\"Jones, Doug\""
   ]
  },
  {
   "cell_type": "code",
   "execution_count": 13,
   "metadata": {},
   "outputs": [],
   "source": [
    "expanded_df.loc[(expanded_df[\"username\"] == 'TulsiPress'),\"party\"]=\"D\"\n",
    "expanded_df.loc[(expanded_df[\"username\"] == 'TulsiPress'),\"name\"]=\"Gabbard, Tulsi\""
   ]
  },
  {
   "cell_type": "code",
   "execution_count": 14,
   "metadata": {},
   "outputs": [],
   "source": [
    "expanded_df.loc[(expanded_df[\"username\"] == 'SteveKingIA'),\"party\"]=\"R\"\n",
    "expanded_df.loc[(expanded_df[\"username\"] == 'SteveKingIA'),\"name\"]=\"King, Steve\""
   ]
  },
  {
   "cell_type": "code",
   "execution_count": 15,
   "metadata": {},
   "outputs": [],
   "source": [
    "expanded_df.loc[(expanded_df[\"username\"] == 'RepDavids'),\"party\"]=\"D\"\n",
    "expanded_df.loc[(expanded_df[\"username\"] == 'RepDavids'),\"name\"]=\"Davids, Sharice\""
   ]
  },
  {
   "cell_type": "code",
   "execution_count": 16,
   "metadata": {},
   "outputs": [],
   "source": [
    "expanded_df.loc[(expanded_df[\"username\"] == 'SenCoryGardner'),\"party\"]=\"R\"\n",
    "expanded_df.loc[(expanded_df[\"username\"] == 'SenCoryGardner'),\"name\"]=\"Gardner, Cory\""
   ]
  },
  {
   "cell_type": "code",
   "execution_count": 17,
   "metadata": {},
   "outputs": [],
   "source": [
    "expanded_df.loc[(expanded_df[\"username\"] == 'RepCunningham'),\"party\"]=\"D\"\n",
    "expanded_df.loc[(expanded_df[\"username\"] == 'RepCunningham'),\"name\"]=\"Cunningham, Joe\""
   ]
  },
  {
   "cell_type": "code",
   "execution_count": 18,
   "metadata": {},
   "outputs": [],
   "source": [
    "expanded_df.loc[(expanded_df[\"username\"] == 'sendavidperdue'),\"party\"]=\"R\"\n",
    "expanded_df.loc[(expanded_df[\"username\"] == 'sendavidperdue'),\"name\"]=\"Perdue, David\""
   ]
  },
  {
   "cell_type": "code",
   "execution_count": 19,
   "metadata": {},
   "outputs": [],
   "source": [
    "expanded_df.loc[(expanded_df[\"username\"] == 'RepDMP'),\"party\"]=\"D\"\n",
    "expanded_df.loc[(expanded_df[\"username\"] == 'RepDMP'),\"name\"]=\"Mucarsel-Powell, Debbie\""
   ]
  },
  {
   "cell_type": "code",
   "execution_count": 20,
   "metadata": {},
   "outputs": [],
   "source": [
    "expanded_df.loc[(expanded_df[\"username\"] == 'SenatorLoeffler'),\"party\"]=\"R\"\n",
    "expanded_df.loc[(expanded_df[\"username\"] == 'SenatorLoeffler'),\"name\"]=\"Loeffler, Kelly\""
   ]
  },
  {
   "cell_type": "code",
   "execution_count": 21,
   "metadata": {},
   "outputs": [],
   "source": [
    "expanded_df.loc[(expanded_df[\"username\"] == 'repjohnlewis'),\"party\"]=\"D\"\n",
    "expanded_df.loc[(expanded_df[\"username\"] == 'repjohnlewis'),\"name\"]=\"Lewis, John\""
   ]
  },
  {
   "cell_type": "code",
   "execution_count": 22,
   "metadata": {},
   "outputs": [],
   "source": [
    "expanded_df.loc[(expanded_df[\"username\"] == 'HurdOnTheHill'),\"party\"]=\"R\"\n",
    "expanded_df.loc[(expanded_df[\"username\"] == 'HurdOnTheHill'),\"name\"]=\"Hurd, Will\""
   ]
  },
  {
   "cell_type": "code",
   "execution_count": 23,
   "metadata": {},
   "outputs": [],
   "source": [
    "expanded_df.dropna(inplace=True)"
   ]
  },
  {
   "cell_type": "markdown",
   "metadata": {},
   "source": [
    "### Data Preprocessing and EDA"
   ]
  },
  {
   "cell_type": "code",
   "execution_count": 2,
   "metadata": {},
   "outputs": [],
   "source": [
    "import nltk\n",
    "from nltk import word_tokenize\n",
    "from nltk.corpus import stopwords\n",
    "import string\n",
    "from  nltk import FreqDist\n",
    "from nltk.stem.wordnet import WordNetLemmatizer\n",
    "import re\n",
    "import preprocessor as p\n",
    "import spacy\n",
    "nlp = spacy.load(\"en_core_web_sm\")\n",
    "from wordcloud import WordCloud, ImageColorGenerator\n",
    "import gensim\n",
    "from gensim.utils import simple_preprocess"
   ]
  },
  {
   "cell_type": "code",
   "execution_count": 25,
   "metadata": {},
   "outputs": [],
   "source": [
    "pattern = \"([a-zA-Z]+(?:'[a-z]+)?)\"\n",
    "stopwords_list = stopwords.words(\"english\")"
   ]
  },
  {
   "cell_type": "markdown",
   "metadata": {},
   "source": [
    "We will add some additional words and characters to the stopwords list based on previous results."
   ]
  },
  {
   "cell_type": "code",
   "execution_count": 26,
   "metadata": {},
   "outputs": [],
   "source": [
    "stopwords_list.append(\"&amp\")\n",
    "stopwords_list.append(\"amp\")\n",
    "stopwords_list.append(\"ca\")\n",
    "stopwords_list.append(\"nt\")\n",
    "stopwords_list.append(\"s\")\n",
    "stopwords_list.append(\"'s\")\n",
    "stopwords_list.append(\"ve\")\n",
    "stopwords_list.append(\"w\")\n",
    "stopwords_list.append(\"u\")\n",
    "stopwords_list.append(\"be\")"
   ]
  },
  {
   "cell_type": "code",
   "execution_count": 27,
   "metadata": {},
   "outputs": [],
   "source": [
    "def process_text(text, pattern):\n",
    "    text = p.clean(text)\n",
    "    raw = nltk.regexp_tokenize(text, pattern)\n",
    "    lower_tokens = [w.lower() for w in raw]\n",
    "    words_stopped = [w for w in lower_tokens if w not in stopwords_list]\n",
    "    separator = ' '\n",
    "    sentence = separator.join(words_stopped)\n",
    "    return sentence"
   ]
  },
  {
   "cell_type": "code",
   "execution_count": 28,
   "metadata": {},
   "outputs": [],
   "source": [
    "def lemmatize(text):\n",
    "    w_ls = []\n",
    "    for word in nlp(text):\n",
    "        w_ls.append(word.lemma_)\n",
    "    words_stopped = [w for w in w_ls if w not in stopwords_list]\n",
    "    separator = ' '\n",
    "    sentence = separator.join(words_stopped)\n",
    "    return sentence"
   ]
  },
  {
   "cell_type": "code",
   "execution_count": 29,
   "metadata": {},
   "outputs": [],
   "source": [
    "preprocess = expanded_df.copy()"
   ]
  },
  {
   "cell_type": "code",
   "execution_count": 30,
   "metadata": {},
   "outputs": [],
   "source": [
    "preprocess[\"tokens\"] = preprocess[\"tweet\"].map(lambda x: process_text(x, pattern))"
   ]
  },
  {
   "cell_type": "code",
   "execution_count": 31,
   "metadata": {},
   "outputs": [],
   "source": [
    "preprocess[\"lemmatized\"] = preprocess[\"tokens\"].map(lambda x: lemmatize(x))"
   ]
  },
  {
   "cell_type": "code",
   "execution_count": 32,
   "metadata": {
    "scrolled": true
   },
   "outputs": [
    {
     "data": {
      "text/html": [
       "<div>\n",
       "<style scoped>\n",
       "    .dataframe tbody tr th:only-of-type {\n",
       "        vertical-align: middle;\n",
       "    }\n",
       "\n",
       "    .dataframe tbody tr th {\n",
       "        vertical-align: top;\n",
       "    }\n",
       "\n",
       "    .dataframe thead th {\n",
       "        text-align: right;\n",
       "    }\n",
       "</style>\n",
       "<table border=\"1\" class=\"dataframe\">\n",
       "  <thead>\n",
       "    <tr style=\"text-align: right;\">\n",
       "      <th></th>\n",
       "      <th>id</th>\n",
       "      <th>name</th>\n",
       "      <th>username</th>\n",
       "      <th>date</th>\n",
       "      <th>tweet</th>\n",
       "      <th>characters</th>\n",
       "      <th>language</th>\n",
       "      <th>nlikes</th>\n",
       "      <th>hashtags</th>\n",
       "      <th>party</th>\n",
       "      <th>tokens</th>\n",
       "      <th>lemmatized</th>\n",
       "    </tr>\n",
       "  </thead>\n",
       "  <tbody>\n",
       "    <tr>\n",
       "      <th>0</th>\n",
       "      <td>1358826533310390272</td>\n",
       "      <td>Shelby, Richard</td>\n",
       "      <td>SenShelby</td>\n",
       "      <td>2021-02-08 11:14:25</td>\n",
       "      <td>Although I plan to retire, I am not leaving to...</td>\n",
       "      <td>270</td>\n",
       "      <td>en</td>\n",
       "      <td>154</td>\n",
       "      <td>[]</td>\n",
       "      <td>R</td>\n",
       "      <td>although plan retire leaving today two good ye...</td>\n",
       "      <td>although plan retire leave today two good year...</td>\n",
       "    </tr>\n",
       "    <tr>\n",
       "      <th>1</th>\n",
       "      <td>1358826532450541573</td>\n",
       "      <td>Shelby, Richard</td>\n",
       "      <td>SenShelby</td>\n",
       "      <td>2021-02-08 11:14:25</td>\n",
       "      <td>Today I announce that I will not seek a sevent...</td>\n",
       "      <td>232</td>\n",
       "      <td>en</td>\n",
       "      <td>617</td>\n",
       "      <td>[]</td>\n",
       "      <td>R</td>\n",
       "      <td>today announce seek seventh term senate everyt...</td>\n",
       "      <td>today announce seek seventh term senate everyt...</td>\n",
       "    </tr>\n",
       "    <tr>\n",
       "      <th>2</th>\n",
       "      <td>1358538474639544321</td>\n",
       "      <td>Shelby, Richard</td>\n",
       "      <td>SenShelby</td>\n",
       "      <td>2021-02-07 16:09:47</td>\n",
       "      <td>George Shultz was a great statesman. He held f...</td>\n",
       "      <td>206</td>\n",
       "      <td>en</td>\n",
       "      <td>112</td>\n",
       "      <td>[]</td>\n",
       "      <td>R</td>\n",
       "      <td>george shultz great statesman held four cabine...</td>\n",
       "      <td>george shultz great statesman hold four cabine...</td>\n",
       "    </tr>\n",
       "    <tr>\n",
       "      <th>3</th>\n",
       "      <td>1357132614071689217</td>\n",
       "      <td>Shelby, Richard</td>\n",
       "      <td>SenShelby</td>\n",
       "      <td>2021-02-03 19:03:24</td>\n",
       "      <td>Congratulations to Ann Berry, the new Secretar...</td>\n",
       "      <td>275</td>\n",
       "      <td>en</td>\n",
       "      <td>220</td>\n",
       "      <td>[]</td>\n",
       "      <td>R</td>\n",
       "      <td>congratulations ann berry new secretary senate...</td>\n",
       "      <td>congratulation ann berry new secretary senate ...</td>\n",
       "    </tr>\n",
       "    <tr>\n",
       "      <th>4</th>\n",
       "      <td>1357059443435991046</td>\n",
       "      <td>Shelby, Richard</td>\n",
       "      <td>SenShelby</td>\n",
       "      <td>2021-02-03 14:12:38</td>\n",
       "      <td>Cosponsored a resolution, which just passed in...</td>\n",
       "      <td>279</td>\n",
       "      <td>en</td>\n",
       "      <td>144</td>\n",
       "      <td>[]</td>\n",
       "      <td>R</td>\n",
       "      <td>cosponsored resolution passed senate honoring ...</td>\n",
       "      <td>cosponsor resolution pass senate honor life le...</td>\n",
       "    </tr>\n",
       "  </tbody>\n",
       "</table>\n",
       "</div>"
      ],
      "text/plain": [
       "                    id             name   username                 date  \\\n",
       "0  1358826533310390272  Shelby, Richard  SenShelby  2021-02-08 11:14:25   \n",
       "1  1358826532450541573  Shelby, Richard  SenShelby  2021-02-08 11:14:25   \n",
       "2  1358538474639544321  Shelby, Richard  SenShelby  2021-02-07 16:09:47   \n",
       "3  1357132614071689217  Shelby, Richard  SenShelby  2021-02-03 19:03:24   \n",
       "4  1357059443435991046  Shelby, Richard  SenShelby  2021-02-03 14:12:38   \n",
       "\n",
       "                                               tweet  characters language  \\\n",
       "0  Although I plan to retire, I am not leaving to...         270       en   \n",
       "1  Today I announce that I will not seek a sevent...         232       en   \n",
       "2  George Shultz was a great statesman. He held f...         206       en   \n",
       "3  Congratulations to Ann Berry, the new Secretar...         275       en   \n",
       "4  Cosponsored a resolution, which just passed in...         279       en   \n",
       "\n",
       "   nlikes hashtags party                                             tokens  \\\n",
       "0     154       []     R  although plan retire leaving today two good ye...   \n",
       "1     617       []     R  today announce seek seventh term senate everyt...   \n",
       "2     112       []     R  george shultz great statesman held four cabine...   \n",
       "3     220       []     R  congratulations ann berry new secretary senate...   \n",
       "4     144       []     R  cosponsored resolution passed senate honoring ...   \n",
       "\n",
       "                                          lemmatized  \n",
       "0  although plan retire leave today two good year...  \n",
       "1  today announce seek seventh term senate everyt...  \n",
       "2  george shultz great statesman hold four cabine...  \n",
       "3  congratulation ann berry new secretary senate ...  \n",
       "4  cosponsor resolution pass senate honor life le...  "
      ]
     },
     "execution_count": 32,
     "metadata": {},
     "output_type": "execute_result"
    }
   ],
   "source": [
    "preprocess.head()"
   ]
  },
  {
   "cell_type": "code",
   "execution_count": 37,
   "metadata": {
    "scrolled": true
   },
   "outputs": [
    {
     "data": {
      "text/plain": [
       "trump         53769\n",
       "american      53418\n",
       "today         40148\n",
       "president     39675\n",
       "people        37988\n",
       "need          37478\n",
       "make          36010\n",
       "work          35478\n",
       "must          32322\n",
       "I             31637\n",
       "family        29867\n",
       "get           28304\n",
       "right         27389\n",
       "time          27217\n",
       "vote          27154\n",
       "health        25121\n",
       "year          24776\n",
       "one           24275\n",
       "day           24197\n",
       "bill          23968\n",
       "act           23521\n",
       "country       23009\n",
       "fight         23001\n",
       "congress      22873\n",
       "care          22827\n",
       "take          22709\n",
       "senate        22576\n",
       "house         22149\n",
       "state         21270\n",
       "help          21021\n",
       "go            19712\n",
       "republican    19634\n",
       "pass          19587\n",
       "would         19343\n",
       "support       19199\n",
       "protect       18569\n",
       "thank         17941\n",
       "new           17699\n",
       "america       17648\n",
       "woman         17335\n",
       "say           16521\n",
       "community     16447\n",
       "know          16393\n",
       "like          16123\n",
       "keep          16042\n",
       "call          16036\n",
       "law           15978\n",
       "every         15741\n",
       "continue      15623\n",
       "million       15590\n",
       "dtype: int64"
      ]
     },
     "execution_count": 37,
     "metadata": {},
     "output_type": "execute_result"
    }
   ],
   "source": [
    "preprocess[\"lemmatized\"].str.split(expand=True).stack().value_counts()[:50]"
   ]
  },
  {
   "cell_type": "markdown",
   "metadata": {},
   "source": [
    "We will check for and drop Nan values from the tokenized and lemmatized tweets."
   ]
  },
  {
   "cell_type": "code",
   "execution_count": 60,
   "metadata": {},
   "outputs": [],
   "source": [
    "preprocess.dropna(inplace = True)"
   ]
  },
  {
   "cell_type": "code",
   "execution_count": null,
   "metadata": {},
   "outputs": [],
   "source": [
    "#banned = []\n",
    "#f = lambda x: ' '.join([item for item in x.split() if item not in banned])\n",
    "#preprocess[\"tokens\"] = preprocess[\"tokens\"].map(f)"
   ]
  },
  {
   "cell_type": "code",
   "execution_count": null,
   "metadata": {},
   "outputs": [],
   "source": [
    "##preprocess[\"freq_dist\"] = preprocess[\"tokens\"].map(lambda x: FreqDist(x))"
   ]
  },
  {
   "cell_type": "code",
   "execution_count": 11,
   "metadata": {},
   "outputs": [],
   "source": [
    "## Each word always going to be a column? Just categorical variables with some words? How do you set up your dataframe? "
   ]
  },
  {
   "cell_type": "code",
   "execution_count": null,
   "metadata": {},
   "outputs": [],
   "source": [
    "## Total words/vocab before removal of stop words? \n",
    "#Consider removing tweets with congratulations and thank you\n",
    "# Turn df into preprocess instead of EDA\n",
    "# create column for lemmatization"
   ]
  },
  {
   "cell_type": "code",
   "execution_count": 61,
   "metadata": {},
   "outputs": [],
   "source": [
    "preprocess.to_csv(\"Data/preprocess.csv\", index=False)"
   ]
  },
  {
   "cell_type": "code",
   "execution_count": 3,
   "metadata": {},
   "outputs": [],
   "source": [
    "preprocess = pd.read_csv(\"Data/preprocess.csv\")"
   ]
  },
  {
   "cell_type": "code",
   "execution_count": 63,
   "metadata": {},
   "outputs": [],
   "source": [
    "eda = preprocess.copy()"
   ]
  },
  {
   "cell_type": "markdown",
   "metadata": {},
   "source": [
    "We will now split the dataframe into classes for the EDA."
   ]
  },
  {
   "cell_type": "code",
   "execution_count": 65,
   "metadata": {},
   "outputs": [],
   "source": [
    "right = eda[eda[\"party\"] == \"R\"]\n",
    "left = eda[eda[\"party\"] == \"D\"]"
   ]
  },
  {
   "cell_type": "code",
   "execution_count": 66,
   "metadata": {},
   "outputs": [
    {
     "data": {
      "text/html": [
       "<div>\n",
       "<style scoped>\n",
       "    .dataframe tbody tr th:only-of-type {\n",
       "        vertical-align: middle;\n",
       "    }\n",
       "\n",
       "    .dataframe tbody tr th {\n",
       "        vertical-align: top;\n",
       "    }\n",
       "\n",
       "    .dataframe thead th {\n",
       "        text-align: right;\n",
       "    }\n",
       "</style>\n",
       "<table border=\"1\" class=\"dataframe\">\n",
       "  <thead>\n",
       "    <tr style=\"text-align: right;\">\n",
       "      <th></th>\n",
       "      <th>id</th>\n",
       "      <th>characters</th>\n",
       "      <th>nlikes</th>\n",
       "    </tr>\n",
       "  </thead>\n",
       "  <tbody>\n",
       "    <tr>\n",
       "      <th>count</th>\n",
       "      <td>9.857100e+04</td>\n",
       "      <td>98571.000000</td>\n",
       "      <td>98571.000000</td>\n",
       "    </tr>\n",
       "    <tr>\n",
       "      <th>mean</th>\n",
       "      <td>1.135182e+18</td>\n",
       "      <td>195.346380</td>\n",
       "      <td>2227.821377</td>\n",
       "    </tr>\n",
       "    <tr>\n",
       "      <th>std</th>\n",
       "      <td>1.690822e+17</td>\n",
       "      <td>72.691264</td>\n",
       "      <td>6572.643177</td>\n",
       "    </tr>\n",
       "    <tr>\n",
       "      <th>min</th>\n",
       "      <td>6.829092e+17</td>\n",
       "      <td>51.000000</td>\n",
       "      <td>0.000000</td>\n",
       "    </tr>\n",
       "    <tr>\n",
       "      <th>25%</th>\n",
       "      <td>1.023600e+18</td>\n",
       "      <td>135.000000</td>\n",
       "      <td>152.000000</td>\n",
       "    </tr>\n",
       "    <tr>\n",
       "      <th>50%</th>\n",
       "      <td>1.185216e+18</td>\n",
       "      <td>197.000000</td>\n",
       "      <td>377.000000</td>\n",
       "    </tr>\n",
       "    <tr>\n",
       "      <th>75%</th>\n",
       "      <td>1.269321e+18</td>\n",
       "      <td>267.000000</td>\n",
       "      <td>1432.000000</td>\n",
       "    </tr>\n",
       "    <tr>\n",
       "      <th>max</th>\n",
       "      <td>1.359657e+18</td>\n",
       "      <td>500.000000</td>\n",
       "      <td>227274.000000</td>\n",
       "    </tr>\n",
       "  </tbody>\n",
       "</table>\n",
       "</div>"
      ],
      "text/plain": [
       "                 id    characters         nlikes\n",
       "count  9.857100e+04  98571.000000   98571.000000\n",
       "mean   1.135182e+18    195.346380    2227.821377\n",
       "std    1.690822e+17     72.691264    6572.643177\n",
       "min    6.829092e+17     51.000000       0.000000\n",
       "25%    1.023600e+18    135.000000     152.000000\n",
       "50%    1.185216e+18    197.000000     377.000000\n",
       "75%    1.269321e+18    267.000000    1432.000000\n",
       "max    1.359657e+18    500.000000  227274.000000"
      ]
     },
     "execution_count": 66,
     "metadata": {},
     "output_type": "execute_result"
    }
   ],
   "source": [
    "right.describe()"
   ]
  },
  {
   "cell_type": "code",
   "execution_count": 67,
   "metadata": {
    "scrolled": true
   },
   "outputs": [
    {
     "data": {
      "text/html": [
       "<div>\n",
       "<style scoped>\n",
       "    .dataframe tbody tr th:only-of-type {\n",
       "        vertical-align: middle;\n",
       "    }\n",
       "\n",
       "    .dataframe tbody tr th {\n",
       "        vertical-align: top;\n",
       "    }\n",
       "\n",
       "    .dataframe thead th {\n",
       "        text-align: right;\n",
       "    }\n",
       "</style>\n",
       "<table border=\"1\" class=\"dataframe\">\n",
       "  <thead>\n",
       "    <tr style=\"text-align: right;\">\n",
       "      <th></th>\n",
       "      <th>id</th>\n",
       "      <th>characters</th>\n",
       "      <th>nlikes</th>\n",
       "    </tr>\n",
       "  </thead>\n",
       "  <tbody>\n",
       "    <tr>\n",
       "      <th>count</th>\n",
       "      <td>3.034470e+05</td>\n",
       "      <td>303447.000000</td>\n",
       "      <td>3.034470e+05</td>\n",
       "    </tr>\n",
       "    <tr>\n",
       "      <th>mean</th>\n",
       "      <td>1.077435e+18</td>\n",
       "      <td>198.673409</td>\n",
       "      <td>4.572446e+03</td>\n",
       "    </tr>\n",
       "    <tr>\n",
       "      <th>std</th>\n",
       "      <td>1.772615e+17</td>\n",
       "      <td>68.966159</td>\n",
       "      <td>3.151070e+04</td>\n",
       "    </tr>\n",
       "    <tr>\n",
       "      <th>min</th>\n",
       "      <td>6.828041e+17</td>\n",
       "      <td>51.000000</td>\n",
       "      <td>1.200000e+01</td>\n",
       "    </tr>\n",
       "    <tr>\n",
       "      <th>25%</th>\n",
       "      <td>9.258824e+17</td>\n",
       "      <td>139.000000</td>\n",
       "      <td>1.390000e+02</td>\n",
       "    </tr>\n",
       "    <tr>\n",
       "      <th>50%</th>\n",
       "      <td>1.091530e+18</td>\n",
       "      <td>198.000000</td>\n",
       "      <td>3.400000e+02</td>\n",
       "    </tr>\n",
       "    <tr>\n",
       "      <th>75%</th>\n",
       "      <td>1.233545e+18</td>\n",
       "      <td>267.000000</td>\n",
       "      <td>1.531000e+03</td>\n",
       "    </tr>\n",
       "    <tr>\n",
       "      <th>max</th>\n",
       "      <td>1.359659e+18</td>\n",
       "      <td>777.000000</td>\n",
       "      <td>4.281004e+06</td>\n",
       "    </tr>\n",
       "  </tbody>\n",
       "</table>\n",
       "</div>"
      ],
      "text/plain": [
       "                 id     characters        nlikes\n",
       "count  3.034470e+05  303447.000000  3.034470e+05\n",
       "mean   1.077435e+18     198.673409  4.572446e+03\n",
       "std    1.772615e+17      68.966159  3.151070e+04\n",
       "min    6.828041e+17      51.000000  1.200000e+01\n",
       "25%    9.258824e+17     139.000000  1.390000e+02\n",
       "50%    1.091530e+18     198.000000  3.400000e+02\n",
       "75%    1.233545e+18     267.000000  1.531000e+03\n",
       "max    1.359659e+18     777.000000  4.281004e+06"
      ]
     },
     "execution_count": 67,
     "metadata": {},
     "output_type": "execute_result"
    }
   ],
   "source": [
    "left.describe()"
   ]
  },
  {
   "cell_type": "markdown",
   "metadata": {},
   "source": [
    "Looking at the descriptive statistics for the two classes, both has similar average character length of tweets (195 vs 198), but left leaning politicians recieved significantly more likes on average. "
   ]
  },
  {
   "cell_type": "code",
   "execution_count": 68,
   "metadata": {},
   "outputs": [
    {
     "data": {
      "text/plain": [
       "(340.0, 377.0)"
      ]
     },
     "execution_count": 68,
     "metadata": {},
     "output_type": "execute_result"
    }
   ],
   "source": [
    "left[\"nlikes\"].median(), right[\"nlikes\"].median()"
   ]
  },
  {
   "cell_type": "markdown",
   "metadata": {},
   "source": [
    "However, the medians in terms of likes were much more similar."
   ]
  },
  {
   "cell_type": "markdown",
   "metadata": {},
   "source": [
    "We will now look at the most common words per class."
   ]
  },
  {
   "cell_type": "code",
   "execution_count": 69,
   "metadata": {
    "scrolled": true
   },
   "outputs": [
    {
     "data": {
      "text/plain": [
       "american     0.008582\n",
       "today        0.006570\n",
       "work         0.005386\n",
       "president    0.005186\n",
       "people       0.005134\n",
       "time         0.004446\n",
       "need         0.004402\n",
       "make         0.004278\n",
       "great        0.004241\n",
       "vote         0.004052\n",
       "dtype: float64"
      ]
     },
     "execution_count": 69,
     "metadata": {},
     "output_type": "execute_result"
    }
   ],
   "source": [
    "right[\"lemmatized\"].str.split(expand=True).stack().value_counts(normalize=True)[:10]"
   ]
  },
  {
   "cell_type": "code",
   "execution_count": 70,
   "metadata": {},
   "outputs": [
    {
     "data": {
      "text/plain": [
       "trump        0.010182\n",
       "american     0.008277\n",
       "president    0.006524\n",
       "need         0.006320\n",
       "people       0.006193\n",
       "today        0.006183\n",
       "make         0.006057\n",
       "must         0.005694\n",
       "work         0.005596\n",
       "I            0.005356\n",
       "dtype: float64"
      ]
     },
     "execution_count": 70,
     "metadata": {},
     "output_type": "execute_result"
    }
   ],
   "source": [
    "left[\"lemmatized\"].str.split(expand=True).stack().value_counts(normalize=True)[:10]"
   ]
  },
  {
   "cell_type": "markdown",
   "metadata": {},
   "source": [
    "The most common 10 words in each class are fairly similar, albeit in slightly different proportions. The most commonly used word in left leaning tweets was \"Trump\" while in right leaning it was \"american\"."
   ]
  },
  {
   "cell_type": "code",
   "execution_count": 71,
   "metadata": {},
   "outputs": [
    {
     "data": {
      "image/png": "[encoded data removed]",
      "text/plain": [
       "<Figure size 1080x576 with 1 Axes>"
      ]
     },
     "metadata": {
      "needs_background": "light"
     },
     "output_type": "display_data"
    }
   ],
   "source": [
    "plt.figure(figsize=(15,8))\n",
    "sns.barplot(x=left[\"lemmatized\"].str.split(expand=True).stack().value_counts(normalize=True)[:20].index,\n",
    "            y=left[\"lemmatized\"].str.split(expand=True).stack().value_counts(normalize=True)[:20].values)\n",
    "plt.title(\"20 Most Commonly Used Words from Left Wing Tweeters in Congress\")\n",
    "plt.ylabel(\"% Occurence in Tweets\")\n",
    "plt.xticks(rotation=50)\n",
    "plt.show()"
   ]
  },
  {
   "cell_type": "code",
   "execution_count": 72,
   "metadata": {},
   "outputs": [
    {
     "data": {
      "image/png": "[encoded data removed]",
      "text/plain": [
       "<Figure size 1080x576 with 1 Axes>"
      ]
     },
     "metadata": {
      "needs_background": "light"
     },
     "output_type": "display_data"
    }
   ],
   "source": [
    "plt.figure(figsize=(15,8))\n",
    "sns.barplot(x=right[\"lemmatized\"].str.split(expand=True).stack().value_counts(normalize=True)[:20].index,\n",
    "            y=right[\"lemmatized\"].str.split(expand=True).stack().value_counts(normalize=True)[:20].values)\n",
    "plt.title(\"20 Most Commonly Used Words from Right Wing Tweeters in Congress\")\n",
    "plt.ylabel(\"% Occurence in Tweets\")\n",
    "plt.xticks(rotation=50)\n",
    "plt.show()"
   ]
  },
  {
   "cell_type": "markdown",
   "metadata": {},
   "source": [
    "Another way to visualize the most commonly used words for each class is through word clouds, where the more commonly used words are represented in bigger text."
   ]
  },
  {
   "cell_type": "code",
   "execution_count": 74,
   "metadata": {
    "scrolled": true
   },
   "outputs": [
    {
     "data": {
      "image/png": "[encoded data removed]",
      "text/plain": [
       "<Figure size 720x576 with 1 Axes>"
      ]
     },
     "metadata": {
      "needs_background": "light"
     },
     "output_type": "display_data"
    }
   ],
   "source": [
    "plt.figure(figsize=(10, 8))\n",
    "left_text = \" \".join(tweet for tweet in left[\"lemmatized\"])\n",
    "wordcloud_l = WordCloud(background_color=\"white\").generate(left_text)\n",
    "plt.imshow(wordcloud_l, interpolation='bilinear')\n",
    "plt.axis(\"off\")\n",
    "plt.title(\"Left Wing Tweets - Word Cloud\")\n",
    "plt.show()"
   ]
  },
  {
   "cell_type": "code",
   "execution_count": 75,
   "metadata": {
    "scrolled": true
   },
   "outputs": [
    {
     "data": {
      "image/png": "[encoded data removed]",
      "text/plain": [
       "<Figure size 720x576 with 1 Axes>"
      ]
     },
     "metadata": {
      "needs_background": "light"
     },
     "output_type": "display_data"
    }
   ],
   "source": [
    "plt.figure(figsize=(10, 8))\n",
    "right_text = \" \".join(tweet for tweet in right[\"lemmatized\"])\n",
    "wordcloud_r = WordCloud(background_color=\"white\").generate(right_text)\n",
    "plt.imshow(wordcloud_r, interpolation='bilinear')\n",
    "plt.axis(\"off\")\n",
    "plt.title(\"Right Wing Tweets - Word Cloud\")\n",
    "plt.show()"
   ]
  },
  {
   "cell_type": "markdown",
   "metadata": {},
   "source": [
    "We will now perform LDA (latent dirichlet allocation) to form topic clusters out of the words in each class."
   ]
  },
  {
   "cell_type": "code",
   "execution_count": 76,
   "metadata": {},
   "outputs": [],
   "source": [
    "def list_tokens_lemmas(df, col):\n",
    "    tokens_list = []\n",
    "    for sentence in df[col]:\n",
    "        word_list = []\n",
    "        for word in sentence.split(\" \"):\n",
    "            word_list.append(word)\n",
    "        tokens_list.append(word_list)\n",
    "    return tokens_list"
   ]
  },
  {
   "cell_type": "code",
   "execution_count": 77,
   "metadata": {},
   "outputs": [],
   "source": [
    "left_tokens = list_tokens_lemmas(left, \"lemmatized\")\n",
    "right_tokens = list_tokens_lemmas(right, \"lemmatized\")"
   ]
  },
  {
   "cell_type": "code",
   "execution_count": 78,
   "metadata": {},
   "outputs": [],
   "source": [
    "left_dict = gensim.corpora.Dictionary(left_tokens)\n",
    "right_dict = gensim.corpora.Dictionary(right_tokens)"
   ]
  },
  {
   "cell_type": "code",
   "execution_count": 79,
   "metadata": {},
   "outputs": [],
   "source": [
    "left_dict.filter_extremes(no_below=15, no_above=0.1, keep_n= 100000)\n",
    "right_dict.filter_extremes(no_below=15, no_above=0.1, keep_n= 100000)"
   ]
  },
  {
   "cell_type": "code",
   "execution_count": 80,
   "metadata": {},
   "outputs": [],
   "source": [
    "left_corpus = [left_dict.doc2bow(text) for text in left_tokens]\n",
    "right_corpus = [right_dict.doc2bow(text) for text in right_tokens]"
   ]
  },
  {
   "cell_type": "code",
   "execution_count": 81,
   "metadata": {
    "scrolled": true
   },
   "outputs": [
    {
     "data": {
      "text/plain": [
       "[(0,\n",
       "  '0.016*\"pay\" + 0.011*\"worker\" + 0.011*\"tax\" + 0.011*\"work\" + 0.010*\"make\" + 0.009*\"job\" + 0.009*\"climate\" + 0.009*\"family\" + 0.008*\"need\" + 0.008*\"cut\"'),\n",
       " (1,\n",
       "  '0.016*\"vote\" + 0.014*\"I\" + 0.013*\"get\" + 0.013*\"make\" + 0.012*\"today\" + 0.011*\"day\" + 0.009*\"gun\" + 0.008*\"go\" + 0.008*\"time\" + 0.008*\"work\"'),\n",
       " (2,\n",
       "  '0.014*\"woman\" + 0.013*\"country\" + 0.011*\"right\" + 0.011*\"today\" + 0.010*\"fight\" + 0.010*\"year\" + 0.009*\"nation\" + 0.009*\"family\" + 0.009*\"america\" + 0.009*\"stand\"'),\n",
       " (3,\n",
       "  '0.030*\"health\" + 0.029*\"care\" + 0.015*\"need\" + 0.012*\"act\" + 0.011*\"people\" + 0.011*\"million\" + 0.011*\"right\" + 0.010*\"must\" + 0.010*\"family\" + 0.009*\"bill\"'),\n",
       " (4,\n",
       "  '0.028*\"president\" + 0.010*\"donald\" + 0.008*\"must\" + 0.007*\"election\" + 0.007*\"people\" + 0.007*\"republican\" + 0.007*\"say\" + 0.006*\"congress\" + 0.006*\"house\" + 0.006*\"hillary\"')]"
      ]
     },
     "execution_count": 81,
     "metadata": {},
     "output_type": "execute_result"
    }
   ],
   "source": [
    "left_lda =  gensim.models.LdaMulticore(left_corpus, \n",
    "                                   num_topics = 5, \n",
    "                                   id2word = left_dict,                                    \n",
    "                                   passes = 10,\n",
    "                                   workers = 2)\n",
    "left_lda.print_topics()"
   ]
  },
  {
   "cell_type": "markdown",
   "metadata": {},
   "source": [
    "Some of the topic clusters for left leaning tweets may be related to the 2020 election, health care, legislation, COVID relief."
   ]
  },
  {
   "cell_type": "code",
   "execution_count": 82,
   "metadata": {},
   "outputs": [
    {
     "data": {
      "text/plain": [
       "[(0,\n",
       "  '0.015*\"today\" + 0.013*\"president\" + 0.013*\"year\" + 0.013*\"day\" + 0.012*\"great\" + 0.012*\"thank\" + 0.012*\"america\" + 0.011*\"life\" + 0.011*\"nation\" + 0.011*\"honor\"'),\n",
       " (1,\n",
       "  '0.013*\"border\" + 0.011*\"china\" + 0.011*\"act\" + 0.010*\"security\" + 0.009*\"must\" + 0.008*\"support\" + 0.007*\"bill\" + 0.007*\"law\" + 0.007*\"protect\" + 0.007*\"right\"'),\n",
       " (2,\n",
       "  '0.018*\"great\" + 0.017*\"today\" + 0.016*\"join\" + 0.011*\"discuss\" + 0.010*\"thank\" + 0.009*\"morning\" + 0.009*\"texas\" + 0.009*\"watch\" + 0.009*\"tonight\" + 0.009*\"I\"'),\n",
       " (3,\n",
       "  '0.015*\"vote\" + 0.014*\"democrat\" + 0.012*\"president\" + 0.011*\"house\" + 0.009*\"election\" + 0.009*\"people\" + 0.008*\"impeachment\" + 0.008*\"say\" + 0.008*\"senate\" + 0.007*\"trump\"'),\n",
       " (4,\n",
       "  '0.015*\"job\" + 0.014*\"work\" + 0.012*\"need\" + 0.009*\"business\" + 0.009*\"get\" + 0.008*\"help\" + 0.008*\"people\" + 0.008*\"economy\" + 0.007*\"america\" + 0.007*\"year\"')]"
      ]
     },
     "execution_count": 82,
     "metadata": {},
     "output_type": "execute_result"
    }
   ],
   "source": [
    "right_lda =  gensim.models.LdaMulticore(right_corpus, \n",
    "                                   num_topics = 5, \n",
    "                                   id2word = right_dict,                                    \n",
    "                                   passes = 10,\n",
    "                                   workers = 2)\n",
    "right_lda.print_topics()"
   ]
  },
  {
   "cell_type": "markdown",
   "metadata": {},
   "source": [
    "Some topic clusters for right leaning tweets may include 2020 election, national security and the economy."
   ]
  },
  {
   "cell_type": "markdown",
   "metadata": {},
   "source": [
    "We will now investigate the top and most frequent tweeters from both classes"
   ]
  },
  {
   "cell_type": "code",
   "execution_count": 83,
   "metadata": {},
   "outputs": [
    {
     "name": "stdout",
     "output_type": "stream",
     "text": [
      "Some of the most frequent tweeters in the last four years from the right side include: \n",
      "\n",
      "Rubio, Marco\n",
      "Cruz, Ted\n",
      "Cornyn, John\n",
      "Paul, Rand\n",
      "Blackburn, Marsha\n",
      "\n",
      "Accounting for a total of 28027 tweets\n"
     ]
    }
   ],
   "source": [
    "print(\"Some of the most frequent tweeters in the last four years from the right side include: \\n\")\n",
    "for name in right[\"name\"].value_counts()[:5].index:\n",
    "    print(name)\n",
    "print(\"\\nAccounting for a total of {} tweets\".format(right[\"name\"].value_counts()[:5].sum()))"
   ]
  },
  {
   "cell_type": "code",
   "execution_count": 84,
   "metadata": {},
   "outputs": [
    {
     "name": "stdout",
     "output_type": "stream",
     "text": [
      "Some of the most frequent tweeters in the last four years from the left side include: \n",
      "\n",
      "Padilla, Alex\n",
      "Murphy, Chris\n",
      "Schumer, Chuck\n",
      "Durbin, Richard\n",
      "Klobuchar, Amy\n",
      "\n",
      "Accounting for a total of 42099 tweets\n"
     ]
    }
   ],
   "source": [
    "print(\"Some of the most frequent tweeters in the last four years from the left side include: \\n\")\n",
    "for name in left[\"name\"].value_counts()[:5].index:\n",
    "    print(name)\n",
    "print(\"\\nAccounting for a total of {} tweets\".format(left[\"name\"].value_counts()[:5].sum()))"
   ]
  },
  {
   "cell_type": "code",
   "execution_count": 85,
   "metadata": {},
   "outputs": [
    {
     "name": "stdout",
     "output_type": "stream",
     "text": [
      "Some of the most popular tweeters in the last four years from the right side include: \n",
      "\n",
      "Jordan, Jim\n",
      "Pompeo, Mike\n",
      "Pence, Mike\n",
      "Nunes, Devin\n",
      "McCarthy, Kevin\n",
      "\n",
      "Accounting for an average of 10524.96 likes per tweets\n"
     ]
    }
   ],
   "source": [
    "print(\"Some of the most popular tweeters in the last four years from the right side include: \\n\")\n",
    "for name in right.groupby(\"name\").mean()[\"nlikes\"].sort_values(ascending=False).index[:5]:\n",
    "    print(name)\n",
    "print(\"\\nAccounting for an average of {} likes per tweets\".format(round(right.groupby(\"name\").mean()[\"nlikes\"].sort_values(ascending=False)[:5].values.mean(), 2)))"
   ]
  },
  {
   "cell_type": "code",
   "execution_count": 86,
   "metadata": {},
   "outputs": [
    {
     "name": "stdout",
     "output_type": "stream",
     "text": [
      "Some of the most popular tweeters in the last four years from the left side include: \n",
      "\n",
      "Obama, Barack\n",
      "Biden, Joe\n",
      "Schiff, Adam\n",
      "Lewis, John\n",
      "Clinton, Hillary\n",
      "\n",
      "Accounting for an average of 46698.36 likes per tweets\n"
     ]
    }
   ],
   "source": [
    "print(\"Some of the most popular tweeters in the last four years from the left side include: \\n\")\n",
    "for name in left.groupby(\"name\").mean()[\"nlikes\"].sort_values(ascending=False).index[:5]:\n",
    "    print(name)\n",
    "print(\"\\nAccounting for an average of {} likes per tweets\".format(round(left.groupby(\"name\").mean()[\"nlikes\"].sort_values(ascending=False)[:5].values.mean(), 2)))"
   ]
  },
  {
   "cell_type": "markdown",
   "metadata": {},
   "source": [
    "### Text Prep and Initial Modeling"
   ]
  },
  {
   "cell_type": "markdown",
   "metadata": {},
   "source": [
    "We will now prepare the data and run some classification models. There are a few ways to process text data so it can be run through machine learning algorithms:\n",
    " - Bag of Words Methods\n",
    "     - Count Vectorization: Creates \"word count\" vectors for each document. Each vector is the size of the total vocabulary\n",
    "     - TF-IDF: Term Frequency Inverse Document Frequency. Words are represented numerically based on their frequency of occurence. Words that occur less frequently are considered more important and therefore carry a heavier weight. \n",
    " - Word Embeddings: Learned numerical representation for words. Words that have more similar meanings are represented similarly.\n",
    " - Document Embeddings: Learned numerical representation for entire document/text. Documents with similar meanings are represented similarly.\n",
    " \n",
    "We will include each of these methods in our pipelines to process the data before it is classified."
   ]
  },
  {
   "cell_type": "code",
   "execution_count": 108,
   "metadata": {},
   "outputs": [],
   "source": [
    "from sklearn.model_selection import train_test_split\n",
    "from sklearn.feature_extraction.text import CountVectorizer\n",
    "from sklearn.pipeline import Pipeline\n",
    "from sklearn.naive_bayes import GaussianNB\n",
    "from mlxtend.preprocessing import DenseTransformer\n",
    "from sklearn.feature_extraction.text import TfidfVectorizer\n",
    "from sklearn.decomposition import TruncatedSVD\n",
    "from sklearn.ensemble import RandomForestClassifier\n",
    "from sklearn.linear_model import LogisticRegression\n",
    "from sklearn.model_selection import GridSearchCV\n",
    "from gensim.models import Word2Vec\n",
    "from sklearn.metrics import classification_report\n",
    "import gensim.downloader as api\n",
    "from imblearn import under_sampling, over_sampling\n",
    "from imblearn.over_sampling import SMOTE\n",
    "from imblearn.pipeline import Pipeline\n",
    "from gensim.models.doc2vec import Doc2Vec, TaggedDocument\n",
    "from gensim.sklearn_api import D2VTransformer\n",
    "from gensim.sklearn_api import W2VTransformer\n",
    "np.random.seed(42)\n",
    "random_state = 42"
   ]
  },
  {
   "cell_type": "markdown",
   "metadata": {},
   "source": [
    "Before we begin modeling, we divide our dataframe into the class features (lemmatized words in each tweet) and the class label corresponding to the tweet (\"D\" for democrat, \"R\" for republican). We will then perform a train test split so our model can be tested on unseen data."
   ]
  },
  {
   "cell_type": "code",
   "execution_count": 91,
   "metadata": {},
   "outputs": [],
   "source": [
    "X = preprocess[\"lemmatized\"]\n",
    "y = preprocess[\"party\"]"
   ]
  },
  {
   "cell_type": "code",
   "execution_count": 92,
   "metadata": {},
   "outputs": [],
   "source": [
    "X_train, X_test, y_train, y_test = train_test_split(X, y, test_size=0.3, random_state=random_state)"
   ]
  },
  {
   "cell_type": "code",
   "execution_count": 7,
   "metadata": {},
   "outputs": [],
   "source": [
    "def return_classification_report(pipeline, X_train, y_train, X_test, y_test):\n",
    "    pipeline.fit(X_train, y_train)\n",
    "    y_train_preds = pipeline.predict(X_train)\n",
    "    y_test_preds = pipeline.predict(X_test)\n",
    "    train = pd.DataFrame(classification_report(y_train, y_train_preds, output_dict=True)).transpose().apply(lambda x: round(x, 2))\n",
    "    test = pd.DataFrame(classification_report(y_test, y_test_preds, output_dict=True)).transpose().apply(lambda x: round(x, 2))\n",
    "    return pd.concat([train, test], axis=1, keys=[\"Train Scores {}\".format(str(pipeline.steps[-1][1]).strip(\"()\")),\n",
    "                                                 \"Test Scores {}\".format(str(pipeline.steps[-1][1]).strip(\"()\"))])"
   ]
  },
  {
   "cell_type": "code",
   "execution_count": 8,
   "metadata": {},
   "outputs": [],
   "source": [
    "def plot_feature_importances(pipeline, n_features):\n",
    "    n = n_features\n",
    "    feature_ls = list(zip(pipeline[\"t_proc\"].get_feature_names(), pipeline[\"clf\"].feature_importances_))\n",
    "    top_features = sorted(feature_ls, key=lambda x: x[1], reverse=True)[:n]\n",
    "    plt.figure(figsize=(15, 20))\n",
    "    plt.barh(range(n), list(map(lambda x: x[1], top_features)), align='center') \n",
    "    plt.yticks(np.arange(n),list(map(lambda x: x[0], top_features))) \n",
    "    plt.xlabel('Feature importance')\n",
    "    plt.ylabel('Feature')"
   ]
  },
  {
   "cell_type": "code",
   "execution_count": 135,
   "metadata": {},
   "outputs": [],
   "source": [
    "def tokenize(series):\n",
    "    t_series = series.map(lambda x: list(x.split(\" \")))\n",
    "    return list(t_series)"
   ]
  },
  {
   "cell_type": "markdown",
   "metadata": {},
   "source": [
    "#### Bag of Words Methods for Text Processing"
   ]
  },
  {
   "cell_type": "markdown",
   "metadata": {},
   "source": [
    "We will include count vectorization and TF-IDF in our pipelines to represent the tweets in the form of a vector. Due to the large size of the dataset, we will limit the max features to the 1000 most important words. This will help with processing time and memory. We will run some initial models (logistic regression, naive bayes, random forest) to get baseline and tune accordingly."
   ]
  },
  {
   "cell_type": "markdown",
   "metadata": {},
   "source": [
    "##### Count Vectorization"
   ]
  },
  {
   "cell_type": "code",
   "execution_count": 93,
   "metadata": {},
   "outputs": [],
   "source": [
    "pipe_lr1 = Pipeline([('t_proc', CountVectorizer(max_features=1000)),\n",
    "                     ('clf', LogisticRegression())])"
   ]
  },
  {
   "cell_type": "code",
   "execution_count": 94,
   "metadata": {},
   "outputs": [
    {
     "data": {
      "text/html": [
       "<div>\n",
       "<style scoped>\n",
       "    .dataframe tbody tr th:only-of-type {\n",
       "        vertical-align: middle;\n",
       "    }\n",
       "\n",
       "    .dataframe tbody tr th {\n",
       "        vertical-align: top;\n",
       "    }\n",
       "\n",
       "    .dataframe thead tr th {\n",
       "        text-align: left;\n",
       "    }\n",
       "</style>\n",
       "<table border=\"1\" class=\"dataframe\">\n",
       "  <thead>\n",
       "    <tr>\n",
       "      <th></th>\n",
       "      <th colspan=\"4\" halign=\"left\">Train Scores LogisticRegression</th>\n",
       "      <th colspan=\"4\" halign=\"left\">Test Scores LogisticRegression</th>\n",
       "    </tr>\n",
       "    <tr>\n",
       "      <th></th>\n",
       "      <th>precision</th>\n",
       "      <th>recall</th>\n",
       "      <th>f1-score</th>\n",
       "      <th>support</th>\n",
       "      <th>precision</th>\n",
       "      <th>recall</th>\n",
       "      <th>f1-score</th>\n",
       "      <th>support</th>\n",
       "    </tr>\n",
       "  </thead>\n",
       "  <tbody>\n",
       "    <tr>\n",
       "      <th>D</th>\n",
       "      <td>0.82</td>\n",
       "      <td>0.95</td>\n",
       "      <td>0.88</td>\n",
       "      <td>212231.00</td>\n",
       "      <td>0.82</td>\n",
       "      <td>0.95</td>\n",
       "      <td>0.88</td>\n",
       "      <td>91216.00</td>\n",
       "    </tr>\n",
       "    <tr>\n",
       "      <th>R</th>\n",
       "      <td>0.72</td>\n",
       "      <td>0.38</td>\n",
       "      <td>0.50</td>\n",
       "      <td>69181.00</td>\n",
       "      <td>0.71</td>\n",
       "      <td>0.37</td>\n",
       "      <td>0.49</td>\n",
       "      <td>29390.00</td>\n",
       "    </tr>\n",
       "    <tr>\n",
       "      <th>accuracy</th>\n",
       "      <td>0.81</td>\n",
       "      <td>0.81</td>\n",
       "      <td>0.81</td>\n",
       "      <td>0.81</td>\n",
       "      <td>0.81</td>\n",
       "      <td>0.81</td>\n",
       "      <td>0.81</td>\n",
       "      <td>0.81</td>\n",
       "    </tr>\n",
       "    <tr>\n",
       "      <th>macro avg</th>\n",
       "      <td>0.77</td>\n",
       "      <td>0.67</td>\n",
       "      <td>0.69</td>\n",
       "      <td>281412.00</td>\n",
       "      <td>0.77</td>\n",
       "      <td>0.66</td>\n",
       "      <td>0.68</td>\n",
       "      <td>120606.00</td>\n",
       "    </tr>\n",
       "    <tr>\n",
       "      <th>weighted avg</th>\n",
       "      <td>0.80</td>\n",
       "      <td>0.81</td>\n",
       "      <td>0.79</td>\n",
       "      <td>281412.00</td>\n",
       "      <td>0.80</td>\n",
       "      <td>0.81</td>\n",
       "      <td>0.79</td>\n",
       "      <td>120606.00</td>\n",
       "    </tr>\n",
       "  </tbody>\n",
       "</table>\n",
       "</div>"
      ],
      "text/plain": [
       "             Train Scores LogisticRegression                             \\\n",
       "                                   precision recall f1-score    support   \n",
       "D                                       0.82   0.95     0.88  212231.00   \n",
       "R                                       0.72   0.38     0.50   69181.00   \n",
       "accuracy                                0.81   0.81     0.81       0.81   \n",
       "macro avg                               0.77   0.67     0.69  281412.00   \n",
       "weighted avg                            0.80   0.81     0.79  281412.00   \n",
       "\n",
       "             Test Scores LogisticRegression                             \n",
       "                                  precision recall f1-score    support  \n",
       "D                                      0.82   0.95     0.88   91216.00  \n",
       "R                                      0.71   0.37     0.49   29390.00  \n",
       "accuracy                               0.81   0.81     0.81       0.81  \n",
       "macro avg                              0.77   0.66     0.68  120606.00  \n",
       "weighted avg                           0.80   0.81     0.79  120606.00  "
      ]
     },
     "execution_count": 94,
     "metadata": {},
     "output_type": "execute_result"
    }
   ],
   "source": [
    "return_classification_report(pipe_lr1, X_train, y_train, X_test, y_test)"
   ]
  },
  {
   "cell_type": "markdown",
   "metadata": {},
   "source": [
    "The model's accuracy is fair at 81%, but lacks in recall for the \"R\" class (out of all the actual republican tweets, the model was only able to identify 37% of them). To increase the model's ability to distinguish between classes, we will try SMOTING (Synthetic Minority Oversampling TEchnique) the data to rebalance the classes."
   ]
  },
  {
   "cell_type": "code",
   "execution_count": 95,
   "metadata": {},
   "outputs": [],
   "source": [
    "pipe_lr2 = Pipeline([('t_proc', CountVectorizer(max_features=1000)),\n",
    "                    (\"sm\", SMOTE(random_state=random_state)),\n",
    "                     ('clf', LogisticRegression())])"
   ]
  },
  {
   "cell_type": "code",
   "execution_count": 96,
   "metadata": {},
   "outputs": [
    {
     "ename": "KeyboardInterrupt",
     "evalue": "",
     "output_type": "error",
     "traceback": [
      "\u001b[1;31m---------------------------------------------------------------------------\u001b[0m",
      "\u001b[1;31mKeyboardInterrupt\u001b[0m                         Traceback (most recent call last)",
      "\u001b[1;32m<ipython-input-96-f92c1893a750>\u001b[0m in \u001b[0;36m<module>\u001b[1;34m\u001b[0m\n\u001b[1;32m----> 1\u001b[1;33m \u001b[0mreturn_classification_report\u001b[0m\u001b[1;33m(\u001b[0m\u001b[0mpipe_lr2\u001b[0m\u001b[1;33m,\u001b[0m \u001b[0mX_train\u001b[0m\u001b[1;33m,\u001b[0m \u001b[0my_train\u001b[0m\u001b[1;33m,\u001b[0m \u001b[0mX_test\u001b[0m\u001b[1;33m,\u001b[0m \u001b[0my_test\u001b[0m\u001b[1;33m)\u001b[0m\u001b[1;33m\u001b[0m\u001b[1;33m\u001b[0m\u001b[0m\n\u001b[0m",
      "\u001b[1;32m<ipython-input-7-c166d9859a5a>\u001b[0m in \u001b[0;36mreturn_classification_report\u001b[1;34m(pipeline, X_train, y_train, X_test, y_test)\u001b[0m\n\u001b[0;32m      1\u001b[0m \u001b[1;32mdef\u001b[0m \u001b[0mreturn_classification_report\u001b[0m\u001b[1;33m(\u001b[0m\u001b[0mpipeline\u001b[0m\u001b[1;33m,\u001b[0m \u001b[0mX_train\u001b[0m\u001b[1;33m,\u001b[0m \u001b[0my_train\u001b[0m\u001b[1;33m,\u001b[0m \u001b[0mX_test\u001b[0m\u001b[1;33m,\u001b[0m \u001b[0my_test\u001b[0m\u001b[1;33m)\u001b[0m\u001b[1;33m:\u001b[0m\u001b[1;33m\u001b[0m\u001b[1;33m\u001b[0m\u001b[0m\n\u001b[1;32m----> 2\u001b[1;33m     \u001b[0mpipeline\u001b[0m\u001b[1;33m.\u001b[0m\u001b[0mfit\u001b[0m\u001b[1;33m(\u001b[0m\u001b[0mX_train\u001b[0m\u001b[1;33m,\u001b[0m \u001b[0my_train\u001b[0m\u001b[1;33m)\u001b[0m\u001b[1;33m\u001b[0m\u001b[1;33m\u001b[0m\u001b[0m\n\u001b[0m\u001b[0;32m      3\u001b[0m     \u001b[0my_train_preds\u001b[0m \u001b[1;33m=\u001b[0m \u001b[0mpipeline\u001b[0m\u001b[1;33m.\u001b[0m\u001b[0mpredict\u001b[0m\u001b[1;33m(\u001b[0m\u001b[0mX_train\u001b[0m\u001b[1;33m)\u001b[0m\u001b[1;33m\u001b[0m\u001b[1;33m\u001b[0m\u001b[0m\n\u001b[0;32m      4\u001b[0m     \u001b[0my_test_preds\u001b[0m \u001b[1;33m=\u001b[0m \u001b[0mpipeline\u001b[0m\u001b[1;33m.\u001b[0m\u001b[0mpredict\u001b[0m\u001b[1;33m(\u001b[0m\u001b[0mX_test\u001b[0m\u001b[1;33m)\u001b[0m\u001b[1;33m\u001b[0m\u001b[1;33m\u001b[0m\u001b[0m\n\u001b[0;32m      5\u001b[0m     \u001b[0mtrain\u001b[0m \u001b[1;33m=\u001b[0m \u001b[0mpd\u001b[0m\u001b[1;33m.\u001b[0m\u001b[0mDataFrame\u001b[0m\u001b[1;33m(\u001b[0m\u001b[0mclassification_report\u001b[0m\u001b[1;33m(\u001b[0m\u001b[0my_train\u001b[0m\u001b[1;33m,\u001b[0m \u001b[0my_train_preds\u001b[0m\u001b[1;33m,\u001b[0m \u001b[0moutput_dict\u001b[0m\u001b[1;33m=\u001b[0m\u001b[1;32mTrue\u001b[0m\u001b[1;33m)\u001b[0m\u001b[1;33m)\u001b[0m\u001b[1;33m.\u001b[0m\u001b[0mtranspose\u001b[0m\u001b[1;33m(\u001b[0m\u001b[1;33m)\u001b[0m\u001b[1;33m.\u001b[0m\u001b[0mapply\u001b[0m\u001b[1;33m(\u001b[0m\u001b[1;32mlambda\u001b[0m \u001b[0mx\u001b[0m\u001b[1;33m:\u001b[0m \u001b[0mround\u001b[0m\u001b[1;33m(\u001b[0m\u001b[0mx\u001b[0m\u001b[1;33m,\u001b[0m \u001b[1;36m2\u001b[0m\u001b[1;33m)\u001b[0m\u001b[1;33m)\u001b[0m\u001b[1;33m\u001b[0m\u001b[1;33m\u001b[0m\u001b[0m\n",
      "\u001b[1;32m~\\AppData\\Roaming\\Python\\Python36\\site-packages\\imblearn\\pipeline.py\u001b[0m in \u001b[0;36mfit\u001b[1;34m(self, X, y, **fit_params)\u001b[0m\n\u001b[0;32m    275\u001b[0m             \u001b[0mThis\u001b[0m \u001b[0mestimator\u001b[0m\u001b[1;33m.\u001b[0m\u001b[1;33m\u001b[0m\u001b[1;33m\u001b[0m\u001b[0m\n\u001b[0;32m    276\u001b[0m         \"\"\"\n\u001b[1;32m--> 277\u001b[1;33m         \u001b[0mXt\u001b[0m\u001b[1;33m,\u001b[0m \u001b[0myt\u001b[0m\u001b[1;33m,\u001b[0m \u001b[0mfit_params\u001b[0m \u001b[1;33m=\u001b[0m \u001b[0mself\u001b[0m\u001b[1;33m.\u001b[0m\u001b[0m_fit\u001b[0m\u001b[1;33m(\u001b[0m\u001b[0mX\u001b[0m\u001b[1;33m,\u001b[0m \u001b[0my\u001b[0m\u001b[1;33m,\u001b[0m \u001b[1;33m**\u001b[0m\u001b[0mfit_params\u001b[0m\u001b[1;33m)\u001b[0m\u001b[1;33m\u001b[0m\u001b[1;33m\u001b[0m\u001b[0m\n\u001b[0m\u001b[0;32m    278\u001b[0m         with _print_elapsed_time('Pipeline',\n\u001b[0;32m    279\u001b[0m                                  self._log_message(len(self.steps) - 1)):\n",
      "\u001b[1;32m~\\AppData\\Roaming\\Python\\Python36\\site-packages\\imblearn\\pipeline.py\u001b[0m in \u001b[0;36m_fit\u001b[1;34m(self, X, y, **fit_params)\u001b[0m\n\u001b[0;32m    238\u001b[0m                     \u001b[0mmessage_clsname\u001b[0m\u001b[1;33m=\u001b[0m\u001b[1;34m'Pipeline'\u001b[0m\u001b[1;33m,\u001b[0m\u001b[1;33m\u001b[0m\u001b[1;33m\u001b[0m\u001b[0m\n\u001b[0;32m    239\u001b[0m                     \u001b[0mmessage\u001b[0m\u001b[1;33m=\u001b[0m\u001b[0mself\u001b[0m\u001b[1;33m.\u001b[0m\u001b[0m_log_message\u001b[0m\u001b[1;33m(\u001b[0m\u001b[0mstep_idx\u001b[0m\u001b[1;33m)\u001b[0m\u001b[1;33m,\u001b[0m\u001b[1;33m\u001b[0m\u001b[1;33m\u001b[0m\u001b[0m\n\u001b[1;32m--> 240\u001b[1;33m                     \u001b[1;33m**\u001b[0m\u001b[0mfit_params_steps\u001b[0m\u001b[1;33m[\u001b[0m\u001b[0mname\u001b[0m\u001b[1;33m]\u001b[0m\u001b[1;33m\u001b[0m\u001b[1;33m\u001b[0m\u001b[0m\n\u001b[0m\u001b[0;32m    241\u001b[0m                 )\n\u001b[0;32m    242\u001b[0m             \u001b[1;31m# Replace the transformer of the step with the fitted\u001b[0m\u001b[1;33m\u001b[0m\u001b[1;33m\u001b[0m\u001b[1;33m\u001b[0m\u001b[0m\n",
      "\u001b[1;32m~\\anaconda3\\envs\\learn-env\\lib\\site-packages\\joblib\\memory.py\u001b[0m in \u001b[0;36m__call__\u001b[1;34m(self, *args, **kwargs)\u001b[0m\n\u001b[0;32m    350\u001b[0m \u001b[1;33m\u001b[0m\u001b[0m\n\u001b[0;32m    351\u001b[0m     \u001b[1;32mdef\u001b[0m \u001b[0m__call__\u001b[0m\u001b[1;33m(\u001b[0m\u001b[0mself\u001b[0m\u001b[1;33m,\u001b[0m \u001b[1;33m*\u001b[0m\u001b[0margs\u001b[0m\u001b[1;33m,\u001b[0m \u001b[1;33m**\u001b[0m\u001b[0mkwargs\u001b[0m\u001b[1;33m)\u001b[0m\u001b[1;33m:\u001b[0m\u001b[1;33m\u001b[0m\u001b[1;33m\u001b[0m\u001b[0m\n\u001b[1;32m--> 352\u001b[1;33m         \u001b[1;32mreturn\u001b[0m \u001b[0mself\u001b[0m\u001b[1;33m.\u001b[0m\u001b[0mfunc\u001b[0m\u001b[1;33m(\u001b[0m\u001b[1;33m*\u001b[0m\u001b[0margs\u001b[0m\u001b[1;33m,\u001b[0m \u001b[1;33m**\u001b[0m\u001b[0mkwargs\u001b[0m\u001b[1;33m)\u001b[0m\u001b[1;33m\u001b[0m\u001b[1;33m\u001b[0m\u001b[0m\n\u001b[0m\u001b[0;32m    353\u001b[0m \u001b[1;33m\u001b[0m\u001b[0m\n\u001b[0;32m    354\u001b[0m     \u001b[1;32mdef\u001b[0m \u001b[0mcall_and_shelve\u001b[0m\u001b[1;33m(\u001b[0m\u001b[0mself\u001b[0m\u001b[1;33m,\u001b[0m \u001b[1;33m*\u001b[0m\u001b[0margs\u001b[0m\u001b[1;33m,\u001b[0m \u001b[1;33m**\u001b[0m\u001b[0mkwargs\u001b[0m\u001b[1;33m)\u001b[0m\u001b[1;33m:\u001b[0m\u001b[1;33m\u001b[0m\u001b[1;33m\u001b[0m\u001b[0m\n",
      "\u001b[1;32m~\\AppData\\Roaming\\Python\\Python36\\site-packages\\imblearn\\pipeline.py\u001b[0m in \u001b[0;36m_fit_resample_one\u001b[1;34m(sampler, X, y, message_clsname, message, **fit_params)\u001b[0m\n\u001b[0;32m    401\u001b[0m                       **fit_params):\n\u001b[0;32m    402\u001b[0m     \u001b[1;32mwith\u001b[0m \u001b[0m_print_elapsed_time\u001b[0m\u001b[1;33m(\u001b[0m\u001b[0mmessage_clsname\u001b[0m\u001b[1;33m,\u001b[0m \u001b[0mmessage\u001b[0m\u001b[1;33m)\u001b[0m\u001b[1;33m:\u001b[0m\u001b[1;33m\u001b[0m\u001b[1;33m\u001b[0m\u001b[0m\n\u001b[1;32m--> 403\u001b[1;33m         \u001b[0mX_res\u001b[0m\u001b[1;33m,\u001b[0m \u001b[0my_res\u001b[0m \u001b[1;33m=\u001b[0m \u001b[0msampler\u001b[0m\u001b[1;33m.\u001b[0m\u001b[0mfit_resample\u001b[0m\u001b[1;33m(\u001b[0m\u001b[0mX\u001b[0m\u001b[1;33m,\u001b[0m \u001b[0my\u001b[0m\u001b[1;33m,\u001b[0m \u001b[1;33m**\u001b[0m\u001b[0mfit_params\u001b[0m\u001b[1;33m)\u001b[0m\u001b[1;33m\u001b[0m\u001b[1;33m\u001b[0m\u001b[0m\n\u001b[0m\u001b[0;32m    404\u001b[0m \u001b[1;33m\u001b[0m\u001b[0m\n\u001b[0;32m    405\u001b[0m         \u001b[1;32mreturn\u001b[0m \u001b[0mX_res\u001b[0m\u001b[1;33m,\u001b[0m \u001b[0my_res\u001b[0m\u001b[1;33m,\u001b[0m \u001b[0msampler\u001b[0m\u001b[1;33m\u001b[0m\u001b[1;33m\u001b[0m\u001b[0m\n",
      "\u001b[1;32m~\\AppData\\Roaming\\Python\\Python36\\site-packages\\imblearn\\base.py\u001b[0m in \u001b[0;36mfit_resample\u001b[1;34m(self, X, y)\u001b[0m\n\u001b[0;32m     81\u001b[0m         )\n\u001b[0;32m     82\u001b[0m \u001b[1;33m\u001b[0m\u001b[0m\n\u001b[1;32m---> 83\u001b[1;33m         \u001b[0moutput\u001b[0m \u001b[1;33m=\u001b[0m \u001b[0mself\u001b[0m\u001b[1;33m.\u001b[0m\u001b[0m_fit_resample\u001b[0m\u001b[1;33m(\u001b[0m\u001b[0mX\u001b[0m\u001b[1;33m,\u001b[0m \u001b[0my\u001b[0m\u001b[1;33m)\u001b[0m\u001b[1;33m\u001b[0m\u001b[1;33m\u001b[0m\u001b[0m\n\u001b[0m\u001b[0;32m     84\u001b[0m \u001b[1;33m\u001b[0m\u001b[0m\n\u001b[0;32m     85\u001b[0m         y_ = (label_binarize(output[1], np.unique(y))\n",
      "\u001b[1;32m~\\AppData\\Roaming\\Python\\Python36\\site-packages\\imblearn\\over_sampling\\_smote.py\u001b[0m in \u001b[0;36m_fit_resample\u001b[1;34m(self, X, y)\u001b[0m\n\u001b[0;32m    730\u001b[0m \u001b[1;33m\u001b[0m\u001b[0m\n\u001b[0;32m    731\u001b[0m             \u001b[0mself\u001b[0m\u001b[1;33m.\u001b[0m\u001b[0mnn_k_\u001b[0m\u001b[1;33m.\u001b[0m\u001b[0mfit\u001b[0m\u001b[1;33m(\u001b[0m\u001b[0mX_class\u001b[0m\u001b[1;33m)\u001b[0m\u001b[1;33m\u001b[0m\u001b[1;33m\u001b[0m\u001b[0m\n\u001b[1;32m--> 732\u001b[1;33m             \u001b[0mnns\u001b[0m \u001b[1;33m=\u001b[0m \u001b[0mself\u001b[0m\u001b[1;33m.\u001b[0m\u001b[0mnn_k_\u001b[0m\u001b[1;33m.\u001b[0m\u001b[0mkneighbors\u001b[0m\u001b[1;33m(\u001b[0m\u001b[0mX_class\u001b[0m\u001b[1;33m,\u001b[0m \u001b[0mreturn_distance\u001b[0m\u001b[1;33m=\u001b[0m\u001b[1;32mFalse\u001b[0m\u001b[1;33m)\u001b[0m\u001b[1;33m[\u001b[0m\u001b[1;33m:\u001b[0m\u001b[1;33m,\u001b[0m \u001b[1;36m1\u001b[0m\u001b[1;33m:\u001b[0m\u001b[1;33m]\u001b[0m\u001b[1;33m\u001b[0m\u001b[1;33m\u001b[0m\u001b[0m\n\u001b[0m\u001b[0;32m    733\u001b[0m             X_new, y_new = self._make_samples(\n\u001b[0;32m    734\u001b[0m                 \u001b[0mX_class\u001b[0m\u001b[1;33m,\u001b[0m \u001b[0my\u001b[0m\u001b[1;33m.\u001b[0m\u001b[0mdtype\u001b[0m\u001b[1;33m,\u001b[0m \u001b[0mclass_sample\u001b[0m\u001b[1;33m,\u001b[0m \u001b[0mX_class\u001b[0m\u001b[1;33m,\u001b[0m \u001b[0mnns\u001b[0m\u001b[1;33m,\u001b[0m \u001b[0mn_samples\u001b[0m\u001b[1;33m,\u001b[0m \u001b[1;36m1.0\u001b[0m\u001b[1;33m\u001b[0m\u001b[1;33m\u001b[0m\u001b[0m\n",
      "\u001b[1;32m~\\anaconda3\\envs\\learn-env\\lib\\site-packages\\sklearn\\neighbors\\_base.py\u001b[0m in \u001b[0;36mkneighbors\u001b[1;34m(self, X, n_neighbors, return_distance)\u001b[0m\n\u001b[0;32m    706\u001b[0m                 \u001b[0mX\u001b[0m\u001b[1;33m,\u001b[0m \u001b[0mself\u001b[0m\u001b[1;33m.\u001b[0m\u001b[0m_fit_X\u001b[0m\u001b[1;33m,\u001b[0m \u001b[0mreduce_func\u001b[0m\u001b[1;33m=\u001b[0m\u001b[0mreduce_func\u001b[0m\u001b[1;33m,\u001b[0m\u001b[1;33m\u001b[0m\u001b[1;33m\u001b[0m\u001b[0m\n\u001b[0;32m    707\u001b[0m                 \u001b[0mmetric\u001b[0m\u001b[1;33m=\u001b[0m\u001b[0mself\u001b[0m\u001b[1;33m.\u001b[0m\u001b[0meffective_metric_\u001b[0m\u001b[1;33m,\u001b[0m \u001b[0mn_jobs\u001b[0m\u001b[1;33m=\u001b[0m\u001b[0mn_jobs\u001b[0m\u001b[1;33m,\u001b[0m\u001b[1;33m\u001b[0m\u001b[1;33m\u001b[0m\u001b[0m\n\u001b[1;32m--> 708\u001b[1;33m                 **kwds))\n\u001b[0m\u001b[0;32m    709\u001b[0m \u001b[1;33m\u001b[0m\u001b[0m\n\u001b[0;32m    710\u001b[0m         \u001b[1;32melif\u001b[0m \u001b[0mself\u001b[0m\u001b[1;33m.\u001b[0m\u001b[0m_fit_method\u001b[0m \u001b[1;32min\u001b[0m \u001b[1;33m[\u001b[0m\u001b[1;34m'ball_tree'\u001b[0m\u001b[1;33m,\u001b[0m \u001b[1;34m'kd_tree'\u001b[0m\u001b[1;33m]\u001b[0m\u001b[1;33m:\u001b[0m\u001b[1;33m\u001b[0m\u001b[1;33m\u001b[0m\u001b[0m\n",
      "\u001b[1;32m~\\anaconda3\\envs\\learn-env\\lib\\site-packages\\sklearn\\metrics\\pairwise.py\u001b[0m in \u001b[0;36mpairwise_distances_chunked\u001b[1;34m(X, Y, reduce_func, metric, n_jobs, working_memory, **kwds)\u001b[0m\n\u001b[0;32m   1631\u001b[0m         \u001b[1;32mif\u001b[0m \u001b[0mreduce_func\u001b[0m \u001b[1;32mis\u001b[0m \u001b[1;32mnot\u001b[0m \u001b[1;32mNone\u001b[0m\u001b[1;33m:\u001b[0m\u001b[1;33m\u001b[0m\u001b[1;33m\u001b[0m\u001b[0m\n\u001b[0;32m   1632\u001b[0m             \u001b[0mchunk_size\u001b[0m \u001b[1;33m=\u001b[0m \u001b[0mD_chunk\u001b[0m\u001b[1;33m.\u001b[0m\u001b[0mshape\u001b[0m\u001b[1;33m[\u001b[0m\u001b[1;36m0\u001b[0m\u001b[1;33m]\u001b[0m\u001b[1;33m\u001b[0m\u001b[1;33m\u001b[0m\u001b[0m\n\u001b[1;32m-> 1633\u001b[1;33m             \u001b[0mD_chunk\u001b[0m \u001b[1;33m=\u001b[0m \u001b[0mreduce_func\u001b[0m\u001b[1;33m(\u001b[0m\u001b[0mD_chunk\u001b[0m\u001b[1;33m,\u001b[0m \u001b[0msl\u001b[0m\u001b[1;33m.\u001b[0m\u001b[0mstart\u001b[0m\u001b[1;33m)\u001b[0m\u001b[1;33m\u001b[0m\u001b[1;33m\u001b[0m\u001b[0m\n\u001b[0m\u001b[0;32m   1634\u001b[0m             \u001b[0m_check_chunk_size\u001b[0m\u001b[1;33m(\u001b[0m\u001b[0mD_chunk\u001b[0m\u001b[1;33m,\u001b[0m \u001b[0mchunk_size\u001b[0m\u001b[1;33m)\u001b[0m\u001b[1;33m\u001b[0m\u001b[1;33m\u001b[0m\u001b[0m\n\u001b[0;32m   1635\u001b[0m         \u001b[1;32myield\u001b[0m \u001b[0mD_chunk\u001b[0m\u001b[1;33m\u001b[0m\u001b[1;33m\u001b[0m\u001b[0m\n",
      "\u001b[1;32m~\\anaconda3\\envs\\learn-env\\lib\\site-packages\\sklearn\\neighbors\\_base.py\u001b[0m in \u001b[0;36m_kneighbors_reduce_func\u001b[1;34m(self, dist, start, n_neighbors, return_distance)\u001b[0m\n\u001b[0;32m    580\u001b[0m         \"\"\"\n\u001b[0;32m    581\u001b[0m         \u001b[0msample_range\u001b[0m \u001b[1;33m=\u001b[0m \u001b[0mnp\u001b[0m\u001b[1;33m.\u001b[0m\u001b[0marange\u001b[0m\u001b[1;33m(\u001b[0m\u001b[0mdist\u001b[0m\u001b[1;33m.\u001b[0m\u001b[0mshape\u001b[0m\u001b[1;33m[\u001b[0m\u001b[1;36m0\u001b[0m\u001b[1;33m]\u001b[0m\u001b[1;33m)\u001b[0m\u001b[1;33m[\u001b[0m\u001b[1;33m:\u001b[0m\u001b[1;33m,\u001b[0m \u001b[1;32mNone\u001b[0m\u001b[1;33m]\u001b[0m\u001b[1;33m\u001b[0m\u001b[1;33m\u001b[0m\u001b[0m\n\u001b[1;32m--> 582\u001b[1;33m         \u001b[0mneigh_ind\u001b[0m \u001b[1;33m=\u001b[0m \u001b[0mnp\u001b[0m\u001b[1;33m.\u001b[0m\u001b[0margpartition\u001b[0m\u001b[1;33m(\u001b[0m\u001b[0mdist\u001b[0m\u001b[1;33m,\u001b[0m \u001b[0mn_neighbors\u001b[0m \u001b[1;33m-\u001b[0m \u001b[1;36m1\u001b[0m\u001b[1;33m,\u001b[0m \u001b[0maxis\u001b[0m\u001b[1;33m=\u001b[0m\u001b[1;36m1\u001b[0m\u001b[1;33m)\u001b[0m\u001b[1;33m\u001b[0m\u001b[1;33m\u001b[0m\u001b[0m\n\u001b[0m\u001b[0;32m    583\u001b[0m         \u001b[0mneigh_ind\u001b[0m \u001b[1;33m=\u001b[0m \u001b[0mneigh_ind\u001b[0m\u001b[1;33m[\u001b[0m\u001b[1;33m:\u001b[0m\u001b[1;33m,\u001b[0m \u001b[1;33m:\u001b[0m\u001b[0mn_neighbors\u001b[0m\u001b[1;33m]\u001b[0m\u001b[1;33m\u001b[0m\u001b[1;33m\u001b[0m\u001b[0m\n\u001b[0;32m    584\u001b[0m         \u001b[1;31m# argpartition doesn't guarantee sorted order, so we sort again\u001b[0m\u001b[1;33m\u001b[0m\u001b[1;33m\u001b[0m\u001b[1;33m\u001b[0m\u001b[0m\n",
      "\u001b[1;32m<__array_function__ internals>\u001b[0m in \u001b[0;36margpartition\u001b[1;34m(*args, **kwargs)\u001b[0m\n",
      "\u001b[1;32m~\\anaconda3\\envs\\learn-env\\lib\\site-packages\\numpy\\core\\fromnumeric.py\u001b[0m in \u001b[0;36margpartition\u001b[1;34m(a, kth, axis, kind, order)\u001b[0m\n\u001b[0;32m    830\u001b[0m \u001b[1;33m\u001b[0m\u001b[0m\n\u001b[0;32m    831\u001b[0m     \"\"\"\n\u001b[1;32m--> 832\u001b[1;33m     \u001b[1;32mreturn\u001b[0m \u001b[0m_wrapfunc\u001b[0m\u001b[1;33m(\u001b[0m\u001b[0ma\u001b[0m\u001b[1;33m,\u001b[0m \u001b[1;34m'argpartition'\u001b[0m\u001b[1;33m,\u001b[0m \u001b[0mkth\u001b[0m\u001b[1;33m,\u001b[0m \u001b[0maxis\u001b[0m\u001b[1;33m=\u001b[0m\u001b[0maxis\u001b[0m\u001b[1;33m,\u001b[0m \u001b[0mkind\u001b[0m\u001b[1;33m=\u001b[0m\u001b[0mkind\u001b[0m\u001b[1;33m,\u001b[0m \u001b[0morder\u001b[0m\u001b[1;33m=\u001b[0m\u001b[0morder\u001b[0m\u001b[1;33m)\u001b[0m\u001b[1;33m\u001b[0m\u001b[1;33m\u001b[0m\u001b[0m\n\u001b[0m\u001b[0;32m    833\u001b[0m \u001b[1;33m\u001b[0m\u001b[0m\n\u001b[0;32m    834\u001b[0m \u001b[1;33m\u001b[0m\u001b[0m\n",
      "\u001b[1;32m~\\anaconda3\\envs\\learn-env\\lib\\site-packages\\numpy\\core\\fromnumeric.py\u001b[0m in \u001b[0;36m_wrapfunc\u001b[1;34m(obj, method, *args, **kwds)\u001b[0m\n\u001b[0;32m     56\u001b[0m \u001b[1;33m\u001b[0m\u001b[0m\n\u001b[0;32m     57\u001b[0m     \u001b[1;32mtry\u001b[0m\u001b[1;33m:\u001b[0m\u001b[1;33m\u001b[0m\u001b[1;33m\u001b[0m\u001b[0m\n\u001b[1;32m---> 58\u001b[1;33m         \u001b[1;32mreturn\u001b[0m \u001b[0mbound\u001b[0m\u001b[1;33m(\u001b[0m\u001b[1;33m*\u001b[0m\u001b[0margs\u001b[0m\u001b[1;33m,\u001b[0m \u001b[1;33m**\u001b[0m\u001b[0mkwds\u001b[0m\u001b[1;33m)\u001b[0m\u001b[1;33m\u001b[0m\u001b[1;33m\u001b[0m\u001b[0m\n\u001b[0m\u001b[0;32m     59\u001b[0m     \u001b[1;32mexcept\u001b[0m \u001b[0mTypeError\u001b[0m\u001b[1;33m:\u001b[0m\u001b[1;33m\u001b[0m\u001b[1;33m\u001b[0m\u001b[0m\n\u001b[0;32m     60\u001b[0m         \u001b[1;31m# A TypeError occurs if the object does have such a method in its\u001b[0m\u001b[1;33m\u001b[0m\u001b[1;33m\u001b[0m\u001b[1;33m\u001b[0m\u001b[0m\n",
      "\u001b[1;31mKeyboardInterrupt\u001b[0m: "
     ]
    }
   ],
   "source": [
    "return_classification_report(pipe_lr2, X_train, y_train, X_test, y_test)"
   ]
  },
  {
   "cell_type": "markdown",
   "metadata": {},
   "source": [
    "While accuracy has decreased to 74%, recall for the R class has increased to 59%, (out of all the actual republican tweets the model was able to correctly identify 59% of them)."
   ]
  },
  {
   "cell_type": "markdown",
   "metadata": {},
   "source": [
    "We will now try a random forest classifier to identify feature importances."
   ]
  },
  {
   "cell_type": "code",
   "execution_count": 154,
   "metadata": {},
   "outputs": [],
   "source": [
    "pipe_rf1 = Pipeline([('t_proc', CountVectorizer(max_features=1000)),\n",
    "                    (\"sm\", SMOTE(random_state=random_state)),\n",
    "                     ('to_dense', DenseTransformer()),\n",
    "                     ('clf', RandomForestClassifier(max_depth=20))])"
   ]
  },
  {
   "cell_type": "code",
   "execution_count": 155,
   "metadata": {},
   "outputs": [
    {
     "data": {
      "text/html": [
       "<div>\n",
       "<style scoped>\n",
       "    .dataframe tbody tr th:only-of-type {\n",
       "        vertical-align: middle;\n",
       "    }\n",
       "\n",
       "    .dataframe tbody tr th {\n",
       "        vertical-align: top;\n",
       "    }\n",
       "\n",
       "    .dataframe thead tr th {\n",
       "        text-align: left;\n",
       "    }\n",
       "</style>\n",
       "<table border=\"1\" class=\"dataframe\">\n",
       "  <thead>\n",
       "    <tr>\n",
       "      <th></th>\n",
       "      <th colspan=\"4\" halign=\"left\">Train Scores RandomForestClassifier(max_depth=20</th>\n",
       "      <th colspan=\"4\" halign=\"left\">Test Scores RandomForestClassifier(max_depth=20</th>\n",
       "    </tr>\n",
       "    <tr>\n",
       "      <th></th>\n",
       "      <th>precision</th>\n",
       "      <th>recall</th>\n",
       "      <th>f1-score</th>\n",
       "      <th>support</th>\n",
       "      <th>precision</th>\n",
       "      <th>recall</th>\n",
       "      <th>f1-score</th>\n",
       "      <th>support</th>\n",
       "    </tr>\n",
       "  </thead>\n",
       "  <tbody>\n",
       "    <tr>\n",
       "      <th>D</th>\n",
       "      <td>0.86</td>\n",
       "      <td>0.70</td>\n",
       "      <td>0.77</td>\n",
       "      <td>121108.00</td>\n",
       "      <td>0.84</td>\n",
       "      <td>0.69</td>\n",
       "      <td>0.76</td>\n",
       "      <td>182339.00</td>\n",
       "    </tr>\n",
       "    <tr>\n",
       "      <th>R</th>\n",
       "      <td>0.42</td>\n",
       "      <td>0.66</td>\n",
       "      <td>0.51</td>\n",
       "      <td>39699.00</td>\n",
       "      <td>0.39</td>\n",
       "      <td>0.61</td>\n",
       "      <td>0.47</td>\n",
       "      <td>58872.00</td>\n",
       "    </tr>\n",
       "    <tr>\n",
       "      <th>accuracy</th>\n",
       "      <td>0.69</td>\n",
       "      <td>0.69</td>\n",
       "      <td>0.69</td>\n",
       "      <td>0.69</td>\n",
       "      <td>0.67</td>\n",
       "      <td>0.67</td>\n",
       "      <td>0.67</td>\n",
       "      <td>0.67</td>\n",
       "    </tr>\n",
       "    <tr>\n",
       "      <th>macro avg</th>\n",
       "      <td>0.64</td>\n",
       "      <td>0.68</td>\n",
       "      <td>0.64</td>\n",
       "      <td>160807.00</td>\n",
       "      <td>0.62</td>\n",
       "      <td>0.65</td>\n",
       "      <td>0.62</td>\n",
       "      <td>241211.00</td>\n",
       "    </tr>\n",
       "    <tr>\n",
       "      <th>weighted avg</th>\n",
       "      <td>0.75</td>\n",
       "      <td>0.69</td>\n",
       "      <td>0.71</td>\n",
       "      <td>160807.00</td>\n",
       "      <td>0.73</td>\n",
       "      <td>0.67</td>\n",
       "      <td>0.69</td>\n",
       "      <td>241211.00</td>\n",
       "    </tr>\n",
       "  </tbody>\n",
       "</table>\n",
       "</div>"
      ],
      "text/plain": [
       "             Train Scores RandomForestClassifier(max_depth=20                  \\\n",
       "                                                    precision recall f1-score   \n",
       "D                                                        0.86   0.70     0.77   \n",
       "R                                                        0.42   0.66     0.51   \n",
       "accuracy                                                 0.69   0.69     0.69   \n",
       "macro avg                                                0.64   0.68     0.64   \n",
       "weighted avg                                             0.75   0.69     0.71   \n",
       "\n",
       "                        Test Scores RandomForestClassifier(max_depth=20  \\\n",
       "                support                                       precision   \n",
       "D             121108.00                                            0.84   \n",
       "R              39699.00                                            0.39   \n",
       "accuracy           0.69                                            0.67   \n",
       "macro avg     160807.00                                            0.62   \n",
       "weighted avg  160807.00                                            0.73   \n",
       "\n",
       "                                         \n",
       "             recall f1-score    support  \n",
       "D              0.69     0.76  182339.00  \n",
       "R              0.61     0.47   58872.00  \n",
       "accuracy       0.67     0.67       0.67  \n",
       "macro avg      0.65     0.62  241211.00  \n",
       "weighted avg   0.67     0.69  241211.00  "
      ]
     },
     "execution_count": 155,
     "metadata": {},
     "output_type": "execute_result"
    }
   ],
   "source": [
    "return_classification_report(pipe_rf1, X_train, y_train, X_test, y_test)"
   ]
  },
  {
   "cell_type": "code",
   "execution_count": 158,
   "metadata": {
    "scrolled": true
   },
   "outputs": [
    {
     "data": {
      "image/png": "[encoded data removed]",
      "text/plain": [
       "<Figure size 1080x1440 with 1 Axes>"
      ]
     },
     "metadata": {
      "needs_background": "light"
     },
     "output_type": "display_data"
    }
   ],
   "source": [
    "plot_feature_importances(pipe_rf1, 100)"
   ]
  },
  {
   "cell_type": "markdown",
   "metadata": {},
   "source": [
    "The random forest classifier performed with less accuracy than logistic regression. However, one can identify the most important words in determining a class: \n",
    "- Trump\n",
    "- Health\n",
    "- Must\n",
    "- Fight\n",
    "- Care"
   ]
  },
  {
   "cell_type": "code",
   "execution_count": 159,
   "metadata": {},
   "outputs": [],
   "source": [
    "pipe_nb1 = Pipeline([('t_proc', CountVectorizer(max_features=1000)),\n",
    "                    (\"sm\", SMOTE(random_state=random_state)),\n",
    "                    ('to_dense', DenseTransformer()),\n",
    "                     ('clf', GaussianNB())])"
   ]
  },
  {
   "cell_type": "code",
   "execution_count": 160,
   "metadata": {},
   "outputs": [
    {
     "data": {
      "text/html": [
       "<div>\n",
       "<style scoped>\n",
       "    .dataframe tbody tr th:only-of-type {\n",
       "        vertical-align: middle;\n",
       "    }\n",
       "\n",
       "    .dataframe tbody tr th {\n",
       "        vertical-align: top;\n",
       "    }\n",
       "\n",
       "    .dataframe thead tr th {\n",
       "        text-align: left;\n",
       "    }\n",
       "</style>\n",
       "<table border=\"1\" class=\"dataframe\">\n",
       "  <thead>\n",
       "    <tr>\n",
       "      <th></th>\n",
       "      <th colspan=\"4\" halign=\"left\">Train Scores GaussianNB</th>\n",
       "      <th colspan=\"4\" halign=\"left\">Test Scores GaussianNB</th>\n",
       "    </tr>\n",
       "    <tr>\n",
       "      <th></th>\n",
       "      <th>precision</th>\n",
       "      <th>recall</th>\n",
       "      <th>f1-score</th>\n",
       "      <th>support</th>\n",
       "      <th>precision</th>\n",
       "      <th>recall</th>\n",
       "      <th>f1-score</th>\n",
       "      <th>support</th>\n",
       "    </tr>\n",
       "  </thead>\n",
       "  <tbody>\n",
       "    <tr>\n",
       "      <th>D</th>\n",
       "      <td>0.81</td>\n",
       "      <td>0.74</td>\n",
       "      <td>0.78</td>\n",
       "      <td>121108.00</td>\n",
       "      <td>0.82</td>\n",
       "      <td>0.75</td>\n",
       "      <td>0.78</td>\n",
       "      <td>182339.00</td>\n",
       "    </tr>\n",
       "    <tr>\n",
       "      <th>R</th>\n",
       "      <td>0.38</td>\n",
       "      <td>0.48</td>\n",
       "      <td>0.42</td>\n",
       "      <td>39699.00</td>\n",
       "      <td>0.38</td>\n",
       "      <td>0.48</td>\n",
       "      <td>0.42</td>\n",
       "      <td>58872.00</td>\n",
       "    </tr>\n",
       "    <tr>\n",
       "      <th>accuracy</th>\n",
       "      <td>0.68</td>\n",
       "      <td>0.68</td>\n",
       "      <td>0.68</td>\n",
       "      <td>0.68</td>\n",
       "      <td>0.68</td>\n",
       "      <td>0.68</td>\n",
       "      <td>0.68</td>\n",
       "      <td>0.68</td>\n",
       "    </tr>\n",
       "    <tr>\n",
       "      <th>macro avg</th>\n",
       "      <td>0.60</td>\n",
       "      <td>0.61</td>\n",
       "      <td>0.60</td>\n",
       "      <td>160807.00</td>\n",
       "      <td>0.60</td>\n",
       "      <td>0.61</td>\n",
       "      <td>0.60</td>\n",
       "      <td>241211.00</td>\n",
       "    </tr>\n",
       "    <tr>\n",
       "      <th>weighted avg</th>\n",
       "      <td>0.71</td>\n",
       "      <td>0.68</td>\n",
       "      <td>0.69</td>\n",
       "      <td>160807.00</td>\n",
       "      <td>0.71</td>\n",
       "      <td>0.68</td>\n",
       "      <td>0.69</td>\n",
       "      <td>241211.00</td>\n",
       "    </tr>\n",
       "  </tbody>\n",
       "</table>\n",
       "</div>"
      ],
      "text/plain": [
       "             Train Scores GaussianNB                             \\\n",
       "                           precision recall f1-score    support   \n",
       "D                               0.81   0.74     0.78  121108.00   \n",
       "R                               0.38   0.48     0.42   39699.00   \n",
       "accuracy                        0.68   0.68     0.68       0.68   \n",
       "macro avg                       0.60   0.61     0.60  160807.00   \n",
       "weighted avg                    0.71   0.68     0.69  160807.00   \n",
       "\n",
       "             Test Scores GaussianNB                             \n",
       "                          precision recall f1-score    support  \n",
       "D                              0.82   0.75     0.78  182339.00  \n",
       "R                              0.38   0.48     0.42   58872.00  \n",
       "accuracy                       0.68   0.68     0.68       0.68  \n",
       "macro avg                      0.60   0.61     0.60  241211.00  \n",
       "weighted avg                   0.71   0.68     0.69  241211.00  "
      ]
     },
     "execution_count": 160,
     "metadata": {},
     "output_type": "execute_result"
    }
   ],
   "source": [
    "return_classification_report(pipe_nb1, X_train, y_train, X_test, y_test)"
   ]
  },
  {
   "cell_type": "markdown",
   "metadata": {},
   "source": [
    "##### TF-IDF"
   ]
  },
  {
   "cell_type": "code",
   "execution_count": 16,
   "metadata": {},
   "outputs": [],
   "source": [
    "pipe_lr3 = Pipeline([('t_proc', TfidfVectorizer(max_features=1000)),\n",
    "                     (\"sm\", SMOTE(random_state=random_state)),\n",
    "                     ('clf', LogisticRegression())])"
   ]
  },
  {
   "cell_type": "code",
   "execution_count": 17,
   "metadata": {},
   "outputs": [
    {
     "data": {
      "text/html": [
       "<div>\n",
       "<style scoped>\n",
       "    .dataframe tbody tr th:only-of-type {\n",
       "        vertical-align: middle;\n",
       "    }\n",
       "\n",
       "    .dataframe tbody tr th {\n",
       "        vertical-align: top;\n",
       "    }\n",
       "\n",
       "    .dataframe thead tr th {\n",
       "        text-align: left;\n",
       "    }\n",
       "</style>\n",
       "<table border=\"1\" class=\"dataframe\">\n",
       "  <thead>\n",
       "    <tr>\n",
       "      <th></th>\n",
       "      <th colspan=\"4\" halign=\"left\">Train Scores LogisticRegression</th>\n",
       "      <th colspan=\"4\" halign=\"left\">Test Scores LogisticRegression</th>\n",
       "    </tr>\n",
       "    <tr>\n",
       "      <th></th>\n",
       "      <th>precision</th>\n",
       "      <th>recall</th>\n",
       "      <th>f1-score</th>\n",
       "      <th>support</th>\n",
       "      <th>precision</th>\n",
       "      <th>recall</th>\n",
       "      <th>f1-score</th>\n",
       "      <th>support</th>\n",
       "    </tr>\n",
       "  </thead>\n",
       "  <tbody>\n",
       "    <tr>\n",
       "      <th>D</th>\n",
       "      <td>0.87</td>\n",
       "      <td>0.79</td>\n",
       "      <td>0.83</td>\n",
       "      <td>121108.00</td>\n",
       "      <td>0.87</td>\n",
       "      <td>0.79</td>\n",
       "      <td>0.83</td>\n",
       "      <td>182339.00</td>\n",
       "    </tr>\n",
       "    <tr>\n",
       "      <th>R</th>\n",
       "      <td>0.50</td>\n",
       "      <td>0.64</td>\n",
       "      <td>0.56</td>\n",
       "      <td>39699.00</td>\n",
       "      <td>0.49</td>\n",
       "      <td>0.63</td>\n",
       "      <td>0.55</td>\n",
       "      <td>58872.00</td>\n",
       "    </tr>\n",
       "    <tr>\n",
       "      <th>accuracy</th>\n",
       "      <td>0.75</td>\n",
       "      <td>0.75</td>\n",
       "      <td>0.75</td>\n",
       "      <td>0.75</td>\n",
       "      <td>0.75</td>\n",
       "      <td>0.75</td>\n",
       "      <td>0.75</td>\n",
       "      <td>0.75</td>\n",
       "    </tr>\n",
       "    <tr>\n",
       "      <th>macro avg</th>\n",
       "      <td>0.69</td>\n",
       "      <td>0.72</td>\n",
       "      <td>0.70</td>\n",
       "      <td>160807.00</td>\n",
       "      <td>0.68</td>\n",
       "      <td>0.71</td>\n",
       "      <td>0.69</td>\n",
       "      <td>241211.00</td>\n",
       "    </tr>\n",
       "    <tr>\n",
       "      <th>weighted avg</th>\n",
       "      <td>0.78</td>\n",
       "      <td>0.75</td>\n",
       "      <td>0.76</td>\n",
       "      <td>160807.00</td>\n",
       "      <td>0.78</td>\n",
       "      <td>0.75</td>\n",
       "      <td>0.76</td>\n",
       "      <td>241211.00</td>\n",
       "    </tr>\n",
       "  </tbody>\n",
       "</table>\n",
       "</div>"
      ],
      "text/plain": [
       "             Train Scores LogisticRegression                             \\\n",
       "                                   precision recall f1-score    support   \n",
       "D                                       0.87   0.79     0.83  121108.00   \n",
       "R                                       0.50   0.64     0.56   39699.00   \n",
       "accuracy                                0.75   0.75     0.75       0.75   \n",
       "macro avg                               0.69   0.72     0.70  160807.00   \n",
       "weighted avg                            0.78   0.75     0.76  160807.00   \n",
       "\n",
       "             Test Scores LogisticRegression                             \n",
       "                                  precision recall f1-score    support  \n",
       "D                                      0.87   0.79     0.83  182339.00  \n",
       "R                                      0.49   0.63     0.55   58872.00  \n",
       "accuracy                               0.75   0.75     0.75       0.75  \n",
       "macro avg                              0.68   0.71     0.69  241211.00  \n",
       "weighted avg                           0.78   0.75     0.76  241211.00  "
      ]
     },
     "execution_count": 17,
     "metadata": {},
     "output_type": "execute_result"
    }
   ],
   "source": [
    "return_classification_report(pipe_lr3, X_train, y_train, X_test, y_test)"
   ]
  },
  {
   "cell_type": "markdown",
   "metadata": {},
   "source": [
    "The TF-IDF vectorizer performed slightly better than the Count Vectorizer when using Logistic Regression."
   ]
  },
  {
   "cell_type": "code",
   "execution_count": 18,
   "metadata": {},
   "outputs": [],
   "source": [
    "pipe_rf2 = Pipeline([('t_proc',  TfidfVectorizer(max_features=1000)),\n",
    "                    (\"sm\", SMOTE(random_state=random_state)),\n",
    "                     ('to_dense', DenseTransformer()),\n",
    "                     ('clf', RandomForestClassifier(max_depth=20))])"
   ]
  },
  {
   "cell_type": "code",
   "execution_count": 21,
   "metadata": {},
   "outputs": [
    {
     "data": {
      "text/html": [
       "<div>\n",
       "<style scoped>\n",
       "    .dataframe tbody tr th:only-of-type {\n",
       "        vertical-align: middle;\n",
       "    }\n",
       "\n",
       "    .dataframe tbody tr th {\n",
       "        vertical-align: top;\n",
       "    }\n",
       "\n",
       "    .dataframe thead tr th {\n",
       "        text-align: left;\n",
       "    }\n",
       "</style>\n",
       "<table border=\"1\" class=\"dataframe\">\n",
       "  <thead>\n",
       "    <tr>\n",
       "      <th></th>\n",
       "      <th colspan=\"4\" halign=\"left\">Train Scores RandomForestClassifier(max_depth=20</th>\n",
       "      <th colspan=\"4\" halign=\"left\">Test Scores RandomForestClassifier(max_depth=20</th>\n",
       "    </tr>\n",
       "    <tr>\n",
       "      <th></th>\n",
       "      <th>precision</th>\n",
       "      <th>recall</th>\n",
       "      <th>f1-score</th>\n",
       "      <th>support</th>\n",
       "      <th>precision</th>\n",
       "      <th>recall</th>\n",
       "      <th>f1-score</th>\n",
       "      <th>support</th>\n",
       "    </tr>\n",
       "  </thead>\n",
       "  <tbody>\n",
       "    <tr>\n",
       "      <th>D</th>\n",
       "      <td>0.87</td>\n",
       "      <td>0.71</td>\n",
       "      <td>0.78</td>\n",
       "      <td>121108.0</td>\n",
       "      <td>0.86</td>\n",
       "      <td>0.70</td>\n",
       "      <td>0.77</td>\n",
       "      <td>182339.00</td>\n",
       "    </tr>\n",
       "    <tr>\n",
       "      <th>R</th>\n",
       "      <td>0.44</td>\n",
       "      <td>0.68</td>\n",
       "      <td>0.53</td>\n",
       "      <td>39699.0</td>\n",
       "      <td>0.41</td>\n",
       "      <td>0.63</td>\n",
       "      <td>0.49</td>\n",
       "      <td>58872.00</td>\n",
       "    </tr>\n",
       "    <tr>\n",
       "      <th>accuracy</th>\n",
       "      <td>0.70</td>\n",
       "      <td>0.70</td>\n",
       "      <td>0.70</td>\n",
       "      <td>0.7</td>\n",
       "      <td>0.69</td>\n",
       "      <td>0.69</td>\n",
       "      <td>0.69</td>\n",
       "      <td>0.69</td>\n",
       "    </tr>\n",
       "    <tr>\n",
       "      <th>macro avg</th>\n",
       "      <td>0.65</td>\n",
       "      <td>0.70</td>\n",
       "      <td>0.66</td>\n",
       "      <td>160807.0</td>\n",
       "      <td>0.63</td>\n",
       "      <td>0.67</td>\n",
       "      <td>0.63</td>\n",
       "      <td>241211.00</td>\n",
       "    </tr>\n",
       "    <tr>\n",
       "      <th>weighted avg</th>\n",
       "      <td>0.76</td>\n",
       "      <td>0.70</td>\n",
       "      <td>0.72</td>\n",
       "      <td>160807.0</td>\n",
       "      <td>0.75</td>\n",
       "      <td>0.69</td>\n",
       "      <td>0.70</td>\n",
       "      <td>241211.00</td>\n",
       "    </tr>\n",
       "  </tbody>\n",
       "</table>\n",
       "</div>"
      ],
      "text/plain": [
       "             Train Scores RandomForestClassifier(max_depth=20                  \\\n",
       "                                                    precision recall f1-score   \n",
       "D                                                        0.87   0.71     0.78   \n",
       "R                                                        0.44   0.68     0.53   \n",
       "accuracy                                                 0.70   0.70     0.70   \n",
       "macro avg                                                0.65   0.70     0.66   \n",
       "weighted avg                                             0.76   0.70     0.72   \n",
       "\n",
       "                       Test Scores RandomForestClassifier(max_depth=20         \\\n",
       "               support                                       precision recall   \n",
       "D             121108.0                                            0.86   0.70   \n",
       "R              39699.0                                            0.41   0.63   \n",
       "accuracy           0.7                                            0.69   0.69   \n",
       "macro avg     160807.0                                            0.63   0.67   \n",
       "weighted avg  160807.0                                            0.75   0.69   \n",
       "\n",
       "                                  \n",
       "             f1-score    support  \n",
       "D                0.77  182339.00  \n",
       "R                0.49   58872.00  \n",
       "accuracy         0.69       0.69  \n",
       "macro avg        0.63  241211.00  \n",
       "weighted avg     0.70  241211.00  "
      ]
     },
     "execution_count": 21,
     "metadata": {},
     "output_type": "execute_result"
    }
   ],
   "source": [
    "return_classification_report(pipe_rf2, X_train, y_train, X_test, y_test)"
   ]
  },
  {
   "cell_type": "code",
   "execution_count": 22,
   "metadata": {
    "scrolled": true
   },
   "outputs": [
    {
     "data": {
      "image/png": "[encoded data removed]",
      "text/plain": [
       "<Figure size 1080x1440 with 1 Axes>"
      ]
     },
     "metadata": {
      "needs_background": "light"
     },
     "output_type": "display_data"
    }
   ],
   "source": [
    "plot_feature_importances(pipe_rf2, 100)"
   ]
  },
  {
   "cell_type": "markdown",
   "metadata": {},
   "source": [
    "There are slight differences between the feature importances with Count Vectorizer vs TF-IDF. For example, the word democrat was fairly important when determining a class after using the TF-IDF vectorizer."
   ]
  },
  {
   "cell_type": "code",
   "execution_count": 23,
   "metadata": {},
   "outputs": [],
   "source": [
    "pipe_nb2 = Pipeline([('t_proc', TfidfVectorizer(max_features=1000)),\n",
    "                    (\"sm\", SMOTE(random_state=random_state)),\n",
    "                    ('to_dense', DenseTransformer()),\n",
    "                     ('clf', GaussianNB())])"
   ]
  },
  {
   "cell_type": "code",
   "execution_count": 24,
   "metadata": {},
   "outputs": [
    {
     "data": {
      "text/html": [
       "<div>\n",
       "<style scoped>\n",
       "    .dataframe tbody tr th:only-of-type {\n",
       "        vertical-align: middle;\n",
       "    }\n",
       "\n",
       "    .dataframe tbody tr th {\n",
       "        vertical-align: top;\n",
       "    }\n",
       "\n",
       "    .dataframe thead tr th {\n",
       "        text-align: left;\n",
       "    }\n",
       "</style>\n",
       "<table border=\"1\" class=\"dataframe\">\n",
       "  <thead>\n",
       "    <tr>\n",
       "      <th></th>\n",
       "      <th colspan=\"4\" halign=\"left\">Train Scores GaussianNB</th>\n",
       "      <th colspan=\"4\" halign=\"left\">Test Scores GaussianNB</th>\n",
       "    </tr>\n",
       "    <tr>\n",
       "      <th></th>\n",
       "      <th>precision</th>\n",
       "      <th>recall</th>\n",
       "      <th>f1-score</th>\n",
       "      <th>support</th>\n",
       "      <th>precision</th>\n",
       "      <th>recall</th>\n",
       "      <th>f1-score</th>\n",
       "      <th>support</th>\n",
       "    </tr>\n",
       "  </thead>\n",
       "  <tbody>\n",
       "    <tr>\n",
       "      <th>D</th>\n",
       "      <td>0.86</td>\n",
       "      <td>0.75</td>\n",
       "      <td>0.80</td>\n",
       "      <td>121108.00</td>\n",
       "      <td>0.86</td>\n",
       "      <td>0.75</td>\n",
       "      <td>0.80</td>\n",
       "      <td>182339.00</td>\n",
       "    </tr>\n",
       "    <tr>\n",
       "      <th>R</th>\n",
       "      <td>0.44</td>\n",
       "      <td>0.62</td>\n",
       "      <td>0.52</td>\n",
       "      <td>39699.00</td>\n",
       "      <td>0.44</td>\n",
       "      <td>0.61</td>\n",
       "      <td>0.51</td>\n",
       "      <td>58872.00</td>\n",
       "    </tr>\n",
       "    <tr>\n",
       "      <th>accuracy</th>\n",
       "      <td>0.71</td>\n",
       "      <td>0.71</td>\n",
       "      <td>0.71</td>\n",
       "      <td>0.71</td>\n",
       "      <td>0.71</td>\n",
       "      <td>0.71</td>\n",
       "      <td>0.71</td>\n",
       "      <td>0.71</td>\n",
       "    </tr>\n",
       "    <tr>\n",
       "      <th>macro avg</th>\n",
       "      <td>0.65</td>\n",
       "      <td>0.68</td>\n",
       "      <td>0.66</td>\n",
       "      <td>160807.00</td>\n",
       "      <td>0.65</td>\n",
       "      <td>0.68</td>\n",
       "      <td>0.65</td>\n",
       "      <td>241211.00</td>\n",
       "    </tr>\n",
       "    <tr>\n",
       "      <th>weighted avg</th>\n",
       "      <td>0.75</td>\n",
       "      <td>0.71</td>\n",
       "      <td>0.73</td>\n",
       "      <td>160807.00</td>\n",
       "      <td>0.75</td>\n",
       "      <td>0.71</td>\n",
       "      <td>0.73</td>\n",
       "      <td>241211.00</td>\n",
       "    </tr>\n",
       "  </tbody>\n",
       "</table>\n",
       "</div>"
      ],
      "text/plain": [
       "             Train Scores GaussianNB                             \\\n",
       "                           precision recall f1-score    support   \n",
       "D                               0.86   0.75     0.80  121108.00   \n",
       "R                               0.44   0.62     0.52   39699.00   \n",
       "accuracy                        0.71   0.71     0.71       0.71   \n",
       "macro avg                       0.65   0.68     0.66  160807.00   \n",
       "weighted avg                    0.75   0.71     0.73  160807.00   \n",
       "\n",
       "             Test Scores GaussianNB                             \n",
       "                          precision recall f1-score    support  \n",
       "D                              0.86   0.75     0.80  182339.00  \n",
       "R                              0.44   0.61     0.51   58872.00  \n",
       "accuracy                       0.71   0.71     0.71       0.71  \n",
       "macro avg                      0.65   0.68     0.65  241211.00  \n",
       "weighted avg                   0.75   0.71     0.73  241211.00  "
      ]
     },
     "execution_count": 24,
     "metadata": {},
     "output_type": "execute_result"
    }
   ],
   "source": [
    "return_classification_report(pipe_nb2, X_train, y_train, X_test, y_test)"
   ]
  },
  {
   "cell_type": "markdown",
   "metadata": {},
   "source": [
    "Naive Bayes performed similarly to random forest classifier in terms of accuracy. "
   ]
  },
  {
   "cell_type": "markdown",
   "metadata": {},
   "source": [
    "#### Word Embeddings"
   ]
  },
  {
   "cell_type": "code",
   "execution_count": 133,
   "metadata": {},
   "outputs": [],
   "source": [
    "from gensim.test.utils import common_texts"
   ]
  },
  {
   "cell_type": "code",
   "execution_count": 142,
   "metadata": {},
   "outputs": [],
   "source": [
    "from gensim.models import FastText"
   ]
  },
  {
   "cell_type": "code",
   "execution_count": null,
   "metadata": {},
   "outputs": [],
   "source": [
    "tokenize"
   ]
  },
  {
   "cell_type": "code",
   "execution_count": 146,
   "metadata": {},
   "outputs": [],
   "source": [
    "model = FastText(size=100, min_count=5, seed=random_state, workers=4)\n",
    "model.build_vocab(tokenize(X_train))\n",
    "model.train(tokenize(X_train), total_examples=len(X_train), epochs=10)"
   ]
  },
  {
   "cell_type": "code",
   "execution_count": 149,
   "metadata": {},
   "outputs": [
    {
     "data": {
      "text/plain": [
       "<gensim.models.keyedvectors.FastTextKeyedVectors at 0x23ade39cf28>"
      ]
     },
     "execution_count": 149,
     "metadata": {},
     "output_type": "execute_result"
    }
   ],
   "source": [
    "model.wv"
   ]
  },
  {
   "cell_type": "code",
   "execution_count": 143,
   "metadata": {},
   "outputs": [
    {
     "ename": "TypeError",
     "evalue": "All intermediate steps of the chain should be estimators that implement fit and transform or fit_resample (but not both) or be a string 'passthrough' 'FastText(vocab=0, size=100, alpha=0.025)' (type <class 'gensim.models.fasttext.FastText'>) doesn't)",
     "output_type": "error",
     "traceback": [
      "\u001b[1;31m---------------------------------------------------------------------------\u001b[0m",
      "\u001b[1;31mTypeError\u001b[0m                                 Traceback (most recent call last)",
      "\u001b[1;32m<ipython-input-143-fe3ea6a3d949>\u001b[0m in \u001b[0;36m<module>\u001b[1;34m\u001b[0m\n\u001b[0;32m      1\u001b[0m pipe_lr4 = Pipeline([('t_proc',FastText(size=100, min_count=5, seed=random_state, workers=4)),\n\u001b[0;32m      2\u001b[0m                  \u001b[1;33m(\u001b[0m\u001b[1;34m\"sm\"\u001b[0m\u001b[1;33m,\u001b[0m \u001b[0mSMOTE\u001b[0m\u001b[1;33m(\u001b[0m\u001b[0mrandom_state\u001b[0m\u001b[1;33m=\u001b[0m\u001b[0mrandom_state\u001b[0m\u001b[1;33m)\u001b[0m\u001b[1;33m)\u001b[0m\u001b[1;33m,\u001b[0m\u001b[1;33m\u001b[0m\u001b[1;33m\u001b[0m\u001b[0m\n\u001b[1;32m----> 3\u001b[1;33m                  ('clf', LogisticRegression())])\n\u001b[0m",
      "\u001b[1;32m~\\anaconda3\\envs\\learn-env\\lib\\site-packages\\sklearn\\utils\\validation.py\u001b[0m in \u001b[0;36minner_f\u001b[1;34m(*args, **kwargs)\u001b[0m\n\u001b[0;32m     61\u001b[0m             \u001b[0mextra_args\u001b[0m \u001b[1;33m=\u001b[0m \u001b[0mlen\u001b[0m\u001b[1;33m(\u001b[0m\u001b[0margs\u001b[0m\u001b[1;33m)\u001b[0m \u001b[1;33m-\u001b[0m \u001b[0mlen\u001b[0m\u001b[1;33m(\u001b[0m\u001b[0mall_args\u001b[0m\u001b[1;33m)\u001b[0m\u001b[1;33m\u001b[0m\u001b[1;33m\u001b[0m\u001b[0m\n\u001b[0;32m     62\u001b[0m             \u001b[1;32mif\u001b[0m \u001b[0mextra_args\u001b[0m \u001b[1;33m<=\u001b[0m \u001b[1;36m0\u001b[0m\u001b[1;33m:\u001b[0m\u001b[1;33m\u001b[0m\u001b[1;33m\u001b[0m\u001b[0m\n\u001b[1;32m---> 63\u001b[1;33m                 \u001b[1;32mreturn\u001b[0m \u001b[0mf\u001b[0m\u001b[1;33m(\u001b[0m\u001b[1;33m*\u001b[0m\u001b[0margs\u001b[0m\u001b[1;33m,\u001b[0m \u001b[1;33m**\u001b[0m\u001b[0mkwargs\u001b[0m\u001b[1;33m)\u001b[0m\u001b[1;33m\u001b[0m\u001b[1;33m\u001b[0m\u001b[0m\n\u001b[0m\u001b[0;32m     64\u001b[0m \u001b[1;33m\u001b[0m\u001b[0m\n\u001b[0;32m     65\u001b[0m             \u001b[1;31m# extra_args > 0\u001b[0m\u001b[1;33m\u001b[0m\u001b[1;33m\u001b[0m\u001b[1;33m\u001b[0m\u001b[0m\n",
      "\u001b[1;32m~\\anaconda3\\envs\\learn-env\\lib\\site-packages\\sklearn\\pipeline.py\u001b[0m in \u001b[0;36m__init__\u001b[1;34m(self, steps, memory, verbose)\u001b[0m\n\u001b[0;32m    116\u001b[0m         \u001b[0mself\u001b[0m\u001b[1;33m.\u001b[0m\u001b[0mmemory\u001b[0m \u001b[1;33m=\u001b[0m \u001b[0mmemory\u001b[0m\u001b[1;33m\u001b[0m\u001b[1;33m\u001b[0m\u001b[0m\n\u001b[0;32m    117\u001b[0m         \u001b[0mself\u001b[0m\u001b[1;33m.\u001b[0m\u001b[0mverbose\u001b[0m \u001b[1;33m=\u001b[0m \u001b[0mverbose\u001b[0m\u001b[1;33m\u001b[0m\u001b[1;33m\u001b[0m\u001b[0m\n\u001b[1;32m--> 118\u001b[1;33m         \u001b[0mself\u001b[0m\u001b[1;33m.\u001b[0m\u001b[0m_validate_steps\u001b[0m\u001b[1;33m(\u001b[0m\u001b[1;33m)\u001b[0m\u001b[1;33m\u001b[0m\u001b[1;33m\u001b[0m\u001b[0m\n\u001b[0m\u001b[0;32m    119\u001b[0m \u001b[1;33m\u001b[0m\u001b[0m\n\u001b[0;32m    120\u001b[0m     \u001b[1;32mdef\u001b[0m \u001b[0mget_params\u001b[0m\u001b[1;33m(\u001b[0m\u001b[0mself\u001b[0m\u001b[1;33m,\u001b[0m \u001b[0mdeep\u001b[0m\u001b[1;33m=\u001b[0m\u001b[1;32mTrue\u001b[0m\u001b[1;33m)\u001b[0m\u001b[1;33m:\u001b[0m\u001b[1;33m\u001b[0m\u001b[1;33m\u001b[0m\u001b[0m\n",
      "\u001b[1;32m~\\AppData\\Roaming\\Python\\Python36\\site-packages\\imblearn\\pipeline.py\u001b[0m in \u001b[0;36m_validate_steps\u001b[1;34m(self)\u001b[0m\n\u001b[0;32m    135\u001b[0m                     \u001b[1;34m\"be estimators that implement fit and transform or \"\u001b[0m\u001b[1;33m\u001b[0m\u001b[1;33m\u001b[0m\u001b[0m\n\u001b[0;32m    136\u001b[0m                     \u001b[1;34m\"fit_resample (but not both) or be a string 'passthrough' \"\u001b[0m\u001b[1;33m\u001b[0m\u001b[1;33m\u001b[0m\u001b[0m\n\u001b[1;32m--> 137\u001b[1;33m                     \u001b[1;34m\"'%s' (type %s) doesn't)\"\u001b[0m \u001b[1;33m%\u001b[0m \u001b[1;33m(\u001b[0m\u001b[0mt\u001b[0m\u001b[1;33m,\u001b[0m \u001b[0mtype\u001b[0m\u001b[1;33m(\u001b[0m\u001b[0mt\u001b[0m\u001b[1;33m)\u001b[0m\u001b[1;33m)\u001b[0m\u001b[1;33m\u001b[0m\u001b[1;33m\u001b[0m\u001b[0m\n\u001b[0m\u001b[0;32m    138\u001b[0m                 )\n\u001b[0;32m    139\u001b[0m \u001b[1;33m\u001b[0m\u001b[0m\n",
      "\u001b[1;31mTypeError\u001b[0m: All intermediate steps of the chain should be estimators that implement fit and transform or fit_resample (but not both) or be a string 'passthrough' 'FastText(vocab=0, size=100, alpha=0.025)' (type <class 'gensim.models.fasttext.FastText'>) doesn't)"
     ]
    }
   ],
   "source": [
    "pipe_lr4 = Pipeline([('t_proc',FastText(size=100, min_count=5, seed=random_state, workers=4)),\n",
    "                 (\"sm\", SMOTE(random_state=random_state)),\n",
    "                 ('clf', LogisticRegression())])"
   ]
  },
  {
   "cell_type": "code",
   "execution_count": 140,
   "metadata": {
    "scrolled": false
   },
   "outputs": [
    {
     "ename": "KeyError",
     "evalue": "\"word 'sorta' not in vocabulary\"",
     "output_type": "error",
     "traceback": [
      "\u001b[1;31m---------------------------------------------------------------------------\u001b[0m",
      "\u001b[1;31mKeyError\u001b[0m                                  Traceback (most recent call last)",
      "\u001b[1;32m<ipython-input-140-2cdfce796224>\u001b[0m in \u001b[0;36m<module>\u001b[1;34m\u001b[0m\n\u001b[1;32m----> 1\u001b[1;33m \u001b[0mreturn_classification_report\u001b[0m\u001b[1;33m(\u001b[0m\u001b[0mpipe_lr4\u001b[0m\u001b[1;33m,\u001b[0m \u001b[0mtokenize\u001b[0m\u001b[1;33m(\u001b[0m\u001b[0mX_train\u001b[0m\u001b[1;33m)\u001b[0m\u001b[1;33m,\u001b[0m \u001b[0my_train\u001b[0m\u001b[1;33m,\u001b[0m \u001b[0mtokenize\u001b[0m\u001b[1;33m(\u001b[0m\u001b[0mX_test\u001b[0m\u001b[1;33m)\u001b[0m\u001b[1;33m,\u001b[0m \u001b[0my_test\u001b[0m\u001b[1;33m)\u001b[0m\u001b[1;33m\u001b[0m\u001b[1;33m\u001b[0m\u001b[0m\n\u001b[0m",
      "\u001b[1;32m<ipython-input-7-c166d9859a5a>\u001b[0m in \u001b[0;36mreturn_classification_report\u001b[1;34m(pipeline, X_train, y_train, X_test, y_test)\u001b[0m\n\u001b[0;32m      1\u001b[0m \u001b[1;32mdef\u001b[0m \u001b[0mreturn_classification_report\u001b[0m\u001b[1;33m(\u001b[0m\u001b[0mpipeline\u001b[0m\u001b[1;33m,\u001b[0m \u001b[0mX_train\u001b[0m\u001b[1;33m,\u001b[0m \u001b[0my_train\u001b[0m\u001b[1;33m,\u001b[0m \u001b[0mX_test\u001b[0m\u001b[1;33m,\u001b[0m \u001b[0my_test\u001b[0m\u001b[1;33m)\u001b[0m\u001b[1;33m:\u001b[0m\u001b[1;33m\u001b[0m\u001b[1;33m\u001b[0m\u001b[0m\n\u001b[1;32m----> 2\u001b[1;33m     \u001b[0mpipeline\u001b[0m\u001b[1;33m.\u001b[0m\u001b[0mfit\u001b[0m\u001b[1;33m(\u001b[0m\u001b[0mX_train\u001b[0m\u001b[1;33m,\u001b[0m \u001b[0my_train\u001b[0m\u001b[1;33m)\u001b[0m\u001b[1;33m\u001b[0m\u001b[1;33m\u001b[0m\u001b[0m\n\u001b[0m\u001b[0;32m      3\u001b[0m     \u001b[0my_train_preds\u001b[0m \u001b[1;33m=\u001b[0m \u001b[0mpipeline\u001b[0m\u001b[1;33m.\u001b[0m\u001b[0mpredict\u001b[0m\u001b[1;33m(\u001b[0m\u001b[0mX_train\u001b[0m\u001b[1;33m)\u001b[0m\u001b[1;33m\u001b[0m\u001b[1;33m\u001b[0m\u001b[0m\n\u001b[0;32m      4\u001b[0m     \u001b[0my_test_preds\u001b[0m \u001b[1;33m=\u001b[0m \u001b[0mpipeline\u001b[0m\u001b[1;33m.\u001b[0m\u001b[0mpredict\u001b[0m\u001b[1;33m(\u001b[0m\u001b[0mX_test\u001b[0m\u001b[1;33m)\u001b[0m\u001b[1;33m\u001b[0m\u001b[1;33m\u001b[0m\u001b[0m\n\u001b[0;32m      5\u001b[0m     \u001b[0mtrain\u001b[0m \u001b[1;33m=\u001b[0m \u001b[0mpd\u001b[0m\u001b[1;33m.\u001b[0m\u001b[0mDataFrame\u001b[0m\u001b[1;33m(\u001b[0m\u001b[0mclassification_report\u001b[0m\u001b[1;33m(\u001b[0m\u001b[0my_train\u001b[0m\u001b[1;33m,\u001b[0m \u001b[0my_train_preds\u001b[0m\u001b[1;33m,\u001b[0m \u001b[0moutput_dict\u001b[0m\u001b[1;33m=\u001b[0m\u001b[1;32mTrue\u001b[0m\u001b[1;33m)\u001b[0m\u001b[1;33m)\u001b[0m\u001b[1;33m.\u001b[0m\u001b[0mtranspose\u001b[0m\u001b[1;33m(\u001b[0m\u001b[1;33m)\u001b[0m\u001b[1;33m.\u001b[0m\u001b[0mapply\u001b[0m\u001b[1;33m(\u001b[0m\u001b[1;32mlambda\u001b[0m \u001b[0mx\u001b[0m\u001b[1;33m:\u001b[0m \u001b[0mround\u001b[0m\u001b[1;33m(\u001b[0m\u001b[0mx\u001b[0m\u001b[1;33m,\u001b[0m \u001b[1;36m2\u001b[0m\u001b[1;33m)\u001b[0m\u001b[1;33m)\u001b[0m\u001b[1;33m\u001b[0m\u001b[1;33m\u001b[0m\u001b[0m\n",
      "\u001b[1;32m~\\AppData\\Roaming\\Python\\Python36\\site-packages\\imblearn\\pipeline.py\u001b[0m in \u001b[0;36mfit\u001b[1;34m(self, X, y, **fit_params)\u001b[0m\n\u001b[0;32m    275\u001b[0m             \u001b[0mThis\u001b[0m \u001b[0mestimator\u001b[0m\u001b[1;33m.\u001b[0m\u001b[1;33m\u001b[0m\u001b[1;33m\u001b[0m\u001b[0m\n\u001b[0;32m    276\u001b[0m         \"\"\"\n\u001b[1;32m--> 277\u001b[1;33m         \u001b[0mXt\u001b[0m\u001b[1;33m,\u001b[0m \u001b[0myt\u001b[0m\u001b[1;33m,\u001b[0m \u001b[0mfit_params\u001b[0m \u001b[1;33m=\u001b[0m \u001b[0mself\u001b[0m\u001b[1;33m.\u001b[0m\u001b[0m_fit\u001b[0m\u001b[1;33m(\u001b[0m\u001b[0mX\u001b[0m\u001b[1;33m,\u001b[0m \u001b[0my\u001b[0m\u001b[1;33m,\u001b[0m \u001b[1;33m**\u001b[0m\u001b[0mfit_params\u001b[0m\u001b[1;33m)\u001b[0m\u001b[1;33m\u001b[0m\u001b[1;33m\u001b[0m\u001b[0m\n\u001b[0m\u001b[0;32m    278\u001b[0m         with _print_elapsed_time('Pipeline',\n\u001b[0;32m    279\u001b[0m                                  self._log_message(len(self.steps) - 1)):\n",
      "\u001b[1;32m~\\AppData\\Roaming\\Python\\Python36\\site-packages\\imblearn\\pipeline.py\u001b[0m in \u001b[0;36m_fit\u001b[1;34m(self, X, y, **fit_params)\u001b[0m\n\u001b[0;32m    231\u001b[0m                     \u001b[0mmessage_clsname\u001b[0m\u001b[1;33m=\u001b[0m\u001b[1;34m'Pipeline'\u001b[0m\u001b[1;33m,\u001b[0m\u001b[1;33m\u001b[0m\u001b[1;33m\u001b[0m\u001b[0m\n\u001b[0;32m    232\u001b[0m                     \u001b[0mmessage\u001b[0m\u001b[1;33m=\u001b[0m\u001b[0mself\u001b[0m\u001b[1;33m.\u001b[0m\u001b[0m_log_message\u001b[0m\u001b[1;33m(\u001b[0m\u001b[0mstep_idx\u001b[0m\u001b[1;33m)\u001b[0m\u001b[1;33m,\u001b[0m\u001b[1;33m\u001b[0m\u001b[1;33m\u001b[0m\u001b[0m\n\u001b[1;32m--> 233\u001b[1;33m                     \u001b[1;33m**\u001b[0m\u001b[0mfit_params_steps\u001b[0m\u001b[1;33m[\u001b[0m\u001b[0mname\u001b[0m\u001b[1;33m]\u001b[0m\u001b[1;33m\u001b[0m\u001b[1;33m\u001b[0m\u001b[0m\n\u001b[0m\u001b[0;32m    234\u001b[0m                 )\n\u001b[0;32m    235\u001b[0m             \u001b[1;32melif\u001b[0m \u001b[0mhasattr\u001b[0m\u001b[1;33m(\u001b[0m\u001b[0mcloned_transformer\u001b[0m\u001b[1;33m,\u001b[0m \u001b[1;34m\"fit_resample\"\u001b[0m\u001b[1;33m)\u001b[0m\u001b[1;33m:\u001b[0m\u001b[1;33m\u001b[0m\u001b[1;33m\u001b[0m\u001b[0m\n",
      "\u001b[1;32m~\\anaconda3\\envs\\learn-env\\lib\\site-packages\\joblib\\memory.py\u001b[0m in \u001b[0;36m__call__\u001b[1;34m(self, *args, **kwargs)\u001b[0m\n\u001b[0;32m    350\u001b[0m \u001b[1;33m\u001b[0m\u001b[0m\n\u001b[0;32m    351\u001b[0m     \u001b[1;32mdef\u001b[0m \u001b[0m__call__\u001b[0m\u001b[1;33m(\u001b[0m\u001b[0mself\u001b[0m\u001b[1;33m,\u001b[0m \u001b[1;33m*\u001b[0m\u001b[0margs\u001b[0m\u001b[1;33m,\u001b[0m \u001b[1;33m**\u001b[0m\u001b[0mkwargs\u001b[0m\u001b[1;33m)\u001b[0m\u001b[1;33m:\u001b[0m\u001b[1;33m\u001b[0m\u001b[1;33m\u001b[0m\u001b[0m\n\u001b[1;32m--> 352\u001b[1;33m         \u001b[1;32mreturn\u001b[0m \u001b[0mself\u001b[0m\u001b[1;33m.\u001b[0m\u001b[0mfunc\u001b[0m\u001b[1;33m(\u001b[0m\u001b[1;33m*\u001b[0m\u001b[0margs\u001b[0m\u001b[1;33m,\u001b[0m \u001b[1;33m**\u001b[0m\u001b[0mkwargs\u001b[0m\u001b[1;33m)\u001b[0m\u001b[1;33m\u001b[0m\u001b[1;33m\u001b[0m\u001b[0m\n\u001b[0m\u001b[0;32m    353\u001b[0m \u001b[1;33m\u001b[0m\u001b[0m\n\u001b[0;32m    354\u001b[0m     \u001b[1;32mdef\u001b[0m \u001b[0mcall_and_shelve\u001b[0m\u001b[1;33m(\u001b[0m\u001b[0mself\u001b[0m\u001b[1;33m,\u001b[0m \u001b[1;33m*\u001b[0m\u001b[0margs\u001b[0m\u001b[1;33m,\u001b[0m \u001b[1;33m**\u001b[0m\u001b[0mkwargs\u001b[0m\u001b[1;33m)\u001b[0m\u001b[1;33m:\u001b[0m\u001b[1;33m\u001b[0m\u001b[1;33m\u001b[0m\u001b[0m\n",
      "\u001b[1;32m~\\anaconda3\\envs\\learn-env\\lib\\site-packages\\sklearn\\pipeline.py\u001b[0m in \u001b[0;36m_fit_transform_one\u001b[1;34m(transformer, X, y, weight, message_clsname, message, **fit_params)\u001b[0m\n\u001b[0;32m    752\u001b[0m     \u001b[1;32mwith\u001b[0m \u001b[0m_print_elapsed_time\u001b[0m\u001b[1;33m(\u001b[0m\u001b[0mmessage_clsname\u001b[0m\u001b[1;33m,\u001b[0m \u001b[0mmessage\u001b[0m\u001b[1;33m)\u001b[0m\u001b[1;33m:\u001b[0m\u001b[1;33m\u001b[0m\u001b[1;33m\u001b[0m\u001b[0m\n\u001b[0;32m    753\u001b[0m         \u001b[1;32mif\u001b[0m \u001b[0mhasattr\u001b[0m\u001b[1;33m(\u001b[0m\u001b[0mtransformer\u001b[0m\u001b[1;33m,\u001b[0m \u001b[1;34m'fit_transform'\u001b[0m\u001b[1;33m)\u001b[0m\u001b[1;33m:\u001b[0m\u001b[1;33m\u001b[0m\u001b[1;33m\u001b[0m\u001b[0m\n\u001b[1;32m--> 754\u001b[1;33m             \u001b[0mres\u001b[0m \u001b[1;33m=\u001b[0m \u001b[0mtransformer\u001b[0m\u001b[1;33m.\u001b[0m\u001b[0mfit_transform\u001b[0m\u001b[1;33m(\u001b[0m\u001b[0mX\u001b[0m\u001b[1;33m,\u001b[0m \u001b[0my\u001b[0m\u001b[1;33m,\u001b[0m \u001b[1;33m**\u001b[0m\u001b[0mfit_params\u001b[0m\u001b[1;33m)\u001b[0m\u001b[1;33m\u001b[0m\u001b[1;33m\u001b[0m\u001b[0m\n\u001b[0m\u001b[0;32m    755\u001b[0m         \u001b[1;32melse\u001b[0m\u001b[1;33m:\u001b[0m\u001b[1;33m\u001b[0m\u001b[1;33m\u001b[0m\u001b[0m\n\u001b[0;32m    756\u001b[0m             \u001b[0mres\u001b[0m \u001b[1;33m=\u001b[0m \u001b[0mtransformer\u001b[0m\u001b[1;33m.\u001b[0m\u001b[0mfit\u001b[0m\u001b[1;33m(\u001b[0m\u001b[0mX\u001b[0m\u001b[1;33m,\u001b[0m \u001b[0my\u001b[0m\u001b[1;33m,\u001b[0m \u001b[1;33m**\u001b[0m\u001b[0mfit_params\u001b[0m\u001b[1;33m)\u001b[0m\u001b[1;33m.\u001b[0m\u001b[0mtransform\u001b[0m\u001b[1;33m(\u001b[0m\u001b[0mX\u001b[0m\u001b[1;33m)\u001b[0m\u001b[1;33m\u001b[0m\u001b[1;33m\u001b[0m\u001b[0m\n",
      "\u001b[1;32m~\\anaconda3\\envs\\learn-env\\lib\\site-packages\\sklearn\\base.py\u001b[0m in \u001b[0;36mfit_transform\u001b[1;34m(self, X, y, **fit_params)\u001b[0m\n\u001b[0;32m    700\u001b[0m         \u001b[1;32melse\u001b[0m\u001b[1;33m:\u001b[0m\u001b[1;33m\u001b[0m\u001b[1;33m\u001b[0m\u001b[0m\n\u001b[0;32m    701\u001b[0m             \u001b[1;31m# fit method of arity 2 (supervised transformation)\u001b[0m\u001b[1;33m\u001b[0m\u001b[1;33m\u001b[0m\u001b[1;33m\u001b[0m\u001b[0m\n\u001b[1;32m--> 702\u001b[1;33m             \u001b[1;32mreturn\u001b[0m \u001b[0mself\u001b[0m\u001b[1;33m.\u001b[0m\u001b[0mfit\u001b[0m\u001b[1;33m(\u001b[0m\u001b[0mX\u001b[0m\u001b[1;33m,\u001b[0m \u001b[0my\u001b[0m\u001b[1;33m,\u001b[0m \u001b[1;33m**\u001b[0m\u001b[0mfit_params\u001b[0m\u001b[1;33m)\u001b[0m\u001b[1;33m.\u001b[0m\u001b[0mtransform\u001b[0m\u001b[1;33m(\u001b[0m\u001b[0mX\u001b[0m\u001b[1;33m)\u001b[0m\u001b[1;33m\u001b[0m\u001b[1;33m\u001b[0m\u001b[0m\n\u001b[0m\u001b[0;32m    703\u001b[0m \u001b[1;33m\u001b[0m\u001b[0m\n\u001b[0;32m    704\u001b[0m \u001b[1;33m\u001b[0m\u001b[0m\n",
      "\u001b[1;32m~\\anaconda3\\envs\\learn-env\\lib\\site-packages\\gensim\\sklearn_api\\w2vmodel.py\u001b[0m in \u001b[0;36mtransform\u001b[1;34m(self, words)\u001b[0m\n\u001b[0;32m    176\u001b[0m         \u001b[1;32mif\u001b[0m \u001b[0misinstance\u001b[0m\u001b[1;33m(\u001b[0m\u001b[0mwords\u001b[0m\u001b[1;33m,\u001b[0m \u001b[0msix\u001b[0m\u001b[1;33m.\u001b[0m\u001b[0mstring_types\u001b[0m\u001b[1;33m)\u001b[0m\u001b[1;33m:\u001b[0m\u001b[1;33m\u001b[0m\u001b[1;33m\u001b[0m\u001b[0m\n\u001b[0;32m    177\u001b[0m             \u001b[0mwords\u001b[0m \u001b[1;33m=\u001b[0m \u001b[1;33m[\u001b[0m\u001b[0mwords\u001b[0m\u001b[1;33m]\u001b[0m\u001b[1;33m\u001b[0m\u001b[1;33m\u001b[0m\u001b[0m\n\u001b[1;32m--> 178\u001b[1;33m         \u001b[0mvectors\u001b[0m \u001b[1;33m=\u001b[0m \u001b[1;33m[\u001b[0m\u001b[0mself\u001b[0m\u001b[1;33m.\u001b[0m\u001b[0mgensim_model\u001b[0m\u001b[1;33m.\u001b[0m\u001b[0mwv\u001b[0m\u001b[1;33m[\u001b[0m\u001b[0mword\u001b[0m\u001b[1;33m]\u001b[0m \u001b[1;32mfor\u001b[0m \u001b[0mword\u001b[0m \u001b[1;32min\u001b[0m \u001b[0mwords\u001b[0m\u001b[1;33m]\u001b[0m\u001b[1;33m\u001b[0m\u001b[1;33m\u001b[0m\u001b[0m\n\u001b[0m\u001b[0;32m    179\u001b[0m         \u001b[1;32mreturn\u001b[0m \u001b[0mnp\u001b[0m\u001b[1;33m.\u001b[0m\u001b[0mreshape\u001b[0m\u001b[1;33m(\u001b[0m\u001b[0mnp\u001b[0m\u001b[1;33m.\u001b[0m\u001b[0marray\u001b[0m\u001b[1;33m(\u001b[0m\u001b[0mvectors\u001b[0m\u001b[1;33m)\u001b[0m\u001b[1;33m,\u001b[0m \u001b[1;33m(\u001b[0m\u001b[0mlen\u001b[0m\u001b[1;33m(\u001b[0m\u001b[0mwords\u001b[0m\u001b[1;33m)\u001b[0m\u001b[1;33m,\u001b[0m \u001b[0mself\u001b[0m\u001b[1;33m.\u001b[0m\u001b[0msize\u001b[0m\u001b[1;33m)\u001b[0m\u001b[1;33m)\u001b[0m\u001b[1;33m\u001b[0m\u001b[1;33m\u001b[0m\u001b[0m\n\u001b[0;32m    180\u001b[0m \u001b[1;33m\u001b[0m\u001b[0m\n",
      "\u001b[1;32m~\\anaconda3\\envs\\learn-env\\lib\\site-packages\\gensim\\sklearn_api\\w2vmodel.py\u001b[0m in \u001b[0;36m<listcomp>\u001b[1;34m(.0)\u001b[0m\n\u001b[0;32m    176\u001b[0m         \u001b[1;32mif\u001b[0m \u001b[0misinstance\u001b[0m\u001b[1;33m(\u001b[0m\u001b[0mwords\u001b[0m\u001b[1;33m,\u001b[0m \u001b[0msix\u001b[0m\u001b[1;33m.\u001b[0m\u001b[0mstring_types\u001b[0m\u001b[1;33m)\u001b[0m\u001b[1;33m:\u001b[0m\u001b[1;33m\u001b[0m\u001b[1;33m\u001b[0m\u001b[0m\n\u001b[0;32m    177\u001b[0m             \u001b[0mwords\u001b[0m \u001b[1;33m=\u001b[0m \u001b[1;33m[\u001b[0m\u001b[0mwords\u001b[0m\u001b[1;33m]\u001b[0m\u001b[1;33m\u001b[0m\u001b[1;33m\u001b[0m\u001b[0m\n\u001b[1;32m--> 178\u001b[1;33m         \u001b[0mvectors\u001b[0m \u001b[1;33m=\u001b[0m \u001b[1;33m[\u001b[0m\u001b[0mself\u001b[0m\u001b[1;33m.\u001b[0m\u001b[0mgensim_model\u001b[0m\u001b[1;33m.\u001b[0m\u001b[0mwv\u001b[0m\u001b[1;33m[\u001b[0m\u001b[0mword\u001b[0m\u001b[1;33m]\u001b[0m \u001b[1;32mfor\u001b[0m \u001b[0mword\u001b[0m \u001b[1;32min\u001b[0m \u001b[0mwords\u001b[0m\u001b[1;33m]\u001b[0m\u001b[1;33m\u001b[0m\u001b[1;33m\u001b[0m\u001b[0m\n\u001b[0m\u001b[0;32m    179\u001b[0m         \u001b[1;32mreturn\u001b[0m \u001b[0mnp\u001b[0m\u001b[1;33m.\u001b[0m\u001b[0mreshape\u001b[0m\u001b[1;33m(\u001b[0m\u001b[0mnp\u001b[0m\u001b[1;33m.\u001b[0m\u001b[0marray\u001b[0m\u001b[1;33m(\u001b[0m\u001b[0mvectors\u001b[0m\u001b[1;33m)\u001b[0m\u001b[1;33m,\u001b[0m \u001b[1;33m(\u001b[0m\u001b[0mlen\u001b[0m\u001b[1;33m(\u001b[0m\u001b[0mwords\u001b[0m\u001b[1;33m)\u001b[0m\u001b[1;33m,\u001b[0m \u001b[0mself\u001b[0m\u001b[1;33m.\u001b[0m\u001b[0msize\u001b[0m\u001b[1;33m)\u001b[0m\u001b[1;33m)\u001b[0m\u001b[1;33m\u001b[0m\u001b[1;33m\u001b[0m\u001b[0m\n\u001b[0;32m    180\u001b[0m \u001b[1;33m\u001b[0m\u001b[0m\n",
      "\u001b[1;32m~\\anaconda3\\envs\\learn-env\\lib\\site-packages\\gensim\\models\\keyedvectors.py\u001b[0m in \u001b[0;36m__getitem__\u001b[1;34m(self, entities)\u001b[0m\n\u001b[0;32m    353\u001b[0m             \u001b[1;32mreturn\u001b[0m \u001b[0mself\u001b[0m\u001b[1;33m.\u001b[0m\u001b[0mget_vector\u001b[0m\u001b[1;33m(\u001b[0m\u001b[0mentities\u001b[0m\u001b[1;33m)\u001b[0m\u001b[1;33m\u001b[0m\u001b[1;33m\u001b[0m\u001b[0m\n\u001b[0;32m    354\u001b[0m \u001b[1;33m\u001b[0m\u001b[0m\n\u001b[1;32m--> 355\u001b[1;33m         \u001b[1;32mreturn\u001b[0m \u001b[0mvstack\u001b[0m\u001b[1;33m(\u001b[0m\u001b[1;33m[\u001b[0m\u001b[0mself\u001b[0m\u001b[1;33m.\u001b[0m\u001b[0mget_vector\u001b[0m\u001b[1;33m(\u001b[0m\u001b[0mentity\u001b[0m\u001b[1;33m)\u001b[0m \u001b[1;32mfor\u001b[0m \u001b[0mentity\u001b[0m \u001b[1;32min\u001b[0m \u001b[0mentities\u001b[0m\u001b[1;33m]\u001b[0m\u001b[1;33m)\u001b[0m\u001b[1;33m\u001b[0m\u001b[1;33m\u001b[0m\u001b[0m\n\u001b[0m\u001b[0;32m    356\u001b[0m \u001b[1;33m\u001b[0m\u001b[0m\n\u001b[0;32m    357\u001b[0m     \u001b[1;32mdef\u001b[0m \u001b[0m__contains__\u001b[0m\u001b[1;33m(\u001b[0m\u001b[0mself\u001b[0m\u001b[1;33m,\u001b[0m \u001b[0mentity\u001b[0m\u001b[1;33m)\u001b[0m\u001b[1;33m:\u001b[0m\u001b[1;33m\u001b[0m\u001b[1;33m\u001b[0m\u001b[0m\n",
      "\u001b[1;32m~\\anaconda3\\envs\\learn-env\\lib\\site-packages\\gensim\\models\\keyedvectors.py\u001b[0m in \u001b[0;36m<listcomp>\u001b[1;34m(.0)\u001b[0m\n\u001b[0;32m    353\u001b[0m             \u001b[1;32mreturn\u001b[0m \u001b[0mself\u001b[0m\u001b[1;33m.\u001b[0m\u001b[0mget_vector\u001b[0m\u001b[1;33m(\u001b[0m\u001b[0mentities\u001b[0m\u001b[1;33m)\u001b[0m\u001b[1;33m\u001b[0m\u001b[1;33m\u001b[0m\u001b[0m\n\u001b[0;32m    354\u001b[0m \u001b[1;33m\u001b[0m\u001b[0m\n\u001b[1;32m--> 355\u001b[1;33m         \u001b[1;32mreturn\u001b[0m \u001b[0mvstack\u001b[0m\u001b[1;33m(\u001b[0m\u001b[1;33m[\u001b[0m\u001b[0mself\u001b[0m\u001b[1;33m.\u001b[0m\u001b[0mget_vector\u001b[0m\u001b[1;33m(\u001b[0m\u001b[0mentity\u001b[0m\u001b[1;33m)\u001b[0m \u001b[1;32mfor\u001b[0m \u001b[0mentity\u001b[0m \u001b[1;32min\u001b[0m \u001b[0mentities\u001b[0m\u001b[1;33m]\u001b[0m\u001b[1;33m)\u001b[0m\u001b[1;33m\u001b[0m\u001b[1;33m\u001b[0m\u001b[0m\n\u001b[0m\u001b[0;32m    356\u001b[0m \u001b[1;33m\u001b[0m\u001b[0m\n\u001b[0;32m    357\u001b[0m     \u001b[1;32mdef\u001b[0m \u001b[0m__contains__\u001b[0m\u001b[1;33m(\u001b[0m\u001b[0mself\u001b[0m\u001b[1;33m,\u001b[0m \u001b[0mentity\u001b[0m\u001b[1;33m)\u001b[0m\u001b[1;33m:\u001b[0m\u001b[1;33m\u001b[0m\u001b[1;33m\u001b[0m\u001b[0m\n",
      "\u001b[1;32m~\\anaconda3\\envs\\learn-env\\lib\\site-packages\\gensim\\models\\keyedvectors.py\u001b[0m in \u001b[0;36mget_vector\u001b[1;34m(self, word)\u001b[0m\n\u001b[0;32m    469\u001b[0m \u001b[1;33m\u001b[0m\u001b[0m\n\u001b[0;32m    470\u001b[0m     \u001b[1;32mdef\u001b[0m \u001b[0mget_vector\u001b[0m\u001b[1;33m(\u001b[0m\u001b[0mself\u001b[0m\u001b[1;33m,\u001b[0m \u001b[0mword\u001b[0m\u001b[1;33m)\u001b[0m\u001b[1;33m:\u001b[0m\u001b[1;33m\u001b[0m\u001b[1;33m\u001b[0m\u001b[0m\n\u001b[1;32m--> 471\u001b[1;33m         \u001b[1;32mreturn\u001b[0m \u001b[0mself\u001b[0m\u001b[1;33m.\u001b[0m\u001b[0mword_vec\u001b[0m\u001b[1;33m(\u001b[0m\u001b[0mword\u001b[0m\u001b[1;33m)\u001b[0m\u001b[1;33m\u001b[0m\u001b[1;33m\u001b[0m\u001b[0m\n\u001b[0m\u001b[0;32m    472\u001b[0m \u001b[1;33m\u001b[0m\u001b[0m\n\u001b[0;32m    473\u001b[0m     \u001b[1;32mdef\u001b[0m \u001b[0mwords_closer_than\u001b[0m\u001b[1;33m(\u001b[0m\u001b[0mself\u001b[0m\u001b[1;33m,\u001b[0m \u001b[0mw1\u001b[0m\u001b[1;33m,\u001b[0m \u001b[0mw2\u001b[0m\u001b[1;33m)\u001b[0m\u001b[1;33m:\u001b[0m\u001b[1;33m\u001b[0m\u001b[1;33m\u001b[0m\u001b[0m\n",
      "\u001b[1;32m~\\anaconda3\\envs\\learn-env\\lib\\site-packages\\gensim\\models\\keyedvectors.py\u001b[0m in \u001b[0;36mword_vec\u001b[1;34m(self, word, use_norm)\u001b[0m\n\u001b[0;32m    466\u001b[0m             \u001b[1;32mreturn\u001b[0m \u001b[0mresult\u001b[0m\u001b[1;33m\u001b[0m\u001b[1;33m\u001b[0m\u001b[0m\n\u001b[0;32m    467\u001b[0m         \u001b[1;32melse\u001b[0m\u001b[1;33m:\u001b[0m\u001b[1;33m\u001b[0m\u001b[1;33m\u001b[0m\u001b[0m\n\u001b[1;32m--> 468\u001b[1;33m             \u001b[1;32mraise\u001b[0m \u001b[0mKeyError\u001b[0m\u001b[1;33m(\u001b[0m\u001b[1;34m\"word '%s' not in vocabulary\"\u001b[0m \u001b[1;33m%\u001b[0m \u001b[0mword\u001b[0m\u001b[1;33m)\u001b[0m\u001b[1;33m\u001b[0m\u001b[1;33m\u001b[0m\u001b[0m\n\u001b[0m\u001b[0;32m    469\u001b[0m \u001b[1;33m\u001b[0m\u001b[0m\n\u001b[0;32m    470\u001b[0m     \u001b[1;32mdef\u001b[0m \u001b[0mget_vector\u001b[0m\u001b[1;33m(\u001b[0m\u001b[0mself\u001b[0m\u001b[1;33m,\u001b[0m \u001b[0mword\u001b[0m\u001b[1;33m)\u001b[0m\u001b[1;33m:\u001b[0m\u001b[1;33m\u001b[0m\u001b[1;33m\u001b[0m\u001b[0m\n",
      "\u001b[1;31mKeyError\u001b[0m: \"word 'sorta' not in vocabulary\""
     ]
    }
   ],
   "source": [
    "return_classification_report(pipe_lr4, tokenize(X_train), y_train, tokenize(X_test), y_test)"
   ]
  },
  {
   "cell_type": "markdown",
   "metadata": {},
   "source": [
    "Word embeddings performed significantly worse than TF-IDF and Count Vectorizer, with an accuracy close to that of random guessing."
   ]
  },
  {
   "cell_type": "code",
   "execution_count": 16,
   "metadata": {},
   "outputs": [],
   "source": [
    "pipe_rf3 = Pipeline([('t_proc', Word2Vec(wv, 200)),\n",
    "                 (\"sm\", SMOTE(random_state=random_state)),\n",
    "                     ('to_dense', DenseTransformer()),\n",
    "                     ('clf', RandomForestClassifier(max_depth=20))])"
   ]
  },
  {
   "cell_type": "code",
   "execution_count": 13,
   "metadata": {},
   "outputs": [
    {
     "data": {
      "text/html": [
       "<div>\n",
       "<style scoped>\n",
       "    .dataframe tbody tr th:only-of-type {\n",
       "        vertical-align: middle;\n",
       "    }\n",
       "\n",
       "    .dataframe tbody tr th {\n",
       "        vertical-align: top;\n",
       "    }\n",
       "\n",
       "    .dataframe thead tr th {\n",
       "        text-align: left;\n",
       "    }\n",
       "</style>\n",
       "<table border=\"1\" class=\"dataframe\">\n",
       "  <thead>\n",
       "    <tr>\n",
       "      <th></th>\n",
       "      <th colspan=\"4\" halign=\"left\">Train Scores RandomForestClassifier(max_depth=20</th>\n",
       "      <th colspan=\"4\" halign=\"left\">Test Scores RandomForestClassifier(max_depth=20</th>\n",
       "    </tr>\n",
       "    <tr>\n",
       "      <th></th>\n",
       "      <th>precision</th>\n",
       "      <th>recall</th>\n",
       "      <th>f1-score</th>\n",
       "      <th>support</th>\n",
       "      <th>precision</th>\n",
       "      <th>recall</th>\n",
       "      <th>f1-score</th>\n",
       "      <th>support</th>\n",
       "    </tr>\n",
       "  </thead>\n",
       "  <tbody>\n",
       "    <tr>\n",
       "      <th>D</th>\n",
       "      <td>1.00</td>\n",
       "      <td>0.90</td>\n",
       "      <td>0.95</td>\n",
       "      <td>121108.00</td>\n",
       "      <td>0.78</td>\n",
       "      <td>0.72</td>\n",
       "      <td>0.75</td>\n",
       "      <td>182339.00</td>\n",
       "    </tr>\n",
       "    <tr>\n",
       "      <th>R</th>\n",
       "      <td>0.77</td>\n",
       "      <td>1.00</td>\n",
       "      <td>0.87</td>\n",
       "      <td>39699.00</td>\n",
       "      <td>0.30</td>\n",
       "      <td>0.37</td>\n",
       "      <td>0.33</td>\n",
       "      <td>58872.00</td>\n",
       "    </tr>\n",
       "    <tr>\n",
       "      <th>accuracy</th>\n",
       "      <td>0.93</td>\n",
       "      <td>0.93</td>\n",
       "      <td>0.93</td>\n",
       "      <td>0.93</td>\n",
       "      <td>0.63</td>\n",
       "      <td>0.63</td>\n",
       "      <td>0.63</td>\n",
       "      <td>0.63</td>\n",
       "    </tr>\n",
       "    <tr>\n",
       "      <th>macro avg</th>\n",
       "      <td>0.88</td>\n",
       "      <td>0.95</td>\n",
       "      <td>0.91</td>\n",
       "      <td>160807.00</td>\n",
       "      <td>0.54</td>\n",
       "      <td>0.54</td>\n",
       "      <td>0.54</td>\n",
       "      <td>241211.00</td>\n",
       "    </tr>\n",
       "    <tr>\n",
       "      <th>weighted avg</th>\n",
       "      <td>0.94</td>\n",
       "      <td>0.93</td>\n",
       "      <td>0.93</td>\n",
       "      <td>160807.00</td>\n",
       "      <td>0.66</td>\n",
       "      <td>0.63</td>\n",
       "      <td>0.65</td>\n",
       "      <td>241211.00</td>\n",
       "    </tr>\n",
       "  </tbody>\n",
       "</table>\n",
       "</div>"
      ],
      "text/plain": [
       "             Train Scores RandomForestClassifier(max_depth=20                  \\\n",
       "                                                    precision recall f1-score   \n",
       "D                                                        1.00   0.90     0.95   \n",
       "R                                                        0.77   1.00     0.87   \n",
       "accuracy                                                 0.93   0.93     0.93   \n",
       "macro avg                                                0.88   0.95     0.91   \n",
       "weighted avg                                             0.94   0.93     0.93   \n",
       "\n",
       "                        Test Scores RandomForestClassifier(max_depth=20  \\\n",
       "                support                                       precision   \n",
       "D             121108.00                                            0.78   \n",
       "R              39699.00                                            0.30   \n",
       "accuracy           0.93                                            0.63   \n",
       "macro avg     160807.00                                            0.54   \n",
       "weighted avg  160807.00                                            0.66   \n",
       "\n",
       "                                         \n",
       "             recall f1-score    support  \n",
       "D              0.72     0.75  182339.00  \n",
       "R              0.37     0.33   58872.00  \n",
       "accuracy       0.63     0.63       0.63  \n",
       "macro avg      0.54     0.54  241211.00  \n",
       "weighted avg   0.63     0.65  241211.00  "
      ]
     },
     "execution_count": 13,
     "metadata": {},
     "output_type": "execute_result"
    }
   ],
   "source": [
    "return_classification_report(pipe_rf3, X_train, y_train, X_test, y_test)"
   ]
  },
  {
   "cell_type": "code",
   "execution_count": 106,
   "metadata": {},
   "outputs": [],
   "source": [
    "pipe_rf4 = Pipeline([('t_proc', Word2Vec(wv, 200)),\n",
    "                 (\"sm\", SMOTE(random_state=random_state)),\n",
    "                     ('to_dense', DenseTransformer()),\n",
    "                     ('clf', RandomForestClassifier(max_depth=15))])"
   ]
  },
  {
   "cell_type": "code",
   "execution_count": 107,
   "metadata": {},
   "outputs": [
    {
     "data": {
      "text/html": [
       "<div>\n",
       "<style scoped>\n",
       "    .dataframe tbody tr th:only-of-type {\n",
       "        vertical-align: middle;\n",
       "    }\n",
       "\n",
       "    .dataframe tbody tr th {\n",
       "        vertical-align: top;\n",
       "    }\n",
       "\n",
       "    .dataframe thead tr th {\n",
       "        text-align: left;\n",
       "    }\n",
       "</style>\n",
       "<table border=\"1\" class=\"dataframe\">\n",
       "  <thead>\n",
       "    <tr>\n",
       "      <th></th>\n",
       "      <th colspan=\"4\" halign=\"left\">Train Scores RandomForestClassifier(max_depth=15</th>\n",
       "      <th colspan=\"4\" halign=\"left\">Test Scores RandomForestClassifier(max_depth=15</th>\n",
       "    </tr>\n",
       "    <tr>\n",
       "      <th></th>\n",
       "      <th>precision</th>\n",
       "      <th>recall</th>\n",
       "      <th>f1-score</th>\n",
       "      <th>support</th>\n",
       "      <th>precision</th>\n",
       "      <th>recall</th>\n",
       "      <th>f1-score</th>\n",
       "      <th>support</th>\n",
       "    </tr>\n",
       "  </thead>\n",
       "  <tbody>\n",
       "    <tr>\n",
       "      <th>D</th>\n",
       "      <td>0.97</td>\n",
       "      <td>0.74</td>\n",
       "      <td>0.84</td>\n",
       "      <td>212231.00</td>\n",
       "      <td>0.79</td>\n",
       "      <td>0.63</td>\n",
       "      <td>0.70</td>\n",
       "      <td>91216.00</td>\n",
       "    </tr>\n",
       "    <tr>\n",
       "      <th>R</th>\n",
       "      <td>0.54</td>\n",
       "      <td>0.92</td>\n",
       "      <td>0.68</td>\n",
       "      <td>69181.00</td>\n",
       "      <td>0.29</td>\n",
       "      <td>0.47</td>\n",
       "      <td>0.36</td>\n",
       "      <td>29390.00</td>\n",
       "    </tr>\n",
       "    <tr>\n",
       "      <th>accuracy</th>\n",
       "      <td>0.79</td>\n",
       "      <td>0.79</td>\n",
       "      <td>0.79</td>\n",
       "      <td>0.79</td>\n",
       "      <td>0.59</td>\n",
       "      <td>0.59</td>\n",
       "      <td>0.59</td>\n",
       "      <td>0.59</td>\n",
       "    </tr>\n",
       "    <tr>\n",
       "      <th>macro avg</th>\n",
       "      <td>0.75</td>\n",
       "      <td>0.83</td>\n",
       "      <td>0.76</td>\n",
       "      <td>281412.00</td>\n",
       "      <td>0.54</td>\n",
       "      <td>0.55</td>\n",
       "      <td>0.53</td>\n",
       "      <td>120606.00</td>\n",
       "    </tr>\n",
       "    <tr>\n",
       "      <th>weighted avg</th>\n",
       "      <td>0.86</td>\n",
       "      <td>0.79</td>\n",
       "      <td>0.80</td>\n",
       "      <td>281412.00</td>\n",
       "      <td>0.67</td>\n",
       "      <td>0.59</td>\n",
       "      <td>0.62</td>\n",
       "      <td>120606.00</td>\n",
       "    </tr>\n",
       "  </tbody>\n",
       "</table>\n",
       "</div>"
      ],
      "text/plain": [
       "             Train Scores RandomForestClassifier(max_depth=15                  \\\n",
       "                                                    precision recall f1-score   \n",
       "D                                                        0.97   0.74     0.84   \n",
       "R                                                        0.54   0.92     0.68   \n",
       "accuracy                                                 0.79   0.79     0.79   \n",
       "macro avg                                                0.75   0.83     0.76   \n",
       "weighted avg                                             0.86   0.79     0.80   \n",
       "\n",
       "                        Test Scores RandomForestClassifier(max_depth=15  \\\n",
       "                support                                       precision   \n",
       "D             212231.00                                            0.79   \n",
       "R              69181.00                                            0.29   \n",
       "accuracy           0.79                                            0.59   \n",
       "macro avg     281412.00                                            0.54   \n",
       "weighted avg  281412.00                                            0.67   \n",
       "\n",
       "                                         \n",
       "             recall f1-score    support  \n",
       "D              0.63     0.70   91216.00  \n",
       "R              0.47     0.36   29390.00  \n",
       "accuracy       0.59     0.59       0.59  \n",
       "macro avg      0.55     0.53  120606.00  \n",
       "weighted avg   0.59     0.62  120606.00  "
      ]
     },
     "execution_count": 107,
     "metadata": {},
     "output_type": "execute_result"
    }
   ],
   "source": [
    "return_classification_report(pipe_rf4, X_train, y_train, X_test, y_test)"
   ]
  },
  {
   "cell_type": "markdown",
   "metadata": {},
   "source": [
    "#### Document Embeddings"
   ]
  },
  {
   "cell_type": "code",
   "execution_count": 59,
   "metadata": {},
   "outputs": [],
   "source": [
    "pipe_lr5 = Pipeline([('t_proc', D2VTransformer(min_count=40, size=5)),\n",
    "                     (\"sm\", SMOTE(random_state=random_state)),\n",
    "                 ('clf', LogisticRegression())])"
   ]
  },
  {
   "cell_type": "code",
   "execution_count": 60,
   "metadata": {
    "scrolled": true
   },
   "outputs": [
    {
     "ename": "RuntimeError",
     "evalue": "you must first build vocabulary before training the model",
     "output_type": "error",
     "traceback": [
      "\u001b[1;31m---------------------------------------------------------------------------\u001b[0m",
      "\u001b[1;31mRuntimeError\u001b[0m                              Traceback (most recent call last)",
      "\u001b[1;32m<ipython-input-60-8e7a50dad562>\u001b[0m in \u001b[0;36m<module>\u001b[1;34m\u001b[0m\n\u001b[1;32m----> 1\u001b[1;33m \u001b[0mreturn_classification_report\u001b[0m\u001b[1;33m(\u001b[0m\u001b[0mpipe_lr5\u001b[0m\u001b[1;33m,\u001b[0m \u001b[0mnp\u001b[0m\u001b[1;33m.\u001b[0m\u001b[0marray\u001b[0m\u001b[1;33m(\u001b[0m\u001b[0mX_train\u001b[0m\u001b[1;33m)\u001b[0m\u001b[1;33m.\u001b[0m\u001b[0mreshape\u001b[0m\u001b[1;33m(\u001b[0m\u001b[1;36m160807\u001b[0m\u001b[1;33m,\u001b[0m \u001b[1;36m1\u001b[0m\u001b[1;33m)\u001b[0m\u001b[1;33m,\u001b[0m \u001b[0mnp\u001b[0m\u001b[1;33m.\u001b[0m\u001b[0marray\u001b[0m\u001b[1;33m(\u001b[0m\u001b[0my_train\u001b[0m\u001b[1;33m)\u001b[0m\u001b[1;33m.\u001b[0m\u001b[0mreshape\u001b[0m\u001b[1;33m(\u001b[0m\u001b[1;36m160807\u001b[0m\u001b[1;33m,\u001b[0m \u001b[1;36m1\u001b[0m\u001b[1;33m)\u001b[0m\u001b[1;33m,\u001b[0m \u001b[0mnp\u001b[0m\u001b[1;33m.\u001b[0m\u001b[0marray\u001b[0m\u001b[1;33m(\u001b[0m\u001b[0mX_test\u001b[0m\u001b[1;33m)\u001b[0m\u001b[1;33m.\u001b[0m\u001b[0mreshape\u001b[0m\u001b[1;33m(\u001b[0m\u001b[1;36m241211\u001b[0m\u001b[1;33m,\u001b[0m \u001b[1;36m1\u001b[0m\u001b[1;33m)\u001b[0m\u001b[1;33m,\u001b[0m \u001b[0mnp\u001b[0m\u001b[1;33m.\u001b[0m\u001b[0marray\u001b[0m\u001b[1;33m(\u001b[0m\u001b[0my_test\u001b[0m\u001b[1;33m)\u001b[0m\u001b[1;33m.\u001b[0m\u001b[0mreshape\u001b[0m\u001b[1;33m(\u001b[0m\u001b[1;36m241211\u001b[0m\u001b[1;33m,\u001b[0m \u001b[1;36m1\u001b[0m\u001b[1;33m)\u001b[0m\u001b[1;33m)\u001b[0m\u001b[1;33m\u001b[0m\u001b[1;33m\u001b[0m\u001b[0m\n\u001b[0m",
      "\u001b[1;32m<ipython-input-7-c166d9859a5a>\u001b[0m in \u001b[0;36mreturn_classification_report\u001b[1;34m(pipeline, X_train, y_train, X_test, y_test)\u001b[0m\n\u001b[0;32m      1\u001b[0m \u001b[1;32mdef\u001b[0m \u001b[0mreturn_classification_report\u001b[0m\u001b[1;33m(\u001b[0m\u001b[0mpipeline\u001b[0m\u001b[1;33m,\u001b[0m \u001b[0mX_train\u001b[0m\u001b[1;33m,\u001b[0m \u001b[0my_train\u001b[0m\u001b[1;33m,\u001b[0m \u001b[0mX_test\u001b[0m\u001b[1;33m,\u001b[0m \u001b[0my_test\u001b[0m\u001b[1;33m)\u001b[0m\u001b[1;33m:\u001b[0m\u001b[1;33m\u001b[0m\u001b[1;33m\u001b[0m\u001b[0m\n\u001b[1;32m----> 2\u001b[1;33m     \u001b[0mpipeline\u001b[0m\u001b[1;33m.\u001b[0m\u001b[0mfit\u001b[0m\u001b[1;33m(\u001b[0m\u001b[0mX_train\u001b[0m\u001b[1;33m,\u001b[0m \u001b[0my_train\u001b[0m\u001b[1;33m)\u001b[0m\u001b[1;33m\u001b[0m\u001b[1;33m\u001b[0m\u001b[0m\n\u001b[0m\u001b[0;32m      3\u001b[0m     \u001b[0my_train_preds\u001b[0m \u001b[1;33m=\u001b[0m \u001b[0mpipeline\u001b[0m\u001b[1;33m.\u001b[0m\u001b[0mpredict\u001b[0m\u001b[1;33m(\u001b[0m\u001b[0mX_train\u001b[0m\u001b[1;33m)\u001b[0m\u001b[1;33m\u001b[0m\u001b[1;33m\u001b[0m\u001b[0m\n\u001b[0;32m      4\u001b[0m     \u001b[0my_test_preds\u001b[0m \u001b[1;33m=\u001b[0m \u001b[0mpipeline\u001b[0m\u001b[1;33m.\u001b[0m\u001b[0mpredict\u001b[0m\u001b[1;33m(\u001b[0m\u001b[0mX_test\u001b[0m\u001b[1;33m)\u001b[0m\u001b[1;33m\u001b[0m\u001b[1;33m\u001b[0m\u001b[0m\n\u001b[0;32m      5\u001b[0m     \u001b[0mtrain\u001b[0m \u001b[1;33m=\u001b[0m \u001b[0mpd\u001b[0m\u001b[1;33m.\u001b[0m\u001b[0mDataFrame\u001b[0m\u001b[1;33m(\u001b[0m\u001b[0mclassification_report\u001b[0m\u001b[1;33m(\u001b[0m\u001b[0my_train\u001b[0m\u001b[1;33m,\u001b[0m \u001b[0my_train_preds\u001b[0m\u001b[1;33m,\u001b[0m \u001b[0moutput_dict\u001b[0m\u001b[1;33m=\u001b[0m\u001b[1;32mTrue\u001b[0m\u001b[1;33m)\u001b[0m\u001b[1;33m)\u001b[0m\u001b[1;33m.\u001b[0m\u001b[0mtranspose\u001b[0m\u001b[1;33m(\u001b[0m\u001b[1;33m)\u001b[0m\u001b[1;33m.\u001b[0m\u001b[0mapply\u001b[0m\u001b[1;33m(\u001b[0m\u001b[1;32mlambda\u001b[0m \u001b[0mx\u001b[0m\u001b[1;33m:\u001b[0m \u001b[0mround\u001b[0m\u001b[1;33m(\u001b[0m\u001b[0mx\u001b[0m\u001b[1;33m,\u001b[0m \u001b[1;36m2\u001b[0m\u001b[1;33m)\u001b[0m\u001b[1;33m)\u001b[0m\u001b[1;33m\u001b[0m\u001b[1;33m\u001b[0m\u001b[0m\n",
      "\u001b[1;32m~\\AppData\\Roaming\\Python\\Python36\\site-packages\\imblearn\\pipeline.py\u001b[0m in \u001b[0;36mfit\u001b[1;34m(self, X, y, **fit_params)\u001b[0m\n\u001b[0;32m    275\u001b[0m             \u001b[0mThis\u001b[0m \u001b[0mestimator\u001b[0m\u001b[1;33m.\u001b[0m\u001b[1;33m\u001b[0m\u001b[1;33m\u001b[0m\u001b[0m\n\u001b[0;32m    276\u001b[0m         \"\"\"\n\u001b[1;32m--> 277\u001b[1;33m         \u001b[0mXt\u001b[0m\u001b[1;33m,\u001b[0m \u001b[0myt\u001b[0m\u001b[1;33m,\u001b[0m \u001b[0mfit_params\u001b[0m \u001b[1;33m=\u001b[0m \u001b[0mself\u001b[0m\u001b[1;33m.\u001b[0m\u001b[0m_fit\u001b[0m\u001b[1;33m(\u001b[0m\u001b[0mX\u001b[0m\u001b[1;33m,\u001b[0m \u001b[0my\u001b[0m\u001b[1;33m,\u001b[0m \u001b[1;33m**\u001b[0m\u001b[0mfit_params\u001b[0m\u001b[1;33m)\u001b[0m\u001b[1;33m\u001b[0m\u001b[1;33m\u001b[0m\u001b[0m\n\u001b[0m\u001b[0;32m    278\u001b[0m         with _print_elapsed_time('Pipeline',\n\u001b[0;32m    279\u001b[0m                                  self._log_message(len(self.steps) - 1)):\n",
      "\u001b[1;32m~\\AppData\\Roaming\\Python\\Python36\\site-packages\\imblearn\\pipeline.py\u001b[0m in \u001b[0;36m_fit\u001b[1;34m(self, X, y, **fit_params)\u001b[0m\n\u001b[0;32m    231\u001b[0m                     \u001b[0mmessage_clsname\u001b[0m\u001b[1;33m=\u001b[0m\u001b[1;34m'Pipeline'\u001b[0m\u001b[1;33m,\u001b[0m\u001b[1;33m\u001b[0m\u001b[1;33m\u001b[0m\u001b[0m\n\u001b[0;32m    232\u001b[0m                     \u001b[0mmessage\u001b[0m\u001b[1;33m=\u001b[0m\u001b[0mself\u001b[0m\u001b[1;33m.\u001b[0m\u001b[0m_log_message\u001b[0m\u001b[1;33m(\u001b[0m\u001b[0mstep_idx\u001b[0m\u001b[1;33m)\u001b[0m\u001b[1;33m,\u001b[0m\u001b[1;33m\u001b[0m\u001b[1;33m\u001b[0m\u001b[0m\n\u001b[1;32m--> 233\u001b[1;33m                     \u001b[1;33m**\u001b[0m\u001b[0mfit_params_steps\u001b[0m\u001b[1;33m[\u001b[0m\u001b[0mname\u001b[0m\u001b[1;33m]\u001b[0m\u001b[1;33m\u001b[0m\u001b[1;33m\u001b[0m\u001b[0m\n\u001b[0m\u001b[0;32m    234\u001b[0m                 )\n\u001b[0;32m    235\u001b[0m             \u001b[1;32melif\u001b[0m \u001b[0mhasattr\u001b[0m\u001b[1;33m(\u001b[0m\u001b[0mcloned_transformer\u001b[0m\u001b[1;33m,\u001b[0m \u001b[1;34m\"fit_resample\"\u001b[0m\u001b[1;33m)\u001b[0m\u001b[1;33m:\u001b[0m\u001b[1;33m\u001b[0m\u001b[1;33m\u001b[0m\u001b[0m\n",
      "\u001b[1;32m~\\anaconda3\\envs\\learn-env\\lib\\site-packages\\joblib\\memory.py\u001b[0m in \u001b[0;36m__call__\u001b[1;34m(self, *args, **kwargs)\u001b[0m\n\u001b[0;32m    350\u001b[0m \u001b[1;33m\u001b[0m\u001b[0m\n\u001b[0;32m    351\u001b[0m     \u001b[1;32mdef\u001b[0m \u001b[0m__call__\u001b[0m\u001b[1;33m(\u001b[0m\u001b[0mself\u001b[0m\u001b[1;33m,\u001b[0m \u001b[1;33m*\u001b[0m\u001b[0margs\u001b[0m\u001b[1;33m,\u001b[0m \u001b[1;33m**\u001b[0m\u001b[0mkwargs\u001b[0m\u001b[1;33m)\u001b[0m\u001b[1;33m:\u001b[0m\u001b[1;33m\u001b[0m\u001b[1;33m\u001b[0m\u001b[0m\n\u001b[1;32m--> 352\u001b[1;33m         \u001b[1;32mreturn\u001b[0m \u001b[0mself\u001b[0m\u001b[1;33m.\u001b[0m\u001b[0mfunc\u001b[0m\u001b[1;33m(\u001b[0m\u001b[1;33m*\u001b[0m\u001b[0margs\u001b[0m\u001b[1;33m,\u001b[0m \u001b[1;33m**\u001b[0m\u001b[0mkwargs\u001b[0m\u001b[1;33m)\u001b[0m\u001b[1;33m\u001b[0m\u001b[1;33m\u001b[0m\u001b[0m\n\u001b[0m\u001b[0;32m    353\u001b[0m \u001b[1;33m\u001b[0m\u001b[0m\n\u001b[0;32m    354\u001b[0m     \u001b[1;32mdef\u001b[0m \u001b[0mcall_and_shelve\u001b[0m\u001b[1;33m(\u001b[0m\u001b[0mself\u001b[0m\u001b[1;33m,\u001b[0m \u001b[1;33m*\u001b[0m\u001b[0margs\u001b[0m\u001b[1;33m,\u001b[0m \u001b[1;33m**\u001b[0m\u001b[0mkwargs\u001b[0m\u001b[1;33m)\u001b[0m\u001b[1;33m:\u001b[0m\u001b[1;33m\u001b[0m\u001b[1;33m\u001b[0m\u001b[0m\n",
      "\u001b[1;32m~\\anaconda3\\envs\\learn-env\\lib\\site-packages\\sklearn\\pipeline.py\u001b[0m in \u001b[0;36m_fit_transform_one\u001b[1;34m(transformer, X, y, weight, message_clsname, message, **fit_params)\u001b[0m\n\u001b[0;32m    752\u001b[0m     \u001b[1;32mwith\u001b[0m \u001b[0m_print_elapsed_time\u001b[0m\u001b[1;33m(\u001b[0m\u001b[0mmessage_clsname\u001b[0m\u001b[1;33m,\u001b[0m \u001b[0mmessage\u001b[0m\u001b[1;33m)\u001b[0m\u001b[1;33m:\u001b[0m\u001b[1;33m\u001b[0m\u001b[1;33m\u001b[0m\u001b[0m\n\u001b[0;32m    753\u001b[0m         \u001b[1;32mif\u001b[0m \u001b[0mhasattr\u001b[0m\u001b[1;33m(\u001b[0m\u001b[0mtransformer\u001b[0m\u001b[1;33m,\u001b[0m \u001b[1;34m'fit_transform'\u001b[0m\u001b[1;33m)\u001b[0m\u001b[1;33m:\u001b[0m\u001b[1;33m\u001b[0m\u001b[1;33m\u001b[0m\u001b[0m\n\u001b[1;32m--> 754\u001b[1;33m             \u001b[0mres\u001b[0m \u001b[1;33m=\u001b[0m \u001b[0mtransformer\u001b[0m\u001b[1;33m.\u001b[0m\u001b[0mfit_transform\u001b[0m\u001b[1;33m(\u001b[0m\u001b[0mX\u001b[0m\u001b[1;33m,\u001b[0m \u001b[0my\u001b[0m\u001b[1;33m,\u001b[0m \u001b[1;33m**\u001b[0m\u001b[0mfit_params\u001b[0m\u001b[1;33m)\u001b[0m\u001b[1;33m\u001b[0m\u001b[1;33m\u001b[0m\u001b[0m\n\u001b[0m\u001b[0;32m    755\u001b[0m         \u001b[1;32melse\u001b[0m\u001b[1;33m:\u001b[0m\u001b[1;33m\u001b[0m\u001b[1;33m\u001b[0m\u001b[0m\n\u001b[0;32m    756\u001b[0m             \u001b[0mres\u001b[0m \u001b[1;33m=\u001b[0m \u001b[0mtransformer\u001b[0m\u001b[1;33m.\u001b[0m\u001b[0mfit\u001b[0m\u001b[1;33m(\u001b[0m\u001b[0mX\u001b[0m\u001b[1;33m,\u001b[0m \u001b[0my\u001b[0m\u001b[1;33m,\u001b[0m \u001b[1;33m**\u001b[0m\u001b[0mfit_params\u001b[0m\u001b[1;33m)\u001b[0m\u001b[1;33m.\u001b[0m\u001b[0mtransform\u001b[0m\u001b[1;33m(\u001b[0m\u001b[0mX\u001b[0m\u001b[1;33m)\u001b[0m\u001b[1;33m\u001b[0m\u001b[1;33m\u001b[0m\u001b[0m\n",
      "\u001b[1;32m~\\anaconda3\\envs\\learn-env\\lib\\site-packages\\sklearn\\base.py\u001b[0m in \u001b[0;36mfit_transform\u001b[1;34m(self, X, y, **fit_params)\u001b[0m\n\u001b[0;32m    700\u001b[0m         \u001b[1;32melse\u001b[0m\u001b[1;33m:\u001b[0m\u001b[1;33m\u001b[0m\u001b[1;33m\u001b[0m\u001b[0m\n\u001b[0;32m    701\u001b[0m             \u001b[1;31m# fit method of arity 2 (supervised transformation)\u001b[0m\u001b[1;33m\u001b[0m\u001b[1;33m\u001b[0m\u001b[1;33m\u001b[0m\u001b[0m\n\u001b[1;32m--> 702\u001b[1;33m             \u001b[1;32mreturn\u001b[0m \u001b[0mself\u001b[0m\u001b[1;33m.\u001b[0m\u001b[0mfit\u001b[0m\u001b[1;33m(\u001b[0m\u001b[0mX\u001b[0m\u001b[1;33m,\u001b[0m \u001b[0my\u001b[0m\u001b[1;33m,\u001b[0m \u001b[1;33m**\u001b[0m\u001b[0mfit_params\u001b[0m\u001b[1;33m)\u001b[0m\u001b[1;33m.\u001b[0m\u001b[0mtransform\u001b[0m\u001b[1;33m(\u001b[0m\u001b[0mX\u001b[0m\u001b[1;33m)\u001b[0m\u001b[1;33m\u001b[0m\u001b[1;33m\u001b[0m\u001b[0m\n\u001b[0m\u001b[0;32m    703\u001b[0m \u001b[1;33m\u001b[0m\u001b[0m\n\u001b[0;32m    704\u001b[0m \u001b[1;33m\u001b[0m\u001b[0m\n",
      "\u001b[1;32m~\\anaconda3\\envs\\learn-env\\lib\\site-packages\\gensim\\sklearn_api\\d2vmodel.py\u001b[0m in \u001b[0;36mfit\u001b[1;34m(self, X, y)\u001b[0m\n\u001b[0;32m    172\u001b[0m             \u001b[0mseed\u001b[0m\u001b[1;33m=\u001b[0m\u001b[0mself\u001b[0m\u001b[1;33m.\u001b[0m\u001b[0mseed\u001b[0m\u001b[1;33m,\u001b[0m \u001b[0mworkers\u001b[0m\u001b[1;33m=\u001b[0m\u001b[0mself\u001b[0m\u001b[1;33m.\u001b[0m\u001b[0mworkers\u001b[0m\u001b[1;33m,\u001b[0m \u001b[0mmin_alpha\u001b[0m\u001b[1;33m=\u001b[0m\u001b[0mself\u001b[0m\u001b[1;33m.\u001b[0m\u001b[0mmin_alpha\u001b[0m\u001b[1;33m,\u001b[0m \u001b[0mhs\u001b[0m\u001b[1;33m=\u001b[0m\u001b[0mself\u001b[0m\u001b[1;33m.\u001b[0m\u001b[0mhs\u001b[0m\u001b[1;33m,\u001b[0m\u001b[1;33m\u001b[0m\u001b[1;33m\u001b[0m\u001b[0m\n\u001b[0;32m    173\u001b[0m             \u001b[0mnegative\u001b[0m\u001b[1;33m=\u001b[0m\u001b[0mself\u001b[0m\u001b[1;33m.\u001b[0m\u001b[0mnegative\u001b[0m\u001b[1;33m,\u001b[0m \u001b[0mcbow_mean\u001b[0m\u001b[1;33m=\u001b[0m\u001b[0mself\u001b[0m\u001b[1;33m.\u001b[0m\u001b[0mcbow_mean\u001b[0m\u001b[1;33m,\u001b[0m \u001b[0mhashfxn\u001b[0m\u001b[1;33m=\u001b[0m\u001b[0mself\u001b[0m\u001b[1;33m.\u001b[0m\u001b[0mhashfxn\u001b[0m\u001b[1;33m,\u001b[0m\u001b[1;33m\u001b[0m\u001b[1;33m\u001b[0m\u001b[0m\n\u001b[1;32m--> 174\u001b[1;33m             \u001b[0mepochs\u001b[0m\u001b[1;33m=\u001b[0m\u001b[0mself\u001b[0m\u001b[1;33m.\u001b[0m\u001b[0miter\u001b[0m\u001b[1;33m,\u001b[0m \u001b[0msorted_vocab\u001b[0m\u001b[1;33m=\u001b[0m\u001b[0mself\u001b[0m\u001b[1;33m.\u001b[0m\u001b[0msorted_vocab\u001b[0m\u001b[1;33m,\u001b[0m \u001b[0mbatch_words\u001b[0m\u001b[1;33m=\u001b[0m\u001b[0mself\u001b[0m\u001b[1;33m.\u001b[0m\u001b[0mbatch_words\u001b[0m\u001b[1;33m\u001b[0m\u001b[1;33m\u001b[0m\u001b[0m\n\u001b[0m\u001b[0;32m    175\u001b[0m         )\n\u001b[0;32m    176\u001b[0m         \u001b[1;32mreturn\u001b[0m \u001b[0mself\u001b[0m\u001b[1;33m\u001b[0m\u001b[1;33m\u001b[0m\u001b[0m\n",
      "\u001b[1;32m~\\anaconda3\\envs\\learn-env\\lib\\site-packages\\gensim\\models\\doc2vec.py\u001b[0m in \u001b[0;36m__init__\u001b[1;34m(self, documents, corpus_file, dm_mean, dm, dbow_words, dm_concat, dm_tag_count, docvecs, docvecs_mapfile, comment, trim_rule, callbacks, **kwargs)\u001b[0m\n\u001b[0;32m    617\u001b[0m                 \u001b[0mdocuments\u001b[0m\u001b[1;33m=\u001b[0m\u001b[0mdocuments\u001b[0m\u001b[1;33m,\u001b[0m \u001b[0mcorpus_file\u001b[0m\u001b[1;33m=\u001b[0m\u001b[0mcorpus_file\u001b[0m\u001b[1;33m,\u001b[0m \u001b[0mtotal_examples\u001b[0m\u001b[1;33m=\u001b[0m\u001b[0mself\u001b[0m\u001b[1;33m.\u001b[0m\u001b[0mcorpus_count\u001b[0m\u001b[1;33m,\u001b[0m\u001b[1;33m\u001b[0m\u001b[1;33m\u001b[0m\u001b[0m\n\u001b[0;32m    618\u001b[0m                 \u001b[0mtotal_words\u001b[0m\u001b[1;33m=\u001b[0m\u001b[0mself\u001b[0m\u001b[1;33m.\u001b[0m\u001b[0mcorpus_total_words\u001b[0m\u001b[1;33m,\u001b[0m \u001b[0mepochs\u001b[0m\u001b[1;33m=\u001b[0m\u001b[0mself\u001b[0m\u001b[1;33m.\u001b[0m\u001b[0mepochs\u001b[0m\u001b[1;33m,\u001b[0m \u001b[0mstart_alpha\u001b[0m\u001b[1;33m=\u001b[0m\u001b[0mself\u001b[0m\u001b[1;33m.\u001b[0m\u001b[0malpha\u001b[0m\u001b[1;33m,\u001b[0m\u001b[1;33m\u001b[0m\u001b[1;33m\u001b[0m\u001b[0m\n\u001b[1;32m--> 619\u001b[1;33m                 end_alpha=self.min_alpha, callbacks=callbacks)\n\u001b[0m\u001b[0;32m    620\u001b[0m \u001b[1;33m\u001b[0m\u001b[0m\n\u001b[0;32m    621\u001b[0m     \u001b[1;33m@\u001b[0m\u001b[0mproperty\u001b[0m\u001b[1;33m\u001b[0m\u001b[1;33m\u001b[0m\u001b[0m\n",
      "\u001b[1;32m~\\anaconda3\\envs\\learn-env\\lib\\site-packages\\gensim\\models\\doc2vec.py\u001b[0m in \u001b[0;36mtrain\u001b[1;34m(self, documents, corpus_file, total_examples, total_words, epochs, start_alpha, end_alpha, word_count, queue_factor, report_delay, callbacks)\u001b[0m\n\u001b[0;32m    811\u001b[0m             \u001b[0msentences\u001b[0m\u001b[1;33m=\u001b[0m\u001b[0mdocuments\u001b[0m\u001b[1;33m,\u001b[0m \u001b[0mcorpus_file\u001b[0m\u001b[1;33m=\u001b[0m\u001b[0mcorpus_file\u001b[0m\u001b[1;33m,\u001b[0m \u001b[0mtotal_examples\u001b[0m\u001b[1;33m=\u001b[0m\u001b[0mtotal_examples\u001b[0m\u001b[1;33m,\u001b[0m \u001b[0mtotal_words\u001b[0m\u001b[1;33m=\u001b[0m\u001b[0mtotal_words\u001b[0m\u001b[1;33m,\u001b[0m\u001b[1;33m\u001b[0m\u001b[1;33m\u001b[0m\u001b[0m\n\u001b[0;32m    812\u001b[0m             \u001b[0mepochs\u001b[0m\u001b[1;33m=\u001b[0m\u001b[0mepochs\u001b[0m\u001b[1;33m,\u001b[0m \u001b[0mstart_alpha\u001b[0m\u001b[1;33m=\u001b[0m\u001b[0mstart_alpha\u001b[0m\u001b[1;33m,\u001b[0m \u001b[0mend_alpha\u001b[0m\u001b[1;33m=\u001b[0m\u001b[0mend_alpha\u001b[0m\u001b[1;33m,\u001b[0m \u001b[0mword_count\u001b[0m\u001b[1;33m=\u001b[0m\u001b[0mword_count\u001b[0m\u001b[1;33m,\u001b[0m\u001b[1;33m\u001b[0m\u001b[1;33m\u001b[0m\u001b[0m\n\u001b[1;32m--> 813\u001b[1;33m             queue_factor=queue_factor, report_delay=report_delay, callbacks=callbacks, **kwargs)\n\u001b[0m\u001b[0;32m    814\u001b[0m \u001b[1;33m\u001b[0m\u001b[0m\n\u001b[0;32m    815\u001b[0m     \u001b[1;33m@\u001b[0m\u001b[0mclassmethod\u001b[0m\u001b[1;33m\u001b[0m\u001b[1;33m\u001b[0m\u001b[0m\n",
      "\u001b[1;32m~\\anaconda3\\envs\\learn-env\\lib\\site-packages\\gensim\\models\\base_any2vec.py\u001b[0m in \u001b[0;36mtrain\u001b[1;34m(self, sentences, corpus_file, total_examples, total_words, epochs, start_alpha, end_alpha, word_count, queue_factor, report_delay, compute_loss, callbacks, **kwargs)\u001b[0m\n\u001b[0;32m   1079\u001b[0m             \u001b[0mtotal_words\u001b[0m\u001b[1;33m=\u001b[0m\u001b[0mtotal_words\u001b[0m\u001b[1;33m,\u001b[0m \u001b[0mepochs\u001b[0m\u001b[1;33m=\u001b[0m\u001b[0mepochs\u001b[0m\u001b[1;33m,\u001b[0m \u001b[0mstart_alpha\u001b[0m\u001b[1;33m=\u001b[0m\u001b[0mstart_alpha\u001b[0m\u001b[1;33m,\u001b[0m \u001b[0mend_alpha\u001b[0m\u001b[1;33m=\u001b[0m\u001b[0mend_alpha\u001b[0m\u001b[1;33m,\u001b[0m \u001b[0mword_count\u001b[0m\u001b[1;33m=\u001b[0m\u001b[0mword_count\u001b[0m\u001b[1;33m,\u001b[0m\u001b[1;33m\u001b[0m\u001b[1;33m\u001b[0m\u001b[0m\n\u001b[0;32m   1080\u001b[0m             \u001b[0mqueue_factor\u001b[0m\u001b[1;33m=\u001b[0m\u001b[0mqueue_factor\u001b[0m\u001b[1;33m,\u001b[0m \u001b[0mreport_delay\u001b[0m\u001b[1;33m=\u001b[0m\u001b[0mreport_delay\u001b[0m\u001b[1;33m,\u001b[0m \u001b[0mcompute_loss\u001b[0m\u001b[1;33m=\u001b[0m\u001b[0mcompute_loss\u001b[0m\u001b[1;33m,\u001b[0m \u001b[0mcallbacks\u001b[0m\u001b[1;33m=\u001b[0m\u001b[0mcallbacks\u001b[0m\u001b[1;33m,\u001b[0m\u001b[1;33m\u001b[0m\u001b[1;33m\u001b[0m\u001b[0m\n\u001b[1;32m-> 1081\u001b[1;33m             **kwargs)\n\u001b[0m\u001b[0;32m   1082\u001b[0m \u001b[1;33m\u001b[0m\u001b[0m\n\u001b[0;32m   1083\u001b[0m     \u001b[1;32mdef\u001b[0m \u001b[0m_get_job_params\u001b[0m\u001b[1;33m(\u001b[0m\u001b[0mself\u001b[0m\u001b[1;33m,\u001b[0m \u001b[0mcur_epoch\u001b[0m\u001b[1;33m)\u001b[0m\u001b[1;33m:\u001b[0m\u001b[1;33m\u001b[0m\u001b[1;33m\u001b[0m\u001b[0m\n",
      "\u001b[1;32m~\\anaconda3\\envs\\learn-env\\lib\\site-packages\\gensim\\models\\base_any2vec.py\u001b[0m in \u001b[0;36mtrain\u001b[1;34m(self, data_iterable, corpus_file, epochs, total_examples, total_words, queue_factor, report_delay, callbacks, **kwargs)\u001b[0m\n\u001b[0;32m    534\u001b[0m             \u001b[0mepochs\u001b[0m\u001b[1;33m=\u001b[0m\u001b[0mepochs\u001b[0m\u001b[1;33m,\u001b[0m\u001b[1;33m\u001b[0m\u001b[1;33m\u001b[0m\u001b[0m\n\u001b[0;32m    535\u001b[0m             \u001b[0mtotal_examples\u001b[0m\u001b[1;33m=\u001b[0m\u001b[0mtotal_examples\u001b[0m\u001b[1;33m,\u001b[0m\u001b[1;33m\u001b[0m\u001b[1;33m\u001b[0m\u001b[0m\n\u001b[1;32m--> 536\u001b[1;33m             total_words=total_words, **kwargs)\n\u001b[0m\u001b[0;32m    537\u001b[0m \u001b[1;33m\u001b[0m\u001b[0m\n\u001b[0;32m    538\u001b[0m         \u001b[1;32mfor\u001b[0m \u001b[0mcallback\u001b[0m \u001b[1;32min\u001b[0m \u001b[0mself\u001b[0m\u001b[1;33m.\u001b[0m\u001b[0mcallbacks\u001b[0m\u001b[1;33m:\u001b[0m\u001b[1;33m\u001b[0m\u001b[1;33m\u001b[0m\u001b[0m\n",
      "\u001b[1;32m~\\anaconda3\\envs\\learn-env\\lib\\site-packages\\gensim\\models\\base_any2vec.py\u001b[0m in \u001b[0;36m_check_training_sanity\u001b[1;34m(self, epochs, total_examples, total_words, **kwargs)\u001b[0m\n\u001b[0;32m   1185\u001b[0m \u001b[1;33m\u001b[0m\u001b[0m\n\u001b[0;32m   1186\u001b[0m         \u001b[1;32mif\u001b[0m \u001b[1;32mnot\u001b[0m \u001b[0mself\u001b[0m\u001b[1;33m.\u001b[0m\u001b[0mwv\u001b[0m\u001b[1;33m.\u001b[0m\u001b[0mvocab\u001b[0m\u001b[1;33m:\u001b[0m  \u001b[1;31m# should be set by `build_vocab`\u001b[0m\u001b[1;33m\u001b[0m\u001b[1;33m\u001b[0m\u001b[0m\n\u001b[1;32m-> 1187\u001b[1;33m             \u001b[1;32mraise\u001b[0m \u001b[0mRuntimeError\u001b[0m\u001b[1;33m(\u001b[0m\u001b[1;34m\"you must first build vocabulary before training the model\"\u001b[0m\u001b[1;33m)\u001b[0m\u001b[1;33m\u001b[0m\u001b[1;33m\u001b[0m\u001b[0m\n\u001b[0m\u001b[0;32m   1188\u001b[0m         \u001b[1;32mif\u001b[0m \u001b[1;32mnot\u001b[0m \u001b[0mlen\u001b[0m\u001b[1;33m(\u001b[0m\u001b[0mself\u001b[0m\u001b[1;33m.\u001b[0m\u001b[0mwv\u001b[0m\u001b[1;33m.\u001b[0m\u001b[0mvectors\u001b[0m\u001b[1;33m)\u001b[0m\u001b[1;33m:\u001b[0m\u001b[1;33m\u001b[0m\u001b[1;33m\u001b[0m\u001b[0m\n\u001b[0;32m   1189\u001b[0m             \u001b[1;32mraise\u001b[0m \u001b[0mRuntimeError\u001b[0m\u001b[1;33m(\u001b[0m\u001b[1;34m\"you must initialize vectors before training the model\"\u001b[0m\u001b[1;33m)\u001b[0m\u001b[1;33m\u001b[0m\u001b[1;33m\u001b[0m\u001b[0m\n",
      "\u001b[1;31mRuntimeError\u001b[0m: you must first build vocabulary before training the model"
     ]
    }
   ],
   "source": [
    "return_classification_report(pipe_lr5, np.array(X_train).reshape(160807, 1), np.array(y_train).reshape(160807, 1), np.array(X_test).reshape(241211, 1), np.array(y_test).reshape(241211, 1))"
   ]
  },
  {
   "cell_type": "markdown",
   "metadata": {},
   "source": [
    "### Neural Network Modeling"
   ]
  },
  {
   "cell_type": "code",
   "execution_count": 97,
   "metadata": {},
   "outputs": [],
   "source": [
    "import keras\n",
    "from keras.models import Sequential\n",
    "from keras.layers import Dense, Dropout, Activation\n",
    "from keras.callbacks import EarlyStopping, ModelCheckpoint\n",
    "from keras import regularizers\n",
    "from keras.optimizers import SGD"
   ]
  },
  {
   "cell_type": "code",
   "execution_count": 98,
   "metadata": {
    "scrolled": true
   },
   "outputs": [
    {
     "name": "stdout",
     "output_type": "stream",
     "text": [
      "Model: \"sequential_3\"\n",
      "_________________________________________________________________\n",
      "Layer (type)                 Output Shape              Param #   \n",
      "=================================================================\n",
      "dense_7 (Dense)              (None, 12)                12012     \n",
      "_________________________________________________________________\n",
      "dense_8 (Dense)              (None, 12)                156       \n",
      "_________________________________________________________________\n",
      "dense_9 (Dense)              (None, 1)                 13        \n",
      "=================================================================\n",
      "Total params: 12,181\n",
      "Trainable params: 12,181\n",
      "Non-trainable params: 0\n",
      "_________________________________________________________________\n"
     ]
    }
   ],
   "source": [
    "model = Sequential()\n",
    "\n",
    "model.add(Dense(12, input_dim=1000, activation='relu'))\n",
    "model.add(Dense(12, activation='relu'))\n",
    "model.add(Dense(1, activation='sigmoid'))\n",
    "\n",
    "model.compile(loss='binary_crossentropy', optimizer='adam', metrics=['accuracy'])\n",
    "model.summary()"
   ]
  },
  {
   "cell_type": "code",
   "execution_count": 99,
   "metadata": {},
   "outputs": [],
   "source": [
    "tf_vec = TfidfVectorizer(max_features=1000)"
   ]
  },
  {
   "cell_type": "code",
   "execution_count": 100,
   "metadata": {},
   "outputs": [],
   "source": [
    "nnX_train = tf_vec.fit_transform(X_train)"
   ]
  },
  {
   "cell_type": "code",
   "execution_count": 101,
   "metadata": {},
   "outputs": [],
   "source": [
    "nny_train = y_train.map(lambda x: 1 if x == \"D\" else 0)"
   ]
  },
  {
   "cell_type": "code",
   "execution_count": 102,
   "metadata": {},
   "outputs": [],
   "source": [
    "nnX_test = tf_vec.transform(X_test)"
   ]
  },
  {
   "cell_type": "code",
   "execution_count": 103,
   "metadata": {},
   "outputs": [],
   "source": [
    "nny_test = y_test.map(lambda x: 1 if x == \"D\" else 0)"
   ]
  },
  {
   "cell_type": "code",
   "execution_count": null,
   "metadata": {},
   "outputs": [],
   "source": [
    "    ### Transform X-train, y-train, x-test, y-test with TFIDF, Document embeddings"
   ]
  },
  {
   "cell_type": "code",
   "execution_count": 104,
   "metadata": {},
   "outputs": [
    {
     "name": "stdout",
     "output_type": "stream",
     "text": [
      "Train on 281412 samples, validate on 120606 samples\n",
      "Epoch 1/300\n",
      " - 25s - loss: 0.4377 - accuracy: 0.7990 - val_loss: 0.4199 - val_accuracy: 0.8083\n",
      "Epoch 2/300\n",
      " - 24s - loss: 0.4137 - accuracy: 0.8113 - val_loss: 0.4111 - val_accuracy: 0.8119\n",
      "Epoch 3/300\n",
      " - 23s - loss: 0.4043 - accuracy: 0.8163 - val_loss: 0.4062 - val_accuracy: 0.8142\n",
      "Epoch 4/300\n",
      " - 22s - loss: 0.3971 - accuracy: 0.8204 - val_loss: 0.4035 - val_accuracy: 0.8152\n",
      "Epoch 5/300\n",
      " - 28s - loss: 0.3917 - accuracy: 0.8229 - val_loss: 0.4007 - val_accuracy: 0.8158\n",
      "Epoch 6/300\n",
      " - 31s - loss: 0.3869 - accuracy: 0.8250 - val_loss: 0.3993 - val_accuracy: 0.8181\n",
      "Epoch 7/300\n",
      " - 33s - loss: 0.3825 - accuracy: 0.8272 - val_loss: 0.3988 - val_accuracy: 0.8183\n",
      "Epoch 8/300\n",
      " - 31s - loss: 0.3787 - accuracy: 0.8293 - val_loss: 0.3977 - val_accuracy: 0.8181\n",
      "Epoch 9/300\n",
      " - 32s - loss: 0.3753 - accuracy: 0.8307 - val_loss: 0.3981 - val_accuracy: 0.8194\n",
      "Epoch 10/300\n",
      " - 30s - loss: 0.3726 - accuracy: 0.8323 - val_loss: 0.3973 - val_accuracy: 0.8185\n",
      "Epoch 11/300\n",
      " - 32s - loss: 0.3701 - accuracy: 0.8333 - val_loss: 0.3974 - val_accuracy: 0.8190\n",
      "Epoch 12/300\n",
      " - 32s - loss: 0.3681 - accuracy: 0.8344 - val_loss: 0.3975 - val_accuracy: 0.8174\n",
      "Epoch 13/300\n",
      " - 31s - loss: 0.3658 - accuracy: 0.8348 - val_loss: 0.3983 - val_accuracy: 0.8191\n",
      "Epoch 14/300\n",
      " - 31s - loss: 0.3642 - accuracy: 0.8358 - val_loss: 0.3996 - val_accuracy: 0.8202\n",
      "Epoch 15/300\n",
      " - 34s - loss: 0.3626 - accuracy: 0.8369 - val_loss: 0.3985 - val_accuracy: 0.8178\n",
      "Epoch 16/300\n",
      " - 33s - loss: 0.3610 - accuracy: 0.8379 - val_loss: 0.3986 - val_accuracy: 0.8196\n",
      "Epoch 17/300\n",
      " - 32s - loss: 0.3598 - accuracy: 0.8382 - val_loss: 0.3996 - val_accuracy: 0.8188\n",
      "Epoch 18/300\n",
      " - 33s - loss: 0.3586 - accuracy: 0.8387 - val_loss: 0.4004 - val_accuracy: 0.8181\n",
      "Epoch 19/300\n",
      " - 32s - loss: 0.3575 - accuracy: 0.8394 - val_loss: 0.3999 - val_accuracy: 0.8196\n",
      "Epoch 20/300\n",
      " - 23s - loss: 0.3566 - accuracy: 0.8398 - val_loss: 0.4003 - val_accuracy: 0.8181\n",
      "Epoch 21/300\n",
      " - 32s - loss: 0.3557 - accuracy: 0.8405 - val_loss: 0.4007 - val_accuracy: 0.8193\n",
      "Epoch 22/300\n",
      " - 34s - loss: 0.3548 - accuracy: 0.8406 - val_loss: 0.4010 - val_accuracy: 0.8177\n",
      "Epoch 23/300\n",
      " - 33s - loss: 0.3541 - accuracy: 0.8407 - val_loss: 0.4015 - val_accuracy: 0.8178\n",
      "Epoch 24/300\n",
      " - 30s - loss: 0.3532 - accuracy: 0.8412 - val_loss: 0.4028 - val_accuracy: 0.8175\n",
      "Epoch 25/300\n",
      " - 33s - loss: 0.3526 - accuracy: 0.8416 - val_loss: 0.4035 - val_accuracy: 0.8177\n",
      "Epoch 26/300\n",
      " - 34s - loss: 0.3520 - accuracy: 0.8419 - val_loss: 0.4039 - val_accuracy: 0.8189\n",
      "Epoch 27/300\n",
      " - 27s - loss: 0.3513 - accuracy: 0.8424 - val_loss: 0.4039 - val_accuracy: 0.8180\n",
      "Epoch 28/300\n",
      " - 33s - loss: 0.3508 - accuracy: 0.8426 - val_loss: 0.4046 - val_accuracy: 0.8157\n",
      "Epoch 29/300\n",
      " - 34s - loss: 0.3503 - accuracy: 0.8428 - val_loss: 0.4039 - val_accuracy: 0.8174\n",
      "Epoch 30/300\n",
      " - 33s - loss: 0.3498 - accuracy: 0.8429 - val_loss: 0.4047 - val_accuracy: 0.8155\n",
      "Epoch 31/300\n",
      " - 33s - loss: 0.3493 - accuracy: 0.8432 - val_loss: 0.4046 - val_accuracy: 0.8173\n",
      "Epoch 32/300\n",
      " - 28s - loss: 0.3488 - accuracy: 0.8435 - val_loss: 0.4053 - val_accuracy: 0.8175\n",
      "Epoch 33/300\n",
      " - 29s - loss: 0.3483 - accuracy: 0.8436 - val_loss: 0.4054 - val_accuracy: 0.8178\n",
      "Epoch 34/300\n",
      " - 35s - loss: 0.3480 - accuracy: 0.8442 - val_loss: 0.4060 - val_accuracy: 0.8172\n",
      "Epoch 35/300\n",
      " - 30s - loss: 0.3475 - accuracy: 0.8440 - val_loss: 0.4066 - val_accuracy: 0.8175\n",
      "Epoch 36/300\n",
      " - 25s - loss: 0.3472 - accuracy: 0.8442 - val_loss: 0.4070 - val_accuracy: 0.8161\n",
      "Epoch 37/300\n",
      " - 24s - loss: 0.3468 - accuracy: 0.8444 - val_loss: 0.4065 - val_accuracy: 0.8148\n",
      "Epoch 38/300\n",
      " - 22s - loss: 0.3465 - accuracy: 0.8445 - val_loss: 0.4070 - val_accuracy: 0.8149\n",
      "Epoch 39/300\n",
      " - 23s - loss: 0.3462 - accuracy: 0.8444 - val_loss: 0.4073 - val_accuracy: 0.8182\n",
      "Epoch 40/300\n",
      " - 22s - loss: 0.3459 - accuracy: 0.8450 - val_loss: 0.4098 - val_accuracy: 0.8176\n",
      "Epoch 41/300\n",
      " - 22s - loss: 0.3456 - accuracy: 0.8449 - val_loss: 0.4090 - val_accuracy: 0.8164\n",
      "Epoch 42/300\n",
      " - 26s - loss: 0.3452 - accuracy: 0.8456 - val_loss: 0.4082 - val_accuracy: 0.8157\n",
      "Epoch 43/300\n",
      " - 23s - loss: 0.3449 - accuracy: 0.8454 - val_loss: 0.4090 - val_accuracy: 0.8149\n",
      "Epoch 44/300\n",
      " - 23s - loss: 0.3448 - accuracy: 0.8454 - val_loss: 0.4098 - val_accuracy: 0.8173\n",
      "Epoch 45/300\n",
      " - 22s - loss: 0.3444 - accuracy: 0.8457 - val_loss: 0.4103 - val_accuracy: 0.8150\n",
      "Epoch 46/300\n",
      " - 26s - loss: 0.3442 - accuracy: 0.8457 - val_loss: 0.4108 - val_accuracy: 0.8161\n",
      "Epoch 47/300\n",
      " - 30s - loss: 0.3438 - accuracy: 0.8460 - val_loss: 0.4105 - val_accuracy: 0.8156\n",
      "Epoch 48/300\n",
      " - 22s - loss: 0.3436 - accuracy: 0.8463 - val_loss: 0.4114 - val_accuracy: 0.8177\n",
      "Epoch 49/300\n",
      " - 21s - loss: 0.3434 - accuracy: 0.8462 - val_loss: 0.4112 - val_accuracy: 0.8130\n",
      "Epoch 50/300\n",
      " - 22s - loss: 0.3432 - accuracy: 0.8459 - val_loss: 0.4111 - val_accuracy: 0.8149\n",
      "Epoch 51/300\n",
      " - 22s - loss: 0.3429 - accuracy: 0.8464 - val_loss: 0.4125 - val_accuracy: 0.8153\n",
      "Epoch 52/300\n",
      " - 22s - loss: 0.3428 - accuracy: 0.8465 - val_loss: 0.4110 - val_accuracy: 0.8167\n",
      "Epoch 53/300\n",
      " - 33s - loss: 0.3425 - accuracy: 0.8466 - val_loss: 0.4113 - val_accuracy: 0.8150\n",
      "Epoch 54/300\n",
      " - 28s - loss: 0.3424 - accuracy: 0.8469 - val_loss: 0.4122 - val_accuracy: 0.8130\n",
      "Epoch 55/300\n",
      " - 27s - loss: 0.3422 - accuracy: 0.8466 - val_loss: 0.4129 - val_accuracy: 0.8161\n",
      "Epoch 56/300\n",
      " - 26s - loss: 0.3419 - accuracy: 0.8466 - val_loss: 0.4135 - val_accuracy: 0.8166\n",
      "Epoch 57/300\n",
      " - 26s - loss: 0.3417 - accuracy: 0.8470 - val_loss: 0.4128 - val_accuracy: 0.8142\n",
      "Epoch 58/300\n",
      " - 26s - loss: 0.3416 - accuracy: 0.8471 - val_loss: 0.4124 - val_accuracy: 0.8134\n",
      "Epoch 59/300\n",
      " - 25s - loss: 0.3413 - accuracy: 0.8474 - val_loss: 0.4131 - val_accuracy: 0.8158\n",
      "Epoch 60/300\n",
      " - 26s - loss: 0.3412 - accuracy: 0.8472 - val_loss: 0.4129 - val_accuracy: 0.8146\n",
      "Epoch 61/300\n",
      " - 25s - loss: 0.3411 - accuracy: 0.8477 - val_loss: 0.4139 - val_accuracy: 0.8124\n",
      "Epoch 62/300\n",
      " - 28s - loss: 0.3408 - accuracy: 0.8478 - val_loss: 0.4135 - val_accuracy: 0.8139\n",
      "Epoch 63/300\n",
      " - 33s - loss: 0.3407 - accuracy: 0.8480 - val_loss: 0.4126 - val_accuracy: 0.8147\n",
      "Epoch 64/300\n",
      " - 32s - loss: 0.3406 - accuracy: 0.8473 - val_loss: 0.4132 - val_accuracy: 0.8146\n",
      "Epoch 65/300\n",
      " - 32s - loss: 0.3404 - accuracy: 0.8479 - val_loss: 0.4140 - val_accuracy: 0.8146\n",
      "Epoch 66/300\n",
      " - 31s - loss: 0.3402 - accuracy: 0.8478 - val_loss: 0.4168 - val_accuracy: 0.8102\n",
      "Epoch 67/300\n",
      " - 32s - loss: 0.3401 - accuracy: 0.8480 - val_loss: 0.4155 - val_accuracy: 0.8159\n",
      "Epoch 68/300\n",
      " - 31s - loss: 0.3398 - accuracy: 0.8477 - val_loss: 0.4144 - val_accuracy: 0.8145\n",
      "Epoch 69/300\n",
      " - 31s - loss: 0.3398 - accuracy: 0.8485 - val_loss: 0.4157 - val_accuracy: 0.8161\n",
      "Epoch 70/300\n",
      " - 31s - loss: 0.3397 - accuracy: 0.8483 - val_loss: 0.4144 - val_accuracy: 0.8118\n",
      "Epoch 71/300\n",
      " - 32s - loss: 0.3394 - accuracy: 0.8483 - val_loss: 0.4155 - val_accuracy: 0.8132\n",
      "Epoch 72/300\n",
      " - 31s - loss: 0.3393 - accuracy: 0.8486 - val_loss: 0.4152 - val_accuracy: 0.8137\n",
      "Epoch 73/300\n",
      " - 30s - loss: 0.3392 - accuracy: 0.8487 - val_loss: 0.4156 - val_accuracy: 0.8142\n",
      "Epoch 74/300\n",
      " - 31s - loss: 0.3391 - accuracy: 0.8489 - val_loss: 0.4163 - val_accuracy: 0.8150\n",
      "Epoch 75/300\n",
      " - 29s - loss: 0.3390 - accuracy: 0.8486 - val_loss: 0.4158 - val_accuracy: 0.8135\n",
      "Epoch 76/300\n",
      " - 30s - loss: 0.3389 - accuracy: 0.8487 - val_loss: 0.4156 - val_accuracy: 0.8128\n",
      "Epoch 77/300\n",
      " - 30s - loss: 0.3386 - accuracy: 0.8485 - val_loss: 0.4152 - val_accuracy: 0.8147\n",
      "Epoch 78/300\n",
      " - 32s - loss: 0.3386 - accuracy: 0.8488 - val_loss: 0.4154 - val_accuracy: 0.8130\n",
      "Epoch 79/300\n",
      " - 30s - loss: 0.3384 - accuracy: 0.8486 - val_loss: 0.4168 - val_accuracy: 0.8132\n",
      "Epoch 80/300\n",
      " - 30s - loss: 0.3383 - accuracy: 0.8489 - val_loss: 0.4168 - val_accuracy: 0.8114\n",
      "Epoch 81/300\n",
      " - 30s - loss: 0.3382 - accuracy: 0.8489 - val_loss: 0.4172 - val_accuracy: 0.8151\n",
      "Epoch 82/300\n",
      " - 31s - loss: 0.3380 - accuracy: 0.8491 - val_loss: 0.4174 - val_accuracy: 0.8139\n",
      "Epoch 83/300\n",
      " - 35s - loss: 0.3381 - accuracy: 0.8492 - val_loss: 0.4182 - val_accuracy: 0.8162\n",
      "Epoch 84/300\n",
      " - 32s - loss: 0.3378 - accuracy: 0.8492 - val_loss: 0.4174 - val_accuracy: 0.8143\n",
      "Epoch 85/300\n",
      " - 30s - loss: 0.3377 - accuracy: 0.8492 - val_loss: 0.4158 - val_accuracy: 0.8131\n"
     ]
    },
    {
     "name": "stdout",
     "output_type": "stream",
     "text": [
      "Epoch 86/300\n",
      " - 30s - loss: 0.3376 - accuracy: 0.8492 - val_loss: 0.4169 - val_accuracy: 0.8124\n",
      "Epoch 87/300\n",
      " - 30s - loss: 0.3376 - accuracy: 0.8493 - val_loss: 0.4162 - val_accuracy: 0.8140\n",
      "Epoch 88/300\n",
      " - 30s - loss: 0.3374 - accuracy: 0.8492 - val_loss: 0.4170 - val_accuracy: 0.8118\n",
      "Epoch 89/300\n",
      " - 30s - loss: 0.3373 - accuracy: 0.8492 - val_loss: 0.4163 - val_accuracy: 0.8122\n",
      "Epoch 90/300\n",
      " - 30s - loss: 0.3372 - accuracy: 0.8496 - val_loss: 0.4183 - val_accuracy: 0.8137\n",
      "Epoch 91/300\n",
      " - 30s - loss: 0.3370 - accuracy: 0.8493 - val_loss: 0.4177 - val_accuracy: 0.8127\n",
      "Epoch 92/300\n",
      " - 31s - loss: 0.3370 - accuracy: 0.8498 - val_loss: 0.4176 - val_accuracy: 0.8121\n",
      "Epoch 93/300\n",
      " - 30s - loss: 0.3370 - accuracy: 0.8499 - val_loss: 0.4179 - val_accuracy: 0.8142\n",
      "Epoch 94/300\n",
      " - 30s - loss: 0.3368 - accuracy: 0.8496 - val_loss: 0.4179 - val_accuracy: 0.8120\n",
      "Epoch 95/300\n",
      " - 30s - loss: 0.3368 - accuracy: 0.8496 - val_loss: 0.4182 - val_accuracy: 0.8131\n",
      "Epoch 96/300\n",
      " - 30s - loss: 0.3368 - accuracy: 0.8499 - val_loss: 0.4172 - val_accuracy: 0.8135\n",
      "Epoch 97/300\n",
      " - 30s - loss: 0.3366 - accuracy: 0.8501 - val_loss: 0.4174 - val_accuracy: 0.8134\n",
      "Epoch 98/300\n",
      " - 31s - loss: 0.3365 - accuracy: 0.8497 - val_loss: 0.4214 - val_accuracy: 0.8153\n",
      "Epoch 99/300\n",
      " - 30s - loss: 0.3364 - accuracy: 0.8498 - val_loss: 0.4191 - val_accuracy: 0.8126\n",
      "Epoch 100/300\n",
      " - 30s - loss: 0.3363 - accuracy: 0.8501 - val_loss: 0.4177 - val_accuracy: 0.8123\n",
      "Epoch 101/300\n",
      " - 30s - loss: 0.3363 - accuracy: 0.8495 - val_loss: 0.4178 - val_accuracy: 0.8127\n",
      "Epoch 102/300\n",
      " - 30s - loss: 0.3362 - accuracy: 0.8502 - val_loss: 0.4185 - val_accuracy: 0.8111\n",
      "Epoch 103/300\n",
      " - 30s - loss: 0.3361 - accuracy: 0.8500 - val_loss: 0.4182 - val_accuracy: 0.8125\n",
      "Epoch 104/300\n",
      " - 30s - loss: 0.3360 - accuracy: 0.8500 - val_loss: 0.4192 - val_accuracy: 0.8118\n",
      "Epoch 105/300\n",
      " - 34s - loss: 0.3359 - accuracy: 0.8501 - val_loss: 0.4181 - val_accuracy: 0.8120\n",
      "Epoch 106/300\n",
      " - 32s - loss: 0.3359 - accuracy: 0.8499 - val_loss: 0.4186 - val_accuracy: 0.8140\n",
      "Epoch 107/300\n",
      " - 35s - loss: 0.3358 - accuracy: 0.8502 - val_loss: 0.4186 - val_accuracy: 0.8122\n",
      "Epoch 108/300\n",
      " - 35s - loss: 0.3357 - accuracy: 0.8501 - val_loss: 0.4198 - val_accuracy: 0.8111\n",
      "Epoch 109/300\n",
      " - 32s - loss: 0.3356 - accuracy: 0.8498 - val_loss: 0.4181 - val_accuracy: 0.8126\n",
      "Epoch 110/300\n",
      " - 33s - loss: 0.3355 - accuracy: 0.8501 - val_loss: 0.4198 - val_accuracy: 0.8105\n",
      "Epoch 111/300\n",
      " - 35s - loss: 0.3355 - accuracy: 0.8502 - val_loss: 0.4201 - val_accuracy: 0.8124\n",
      "Epoch 112/300\n",
      " - 35s - loss: 0.3354 - accuracy: 0.8503 - val_loss: 0.4190 - val_accuracy: 0.8125\n",
      "Epoch 113/300\n",
      " - 34s - loss: 0.3353 - accuracy: 0.8502 - val_loss: 0.4195 - val_accuracy: 0.8110\n",
      "Epoch 114/300\n",
      " - 32s - loss: 0.3352 - accuracy: 0.8504 - val_loss: 0.4203 - val_accuracy: 0.8113\n",
      "Epoch 115/300\n",
      " - 30s - loss: 0.3351 - accuracy: 0.8502 - val_loss: 0.4197 - val_accuracy: 0.8133\n",
      "Epoch 116/300\n",
      " - 32s - loss: 0.3350 - accuracy: 0.8502 - val_loss: 0.4206 - val_accuracy: 0.8102\n",
      "Epoch 117/300\n",
      " - 30s - loss: 0.3350 - accuracy: 0.8504 - val_loss: 0.4203 - val_accuracy: 0.8135\n",
      "Epoch 118/300\n",
      " - 34s - loss: 0.3348 - accuracy: 0.8506 - val_loss: 0.4209 - val_accuracy: 0.8100\n",
      "Epoch 119/300\n",
      " - 30s - loss: 0.3349 - accuracy: 0.8504 - val_loss: 0.4208 - val_accuracy: 0.8118\n",
      "Epoch 120/300\n",
      " - 31s - loss: 0.3349 - accuracy: 0.8505 - val_loss: 0.4206 - val_accuracy: 0.8120\n",
      "Epoch 121/300\n",
      " - 31s - loss: 0.3347 - accuracy: 0.8505 - val_loss: 0.4219 - val_accuracy: 0.8127\n",
      "Epoch 122/300\n",
      " - 31s - loss: 0.3345 - accuracy: 0.8506 - val_loss: 0.4227 - val_accuracy: 0.8084\n",
      "Epoch 123/300\n",
      " - 35s - loss: 0.3345 - accuracy: 0.8504 - val_loss: 0.4206 - val_accuracy: 0.8137\n",
      "Epoch 124/300\n",
      " - 30s - loss: 0.3345 - accuracy: 0.8504 - val_loss: 0.4206 - val_accuracy: 0.8113\n",
      "Epoch 125/300\n",
      " - 32s - loss: 0.3344 - accuracy: 0.8508 - val_loss: 0.4206 - val_accuracy: 0.8117\n",
      "Epoch 126/300\n",
      " - 31s - loss: 0.3343 - accuracy: 0.8508 - val_loss: 0.4206 - val_accuracy: 0.8122\n",
      "Epoch 127/300\n",
      " - 34s - loss: 0.3343 - accuracy: 0.8507 - val_loss: 0.4212 - val_accuracy: 0.8113\n",
      "Epoch 128/300\n",
      " - 32s - loss: 0.3341 - accuracy: 0.8508 - val_loss: 0.4218 - val_accuracy: 0.8115\n",
      "Epoch 129/300\n",
      " - 33s - loss: 0.3341 - accuracy: 0.8504 - val_loss: 0.4216 - val_accuracy: 0.8110\n",
      "Epoch 130/300\n",
      " - 33s - loss: 0.3341 - accuracy: 0.8508 - val_loss: 0.4212 - val_accuracy: 0.8115\n",
      "Epoch 131/300\n",
      " - 33s - loss: 0.3339 - accuracy: 0.8512 - val_loss: 0.4196 - val_accuracy: 0.8119\n",
      "Epoch 132/300\n",
      " - 30s - loss: 0.3339 - accuracy: 0.8508 - val_loss: 0.4207 - val_accuracy: 0.8116\n",
      "Epoch 133/300\n",
      " - 30s - loss: 0.3337 - accuracy: 0.8513 - val_loss: 0.4214 - val_accuracy: 0.8136\n",
      "Epoch 134/300\n",
      " - 32s - loss: 0.3337 - accuracy: 0.8510 - val_loss: 0.4207 - val_accuracy: 0.8131\n",
      "Epoch 135/300\n",
      " - 35s - loss: 0.3337 - accuracy: 0.8508 - val_loss: 0.4213 - val_accuracy: 0.8125\n",
      "Epoch 136/300\n",
      " - 35s - loss: 0.3335 - accuracy: 0.8513 - val_loss: 0.4225 - val_accuracy: 0.8124\n",
      "Epoch 137/300\n",
      " - 35s - loss: 0.3335 - accuracy: 0.8509 - val_loss: 0.4220 - val_accuracy: 0.8129\n",
      "Epoch 138/300\n",
      " - 36s - loss: 0.3334 - accuracy: 0.8513 - val_loss: 0.4226 - val_accuracy: 0.8125\n",
      "Epoch 139/300\n",
      " - 35s - loss: 0.3333 - accuracy: 0.8510 - val_loss: 0.4235 - val_accuracy: 0.8128\n",
      "Epoch 140/300\n",
      " - 31s - loss: 0.3333 - accuracy: 0.8511 - val_loss: 0.4216 - val_accuracy: 0.8108\n",
      "Epoch 141/300\n",
      " - 31s - loss: 0.3331 - accuracy: 0.8514 - val_loss: 0.4231 - val_accuracy: 0.8127\n",
      "Epoch 142/300\n",
      " - 31s - loss: 0.3331 - accuracy: 0.8516 - val_loss: 0.4221 - val_accuracy: 0.8121\n",
      "Epoch 143/300\n",
      " - 31s - loss: 0.3330 - accuracy: 0.8512 - val_loss: 0.4234 - val_accuracy: 0.8093\n",
      "Epoch 144/300\n",
      " - 32s - loss: 0.3329 - accuracy: 0.8514 - val_loss: 0.4226 - val_accuracy: 0.8114\n",
      "Epoch 145/300\n",
      " - 30s - loss: 0.3328 - accuracy: 0.8512 - val_loss: 0.4216 - val_accuracy: 0.8116\n",
      "Epoch 146/300\n",
      " - 31s - loss: 0.3328 - accuracy: 0.8515 - val_loss: 0.4249 - val_accuracy: 0.8068\n",
      "Epoch 147/300\n",
      " - 32s - loss: 0.3327 - accuracy: 0.8514 - val_loss: 0.4213 - val_accuracy: 0.8116\n",
      "Epoch 148/300\n",
      " - 32s - loss: 0.3326 - accuracy: 0.8514 - val_loss: 0.4233 - val_accuracy: 0.8093\n",
      "Epoch 149/300\n",
      " - 31s - loss: 0.3327 - accuracy: 0.8517 - val_loss: 0.4262 - val_accuracy: 0.8136\n",
      "Epoch 150/300\n",
      " - 31s - loss: 0.3326 - accuracy: 0.8513 - val_loss: 0.4230 - val_accuracy: 0.8132\n",
      "Epoch 151/300\n",
      " - 34s - loss: 0.3325 - accuracy: 0.8514 - val_loss: 0.4231 - val_accuracy: 0.8115\n",
      "Epoch 152/300\n",
      " - 32s - loss: 0.3325 - accuracy: 0.8517 - val_loss: 0.4232 - val_accuracy: 0.8099\n",
      "Epoch 153/300\n",
      " - 32s - loss: 0.3324 - accuracy: 0.8517 - val_loss: 0.4244 - val_accuracy: 0.8116\n",
      "Epoch 154/300\n",
      " - 33s - loss: 0.3324 - accuracy: 0.8517 - val_loss: 0.4232 - val_accuracy: 0.8111\n",
      "Epoch 155/300\n",
      " - 31s - loss: 0.3323 - accuracy: 0.8518 - val_loss: 0.4233 - val_accuracy: 0.8103\n",
      "Epoch 156/300\n",
      " - 31s - loss: 0.3323 - accuracy: 0.8515 - val_loss: 0.4242 - val_accuracy: 0.8117\n",
      "Epoch 157/300\n",
      " - 35s - loss: 0.3321 - accuracy: 0.8518 - val_loss: 0.4264 - val_accuracy: 0.8075\n",
      "Epoch 158/300\n",
      " - 38s - loss: 0.3322 - accuracy: 0.8518 - val_loss: 0.4245 - val_accuracy: 0.8095\n",
      "Epoch 159/300\n",
      " - 34s - loss: 0.3322 - accuracy: 0.8518 - val_loss: 0.4231 - val_accuracy: 0.8126\n",
      "Epoch 160/300\n",
      " - 32s - loss: 0.3321 - accuracy: 0.8517 - val_loss: 0.4239 - val_accuracy: 0.8119\n",
      "Epoch 161/300\n",
      " - 32s - loss: 0.3320 - accuracy: 0.8522 - val_loss: 0.4238 - val_accuracy: 0.8123\n",
      "Epoch 162/300\n",
      " - 30s - loss: 0.3319 - accuracy: 0.8519 - val_loss: 0.4264 - val_accuracy: 0.8133\n",
      "Epoch 163/300\n",
      " - 30s - loss: 0.3320 - accuracy: 0.8518 - val_loss: 0.4249 - val_accuracy: 0.8119\n",
      "Epoch 164/300\n",
      " - 30s - loss: 0.3320 - accuracy: 0.8516 - val_loss: 0.4241 - val_accuracy: 0.8110\n",
      "Epoch 165/300\n",
      " - 30s - loss: 0.3318 - accuracy: 0.8519 - val_loss: 0.4243 - val_accuracy: 0.8116\n",
      "Epoch 166/300\n",
      " - 30s - loss: 0.3318 - accuracy: 0.8519 - val_loss: 0.4243 - val_accuracy: 0.8105\n",
      "Epoch 167/300\n",
      " - 30s - loss: 0.3317 - accuracy: 0.8523 - val_loss: 0.4249 - val_accuracy: 0.8121\n",
      "Epoch 168/300\n",
      " - 30s - loss: 0.3317 - accuracy: 0.8521 - val_loss: 0.4249 - val_accuracy: 0.8109\n",
      "Epoch 169/300\n",
      " - 30s - loss: 0.3317 - accuracy: 0.8520 - val_loss: 0.4260 - val_accuracy: 0.8072\n",
      "Epoch 170/300\n",
      " - 30s - loss: 0.3316 - accuracy: 0.8519 - val_loss: 0.4245 - val_accuracy: 0.8129\n"
     ]
    },
    {
     "name": "stdout",
     "output_type": "stream",
     "text": [
      "Epoch 171/300\n",
      " - 30s - loss: 0.3317 - accuracy: 0.8520 - val_loss: 0.4248 - val_accuracy: 0.8122\n",
      "Epoch 172/300\n",
      " - 30s - loss: 0.3314 - accuracy: 0.8523 - val_loss: 0.4242 - val_accuracy: 0.8128\n",
      "Epoch 173/300\n",
      " - 35s - loss: 0.3315 - accuracy: 0.8520 - val_loss: 0.4246 - val_accuracy: 0.8125\n",
      "Epoch 174/300\n",
      " - 33s - loss: 0.3314 - accuracy: 0.8522 - val_loss: 0.4258 - val_accuracy: 0.8124\n",
      "Epoch 175/300\n",
      " - 32s - loss: 0.3314 - accuracy: 0.8526 - val_loss: 0.4255 - val_accuracy: 0.8107\n",
      "Epoch 176/300\n",
      " - 30s - loss: 0.3314 - accuracy: 0.8524 - val_loss: 0.4255 - val_accuracy: 0.8123\n",
      "Epoch 177/300\n",
      " - 30s - loss: 0.3313 - accuracy: 0.8525 - val_loss: 0.4275 - val_accuracy: 0.8061\n",
      "Epoch 178/300\n",
      " - 30s - loss: 0.3313 - accuracy: 0.8524 - val_loss: 0.4249 - val_accuracy: 0.8116\n",
      "Epoch 179/300\n",
      " - 32s - loss: 0.3312 - accuracy: 0.8527 - val_loss: 0.4249 - val_accuracy: 0.8112\n",
      "Epoch 180/300\n",
      " - 30s - loss: 0.3311 - accuracy: 0.8525 - val_loss: 0.4255 - val_accuracy: 0.8082\n",
      "Epoch 181/300\n",
      " - 30s - loss: 0.3311 - accuracy: 0.8529 - val_loss: 0.4273 - val_accuracy: 0.8072\n",
      "Epoch 182/300\n",
      " - 31s - loss: 0.3311 - accuracy: 0.8526 - val_loss: 0.4258 - val_accuracy: 0.8110\n",
      "Epoch 183/300\n",
      " - 30s - loss: 0.3311 - accuracy: 0.8523 - val_loss: 0.4262 - val_accuracy: 0.8121\n",
      "Epoch 184/300\n",
      " - 31s - loss: 0.3311 - accuracy: 0.8525 - val_loss: 0.4271 - val_accuracy: 0.8114\n",
      "Epoch 185/300\n",
      " - 31s - loss: 0.3310 - accuracy: 0.8528 - val_loss: 0.4237 - val_accuracy: 0.8112\n",
      "Epoch 186/300\n",
      " - 31s - loss: 0.3310 - accuracy: 0.8526 - val_loss: 0.4254 - val_accuracy: 0.8085\n",
      "Epoch 187/300\n",
      " - 32s - loss: 0.3309 - accuracy: 0.8526 - val_loss: 0.4253 - val_accuracy: 0.8116\n",
      "Epoch 188/300\n",
      " - 31s - loss: 0.3309 - accuracy: 0.8528 - val_loss: 0.4257 - val_accuracy: 0.8100\n",
      "Epoch 189/300\n",
      " - 33s - loss: 0.3309 - accuracy: 0.8529 - val_loss: 0.4247 - val_accuracy: 0.8103\n",
      "Epoch 190/300\n",
      " - 33s - loss: 0.3309 - accuracy: 0.8526 - val_loss: 0.4263 - val_accuracy: 0.8101\n",
      "Epoch 191/300\n",
      " - 31s - loss: 0.3308 - accuracy: 0.8527 - val_loss: 0.4270 - val_accuracy: 0.8090\n",
      "Epoch 192/300\n",
      " - 30s - loss: 0.3308 - accuracy: 0.8526 - val_loss: 0.4253 - val_accuracy: 0.8126\n",
      "Epoch 193/300\n",
      " - 30s - loss: 0.3308 - accuracy: 0.8526 - val_loss: 0.4266 - val_accuracy: 0.8083\n",
      "Epoch 194/300\n",
      " - 32s - loss: 0.3307 - accuracy: 0.8527 - val_loss: 0.4238 - val_accuracy: 0.8105\n",
      "Epoch 195/300\n",
      " - 31s - loss: 0.3307 - accuracy: 0.8526 - val_loss: 0.4249 - val_accuracy: 0.8124\n",
      "Epoch 196/300\n",
      " - 23s - loss: 0.3306 - accuracy: 0.8527 - val_loss: 0.4244 - val_accuracy: 0.8112\n",
      "Epoch 197/300\n",
      " - 23s - loss: 0.3307 - accuracy: 0.8530 - val_loss: 0.4279 - val_accuracy: 0.8130\n",
      "Epoch 198/300\n",
      " - 23s - loss: 0.3305 - accuracy: 0.8528 - val_loss: 0.4261 - val_accuracy: 0.8112\n",
      "Epoch 199/300\n",
      " - 23s - loss: 0.3306 - accuracy: 0.8528 - val_loss: 0.4260 - val_accuracy: 0.8100\n",
      "Epoch 200/300\n",
      " - 22s - loss: 0.3305 - accuracy: 0.8529 - val_loss: 0.4279 - val_accuracy: 0.8128\n",
      "Epoch 201/300\n",
      " - 22s - loss: 0.3305 - accuracy: 0.8532 - val_loss: 0.4269 - val_accuracy: 0.8115\n",
      "Epoch 202/300\n",
      " - 22s - loss: 0.3304 - accuracy: 0.8530 - val_loss: 0.4276 - val_accuracy: 0.8114\n",
      "Epoch 203/300\n",
      " - 22s - loss: 0.3305 - accuracy: 0.8531 - val_loss: 0.4251 - val_accuracy: 0.8093\n",
      "Epoch 204/300\n",
      " - 22s - loss: 0.3305 - accuracy: 0.8531 - val_loss: 0.4252 - val_accuracy: 0.8086\n",
      "Epoch 205/300\n",
      " - 22s - loss: 0.3303 - accuracy: 0.8529 - val_loss: 0.4267 - val_accuracy: 0.8122\n",
      "Epoch 206/300\n",
      " - 22s - loss: 0.3303 - accuracy: 0.8527 - val_loss: 0.4268 - val_accuracy: 0.8108\n",
      "Epoch 207/300\n",
      " - 22s - loss: 0.3303 - accuracy: 0.8530 - val_loss: 0.4277 - val_accuracy: 0.8124\n",
      "Epoch 208/300\n",
      " - 22s - loss: 0.3303 - accuracy: 0.8533 - val_loss: 0.4255 - val_accuracy: 0.8108\n",
      "Epoch 209/300\n",
      " - 22s - loss: 0.3302 - accuracy: 0.8531 - val_loss: 0.4261 - val_accuracy: 0.8106\n",
      "Epoch 210/300\n",
      " - 22s - loss: 0.3302 - accuracy: 0.8532 - val_loss: 0.4271 - val_accuracy: 0.8086\n",
      "Epoch 211/300\n",
      " - 22s - loss: 0.3301 - accuracy: 0.8528 - val_loss: 0.4257 - val_accuracy: 0.8121\n",
      "Epoch 212/300\n",
      " - 22s - loss: 0.3301 - accuracy: 0.8529 - val_loss: 0.4254 - val_accuracy: 0.8119\n",
      "Epoch 213/300\n",
      " - 22s - loss: 0.3300 - accuracy: 0.8531 - val_loss: 0.4281 - val_accuracy: 0.8135\n",
      "Epoch 214/300\n",
      " - 22s - loss: 0.3301 - accuracy: 0.8532 - val_loss: 0.4269 - val_accuracy: 0.8127\n",
      "Epoch 215/300\n",
      " - 23s - loss: 0.3300 - accuracy: 0.8535 - val_loss: 0.4274 - val_accuracy: 0.8076\n",
      "Epoch 216/300\n",
      " - 22s - loss: 0.3301 - accuracy: 0.8529 - val_loss: 0.4261 - val_accuracy: 0.8102\n",
      "Epoch 217/300\n",
      " - 22s - loss: 0.3302 - accuracy: 0.8533 - val_loss: 0.4286 - val_accuracy: 0.8131\n",
      "Epoch 218/300\n",
      " - 26s - loss: 0.3301 - accuracy: 0.8530 - val_loss: 0.4292 - val_accuracy: 0.8136\n",
      "Epoch 219/300\n",
      " - 23s - loss: 0.3300 - accuracy: 0.8531 - val_loss: 0.4258 - val_accuracy: 0.8118\n",
      "Epoch 220/300\n",
      " - 22s - loss: 0.3299 - accuracy: 0.8531 - val_loss: 0.4275 - val_accuracy: 0.8120\n",
      "Epoch 221/300\n",
      " - 23s - loss: 0.3299 - accuracy: 0.8531 - val_loss: 0.4258 - val_accuracy: 0.8118\n",
      "Epoch 222/300\n",
      " - 22s - loss: 0.3298 - accuracy: 0.8535 - val_loss: 0.4264 - val_accuracy: 0.8107\n",
      "Epoch 223/300\n",
      " - 22s - loss: 0.3298 - accuracy: 0.8529 - val_loss: 0.4280 - val_accuracy: 0.8123\n",
      "Epoch 224/300\n",
      " - 22s - loss: 0.3298 - accuracy: 0.8531 - val_loss: 0.4265 - val_accuracy: 0.8112\n",
      "Epoch 225/300\n",
      " - 22s - loss: 0.3299 - accuracy: 0.8534 - val_loss: 0.4268 - val_accuracy: 0.8111\n",
      "Epoch 226/300\n",
      " - 22s - loss: 0.3298 - accuracy: 0.8531 - val_loss: 0.4275 - val_accuracy: 0.8132\n",
      "Epoch 227/300\n",
      " - 22s - loss: 0.3299 - accuracy: 0.8531 - val_loss: 0.4267 - val_accuracy: 0.8119\n",
      "Epoch 228/300\n",
      " - 22s - loss: 0.3299 - accuracy: 0.8533 - val_loss: 0.4268 - val_accuracy: 0.8115\n",
      "Epoch 229/300\n",
      " - 22s - loss: 0.3297 - accuracy: 0.8532 - val_loss: 0.4273 - val_accuracy: 0.8113\n",
      "Epoch 230/300\n",
      " - 22s - loss: 0.3298 - accuracy: 0.8531 - val_loss: 0.4292 - val_accuracy: 0.8130\n",
      "Epoch 231/300\n",
      " - 22s - loss: 0.3296 - accuracy: 0.8534 - val_loss: 0.4274 - val_accuracy: 0.8125\n",
      "Epoch 232/300\n",
      " - 22s - loss: 0.3297 - accuracy: 0.8535 - val_loss: 0.4272 - val_accuracy: 0.8123\n",
      "Epoch 233/300\n",
      " - 22s - loss: 0.3296 - accuracy: 0.8535 - val_loss: 0.4267 - val_accuracy: 0.8132\n",
      "Epoch 234/300\n",
      " - 22s - loss: 0.3297 - accuracy: 0.8533 - val_loss: 0.4261 - val_accuracy: 0.8110\n",
      "Epoch 235/300\n",
      " - 26s - loss: 0.3296 - accuracy: 0.8535 - val_loss: 0.4267 - val_accuracy: 0.8104\n",
      "Epoch 236/300\n",
      " - 23s - loss: 0.3296 - accuracy: 0.8536 - val_loss: 0.4278 - val_accuracy: 0.8102\n",
      "Epoch 237/300\n",
      " - 22s - loss: 0.3296 - accuracy: 0.8535 - val_loss: 0.4283 - val_accuracy: 0.8090\n",
      "Epoch 238/300\n",
      " - 22s - loss: 0.3295 - accuracy: 0.8539 - val_loss: 0.4266 - val_accuracy: 0.8111\n",
      "Epoch 239/300\n",
      " - 22s - loss: 0.3297 - accuracy: 0.8533 - val_loss: 0.4283 - val_accuracy: 0.8120\n",
      "Epoch 240/300\n",
      " - 22s - loss: 0.3294 - accuracy: 0.8536 - val_loss: 0.4280 - val_accuracy: 0.8083\n",
      "Epoch 241/300\n",
      " - 22s - loss: 0.3295 - accuracy: 0.8534 - val_loss: 0.4264 - val_accuracy: 0.8111\n",
      "Epoch 242/300\n",
      " - 22s - loss: 0.3295 - accuracy: 0.8536 - val_loss: 0.4261 - val_accuracy: 0.8102\n",
      "Epoch 243/300\n",
      " - 22s - loss: 0.3294 - accuracy: 0.8535 - val_loss: 0.4282 - val_accuracy: 0.8091\n",
      "Epoch 244/300\n",
      " - 22s - loss: 0.3294 - accuracy: 0.8538 - val_loss: 0.4291 - val_accuracy: 0.8107\n",
      "Epoch 245/300\n",
      " - 22s - loss: 0.3294 - accuracy: 0.8534 - val_loss: 0.4270 - val_accuracy: 0.8117\n",
      "Epoch 246/300\n",
      " - 22s - loss: 0.3294 - accuracy: 0.8535 - val_loss: 0.4274 - val_accuracy: 0.8117\n",
      "Epoch 247/300\n",
      " - 22s - loss: 0.3295 - accuracy: 0.8537 - val_loss: 0.4261 - val_accuracy: 0.8102\n",
      "Epoch 248/300\n",
      " - 22s - loss: 0.3294 - accuracy: 0.8536 - val_loss: 0.4272 - val_accuracy: 0.8120\n",
      "Epoch 249/300\n",
      " - 22s - loss: 0.3295 - accuracy: 0.8537 - val_loss: 0.4283 - val_accuracy: 0.8073\n",
      "Epoch 250/300\n",
      " - 23s - loss: 0.3293 - accuracy: 0.8533 - val_loss: 0.4273 - val_accuracy: 0.8084\n",
      "Epoch 251/300\n",
      " - 22s - loss: 0.3292 - accuracy: 0.8534 - val_loss: 0.4270 - val_accuracy: 0.8103\n",
      "Epoch 252/300\n",
      " - 22s - loss: 0.3292 - accuracy: 0.8536 - val_loss: 0.4281 - val_accuracy: 0.8105\n",
      "Epoch 253/300\n",
      " - 23s - loss: 0.3293 - accuracy: 0.8539 - val_loss: 0.4270 - val_accuracy: 0.8092\n",
      "Epoch 254/300\n",
      " - 22s - loss: 0.3292 - accuracy: 0.8536 - val_loss: 0.4286 - val_accuracy: 0.8123\n",
      "Epoch 255/300\n",
      " - 22s - loss: 0.3291 - accuracy: 0.8533 - val_loss: 0.4280 - val_accuracy: 0.8122\n"
     ]
    },
    {
     "name": "stdout",
     "output_type": "stream",
     "text": [
      "Epoch 256/300\n",
      " - 22s - loss: 0.3292 - accuracy: 0.8536 - val_loss: 0.4286 - val_accuracy: 0.8089\n",
      "Epoch 257/300\n",
      " - 22s - loss: 0.3290 - accuracy: 0.8538 - val_loss: 0.4285 - val_accuracy: 0.8108\n",
      "Epoch 258/300\n",
      " - 22s - loss: 0.3292 - accuracy: 0.8534 - val_loss: 0.4301 - val_accuracy: 0.8106\n",
      "Epoch 259/300\n",
      " - 22s - loss: 0.3290 - accuracy: 0.8534 - val_loss: 0.4286 - val_accuracy: 0.8076\n",
      "Epoch 260/300\n",
      " - 22s - loss: 0.3290 - accuracy: 0.8538 - val_loss: 0.4287 - val_accuracy: 0.8115\n",
      "Epoch 261/300\n",
      " - 23s - loss: 0.3291 - accuracy: 0.8535 - val_loss: 0.4278 - val_accuracy: 0.8087\n",
      "Epoch 262/300\n",
      " - 22s - loss: 0.3289 - accuracy: 0.8538 - val_loss: 0.4282 - val_accuracy: 0.8104\n",
      "Epoch 263/300\n",
      " - 22s - loss: 0.3289 - accuracy: 0.8537 - val_loss: 0.4319 - val_accuracy: 0.8132\n",
      "Epoch 264/300\n",
      " - 22s - loss: 0.3289 - accuracy: 0.8540 - val_loss: 0.4328 - val_accuracy: 0.8021\n",
      "Epoch 265/300\n",
      " - 22s - loss: 0.3290 - accuracy: 0.8536 - val_loss: 0.4314 - val_accuracy: 0.8133\n",
      "Epoch 266/300\n",
      " - 22s - loss: 0.3289 - accuracy: 0.8537 - val_loss: 0.4283 - val_accuracy: 0.8118\n",
      "Epoch 267/300\n",
      " - 22s - loss: 0.3288 - accuracy: 0.8541 - val_loss: 0.4284 - val_accuracy: 0.8080\n",
      "Epoch 268/300\n",
      " - 22s - loss: 0.3289 - accuracy: 0.8542 - val_loss: 0.4271 - val_accuracy: 0.8094\n",
      "Epoch 269/300\n",
      " - 22s - loss: 0.3290 - accuracy: 0.8538 - val_loss: 0.4281 - val_accuracy: 0.8099\n",
      "Epoch 270/300\n",
      " - 22s - loss: 0.3288 - accuracy: 0.8540 - val_loss: 0.4277 - val_accuracy: 0.8101\n",
      "Epoch 271/300\n",
      " - 22s - loss: 0.3288 - accuracy: 0.8538 - val_loss: 0.4298 - val_accuracy: 0.8114\n",
      "Epoch 272/300\n",
      " - 22s - loss: 0.3287 - accuracy: 0.8539 - val_loss: 0.4289 - val_accuracy: 0.8103\n",
      "Epoch 273/300\n",
      " - 22s - loss: 0.3289 - accuracy: 0.8538 - val_loss: 0.4290 - val_accuracy: 0.8116\n",
      "Epoch 274/300\n",
      " - 22s - loss: 0.3288 - accuracy: 0.8539 - val_loss: 0.4297 - val_accuracy: 0.8122\n",
      "Epoch 275/300\n",
      " - 22s - loss: 0.3288 - accuracy: 0.8541 - val_loss: 0.4274 - val_accuracy: 0.8092\n",
      "Epoch 276/300\n",
      " - 22s - loss: 0.3288 - accuracy: 0.8540 - val_loss: 0.4287 - val_accuracy: 0.8091\n",
      "Epoch 277/300\n",
      " - 22s - loss: 0.3288 - accuracy: 0.8541 - val_loss: 0.4282 - val_accuracy: 0.8103\n",
      "Epoch 278/300\n",
      " - 22s - loss: 0.3289 - accuracy: 0.8540 - val_loss: 0.4283 - val_accuracy: 0.8119\n",
      "Epoch 279/300\n",
      " - 22s - loss: 0.3288 - accuracy: 0.8540 - val_loss: 0.4285 - val_accuracy: 0.8096\n",
      "Epoch 280/300\n",
      " - 22s - loss: 0.3288 - accuracy: 0.8540 - val_loss: 0.4302 - val_accuracy: 0.8119\n",
      "Epoch 281/300\n",
      " - 22s - loss: 0.3287 - accuracy: 0.8542 - val_loss: 0.4307 - val_accuracy: 0.8123\n",
      "Epoch 282/300\n",
      " - 22s - loss: 0.3287 - accuracy: 0.8539 - val_loss: 0.4282 - val_accuracy: 0.8087\n",
      "Epoch 283/300\n",
      " - 22s - loss: 0.3287 - accuracy: 0.8540 - val_loss: 0.4288 - val_accuracy: 0.8090\n",
      "Epoch 284/300\n",
      " - 22s - loss: 0.3287 - accuracy: 0.8538 - val_loss: 0.4296 - val_accuracy: 0.8109\n",
      "Epoch 285/300\n",
      " - 22s - loss: 0.3286 - accuracy: 0.8540 - val_loss: 0.4285 - val_accuracy: 0.8073\n",
      "Epoch 286/300\n",
      " - 22s - loss: 0.3286 - accuracy: 0.8540 - val_loss: 0.4293 - val_accuracy: 0.8084\n",
      "Epoch 287/300\n",
      " - 22s - loss: 0.3286 - accuracy: 0.8538 - val_loss: 0.4284 - val_accuracy: 0.8094\n",
      "Epoch 288/300\n",
      " - 22s - loss: 0.3287 - accuracy: 0.8543 - val_loss: 0.4287 - val_accuracy: 0.8111\n",
      "Epoch 289/300\n",
      " - 23s - loss: 0.3287 - accuracy: 0.8539 - val_loss: 0.4283 - val_accuracy: 0.8102\n",
      "Epoch 290/300\n",
      " - 22s - loss: 0.3287 - accuracy: 0.8540 - val_loss: 0.4309 - val_accuracy: 0.8047\n",
      "Epoch 291/300\n",
      " - 22s - loss: 0.3286 - accuracy: 0.8541 - val_loss: 0.4295 - val_accuracy: 0.8108\n",
      "Epoch 292/300\n",
      " - 22s - loss: 0.3288 - accuracy: 0.8539 - val_loss: 0.4299 - val_accuracy: 0.8112\n",
      "Epoch 293/300\n",
      " - 22s - loss: 0.3287 - accuracy: 0.8537 - val_loss: 0.4305 - val_accuracy: 0.8117\n",
      "Epoch 294/300\n",
      " - 22s - loss: 0.3285 - accuracy: 0.8539 - val_loss: 0.4298 - val_accuracy: 0.8113\n",
      "Epoch 295/300\n",
      " - 22s - loss: 0.3286 - accuracy: 0.8541 - val_loss: 0.4283 - val_accuracy: 0.8092\n",
      "Epoch 296/300\n",
      " - 22s - loss: 0.3286 - accuracy: 0.8539 - val_loss: 0.4285 - val_accuracy: 0.8104\n",
      "Epoch 297/300\n",
      " - 22s - loss: 0.3285 - accuracy: 0.8540 - val_loss: 0.4284 - val_accuracy: 0.8072\n",
      "Epoch 298/300\n",
      " - 22s - loss: 0.3286 - accuracy: 0.8542 - val_loss: 0.4292 - val_accuracy: 0.8108\n",
      "Epoch 299/300\n",
      " - 22s - loss: 0.3284 - accuracy: 0.8539 - val_loss: 0.4296 - val_accuracy: 0.8111\n",
      "Epoch 300/300\n",
      " - 22s - loss: 0.3285 - accuracy: 0.8543 - val_loss: 0.4285 - val_accuracy: 0.8090\n"
     ]
    }
   ],
   "source": [
    "history = model.fit(nnX_train, \n",
    "                      nny_train,\n",
    "                      epochs=300, \n",
    "                      verbose=2, \n",
    "                      batch_size=100, \n",
    "                      validation_data=(nnX_test, nny_test)) "
   ]
  },
  {
   "cell_type": "code",
   "execution_count": 105,
   "metadata": {},
   "outputs": [],
   "source": [
    "training_acc = history.history['accuracy']\n",
    "test_acc = history.history['val_accuracy']"
   ]
  },
  {
   "cell_type": "markdown",
   "metadata": {},
   "source": [
    "### Parameter Tuning with GridSearch"
   ]
  },
  {
   "cell_type": "markdown",
   "metadata": {},
   "source": [
    "### Prediction Function and Conclusions"
   ]
  },
  {
   "cell_type": "code",
   "execution_count": 88,
   "metadata": {},
   "outputs": [
    {
     "data": {
      "text/plain": [
       "<matplotlib.axes._subplots.AxesSubplot at 0x168f007a2e8>"
      ]
     },
     "execution_count": 88,
     "metadata": {},
     "output_type": "execute_result"
    },
    {
     "data": {
      "image/png": "[encoded data removed]",
      "text/plain": [
       "<Figure size 432x288 with 1 Axes>"
      ]
     },
     "metadata": {
      "needs_background": "light"
     },
     "output_type": "display_data"
    }
   ],
   "source": [
    "n_comp = []\n",
    "scores = []\n",
    "for n in range(50, 80):\n",
    "    pipe = Pipeline([('t_proc', CountVectorizer()),\n",
    "                 (\"tsvd\", TruncatedSVD(n_components=n, random_state=random_state)),\n",
    "                 (\"sm\", SMOTE(random_state=random_state)),\n",
    "                 ('clf', LogisticRegression())])\n",
    "    pipe.fit(X_train, y_train)\n",
    "    score = pipe.score(X_train, y_train)\n",
    "    n_comp.append(n)\n",
    "    scores.append(score)\n",
    "sns.lineplot(x=n_comp, y=scores)"
   ]
  },
  {
   "cell_type": "code",
   "execution_count": null,
   "metadata": {},
   "outputs": [],
   "source": [
    "# set max features for count vectorizer, top 1000 tokens. Run without Truncated SVD. Check # of tokens. look at feature importances\n",
    "# last few importances are close to zero. lowest feature importances above 0.01"
   ]
  },
  {
   "cell_type": "code",
   "execution_count": null,
   "metadata": {},
   "outputs": [],
   "source": [
    "## Data limitations, conclusion is that its hard to distinguish"
   ]
  },
  {
   "cell_type": "code",
   "execution_count": null,
   "metadata": {},
   "outputs": [],
   "source": [
    "## code from google collab notebook. change input dimension to match df. "
   ]
  },
  {
   "cell_type": "code",
   "execution_count": null,
   "metadata": {},
   "outputs": [],
   "source": [
    "# baselines with models, text processing techniques. "
   ]
  },
  {
   "cell_type": "code",
   "execution_count": 10,
   "metadata": {},
   "outputs": [],
   "source": [
    "class Word2Vec(object):\n",
    "    def __init__(self, wv, dim):\n",
    "        self.wv = wv\n",
    "        self.dim = dim\n",
    "\n",
    "    def fit(self, X, y):\n",
    "        return self\n",
    "\n",
    "    def transform(self, X):\n",
    "         return np.array([np.mean([self.wv[w] for w in text if w in self.wv]\n",
    "                    or [np.zeros(self.dim)], axis=0) for text in X])"
   ]
  },
  {
   "cell_type": "code",
   "execution_count": 47,
   "metadata": {},
   "outputs": [],
   "source": [
    "text_processors = [CountVectorizer(), TfidfVectorizer()]\n",
    "components = 5\n",
    "classifiers = {LogisticRegression():\n",
    "               {\"clf__C\":np.logspace(-3,3,7),\n",
    "                \"clf__penalty\":[\"l1\",\"l2\"]},\n",
    "              RandomForestClassifier():\n",
    "              {\"clf__n_estimators\": [10, 30, 100],\n",
    "                \"clf__max_depth\": [2, 6, 10],\n",
    "                \"clf__min_samples_split\": [2, 5, 10]\n",
    "                }}"
   ]
  },
  {
   "cell_type": "code",
   "execution_count": 45,
   "metadata": {},
   "outputs": [],
   "source": [
    "pipe = Pipeline([('clf', RandomForestClassifier\n",
    "                  ())])"
   ]
  },
  {
   "cell_type": "code",
   "execution_count": 46,
   "metadata": {},
   "outputs": [
    {
     "data": {
      "text/plain": [
       "dict_keys(['memory', 'steps', 'verbose', 'clf', 'clf__bootstrap', 'clf__ccp_alpha', 'clf__class_weight', 'clf__criterion', 'clf__max_depth', 'clf__max_features', 'clf__max_leaf_nodes', 'clf__max_samples', 'clf__min_impurity_decrease', 'clf__min_impurity_split', 'clf__min_samples_leaf', 'clf__min_samples_split', 'clf__min_weight_fraction_leaf', 'clf__n_estimators', 'clf__n_jobs', 'clf__oob_score', 'clf__random_state', 'clf__verbose', 'clf__warm_start'])"
      ]
     },
     "execution_count": 46,
     "metadata": {},
     "output_type": "execute_result"
    }
   ],
   "source": [
    "pipe.get_params().keys()"
   ]
  },
  {
   "cell_type": "code",
   "execution_count": null,
   "metadata": {},
   "outputs": [],
   "source": []
  },
  {
   "cell_type": "code",
   "execution_count": 48,
   "metadata": {},
   "outputs": [],
   "source": [
    "def process_classify_GS(classifiers, text_processors, components):\n",
    "    for processor in text_processors:\n",
    "        for key, val in classifiers.items():\n",
    "            pipe = Pipeline([(\"t_process\", processor),\n",
    "                             (\"tsvd\", TruncatedSVD(n_components=components, random_state=random_state)),\n",
    "                             ('clf', key)])\n",
    "            search = GridSearchCV(pipe, val, n_jobs=-1)\n",
    "            search.fit(X_train, y_train)\n",
    "            print(processor)\n",
    "            print(key)\n",
    "            print(search.best_score_)\n",
    "            print(search.best_params_)"
   ]
  },
  {
   "cell_type": "code",
   "execution_count": 35,
   "metadata": {},
   "outputs": [
    {
     "data": {
      "text/plain": [
       "dict_keys(['C', 'class_weight', 'dual', 'fit_intercept', 'intercept_scaling', 'l1_ratio', 'max_iter', 'multi_class', 'n_jobs', 'penalty', 'random_state', 'solver', 'tol', 'verbose', 'warm_start'])"
      ]
     },
     "execution_count": 35,
     "metadata": {},
     "output_type": "execute_result"
    }
   ],
   "source": [
    "LogisticRegression().get_params().keys()"
   ]
  },
  {
   "cell_type": "code",
   "execution_count": null,
   "metadata": {},
   "outputs": [],
   "source": [
    "def fit_return_metrics(model, X_train, y_train, X_test, y_test):\n",
    "    modelf = model.fit(X_train, y_train)\n",
    "    train_preds = modelf.predict(X_train)\n",
    "    test_preds = modelf.predict(X_test)\n",
    "    df_tr = pd.DataFrame(classification_report(y_train, train_preds, output_dict=True)).transpose().apply(lambda x: round(x, 2))\n",
    "    df_ts = pd.DataFrame(classification_report(y_test, test_preds, output_dict=True)).transpose().apply(lambda x: round(x, 2))\n",
    "    return df_tr, df_ts"
   ]
  },
  {
   "cell_type": "code",
   "execution_count": null,
   "metadata": {},
   "outputs": [],
   "source": [
    "def classifier_compare(text_processor, classifiers):\n",
    "    df_tst = pd.DataFrame()\n",
    "    df_train = pd.DataFrame()\n",
    "    for classifier in classifiers:\n",
    "        train, test = fit_return_metrics(classifier, X_train, y_train, X_test, y_test)\n",
    "        df_tst = pd.concat([df, test], axis=1)\n",
    "    pd.concat([xg_ts3, rf_ts3], axis=1, keys=[\"XGBoost\", \"Random Forest\"])"
   ]
  },
  {
   "cell_type": "code",
   "execution_count": 49,
   "metadata": {},
   "outputs": [
    {
     "name": "stderr",
     "output_type": "stream",
     "text": [
      "C:\\Users\\swzoe\\anaconda3\\envs\\learn-env\\lib\\site-packages\\sklearn\\model_selection\\_search.py:921: UserWarning: One or more of the test scores are non-finite: [       nan 0.75445172        nan 0.75445172        nan 0.75445172\n",
      "        nan 0.75445172        nan 0.75445172        nan 0.75445172\n",
      "        nan 0.75445172]\n",
      "  category=UserWarning\n"
     ]
    },
    {
     "name": "stdout",
     "output_type": "stream",
     "text": [
      "CountVectorizer()\n",
      "LogisticRegression()\n",
      "0.754451715188887\n",
      "{'clf__C': 0.001, 'clf__penalty': 'l2'}\n"
     ]
    },
    {
     "ename": "KeyboardInterrupt",
     "evalue": "",
     "output_type": "error",
     "traceback": [
      "\u001b[1;31m---------------------------------------------------------------------------\u001b[0m",
      "\u001b[1;31mKeyboardInterrupt\u001b[0m                         Traceback (most recent call last)",
      "\u001b[1;32m<ipython-input-49-badbbe222d73>\u001b[0m in \u001b[0;36m<module>\u001b[1;34m\u001b[0m\n\u001b[1;32m----> 1\u001b[1;33m \u001b[0mprocess_classify_GS\u001b[0m\u001b[1;33m(\u001b[0m\u001b[0mclassifiers\u001b[0m\u001b[1;33m,\u001b[0m \u001b[0mtext_processors\u001b[0m\u001b[1;33m,\u001b[0m \u001b[0mcomponents\u001b[0m\u001b[1;33m)\u001b[0m\u001b[1;33m\u001b[0m\u001b[1;33m\u001b[0m\u001b[0m\n\u001b[0m",
      "\u001b[1;32m<ipython-input-48-85fdbc8e60f9>\u001b[0m in \u001b[0;36mprocess_classify_GS\u001b[1;34m(classifiers, text_processors, components)\u001b[0m\n\u001b[0;32m      6\u001b[0m                              ('clf', key)])\n\u001b[0;32m      7\u001b[0m             \u001b[0msearch\u001b[0m \u001b[1;33m=\u001b[0m \u001b[0mGridSearchCV\u001b[0m\u001b[1;33m(\u001b[0m\u001b[0mpipe\u001b[0m\u001b[1;33m,\u001b[0m \u001b[0mval\u001b[0m\u001b[1;33m,\u001b[0m \u001b[0mn_jobs\u001b[0m\u001b[1;33m=\u001b[0m\u001b[1;33m-\u001b[0m\u001b[1;36m1\u001b[0m\u001b[1;33m)\u001b[0m\u001b[1;33m\u001b[0m\u001b[1;33m\u001b[0m\u001b[0m\n\u001b[1;32m----> 8\u001b[1;33m             \u001b[0msearch\u001b[0m\u001b[1;33m.\u001b[0m\u001b[0mfit\u001b[0m\u001b[1;33m(\u001b[0m\u001b[0mX_train\u001b[0m\u001b[1;33m,\u001b[0m \u001b[0my_train\u001b[0m\u001b[1;33m)\u001b[0m\u001b[1;33m\u001b[0m\u001b[1;33m\u001b[0m\u001b[0m\n\u001b[0m\u001b[0;32m      9\u001b[0m             \u001b[0mprint\u001b[0m\u001b[1;33m(\u001b[0m\u001b[0mprocessor\u001b[0m\u001b[1;33m)\u001b[0m\u001b[1;33m\u001b[0m\u001b[1;33m\u001b[0m\u001b[0m\n\u001b[0;32m     10\u001b[0m             \u001b[0mprint\u001b[0m\u001b[1;33m(\u001b[0m\u001b[0mkey\u001b[0m\u001b[1;33m)\u001b[0m\u001b[1;33m\u001b[0m\u001b[1;33m\u001b[0m\u001b[0m\n",
      "\u001b[1;32m~\\anaconda3\\envs\\learn-env\\lib\\site-packages\\sklearn\\utils\\validation.py\u001b[0m in \u001b[0;36minner_f\u001b[1;34m(*args, **kwargs)\u001b[0m\n\u001b[0;32m     61\u001b[0m             \u001b[0mextra_args\u001b[0m \u001b[1;33m=\u001b[0m \u001b[0mlen\u001b[0m\u001b[1;33m(\u001b[0m\u001b[0margs\u001b[0m\u001b[1;33m)\u001b[0m \u001b[1;33m-\u001b[0m \u001b[0mlen\u001b[0m\u001b[1;33m(\u001b[0m\u001b[0mall_args\u001b[0m\u001b[1;33m)\u001b[0m\u001b[1;33m\u001b[0m\u001b[1;33m\u001b[0m\u001b[0m\n\u001b[0;32m     62\u001b[0m             \u001b[1;32mif\u001b[0m \u001b[0mextra_args\u001b[0m \u001b[1;33m<=\u001b[0m \u001b[1;36m0\u001b[0m\u001b[1;33m:\u001b[0m\u001b[1;33m\u001b[0m\u001b[1;33m\u001b[0m\u001b[0m\n\u001b[1;32m---> 63\u001b[1;33m                 \u001b[1;32mreturn\u001b[0m \u001b[0mf\u001b[0m\u001b[1;33m(\u001b[0m\u001b[1;33m*\u001b[0m\u001b[0margs\u001b[0m\u001b[1;33m,\u001b[0m \u001b[1;33m**\u001b[0m\u001b[0mkwargs\u001b[0m\u001b[1;33m)\u001b[0m\u001b[1;33m\u001b[0m\u001b[1;33m\u001b[0m\u001b[0m\n\u001b[0m\u001b[0;32m     64\u001b[0m \u001b[1;33m\u001b[0m\u001b[0m\n\u001b[0;32m     65\u001b[0m             \u001b[1;31m# extra_args > 0\u001b[0m\u001b[1;33m\u001b[0m\u001b[1;33m\u001b[0m\u001b[1;33m\u001b[0m\u001b[0m\n",
      "\u001b[1;32m~\\anaconda3\\envs\\learn-env\\lib\\site-packages\\sklearn\\model_selection\\_search.py\u001b[0m in \u001b[0;36mfit\u001b[1;34m(self, X, y, groups, **fit_params)\u001b[0m\n\u001b[0;32m    839\u001b[0m                 \u001b[1;32mreturn\u001b[0m \u001b[0mresults\u001b[0m\u001b[1;33m\u001b[0m\u001b[1;33m\u001b[0m\u001b[0m\n\u001b[0;32m    840\u001b[0m \u001b[1;33m\u001b[0m\u001b[0m\n\u001b[1;32m--> 841\u001b[1;33m             \u001b[0mself\u001b[0m\u001b[1;33m.\u001b[0m\u001b[0m_run_search\u001b[0m\u001b[1;33m(\u001b[0m\u001b[0mevaluate_candidates\u001b[0m\u001b[1;33m)\u001b[0m\u001b[1;33m\u001b[0m\u001b[1;33m\u001b[0m\u001b[0m\n\u001b[0m\u001b[0;32m    842\u001b[0m \u001b[1;33m\u001b[0m\u001b[0m\n\u001b[0;32m    843\u001b[0m             \u001b[1;31m# multimetric is determined here because in the case of a callable\u001b[0m\u001b[1;33m\u001b[0m\u001b[1;33m\u001b[0m\u001b[1;33m\u001b[0m\u001b[0m\n",
      "\u001b[1;32m~\\anaconda3\\envs\\learn-env\\lib\\site-packages\\sklearn\\model_selection\\_search.py\u001b[0m in \u001b[0;36m_run_search\u001b[1;34m(self, evaluate_candidates)\u001b[0m\n\u001b[0;32m   1286\u001b[0m     \u001b[1;32mdef\u001b[0m \u001b[0m_run_search\u001b[0m\u001b[1;33m(\u001b[0m\u001b[0mself\u001b[0m\u001b[1;33m,\u001b[0m \u001b[0mevaluate_candidates\u001b[0m\u001b[1;33m)\u001b[0m\u001b[1;33m:\u001b[0m\u001b[1;33m\u001b[0m\u001b[1;33m\u001b[0m\u001b[0m\n\u001b[0;32m   1287\u001b[0m         \u001b[1;34m\"\"\"Search all candidates in param_grid\"\"\"\u001b[0m\u001b[1;33m\u001b[0m\u001b[1;33m\u001b[0m\u001b[0m\n\u001b[1;32m-> 1288\u001b[1;33m         \u001b[0mevaluate_candidates\u001b[0m\u001b[1;33m(\u001b[0m\u001b[0mParameterGrid\u001b[0m\u001b[1;33m(\u001b[0m\u001b[0mself\u001b[0m\u001b[1;33m.\u001b[0m\u001b[0mparam_grid\u001b[0m\u001b[1;33m)\u001b[0m\u001b[1;33m)\u001b[0m\u001b[1;33m\u001b[0m\u001b[1;33m\u001b[0m\u001b[0m\n\u001b[0m\u001b[0;32m   1289\u001b[0m \u001b[1;33m\u001b[0m\u001b[0m\n\u001b[0;32m   1290\u001b[0m \u001b[1;33m\u001b[0m\u001b[0m\n",
      "\u001b[1;32m~\\anaconda3\\envs\\learn-env\\lib\\site-packages\\sklearn\\model_selection\\_search.py\u001b[0m in \u001b[0;36mevaluate_candidates\u001b[1;34m(candidate_params, cv, more_results)\u001b[0m\n\u001b[0;32m    807\u001b[0m                                    (split_idx, (train, test)) in product(\n\u001b[0;32m    808\u001b[0m                                    \u001b[0menumerate\u001b[0m\u001b[1;33m(\u001b[0m\u001b[0mcandidate_params\u001b[0m\u001b[1;33m)\u001b[0m\u001b[1;33m,\u001b[0m\u001b[1;33m\u001b[0m\u001b[1;33m\u001b[0m\u001b[0m\n\u001b[1;32m--> 809\u001b[1;33m                                    enumerate(cv.split(X, y, groups))))\n\u001b[0m\u001b[0;32m    810\u001b[0m \u001b[1;33m\u001b[0m\u001b[0m\n\u001b[0;32m    811\u001b[0m                 \u001b[1;32mif\u001b[0m \u001b[0mlen\u001b[0m\u001b[1;33m(\u001b[0m\u001b[0mout\u001b[0m\u001b[1;33m)\u001b[0m \u001b[1;33m<\u001b[0m \u001b[1;36m1\u001b[0m\u001b[1;33m:\u001b[0m\u001b[1;33m\u001b[0m\u001b[1;33m\u001b[0m\u001b[0m\n",
      "\u001b[1;32m~\\anaconda3\\envs\\learn-env\\lib\\site-packages\\joblib\\parallel.py\u001b[0m in \u001b[0;36m__call__\u001b[1;34m(self, iterable)\u001b[0m\n\u001b[0;32m   1040\u001b[0m \u001b[1;33m\u001b[0m\u001b[0m\n\u001b[0;32m   1041\u001b[0m             \u001b[1;32mwith\u001b[0m \u001b[0mself\u001b[0m\u001b[1;33m.\u001b[0m\u001b[0m_backend\u001b[0m\u001b[1;33m.\u001b[0m\u001b[0mretrieval_context\u001b[0m\u001b[1;33m(\u001b[0m\u001b[1;33m)\u001b[0m\u001b[1;33m:\u001b[0m\u001b[1;33m\u001b[0m\u001b[1;33m\u001b[0m\u001b[0m\n\u001b[1;32m-> 1042\u001b[1;33m                 \u001b[0mself\u001b[0m\u001b[1;33m.\u001b[0m\u001b[0mretrieve\u001b[0m\u001b[1;33m(\u001b[0m\u001b[1;33m)\u001b[0m\u001b[1;33m\u001b[0m\u001b[1;33m\u001b[0m\u001b[0m\n\u001b[0m\u001b[0;32m   1043\u001b[0m             \u001b[1;31m# Make sure that we get a last message telling us we are done\u001b[0m\u001b[1;33m\u001b[0m\u001b[1;33m\u001b[0m\u001b[1;33m\u001b[0m\u001b[0m\n\u001b[0;32m   1044\u001b[0m             \u001b[0melapsed_time\u001b[0m \u001b[1;33m=\u001b[0m \u001b[0mtime\u001b[0m\u001b[1;33m.\u001b[0m\u001b[0mtime\u001b[0m\u001b[1;33m(\u001b[0m\u001b[1;33m)\u001b[0m \u001b[1;33m-\u001b[0m \u001b[0mself\u001b[0m\u001b[1;33m.\u001b[0m\u001b[0m_start_time\u001b[0m\u001b[1;33m\u001b[0m\u001b[1;33m\u001b[0m\u001b[0m\n",
      "\u001b[1;32m~\\anaconda3\\envs\\learn-env\\lib\\site-packages\\joblib\\parallel.py\u001b[0m in \u001b[0;36mretrieve\u001b[1;34m(self)\u001b[0m\n\u001b[0;32m    919\u001b[0m             \u001b[1;32mtry\u001b[0m\u001b[1;33m:\u001b[0m\u001b[1;33m\u001b[0m\u001b[1;33m\u001b[0m\u001b[0m\n\u001b[0;32m    920\u001b[0m                 \u001b[1;32mif\u001b[0m \u001b[0mgetattr\u001b[0m\u001b[1;33m(\u001b[0m\u001b[0mself\u001b[0m\u001b[1;33m.\u001b[0m\u001b[0m_backend\u001b[0m\u001b[1;33m,\u001b[0m \u001b[1;34m'supports_timeout'\u001b[0m\u001b[1;33m,\u001b[0m \u001b[1;32mFalse\u001b[0m\u001b[1;33m)\u001b[0m\u001b[1;33m:\u001b[0m\u001b[1;33m\u001b[0m\u001b[1;33m\u001b[0m\u001b[0m\n\u001b[1;32m--> 921\u001b[1;33m                     \u001b[0mself\u001b[0m\u001b[1;33m.\u001b[0m\u001b[0m_output\u001b[0m\u001b[1;33m.\u001b[0m\u001b[0mextend\u001b[0m\u001b[1;33m(\u001b[0m\u001b[0mjob\u001b[0m\u001b[1;33m.\u001b[0m\u001b[0mget\u001b[0m\u001b[1;33m(\u001b[0m\u001b[0mtimeout\u001b[0m\u001b[1;33m=\u001b[0m\u001b[0mself\u001b[0m\u001b[1;33m.\u001b[0m\u001b[0mtimeout\u001b[0m\u001b[1;33m)\u001b[0m\u001b[1;33m)\u001b[0m\u001b[1;33m\u001b[0m\u001b[1;33m\u001b[0m\u001b[0m\n\u001b[0m\u001b[0;32m    922\u001b[0m                 \u001b[1;32melse\u001b[0m\u001b[1;33m:\u001b[0m\u001b[1;33m\u001b[0m\u001b[1;33m\u001b[0m\u001b[0m\n\u001b[0;32m    923\u001b[0m                     \u001b[0mself\u001b[0m\u001b[1;33m.\u001b[0m\u001b[0m_output\u001b[0m\u001b[1;33m.\u001b[0m\u001b[0mextend\u001b[0m\u001b[1;33m(\u001b[0m\u001b[0mjob\u001b[0m\u001b[1;33m.\u001b[0m\u001b[0mget\u001b[0m\u001b[1;33m(\u001b[0m\u001b[1;33m)\u001b[0m\u001b[1;33m)\u001b[0m\u001b[1;33m\u001b[0m\u001b[1;33m\u001b[0m\u001b[0m\n",
      "\u001b[1;32m~\\anaconda3\\envs\\learn-env\\lib\\site-packages\\joblib\\_parallel_backends.py\u001b[0m in \u001b[0;36mwrap_future_result\u001b[1;34m(future, timeout)\u001b[0m\n\u001b[0;32m    540\u001b[0m         AsyncResults.get from multiprocessing.\"\"\"\n\u001b[0;32m    541\u001b[0m         \u001b[1;32mtry\u001b[0m\u001b[1;33m:\u001b[0m\u001b[1;33m\u001b[0m\u001b[1;33m\u001b[0m\u001b[0m\n\u001b[1;32m--> 542\u001b[1;33m             \u001b[1;32mreturn\u001b[0m \u001b[0mfuture\u001b[0m\u001b[1;33m.\u001b[0m\u001b[0mresult\u001b[0m\u001b[1;33m(\u001b[0m\u001b[0mtimeout\u001b[0m\u001b[1;33m=\u001b[0m\u001b[0mtimeout\u001b[0m\u001b[1;33m)\u001b[0m\u001b[1;33m\u001b[0m\u001b[1;33m\u001b[0m\u001b[0m\n\u001b[0m\u001b[0;32m    543\u001b[0m         \u001b[1;32mexcept\u001b[0m \u001b[0mCfTimeoutError\u001b[0m \u001b[1;32mas\u001b[0m \u001b[0me\u001b[0m\u001b[1;33m:\u001b[0m\u001b[1;33m\u001b[0m\u001b[1;33m\u001b[0m\u001b[0m\n\u001b[0;32m    544\u001b[0m             \u001b[1;32mraise\u001b[0m \u001b[0mTimeoutError\u001b[0m \u001b[1;32mfrom\u001b[0m \u001b[0me\u001b[0m\u001b[1;33m\u001b[0m\u001b[1;33m\u001b[0m\u001b[0m\n",
      "\u001b[1;32m~\\anaconda3\\envs\\learn-env\\lib\\concurrent\\futures\\_base.py\u001b[0m in \u001b[0;36mresult\u001b[1;34m(self, timeout)\u001b[0m\n\u001b[0;32m    425\u001b[0m                 \u001b[1;32mreturn\u001b[0m \u001b[0mself\u001b[0m\u001b[1;33m.\u001b[0m\u001b[0m__get_result\u001b[0m\u001b[1;33m(\u001b[0m\u001b[1;33m)\u001b[0m\u001b[1;33m\u001b[0m\u001b[1;33m\u001b[0m\u001b[0m\n\u001b[0;32m    426\u001b[0m \u001b[1;33m\u001b[0m\u001b[0m\n\u001b[1;32m--> 427\u001b[1;33m             \u001b[0mself\u001b[0m\u001b[1;33m.\u001b[0m\u001b[0m_condition\u001b[0m\u001b[1;33m.\u001b[0m\u001b[0mwait\u001b[0m\u001b[1;33m(\u001b[0m\u001b[0mtimeout\u001b[0m\u001b[1;33m)\u001b[0m\u001b[1;33m\u001b[0m\u001b[1;33m\u001b[0m\u001b[0m\n\u001b[0m\u001b[0;32m    428\u001b[0m \u001b[1;33m\u001b[0m\u001b[0m\n\u001b[0;32m    429\u001b[0m             \u001b[1;32mif\u001b[0m \u001b[0mself\u001b[0m\u001b[1;33m.\u001b[0m\u001b[0m_state\u001b[0m \u001b[1;32min\u001b[0m \u001b[1;33m[\u001b[0m\u001b[0mCANCELLED\u001b[0m\u001b[1;33m,\u001b[0m \u001b[0mCANCELLED_AND_NOTIFIED\u001b[0m\u001b[1;33m]\u001b[0m\u001b[1;33m:\u001b[0m\u001b[1;33m\u001b[0m\u001b[1;33m\u001b[0m\u001b[0m\n",
      "\u001b[1;32m~\\anaconda3\\envs\\learn-env\\lib\\threading.py\u001b[0m in \u001b[0;36mwait\u001b[1;34m(self, timeout)\u001b[0m\n\u001b[0;32m    293\u001b[0m         \u001b[1;32mtry\u001b[0m\u001b[1;33m:\u001b[0m    \u001b[1;31m# restore state no matter what (e.g., KeyboardInterrupt)\u001b[0m\u001b[1;33m\u001b[0m\u001b[1;33m\u001b[0m\u001b[0m\n\u001b[0;32m    294\u001b[0m             \u001b[1;32mif\u001b[0m \u001b[0mtimeout\u001b[0m \u001b[1;32mis\u001b[0m \u001b[1;32mNone\u001b[0m\u001b[1;33m:\u001b[0m\u001b[1;33m\u001b[0m\u001b[1;33m\u001b[0m\u001b[0m\n\u001b[1;32m--> 295\u001b[1;33m                 \u001b[0mwaiter\u001b[0m\u001b[1;33m.\u001b[0m\u001b[0macquire\u001b[0m\u001b[1;33m(\u001b[0m\u001b[1;33m)\u001b[0m\u001b[1;33m\u001b[0m\u001b[1;33m\u001b[0m\u001b[0m\n\u001b[0m\u001b[0;32m    296\u001b[0m                 \u001b[0mgotit\u001b[0m \u001b[1;33m=\u001b[0m \u001b[1;32mTrue\u001b[0m\u001b[1;33m\u001b[0m\u001b[1;33m\u001b[0m\u001b[0m\n\u001b[0;32m    297\u001b[0m             \u001b[1;32melse\u001b[0m\u001b[1;33m:\u001b[0m\u001b[1;33m\u001b[0m\u001b[1;33m\u001b[0m\u001b[0m\n",
      "\u001b[1;31mKeyboardInterrupt\u001b[0m: "
     ]
    }
   ],
   "source": [
    "process_classify_GS(classifiers, text_processors, components)"
   ]
  },
  {
   "cell_type": "code",
   "execution_count": 186,
   "metadata": {},
   "outputs": [],
   "source": [
    "shortx = X_train[:5]\n",
    "shorty = y_train[:5]"
   ]
  },
  {
   "cell_type": "code",
   "execution_count": 183,
   "metadata": {},
   "outputs": [
    {
     "data": {
      "text/plain": [
       "'today announce seek seventh term senate everything season grateful people alabama put trust forty year'"
      ]
     },
     "execution_count": 183,
     "metadata": {},
     "output_type": "execute_result"
    }
   ],
   "source": [
    "shortx"
   ]
  },
  {
   "cell_type": "code",
   "execution_count": 184,
   "metadata": {},
   "outputs": [
    {
     "data": {
      "text/plain": [
       "TaggedDocument(words=['today', 'announce', 'seek', 'seventh', 'term', 'senate', 'everything', 'season', 'grateful', 'people', 'alabama', 'put', 'trust', 'forty', 'year'], tags='R')"
      ]
     },
     "execution_count": 184,
     "metadata": {},
     "output_type": "execute_result"
    }
   ],
   "source": [
    "TaggedDocument(words=shortx.split(\" \"),\n",
    "               tags=shorty)"
   ]
  },
  {
   "cell_type": "code",
   "execution_count": 187,
   "metadata": {},
   "outputs": [],
   "source": [
    "def tag_doc(X, y):\n",
    "    ls = []\n",
    "    for i, text in enumerate(X):\n",
    "        ls.append(TaggedDocument(words = text.split(\" \"), tags = y.iloc[i]))\n",
    "    return ls"
   ]
  },
  {
   "cell_type": "code",
   "execution_count": 194,
   "metadata": {},
   "outputs": [],
   "source": [
    "docs = tag_doc(shortx, shorty)\n",
    "model = Doc2Vec(dm=0, vector_size=50, negative=5, hs=0, min_count=2, sample = 0, workers=4)"
   ]
  },
  {
   "cell_type": "code",
   "execution_count": 197,
   "metadata": {},
   "outputs": [
    {
     "ename": "RuntimeError",
     "evalue": "cannot sort vocabulary after model weights already initialized.",
     "output_type": "error",
     "traceback": [
      "\u001b[1;31m---------------------------------------------------------------------------\u001b[0m",
      "\u001b[1;31mRuntimeError\u001b[0m                              Traceback (most recent call last)",
      "\u001b[1;32m<ipython-input-197-6413954f4376>\u001b[0m in \u001b[0;36m<module>\u001b[1;34m\u001b[0m\n\u001b[1;32m----> 1\u001b[1;33m \u001b[0mmodel\u001b[0m\u001b[1;33m.\u001b[0m\u001b[0mbuild_vocab\u001b[0m\u001b[1;33m(\u001b[0m\u001b[0mdocs\u001b[0m\u001b[1;33m)\u001b[0m\u001b[1;33m\u001b[0m\u001b[1;33m\u001b[0m\u001b[0m\n\u001b[0m",
      "\u001b[1;32m~\\anaconda3\\envs\\learn-env\\lib\\site-packages\\gensim\\models\\doc2vec.py\u001b[0m in \u001b[0;36mbuild_vocab\u001b[1;34m(self, documents, corpus_file, update, progress_per, keep_raw_vocab, trim_rule, **kwargs)\u001b[0m\n\u001b[0;32m   1188\u001b[0m         report_values = self.vocabulary.prepare_vocab(\n\u001b[0;32m   1189\u001b[0m             \u001b[0mself\u001b[0m\u001b[1;33m.\u001b[0m\u001b[0mhs\u001b[0m\u001b[1;33m,\u001b[0m \u001b[0mself\u001b[0m\u001b[1;33m.\u001b[0m\u001b[0mnegative\u001b[0m\u001b[1;33m,\u001b[0m \u001b[0mself\u001b[0m\u001b[1;33m.\u001b[0m\u001b[0mwv\u001b[0m\u001b[1;33m,\u001b[0m \u001b[0mupdate\u001b[0m\u001b[1;33m=\u001b[0m\u001b[0mupdate\u001b[0m\u001b[1;33m,\u001b[0m \u001b[0mkeep_raw_vocab\u001b[0m\u001b[1;33m=\u001b[0m\u001b[0mkeep_raw_vocab\u001b[0m\u001b[1;33m,\u001b[0m \u001b[0mtrim_rule\u001b[0m\u001b[1;33m=\u001b[0m\u001b[0mtrim_rule\u001b[0m\u001b[1;33m,\u001b[0m\u001b[1;33m\u001b[0m\u001b[1;33m\u001b[0m\u001b[0m\n\u001b[1;32m-> 1190\u001b[1;33m             **kwargs)\n\u001b[0m\u001b[0;32m   1191\u001b[0m \u001b[1;33m\u001b[0m\u001b[0m\n\u001b[0;32m   1192\u001b[0m         \u001b[0mreport_values\u001b[0m\u001b[1;33m[\u001b[0m\u001b[1;34m'memory'\u001b[0m\u001b[1;33m]\u001b[0m \u001b[1;33m=\u001b[0m \u001b[0mself\u001b[0m\u001b[1;33m.\u001b[0m\u001b[0mestimate_memory\u001b[0m\u001b[1;33m(\u001b[0m\u001b[0mvocab_size\u001b[0m\u001b[1;33m=\u001b[0m\u001b[0mreport_values\u001b[0m\u001b[1;33m[\u001b[0m\u001b[1;34m'num_retained_words'\u001b[0m\u001b[1;33m]\u001b[0m\u001b[1;33m)\u001b[0m\u001b[1;33m\u001b[0m\u001b[1;33m\u001b[0m\u001b[0m\n",
      "\u001b[1;32m~\\anaconda3\\envs\\learn-env\\lib\\site-packages\\gensim\\models\\word2vec.py\u001b[0m in \u001b[0;36mprepare_vocab\u001b[1;34m(self, hs, negative, wv, update, keep_raw_vocab, trim_rule, min_count, sample, dry_run)\u001b[0m\n\u001b[0;32m   1755\u001b[0m \u001b[1;33m\u001b[0m\u001b[0m\n\u001b[0;32m   1756\u001b[0m         \u001b[1;32mif\u001b[0m \u001b[0mself\u001b[0m\u001b[1;33m.\u001b[0m\u001b[0msorted_vocab\u001b[0m \u001b[1;32mand\u001b[0m \u001b[1;32mnot\u001b[0m \u001b[0mupdate\u001b[0m\u001b[1;33m:\u001b[0m\u001b[1;33m\u001b[0m\u001b[1;33m\u001b[0m\u001b[0m\n\u001b[1;32m-> 1757\u001b[1;33m             \u001b[0mself\u001b[0m\u001b[1;33m.\u001b[0m\u001b[0msort_vocab\u001b[0m\u001b[1;33m(\u001b[0m\u001b[0mwv\u001b[0m\u001b[1;33m)\u001b[0m\u001b[1;33m\u001b[0m\u001b[1;33m\u001b[0m\u001b[0m\n\u001b[0m\u001b[0;32m   1758\u001b[0m         \u001b[1;32mif\u001b[0m \u001b[0mhs\u001b[0m\u001b[1;33m:\u001b[0m\u001b[1;33m\u001b[0m\u001b[1;33m\u001b[0m\u001b[0m\n\u001b[0;32m   1759\u001b[0m             \u001b[1;31m# add info about each word's Huffman encoding\u001b[0m\u001b[1;33m\u001b[0m\u001b[1;33m\u001b[0m\u001b[1;33m\u001b[0m\u001b[0m\n",
      "\u001b[1;32m~\\anaconda3\\envs\\learn-env\\lib\\site-packages\\gensim\\models\\word2vec.py\u001b[0m in \u001b[0;36msort_vocab\u001b[1;34m(self, wv)\u001b[0m\n\u001b[0;32m   1602\u001b[0m         \u001b[1;34m\"\"\"Sort the vocabulary so the most frequent words have the lowest indexes.\"\"\"\u001b[0m\u001b[1;33m\u001b[0m\u001b[1;33m\u001b[0m\u001b[0m\n\u001b[0;32m   1603\u001b[0m         \u001b[1;32mif\u001b[0m \u001b[0mlen\u001b[0m\u001b[1;33m(\u001b[0m\u001b[0mwv\u001b[0m\u001b[1;33m.\u001b[0m\u001b[0mvectors\u001b[0m\u001b[1;33m)\u001b[0m\u001b[1;33m:\u001b[0m\u001b[1;33m\u001b[0m\u001b[1;33m\u001b[0m\u001b[0m\n\u001b[1;32m-> 1604\u001b[1;33m             \u001b[1;32mraise\u001b[0m \u001b[0mRuntimeError\u001b[0m\u001b[1;33m(\u001b[0m\u001b[1;34m\"cannot sort vocabulary after model weights already initialized.\"\u001b[0m\u001b[1;33m)\u001b[0m\u001b[1;33m\u001b[0m\u001b[1;33m\u001b[0m\u001b[0m\n\u001b[0m\u001b[0;32m   1605\u001b[0m         \u001b[0mwv\u001b[0m\u001b[1;33m.\u001b[0m\u001b[0mindex2word\u001b[0m\u001b[1;33m.\u001b[0m\u001b[0msort\u001b[0m\u001b[1;33m(\u001b[0m\u001b[0mkey\u001b[0m\u001b[1;33m=\u001b[0m\u001b[1;32mlambda\u001b[0m \u001b[0mword\u001b[0m\u001b[1;33m:\u001b[0m \u001b[0mwv\u001b[0m\u001b[1;33m.\u001b[0m\u001b[0mvocab\u001b[0m\u001b[1;33m[\u001b[0m\u001b[0mword\u001b[0m\u001b[1;33m]\u001b[0m\u001b[1;33m.\u001b[0m\u001b[0mcount\u001b[0m\u001b[1;33m,\u001b[0m \u001b[0mreverse\u001b[0m\u001b[1;33m=\u001b[0m\u001b[1;32mTrue\u001b[0m\u001b[1;33m)\u001b[0m\u001b[1;33m\u001b[0m\u001b[1;33m\u001b[0m\u001b[0m\n\u001b[0;32m   1606\u001b[0m         \u001b[1;32mfor\u001b[0m \u001b[0mi\u001b[0m\u001b[1;33m,\u001b[0m \u001b[0mword\u001b[0m \u001b[1;32min\u001b[0m \u001b[0menumerate\u001b[0m\u001b[1;33m(\u001b[0m\u001b[0mwv\u001b[0m\u001b[1;33m.\u001b[0m\u001b[0mindex2word\u001b[0m\u001b[1;33m)\u001b[0m\u001b[1;33m:\u001b[0m\u001b[1;33m\u001b[0m\u001b[1;33m\u001b[0m\u001b[0m\n",
      "\u001b[1;31mRuntimeError\u001b[0m: cannot sort vocabulary after model weights already initialized."
     ]
    }
   ],
   "source": [
    "model.build_vocab(docs)"
   ]
  },
  {
   "cell_type": "code",
   "execution_count": 174,
   "metadata": {},
   "outputs": [],
   "source": [
    "def fit_return_metrics(model, X_train, y_train, X_test, y_test):\n",
    "    modelf = model.fit(X_train, y_train)\n",
    "    train_preds = modelf.predict(X_train)\n",
    "    test_preds = modelf.predict(X_test)\n",
    "    df_tr = pd.DataFrame(classification_report(y_train, train_preds, output_dict=True)).transpose().apply(lambda x: round(x, 2))\n",
    "    df_ts = pd.DataFrame(classification_report(y_test, test_preds, output_dict=True)).transpose().apply(lambda x: round(x, 2))\n",
    "    print(\"Training Metrics: \\n\" + str(df_tr) + \"\\n\")\n",
    "    print(\"Test Metrics: \\n\" + str(df_ts))\n",
    "    return df_tr, df_ts"
   ]
  },
  {
   "cell_type": "code",
   "execution_count": 175,
   "metadata": {},
   "outputs": [],
   "source": [
    "pipe = Pipeline([('w2v', Word2Vec(wv)),\n",
    "                 (\"tsvd\", TruncatedSVD(n_components=5, random_state=random_state)),\n",
    "                 (\"sm\", SMOTE(random_state=random_state)),\n",
    "                 ('nb', GaussianNB())])"
   ]
  },
  {
   "cell_type": "code",
   "execution_count": 176,
   "metadata": {},
   "outputs": [
    {
     "name": "stdout",
     "output_type": "stream",
     "text": [
      "Training Metrics: \n",
      "              precision  recall  f1-score    support\n",
      "D                  0.76    0.72      0.74  227477.00\n",
      "R                  0.27    0.31      0.29   74036.00\n",
      "accuracy           0.62    0.62      0.62       0.62\n",
      "macro avg          0.52    0.52      0.52  301513.00\n",
      "weighted avg       0.64    0.62      0.63  301513.00\n",
      "\n",
      "Test Metrics: \n",
      "              precision  recall  f1-score    support\n",
      "D                  0.77    0.72      0.74   75970.00\n",
      "R                  0.27    0.32      0.29   24535.00\n",
      "accuracy           0.62    0.62      0.62       0.62\n",
      "macro avg          0.52    0.52      0.52  100505.00\n",
      "weighted avg       0.64    0.62      0.63  100505.00\n"
     ]
    },
    {
     "data": {
      "text/plain": [
       "(              precision  recall  f1-score    support\n",
       " D                  0.76    0.72      0.74  227477.00\n",
       " R                  0.27    0.31      0.29   74036.00\n",
       " accuracy           0.62    0.62      0.62       0.62\n",
       " macro avg          0.52    0.52      0.52  301513.00\n",
       " weighted avg       0.64    0.62      0.63  301513.00,\n",
       "               precision  recall  f1-score    support\n",
       " D                  0.77    0.72      0.74   75970.00\n",
       " R                  0.27    0.32      0.29   24535.00\n",
       " accuracy           0.62    0.62      0.62       0.62\n",
       " macro avg          0.52    0.52      0.52  100505.00\n",
       " weighted avg       0.64    0.62      0.63  100505.00)"
      ]
     },
     "execution_count": 176,
     "metadata": {},
     "output_type": "execute_result"
    }
   ],
   "source": [
    "fit_return_metrics(pipe, X_train, y_train, X_test, y_test)"
   ]
  },
  {
   "cell_type": "code",
   "execution_count": 159,
   "metadata": {},
   "outputs": [
    {
     "data": {
      "text/plain": [
       "0.7513954529625392"
      ]
     },
     "execution_count": 159,
     "metadata": {},
     "output_type": "execute_result"
    }
   ],
   "source": [
    "pipe.score(X_test, y_test)"
   ]
  },
  {
   "cell_type": "code",
   "execution_count": 147,
   "metadata": {},
   "outputs": [],
   "source": [
    "\n",
    "def generate_word_vecs(X):\n",
    "    vecs = pd.DataFrame()\n",
    "    for text in X:\n",
    "        temp_df = pd.DataFrame()\n",
    "        for word in text.split(\" \"):\n",
    "            try:\n",
    "                word_vec = wv[word]\n",
    "                temp_df = temp_df.append(pd.Series(word_vec), ignore_index=True)\n",
    "            except:\n",
    "                pass\n",
    "        text_mean_vec = temp_df.mean()\n",
    "        vecs = vecs.append(text_mean_vec, ignore_index=True)\n",
    "    return vecs"
   ]
  },
  {
   "cell_type": "code",
   "execution_count": 148,
   "metadata": {},
   "outputs": [
    {
     "ename": "KeyboardInterrupt",
     "evalue": "",
     "output_type": "error",
     "traceback": [
      "\u001b[1;31m---------------------------------------------------------------------------\u001b[0m",
      "\u001b[1;31mKeyboardInterrupt\u001b[0m                         Traceback (most recent call last)",
      "\u001b[1;32m<ipython-input-148-5eeaa600bd63>\u001b[0m in \u001b[0;36m<module>\u001b[1;34m\u001b[0m\n\u001b[1;32m----> 1\u001b[1;33m \u001b[0mw2v_X\u001b[0m \u001b[1;33m=\u001b[0m \u001b[0mgenerate_word_vecs\u001b[0m\u001b[1;33m(\u001b[0m\u001b[0mX\u001b[0m\u001b[1;33m)\u001b[0m\u001b[1;33m\u001b[0m\u001b[1;33m\u001b[0m\u001b[0m\n\u001b[0m",
      "\u001b[1;32m<ipython-input-147-b3d8823cfc14>\u001b[0m in \u001b[0;36mgenerate_word_vecs\u001b[1;34m(X)\u001b[0m\n\u001b[0;32m     10\u001b[0m                 \u001b[1;32mpass\u001b[0m\u001b[1;33m\u001b[0m\u001b[1;33m\u001b[0m\u001b[0m\n\u001b[0;32m     11\u001b[0m         \u001b[0mtext_mean_vec\u001b[0m \u001b[1;33m=\u001b[0m \u001b[0mtemp_df\u001b[0m\u001b[1;33m.\u001b[0m\u001b[0mmean\u001b[0m\u001b[1;33m(\u001b[0m\u001b[1;33m)\u001b[0m\u001b[1;33m\u001b[0m\u001b[1;33m\u001b[0m\u001b[0m\n\u001b[1;32m---> 12\u001b[1;33m         \u001b[0mvecs\u001b[0m \u001b[1;33m=\u001b[0m \u001b[0mvecs\u001b[0m\u001b[1;33m.\u001b[0m\u001b[0mappend\u001b[0m\u001b[1;33m(\u001b[0m\u001b[0mtext_mean_vec\u001b[0m\u001b[1;33m,\u001b[0m \u001b[0mignore_index\u001b[0m\u001b[1;33m=\u001b[0m\u001b[1;32mTrue\u001b[0m\u001b[1;33m)\u001b[0m\u001b[1;33m\u001b[0m\u001b[1;33m\u001b[0m\u001b[0m\n\u001b[0m\u001b[0;32m     13\u001b[0m     \u001b[1;32mreturn\u001b[0m \u001b[0mvecs\u001b[0m\u001b[1;33m\u001b[0m\u001b[1;33m\u001b[0m\u001b[0m\n",
      "\u001b[1;32m~\\anaconda3\\envs\\learn-env\\lib\\site-packages\\pandas\\core\\frame.py\u001b[0m in \u001b[0;36mappend\u001b[1;34m(self, other, ignore_index, verify_integrity, sort)\u001b[0m\n\u001b[0;32m   7136\u001b[0m             \u001b[0mignore_index\u001b[0m\u001b[1;33m=\u001b[0m\u001b[0mignore_index\u001b[0m\u001b[1;33m,\u001b[0m\u001b[1;33m\u001b[0m\u001b[1;33m\u001b[0m\u001b[0m\n\u001b[0;32m   7137\u001b[0m             \u001b[0mverify_integrity\u001b[0m\u001b[1;33m=\u001b[0m\u001b[0mverify_integrity\u001b[0m\u001b[1;33m,\u001b[0m\u001b[1;33m\u001b[0m\u001b[1;33m\u001b[0m\u001b[0m\n\u001b[1;32m-> 7138\u001b[1;33m             \u001b[0msort\u001b[0m\u001b[1;33m=\u001b[0m\u001b[0msort\u001b[0m\u001b[1;33m,\u001b[0m\u001b[1;33m\u001b[0m\u001b[1;33m\u001b[0m\u001b[0m\n\u001b[0m\u001b[0;32m   7139\u001b[0m         )\n\u001b[0;32m   7140\u001b[0m \u001b[1;33m\u001b[0m\u001b[0m\n",
      "\u001b[1;32m~\\anaconda3\\envs\\learn-env\\lib\\site-packages\\pandas\\core\\reshape\\concat.py\u001b[0m in \u001b[0;36mconcat\u001b[1;34m(objs, axis, join, join_axes, ignore_index, keys, levels, names, verify_integrity, sort, copy)\u001b[0m\n\u001b[0;32m    256\u001b[0m     )\n\u001b[0;32m    257\u001b[0m \u001b[1;33m\u001b[0m\u001b[0m\n\u001b[1;32m--> 258\u001b[1;33m     \u001b[1;32mreturn\u001b[0m \u001b[0mop\u001b[0m\u001b[1;33m.\u001b[0m\u001b[0mget_result\u001b[0m\u001b[1;33m(\u001b[0m\u001b[1;33m)\u001b[0m\u001b[1;33m\u001b[0m\u001b[1;33m\u001b[0m\u001b[0m\n\u001b[0m\u001b[0;32m    259\u001b[0m \u001b[1;33m\u001b[0m\u001b[0m\n\u001b[0;32m    260\u001b[0m \u001b[1;33m\u001b[0m\u001b[0m\n",
      "\u001b[1;32m~\\anaconda3\\envs\\learn-env\\lib\\site-packages\\pandas\\core\\reshape\\concat.py\u001b[0m in \u001b[0;36mget_result\u001b[1;34m(self)\u001b[0m\n\u001b[0;32m    471\u001b[0m \u001b[1;33m\u001b[0m\u001b[0m\n\u001b[0;32m    472\u001b[0m             new_data = concatenate_block_managers(\n\u001b[1;32m--> 473\u001b[1;33m                 \u001b[0mmgrs_indexers\u001b[0m\u001b[1;33m,\u001b[0m \u001b[0mself\u001b[0m\u001b[1;33m.\u001b[0m\u001b[0mnew_axes\u001b[0m\u001b[1;33m,\u001b[0m \u001b[0mconcat_axis\u001b[0m\u001b[1;33m=\u001b[0m\u001b[0mself\u001b[0m\u001b[1;33m.\u001b[0m\u001b[0maxis\u001b[0m\u001b[1;33m,\u001b[0m \u001b[0mcopy\u001b[0m\u001b[1;33m=\u001b[0m\u001b[0mself\u001b[0m\u001b[1;33m.\u001b[0m\u001b[0mcopy\u001b[0m\u001b[1;33m\u001b[0m\u001b[1;33m\u001b[0m\u001b[0m\n\u001b[0m\u001b[0;32m    474\u001b[0m             )\n\u001b[0;32m    475\u001b[0m             \u001b[1;32mif\u001b[0m \u001b[1;32mnot\u001b[0m \u001b[0mself\u001b[0m\u001b[1;33m.\u001b[0m\u001b[0mcopy\u001b[0m\u001b[1;33m:\u001b[0m\u001b[1;33m\u001b[0m\u001b[1;33m\u001b[0m\u001b[0m\n",
      "\u001b[1;32m~\\anaconda3\\envs\\learn-env\\lib\\site-packages\\pandas\\core\\internals\\managers.py\u001b[0m in \u001b[0;36mconcatenate_block_managers\u001b[1;34m(mgrs_indexers, axes, concat_axis, copy)\u001b[0m\n\u001b[0;32m   2048\u001b[0m         \u001b[1;32melif\u001b[0m \u001b[0mis_uniform_join_units\u001b[0m\u001b[1;33m(\u001b[0m\u001b[0mjoin_units\u001b[0m\u001b[1;33m)\u001b[0m\u001b[1;33m:\u001b[0m\u001b[1;33m\u001b[0m\u001b[1;33m\u001b[0m\u001b[0m\n\u001b[0;32m   2049\u001b[0m             b = join_units[0].block.concat_same_type(\n\u001b[1;32m-> 2050\u001b[1;33m                 \u001b[1;33m[\u001b[0m\u001b[0mju\u001b[0m\u001b[1;33m.\u001b[0m\u001b[0mblock\u001b[0m \u001b[1;32mfor\u001b[0m \u001b[0mju\u001b[0m \u001b[1;32min\u001b[0m \u001b[0mjoin_units\u001b[0m\u001b[1;33m]\u001b[0m\u001b[1;33m,\u001b[0m \u001b[0mplacement\u001b[0m\u001b[1;33m=\u001b[0m\u001b[0mplacement\u001b[0m\u001b[1;33m\u001b[0m\u001b[1;33m\u001b[0m\u001b[0m\n\u001b[0m\u001b[0;32m   2051\u001b[0m             )\n\u001b[0;32m   2052\u001b[0m         \u001b[1;32melse\u001b[0m\u001b[1;33m:\u001b[0m\u001b[1;33m\u001b[0m\u001b[1;33m\u001b[0m\u001b[0m\n",
      "\u001b[1;32m~\\anaconda3\\envs\\learn-env\\lib\\site-packages\\pandas\\core\\internals\\blocks.py\u001b[0m in \u001b[0;36mconcat_same_type\u001b[1;34m(self, to_concat, placement)\u001b[0m\n\u001b[0;32m    361\u001b[0m         \"\"\"\n\u001b[0;32m    362\u001b[0m         values = self._concatenator(\n\u001b[1;32m--> 363\u001b[1;33m             \u001b[1;33m[\u001b[0m\u001b[0mblk\u001b[0m\u001b[1;33m.\u001b[0m\u001b[0mvalues\u001b[0m \u001b[1;32mfor\u001b[0m \u001b[0mblk\u001b[0m \u001b[1;32min\u001b[0m \u001b[0mto_concat\u001b[0m\u001b[1;33m]\u001b[0m\u001b[1;33m,\u001b[0m \u001b[0maxis\u001b[0m\u001b[1;33m=\u001b[0m\u001b[0mself\u001b[0m\u001b[1;33m.\u001b[0m\u001b[0mndim\u001b[0m \u001b[1;33m-\u001b[0m \u001b[1;36m1\u001b[0m\u001b[1;33m\u001b[0m\u001b[1;33m\u001b[0m\u001b[0m\n\u001b[0m\u001b[0;32m    364\u001b[0m         )\n\u001b[0;32m    365\u001b[0m         return self.make_block_same_class(\n",
      "\u001b[1;32m<__array_function__ internals>\u001b[0m in \u001b[0;36mconcatenate\u001b[1;34m(*args, **kwargs)\u001b[0m\n",
      "\u001b[1;31mKeyboardInterrupt\u001b[0m: "
     ]
    }
   ],
   "source": [
    "w2v_X = generate_word_vecs(X)"
   ]
  },
  {
   "cell_type": "code",
   "execution_count": null,
   "metadata": {},
   "outputs": [],
   "source": [
    "# GridSearch for each classifier. in parameters include type of processor, components for dimensionality reduction, \n",
    "def gridsearch(processors, classifier, parameters)\n",
    "for processor in processor:\n",
    "    if processor is word2vec or doc2vec:\n",
    "        word2vec.processor = \n",
    "        model.fit\n",
    "        pipe(processor, classifier)\n",
    "        model.score\n",
    "    else:\n",
    "        pipe = (processor,\n",
    "               classifier)\n",
    "        gridsearchCV(pipe, parameters)\n",
    "        \n",
    "        \n",
    "        \n",
    "for key, val in clf_dict.items():\n",
    "    gridsearch(processors, key, val)"
   ]
  },
  {
   "cell_type": "markdown",
   "metadata": {},
   "source": [
    "We will employ various classification algorithms to see which gives us the highest accuracy and F1 score. Some of the algorithms we will employ are:\n",
    "- Naive Bayes\n",
    "- Tree Based Methods:\n",
    "     - Random Forest\n",
    "     - Gradient Boosted Trees\n",
    "     - XGBoost\n",
    "- Support Vector Machine (SVM)\n",
    "\n",
    "In addition to the word processing algorithms and classification algorithms, we will perform a type of dimensionality reduction on sparse matrices called Truncated SVD. This will reduce model runtime and memory usage."
   ]
  },
  {
   "cell_type": "code",
   "execution_count": 113,
   "metadata": {},
   "outputs": [],
   "source": [
    "def grid_search(text_processors, classifiers, \n",
    "                components, X_train, y_train,\n",
    "               X_test, y_test):\n",
    "    score_dict = {}\n",
    "    for processor in text_processors:\n",
    "        for classifier in classifiers:\n",
    "            pipe = Pipeline([('t_process', processor),\n",
    "                 (\"tsvd\", TruncatedSVD(n_components=components, random_state=random_state)),\n",
    "                 (\"clf\", classifier)])\n",
    "            model = pipe.fit(X_train, y_train)\n",
    "            score = model.score(X_test, y_test)\n",
    "            score_dict[model] = score\n",
    "    return score_dict"
   ]
  },
  {
   "cell_type": "code",
   "execution_count": 116,
   "metadata": {},
   "outputs": [],
   "source": [
    "text_processors = [CountVectorizer(), TfidfVectorizer()]\n",
    "classifiers = [GaussianNB(), RandomForestClassifier(), xgb, GradientBoostingClassifier(), SVC()]\n",
    "components = 5"
   ]
  },
  {
   "cell_type": "code",
   "execution_count": 117,
   "metadata": {},
   "outputs": [
    {
     "ename": "TypeError",
     "evalue": "Last step of Pipeline should implement fit or be the string 'passthrough'. '<module 'xgboost' from 'C:\\\\Users\\\\swzoe\\\\anaconda3\\\\envs\\\\learn-env\\\\lib\\\\site-packages\\\\xgboost\\\\__init__.py'>' (type <class 'module'>) doesn't",
     "output_type": "error",
     "traceback": [
      "\u001b[1;31m---------------------------------------------------------------------------\u001b[0m",
      "\u001b[1;31mTypeError\u001b[0m                                 Traceback (most recent call last)",
      "\u001b[1;32m<ipython-input-117-fc7197a13ba3>\u001b[0m in \u001b[0;36m<module>\u001b[1;34m\u001b[0m\n\u001b[0;32m      1\u001b[0m grid_search(text_processors, classifiers,\n\u001b[0;32m      2\u001b[0m              \u001b[0mcomponents\u001b[0m\u001b[1;33m,\u001b[0m \u001b[0mX_train\u001b[0m\u001b[1;33m,\u001b[0m \u001b[0my_train\u001b[0m\u001b[1;33m,\u001b[0m\u001b[1;33m\u001b[0m\u001b[1;33m\u001b[0m\u001b[0m\n\u001b[1;32m----> 3\u001b[1;33m            X_test, y_test)\n\u001b[0m",
      "\u001b[1;32m<ipython-input-113-b1ef33650fa5>\u001b[0m in \u001b[0;36mgrid_search\u001b[1;34m(text_processors, classifiers, components, X_train, y_train, X_test, y_test)\u001b[0m\n\u001b[0;32m      7\u001b[0m             pipe = Pipeline([('t_process', processor),\n\u001b[0;32m      8\u001b[0m                  \u001b[1;33m(\u001b[0m\u001b[1;34m\"tsvd\"\u001b[0m\u001b[1;33m,\u001b[0m \u001b[0mTruncatedSVD\u001b[0m\u001b[1;33m(\u001b[0m\u001b[0mn_components\u001b[0m\u001b[1;33m=\u001b[0m\u001b[0mcomponents\u001b[0m\u001b[1;33m,\u001b[0m \u001b[0mrandom_state\u001b[0m\u001b[1;33m=\u001b[0m\u001b[0mrandom_state\u001b[0m\u001b[1;33m)\u001b[0m\u001b[1;33m)\u001b[0m\u001b[1;33m,\u001b[0m\u001b[1;33m\u001b[0m\u001b[1;33m\u001b[0m\u001b[0m\n\u001b[1;32m----> 9\u001b[1;33m                  (\"clf\", classifier)])\n\u001b[0m\u001b[0;32m     10\u001b[0m             \u001b[0mmodel\u001b[0m \u001b[1;33m=\u001b[0m \u001b[0mpipe\u001b[0m\u001b[1;33m.\u001b[0m\u001b[0mfit\u001b[0m\u001b[1;33m(\u001b[0m\u001b[0mX_train\u001b[0m\u001b[1;33m,\u001b[0m \u001b[0my_train\u001b[0m\u001b[1;33m)\u001b[0m\u001b[1;33m\u001b[0m\u001b[1;33m\u001b[0m\u001b[0m\n\u001b[0;32m     11\u001b[0m             \u001b[0mscore\u001b[0m \u001b[1;33m=\u001b[0m \u001b[0mmodel\u001b[0m\u001b[1;33m.\u001b[0m\u001b[0mscore\u001b[0m\u001b[1;33m(\u001b[0m\u001b[0mX_test\u001b[0m\u001b[1;33m,\u001b[0m \u001b[0my_test\u001b[0m\u001b[1;33m)\u001b[0m\u001b[1;33m\u001b[0m\u001b[1;33m\u001b[0m\u001b[0m\n",
      "\u001b[1;32m~\\anaconda3\\envs\\learn-env\\lib\\site-packages\\sklearn\\utils\\validation.py\u001b[0m in \u001b[0;36minner_f\u001b[1;34m(*args, **kwargs)\u001b[0m\n\u001b[0;32m     61\u001b[0m             \u001b[0mextra_args\u001b[0m \u001b[1;33m=\u001b[0m \u001b[0mlen\u001b[0m\u001b[1;33m(\u001b[0m\u001b[0margs\u001b[0m\u001b[1;33m)\u001b[0m \u001b[1;33m-\u001b[0m \u001b[0mlen\u001b[0m\u001b[1;33m(\u001b[0m\u001b[0mall_args\u001b[0m\u001b[1;33m)\u001b[0m\u001b[1;33m\u001b[0m\u001b[1;33m\u001b[0m\u001b[0m\n\u001b[0;32m     62\u001b[0m             \u001b[1;32mif\u001b[0m \u001b[0mextra_args\u001b[0m \u001b[1;33m<=\u001b[0m \u001b[1;36m0\u001b[0m\u001b[1;33m:\u001b[0m\u001b[1;33m\u001b[0m\u001b[1;33m\u001b[0m\u001b[0m\n\u001b[1;32m---> 63\u001b[1;33m                 \u001b[1;32mreturn\u001b[0m \u001b[0mf\u001b[0m\u001b[1;33m(\u001b[0m\u001b[1;33m*\u001b[0m\u001b[0margs\u001b[0m\u001b[1;33m,\u001b[0m \u001b[1;33m**\u001b[0m\u001b[0mkwargs\u001b[0m\u001b[1;33m)\u001b[0m\u001b[1;33m\u001b[0m\u001b[1;33m\u001b[0m\u001b[0m\n\u001b[0m\u001b[0;32m     64\u001b[0m \u001b[1;33m\u001b[0m\u001b[0m\n\u001b[0;32m     65\u001b[0m             \u001b[1;31m# extra_args > 0\u001b[0m\u001b[1;33m\u001b[0m\u001b[1;33m\u001b[0m\u001b[1;33m\u001b[0m\u001b[0m\n",
      "\u001b[1;32m~\\anaconda3\\envs\\learn-env\\lib\\site-packages\\sklearn\\pipeline.py\u001b[0m in \u001b[0;36m__init__\u001b[1;34m(self, steps, memory, verbose)\u001b[0m\n\u001b[0;32m    116\u001b[0m         \u001b[0mself\u001b[0m\u001b[1;33m.\u001b[0m\u001b[0mmemory\u001b[0m \u001b[1;33m=\u001b[0m \u001b[0mmemory\u001b[0m\u001b[1;33m\u001b[0m\u001b[1;33m\u001b[0m\u001b[0m\n\u001b[0;32m    117\u001b[0m         \u001b[0mself\u001b[0m\u001b[1;33m.\u001b[0m\u001b[0mverbose\u001b[0m \u001b[1;33m=\u001b[0m \u001b[0mverbose\u001b[0m\u001b[1;33m\u001b[0m\u001b[1;33m\u001b[0m\u001b[0m\n\u001b[1;32m--> 118\u001b[1;33m         \u001b[0mself\u001b[0m\u001b[1;33m.\u001b[0m\u001b[0m_validate_steps\u001b[0m\u001b[1;33m(\u001b[0m\u001b[1;33m)\u001b[0m\u001b[1;33m\u001b[0m\u001b[1;33m\u001b[0m\u001b[0m\n\u001b[0m\u001b[0;32m    119\u001b[0m \u001b[1;33m\u001b[0m\u001b[0m\n\u001b[0;32m    120\u001b[0m     \u001b[1;32mdef\u001b[0m \u001b[0mget_params\u001b[0m\u001b[1;33m(\u001b[0m\u001b[0mself\u001b[0m\u001b[1;33m,\u001b[0m \u001b[0mdeep\u001b[0m\u001b[1;33m=\u001b[0m\u001b[1;32mTrue\u001b[0m\u001b[1;33m)\u001b[0m\u001b[1;33m:\u001b[0m\u001b[1;33m\u001b[0m\u001b[1;33m\u001b[0m\u001b[0m\n",
      "\u001b[1;32m~\\anaconda3\\envs\\learn-env\\lib\\site-packages\\sklearn\\pipeline.py\u001b[0m in \u001b[0;36m_validate_steps\u001b[1;34m(self)\u001b[0m\n\u001b[0;32m    177\u001b[0m                 \u001b[1;34m\"Last step of Pipeline should implement fit \"\u001b[0m\u001b[1;33m\u001b[0m\u001b[1;33m\u001b[0m\u001b[0m\n\u001b[0;32m    178\u001b[0m                 \u001b[1;34m\"or be the string 'passthrough'. \"\u001b[0m\u001b[1;33m\u001b[0m\u001b[1;33m\u001b[0m\u001b[0m\n\u001b[1;32m--> 179\u001b[1;33m                 \"'%s' (type %s) doesn't\" % (estimator, type(estimator)))\n\u001b[0m\u001b[0;32m    180\u001b[0m \u001b[1;33m\u001b[0m\u001b[0m\n\u001b[0;32m    181\u001b[0m     \u001b[1;32mdef\u001b[0m \u001b[0m_iter\u001b[0m\u001b[1;33m(\u001b[0m\u001b[0mself\u001b[0m\u001b[1;33m,\u001b[0m \u001b[0mwith_final\u001b[0m\u001b[1;33m=\u001b[0m\u001b[1;32mTrue\u001b[0m\u001b[1;33m,\u001b[0m \u001b[0mfilter_passthrough\u001b[0m\u001b[1;33m=\u001b[0m\u001b[1;32mTrue\u001b[0m\u001b[1;33m)\u001b[0m\u001b[1;33m:\u001b[0m\u001b[1;33m\u001b[0m\u001b[1;33m\u001b[0m\u001b[0m\n",
      "\u001b[1;31mTypeError\u001b[0m: Last step of Pipeline should implement fit or be the string 'passthrough'. '<module 'xgboost' from 'C:\\\\Users\\\\swzoe\\\\anaconda3\\\\envs\\\\learn-env\\\\lib\\\\site-packages\\\\xgboost\\\\__init__.py'>' (type <class 'module'>) doesn't"
     ]
    }
   ],
   "source": [
    "grid_search(text_processors, classifiers,\n",
    "             components, X_train, y_train,\n",
    "           X_test, y_test)"
   ]
  },
  {
   "cell_type": "code",
   "execution_count": null,
   "metadata": {},
   "outputs": [],
   "source": []
  },
  {
   "cell_type": "code",
   "execution_count": 93,
   "metadata": {},
   "outputs": [],
   "source": [
    "pipe = Pipeline([('count_vec', CountVectorizer()),\n",
    "                 (\"tsvd\", TruncatedSVD(n_components=2, random_state=random_state)),\n",
    "                 ('nb', GaussianNB())])"
   ]
  },
  {
   "cell_type": "code",
   "execution_count": 90,
   "metadata": {},
   "outputs": [],
   "source": [
    "pipe2 = Pipeline([('tfidf', TfidfVectorizer()),\n",
    "                  (\"tsvd\", TruncatedSVD(n_components=2, random_state=random_state)),\n",
    "                 ('nb', GaussianNB())])"
   ]
  },
  {
   "cell_type": "code",
   "execution_count": 91,
   "metadata": {
    "scrolled": true
   },
   "outputs": [
    {
     "data": {
      "text/plain": [
       "Pipeline(steps=[('tfidf', TfidfVectorizer()),\n",
       "                ('tsvd', TruncatedSVD(random_state=42)), ('nb', GaussianNB())])"
      ]
     },
     "execution_count": 91,
     "metadata": {},
     "output_type": "execute_result"
    }
   ],
   "source": [
    "pipe2.fit(X_train, y_train)"
   ]
  },
  {
   "cell_type": "code",
   "execution_count": 92,
   "metadata": {},
   "outputs": [
    {
     "data": {
      "text/plain": [
       "0.7558827919009005"
      ]
     },
     "execution_count": 92,
     "metadata": {},
     "output_type": "execute_result"
    }
   ],
   "source": [
    "pipe2.score(X_test, y_test)"
   ]
  },
  {
   "cell_type": "code",
   "execution_count": 94,
   "metadata": {},
   "outputs": [
    {
     "data": {
      "text/plain": [
       "0.7558827919009005"
      ]
     },
     "execution_count": 94,
     "metadata": {},
     "output_type": "execute_result"
    }
   ],
   "source": [
    "pipe.fit(X_train, y_train)\n",
    "pipe.score(X_test, y_test)"
   ]
  },
  {
   "cell_type": "code",
   "execution_count": 100,
   "metadata": {},
   "outputs": [],
   "source": [
    "pipe3 = Pipeline([('count_vec', CountVectorizer()),\n",
    "                 (\"tsvd\", TruncatedSVD(n_components=5, random_state=random_state)),\n",
    "                 ('rf', RandomForestClassifier())])"
   ]
  },
  {
   "cell_type": "code",
   "execution_count": 101,
   "metadata": {},
   "outputs": [
    {
     "data": {
      "text/plain": [
       "0.751962588925924"
      ]
     },
     "execution_count": 101,
     "metadata": {},
     "output_type": "execute_result"
    }
   ],
   "source": [
    "pipe3.fit(X_train, y_train)\n",
    "pipe3.score(X_test, y_test)"
   ]
  },
  {
   "cell_type": "code",
   "execution_count": 73,
   "metadata": {},
   "outputs": [],
   "source": [
    "## Naive Bayes, Tree Models with Count vectorizer, TFIDF, Pipeline"
   ]
  },
  {
   "cell_type": "code",
   "execution_count": null,
   "metadata": {},
   "outputs": [],
   "source": [
    "#sns.histplot(right[\"nlikes\"])\n",
    "#plt.xlabel(\"Number of Likes\")\n",
    "#plt.title(\"Distribution of Number of Likes (Right Wing Tweets)\")\n",
    "#plt.xticks(range(0, 50000))\n",
    "#plt.show()"
   ]
  },
  {
   "cell_type": "code",
   "execution_count": null,
   "metadata": {},
   "outputs": [],
   "source": [
    "#fig, axes = plt.subplots(ncols=2, figsize=(15, 15))\n",
    "#sns.histplot(right[\"nlikes\"], ax = axes[0])\n",
    "#sns.histplot(left[\"nlikes\"], ax = axes[1])\n",
    "#plt.show()"
   ]
  },
  {
   "cell_type": "code",
   "execution_count": null,
   "metadata": {},
   "outputs": [],
   "source": [
    "## Consider removing S, nt, change preprocessed drop na instead of right and left"
   ]
  },
  {
   "cell_type": "code",
   "execution_count": null,
   "metadata": {},
   "outputs": [],
   "source": [
    "# EDA - word counts (words that appear in one class vs another), LDA, word cloud, divided between classes, "
   ]
  },
  {
   "cell_type": "code",
   "execution_count": null,
   "metadata": {},
   "outputs": [],
   "source": [
    "# word preparation - TFIDF, word embeddings, word counts"
   ]
  },
  {
   "cell_type": "code",
   "execution_count": null,
   "metadata": {},
   "outputs": [],
   "source": [
    "# classification models, neural networks"
   ]
  },
  {
   "cell_type": "code",
   "execution_count": null,
   "metadata": {},
   "outputs": [],
   "source": []
  }
 ],
 "metadata": {
  "kernelspec": {
   "display_name": "Python 3",
   "language": "python",
   "name": "python3"
  },
  "language_info": {
   "codemirror_mode": {
    "name": "ipython",
    "version": 3
   },
   "file_extension": ".py",
   "mimetype": "text/x-python",
   "name": "python",
   "nbconvert_exporter": "python",
   "pygments_lexer": "ipython3",
   "version": "3.6.9"
  },
  "toc": {
   "base_numbering": 1,
   "nav_menu": {},
   "number_sections": true,
   "sideBar": true,
   "skip_h1_title": false,
   "title_cell": "Table of Contents",
   "title_sidebar": "Contents",
   "toc_cell": false,
   "toc_position": {
    "height": "590px",
    "left": "149px",
    "top": "700.778px",
    "width": "341px"
   },
   "toc_section_display": true,
   "toc_window_display": true
  }
 },
 "nbformat": 4,
 "nbformat_minor": 4
}
