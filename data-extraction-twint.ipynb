{
 "cells": [
  {
   "cell_type": "markdown",
   "metadata": {},
   "source": [
    "### Introduction"
   ]
  },
  {
   "cell_type": "markdown",
   "metadata": {},
   "source": [
    "This notebook details the process of using NLP, Machine Learning and Deep Learning to classify tweets from congress as right or left leaning. The goal is to explore if a model can detect political bias in tweets.\n",
    "\n",
    "Sources for the data include:\n",
    "\n",
    "- Twitter (using the Twint Twitter scraper tool)\n",
    "- TriageCancer.org\n",
    "- The Stanford NLP Group"
   ]
  },
  {
   "cell_type": "markdown",
   "metadata": {},
   "source": [
    "### Webscraping"
   ]
  },
  {
   "cell_type": "code",
   "execution_count": 2,
   "metadata": {},
   "outputs": [],
   "source": [
    "import pandas as pd\n",
    "import numpy as np\n",
    "import matplotlib.pyplot as plt\n",
    "import seaborn as sns\n",
    "import json\n",
    "import requests\n",
    "import time\n",
    "from bs4 import BeautifulSoup\n",
    "import twint\n",
    "import nest_asyncio\n",
    "nest_asyncio.apply()"
   ]
  },
  {
   "cell_type": "markdown",
   "metadata": {},
   "source": [
    "We will begin by using the BeautifulSoup library to scrape congressional social media handles from a TriageCancer.org. This will eventually allow us to scrape twitter for tweets from members of congress."
   ]
  },
  {
   "cell_type": "code",
   "execution_count": null,
   "metadata": {},
   "outputs": [],
   "source": [
    "url = \"https://triagecancer.org/congressional-social-media\"\n",
    "soup = BeautifulSoup(requests.get(url).text)"
   ]
  },
  {
   "cell_type": "code",
   "execution_count": null,
   "metadata": {},
   "outputs": [],
   "source": [
    "containers = [soup.findAll('tr', {\"class\": f\"ninja_table_row_{num}\"}) for num in range(541)]"
   ]
  },
  {
   "cell_type": "code",
   "execution_count": null,
   "metadata": {},
   "outputs": [],
   "source": [
    "names = [c[0].findAll(\"td\")[2].text for c in containers]"
   ]
  },
  {
   "cell_type": "code",
   "execution_count": null,
   "metadata": {},
   "outputs": [],
   "source": [
    "parties = [c[0].findAll(\"td\")[4].text for c in containers]"
   ]
  },
  {
   "cell_type": "code",
   "execution_count": null,
   "metadata": {},
   "outputs": [],
   "source": [
    "handles = [c[0].findAll(\"td\")[5].text for c in containers]"
   ]
  },
  {
   "cell_type": "markdown",
   "metadata": {},
   "source": [
    "Combining the names of congress members, their respective parties, and twitter handles into a dataframe."
   ]
  },
  {
   "cell_type": "code",
   "execution_count": null,
   "metadata": {},
   "outputs": [],
   "source": [
    "twitter_df = pd.DataFrame(columns = [\"name\", \"party\", \"t_handle\"])\n",
    "twitter_df[\"name\"] = names\n",
    "twitter_df[\"party\"] = parties\n",
    "twitter_df[\"t_handle\"] = handles"
   ]
  },
  {
   "cell_type": "code",
   "execution_count": null,
   "metadata": {},
   "outputs": [],
   "source": [
    "twitter_df[\"t_handle\"] = twitter_df[\"t_handle\"].map(lambda x: x.strip(\"@\"))"
   ]
  },
  {
   "cell_type": "markdown",
   "metadata": {},
   "source": [
    "Adding additional names and twitter handles of prominent political figures to the dataframe."
   ]
  },
  {
   "cell_type": "code",
   "execution_count": null,
   "metadata": {},
   "outputs": [],
   "source": [
    "add_names = [\"Biden, Joe\", \"Clinton, Hillary\", \"Obama, Barack\", \"Pence, Mike\", \"Pompeo, Mike\"]\n",
    "add_parties = [\"D\", \"D\", \"D\", \"R\", \"R\"]\n",
    "add_handles = [\"JoeBiden\", \"HillaryClinton\", \"BarackObama\", \"Mike_Pence\", \"mikepompeo\"]\n",
    "d = {'name': add_names, 'party': add_parties, 't_handle': add_handles}\n",
    "add_df = pd.DataFrame(data=d)"
   ]
  },
  {
   "cell_type": "code",
   "execution_count": null,
   "metadata": {},
   "outputs": [],
   "source": [
    "twitter_df = twitter_df.append(add_df)"
   ]
  },
  {
   "cell_type": "markdown",
   "metadata": {},
   "source": [
    "Splitting the dataframe into more popular politicians and less, since we will use different parameters for each group."
   ]
  },
  {
   "cell_type": "code",
   "execution_count": null,
   "metadata": {},
   "outputs": [],
   "source": [
    "most_popular = twitter_df[twitter_df[\"t_handle\"].isin([\"HillaryClinton\", \"JoeBiden\", \n",
    "                                                   \"BarackObama\", \"SenSanders\",\n",
    "                                                  \"Mike_Pence\",\"KamalaHarris\"])]"
   ]
  },
  {
   "cell_type": "code",
   "execution_count": null,
   "metadata": {},
   "outputs": [],
   "source": [
    "less_popular = twitter_df[~twitter_df[\"t_handle\"].isin([\"HillaryClinton\", \"JoeBiden\", \n",
    "                                                   \"BarackObama\", \"SenSanders\",\n",
    "                                                  \"Mike_Pence\",\"KamalaHarris\"])]"
   ]
  },
  {
   "cell_type": "markdown",
   "metadata": {},
   "source": [
    "### Extracting Data from Twint"
   ]
  },
  {
   "cell_type": "markdown",
   "metadata": {},
   "source": [
    "We will now scrape twitter for tweets from congress members. To do this we will use the twitter scraper tool, Twint, that streamlines the scraping process without the use of the Twitter API.\n",
    "\n",
    "To begin, we will develop some functions that will configure the tool and set some filtering parameters to scrape tweets."
   ]
  },
  {
   "cell_type": "code",
   "execution_count": null,
   "metadata": {},
   "outputs": [],
   "source": [
    "def extract_twint(user, since, min_likes):\n",
    "    c = twint.Config()\n",
    "    c.Username = user\n",
    "    c.Since = since\n",
    "    c.Lang = \"en\"\n",
    "    c.Min_likes = min_likes\n",
    "    c.Popular_tweets = True\n",
    "    c.Pandas = True\n",
    "    c.Hide_output = True\n",
    "    twint.run.Search(c)\n",
    "    df = twint.storage.panda.Tweets_df\n",
    "    return df"
   ]
  },
  {
   "cell_type": "code",
   "execution_count": null,
   "metadata": {},
   "outputs": [],
   "source": [
    "def extract_all(df, since, min_likes):\n",
    "    users = list(df[\"t_handle\"])\n",
    "    data = pd.DataFrame([])\n",
    "    for u in users:\n",
    "        try:\n",
    "            u_df = extract_twint(u, since, min_likes)\n",
    "            data = data.append(u_df)\n",
    "        except ValueError:\n",
    "            continue\n",
    "    return data"
   ]
  },
  {
   "cell_type": "markdown",
   "metadata": {},
   "source": [
    "For the less popular tweeters, we will set a minimum of 50 likes per tweet, while for the more popular tweeters, we will set a minimum threshold of 500 likes. We will extract all tweets from members of congress from january 2016 - February 2021."
   ]
  },
  {
   "cell_type": "code",
   "execution_count": null,
   "metadata": {},
   "outputs": [],
   "source": [
    "tweets_less = extract_all(less_popular,'2016-01-01', 50)"
   ]
  },
  {
   "cell_type": "code",
   "execution_count": null,
   "metadata": {},
   "outputs": [],
   "source": [
    "tweets_more = extract_all(most_popular,'2016-01-01', 500)"
   ]
  },
  {
   "cell_type": "markdown",
   "metadata": {},
   "source": [
    "We will now combine all the tweets into a dataframe and filter the tweets by language and relevant features."
   ]
  },
  {
   "cell_type": "code",
   "execution_count": null,
   "metadata": {},
   "outputs": [],
   "source": [
    "tweets_less = tweets_less[tweets_less[\"language\"] == \"en\"]"
   ]
  },
  {
   "cell_type": "code",
   "execution_count": null,
   "metadata": {},
   "outputs": [],
   "source": [
    "tweets_all = tweets_less.append(tweets_more)"
   ]
  },
  {
   "cell_type": "code",
   "execution_count": null,
   "metadata": {},
   "outputs": [],
   "source": [
    "tweets_all = tweets_all[tweets_all[\"language\"] == \"en\"]"
   ]
  },
  {
   "cell_type": "code",
   "execution_count": null,
   "metadata": {},
   "outputs": [],
   "source": [
    "tweets_all = tweets_all[[\"id\", \"date\", \"tweet\", \"language\", \"username\", \"nlikes\", \"hashtags\"]]"
   ]
  },
  {
   "cell_type": "code",
   "execution_count": null,
   "metadata": {},
   "outputs": [],
   "source": [
    "tweets_all[\"characters\"] = tweets_all[\"tweet\"].map(lambda x: len(x))"
   ]
  },
  {
   "cell_type": "markdown",
   "metadata": {},
   "source": [
    "Exporting tweets to csv to avoid having to continuously scrape twint every time we run the notebook."
   ]
  },
  {
   "cell_type": "code",
   "execution_count": null,
   "metadata": {},
   "outputs": [],
   "source": [
    "tweets_all.to_csv(\"Data/tweets_all.csv\")"
   ]
  },
  {
   "cell_type": "code",
   "execution_count": 28,
   "metadata": {},
   "outputs": [],
   "source": [
    "tweets_all = pd.read_csv(\"Data/tweets_all.csv\")"
   ]
  },
  {
   "cell_type": "code",
   "execution_count": 29,
   "metadata": {},
   "outputs": [],
   "source": [
    "tweets_all.drop(columns = \"Unnamed: 0\", inplace=True)"
   ]
  },
  {
   "cell_type": "code",
   "execution_count": null,
   "metadata": {},
   "outputs": [],
   "source": [
    "twitter_df.rename(columns={\"t_handle\": \"username\"}, inplace=True)"
   ]
  },
  {
   "cell_type": "markdown",
   "metadata": {},
   "source": [
    "Joining the twitter dataframe with congress members names, twitter handles, and political party to the tweets dataframe based on twitter handle (username)."
   ]
  },
  {
   "cell_type": "code",
   "execution_count": null,
   "metadata": {},
   "outputs": [],
   "source": [
    "expanded_df = tweets_all.join(twitter_df.set_index(\"username\"), on=\"username\", how=\"left\")"
   ]
  },
  {
   "cell_type": "markdown",
   "metadata": {},
   "source": [
    "Cleaning the dataframe by dropping duplicates, changing datatypes, filtering and rearranging columns."
   ]
  },
  {
   "cell_type": "code",
   "execution_count": null,
   "metadata": {},
   "outputs": [],
   "source": [
    "cols = ['id', 'name', 'username', 'date', 'tweet', 'characters', 'language', 'nlikes', 'hashtags','party']\n",
    "expanded_df = expanded_df[cols]"
   ]
  },
  {
   "cell_type": "code",
   "execution_count": null,
   "metadata": {},
   "outputs": [],
   "source": [
    "expanded_df = expanded_df[expanded_df[\"characters\"] > 50]"
   ]
  },
  {
   "cell_type": "code",
   "execution_count": null,
   "metadata": {},
   "outputs": [],
   "source": [
    "expanded_df[\"date\"] = pd.to_datetime(expanded_df[\"date\"])"
   ]
  },
  {
   "cell_type": "code",
   "execution_count": null,
   "metadata": {},
   "outputs": [],
   "source": [
    "expanded_df.drop_duplicates(subset=\"id\", inplace=True)"
   ]
  },
  {
   "cell_type": "code",
   "execution_count": null,
   "metadata": {
    "scrolled": true
   },
   "outputs": [],
   "source": [
    "expanded_df.head()"
   ]
  },
  {
   "cell_type": "markdown",
   "metadata": {},
   "source": [
    "Since there are tweets from only two independent politicians, we will either drop them or label them as republican or democrat. We will drop Angus King, but label Bernie Sanders as \"D\", due to him running under the democratic party during the 2020 election."
   ]
  },
  {
   "cell_type": "code",
   "execution_count": 5,
   "metadata": {},
   "outputs": [],
   "source": [
    "expanded_df.drop(expanded_df[expanded_df['name'] == \"Angus King\"].index, inplace = True)"
   ]
  },
  {
   "cell_type": "code",
   "execution_count": 6,
   "metadata": {},
   "outputs": [],
   "source": [
    "expanded_df.loc[(expanded_df[\"name\"] == 'Sanders, Bernie'),\"party\"]=\"D\""
   ]
  },
  {
   "cell_type": "markdown",
   "metadata": {},
   "source": [
    "We will now check for Nan values"
   ]
  },
  {
   "cell_type": "code",
   "execution_count": 7,
   "metadata": {
    "scrolled": true
   },
   "outputs": [
    {
     "data": {
      "text/plain": [
       "id                0\n",
       "name          22491\n",
       "username          0\n",
       "date              0\n",
       "tweet             0\n",
       "characters        0\n",
       "language          0\n",
       "nlikes            0\n",
       "hashtags          0\n",
       "party         22491\n",
       "dtype: int64"
      ]
     },
     "execution_count": 7,
     "metadata": {},
     "output_type": "execute_result"
    }
   ],
   "source": [
    "expanded_df.isna().sum()"
   ]
  },
  {
   "cell_type": "code",
   "execution_count": 8,
   "metadata": {
    "scrolled": true
   },
   "outputs": [
    {
     "data": {
      "text/plain": [
       "justinamash        3267\n",
       "SenatorTomUdall    2411\n",
       "mattgaetz          2018\n",
       "RepDougCollins     1589\n",
       "DougJones          1277\n",
       "TulsiPress         1159\n",
       "SteveKingIA        1011\n",
       "RepDavids           803\n",
       "SenCoryGardner      793\n",
       "RepCunningham       636\n",
       "sendavidperdue      625\n",
       "RepDMP              598\n",
       "SenatorLoeffler     579\n",
       "repjohnlewis        526\n",
       "HurdOnTheHill       514\n",
       "RepHarley           441\n",
       "RepMarkWalker       414\n",
       "RepRiggleman        398\n",
       "SenAlexander        326\n",
       "braun4indiana       291\n",
       "RepPeteKing         281\n",
       "RepEliotEngel       243\n",
       "RepTedYoho          199\n",
       "RepByrne            163\n",
       "NitaLowey           122\n",
       "RepTorresSmall      118\n",
       "LacyClayMO1         104\n",
       "RepMaxRose          103\n",
       "andybiggs4az        102\n",
       "JimLangevin          89\n",
       "SenPatRoberts        80\n",
       "RepRossSpano         73\n",
       "repgregwalden        73\n",
       "RepAbraham           73\n",
       "RepKirkpatrick       73\n",
       "RepGilCisneros       70\n",
       "jamie_raskin         66\n",
       "RepBrindisi          62\n",
       "RepJoseSerrano       60\n",
       "SusanWBrooks         59\n",
       "RepFinkenauer        58\n",
       "RepMikeRogersAL      49\n",
       "repdelgado           47\n",
       "DrPhilRoe            46\n",
       "repdonyoung          38\n",
       "RepTomGraves         37\n",
       "RepLipinski          36\n",
       "GregForMontana       34\n",
       "repkevinhern         30\n",
       "RepTjCox             28\n",
       "Name: username, dtype: int64"
      ]
     },
     "execution_count": 8,
     "metadata": {},
     "output_type": "execute_result"
    }
   ],
   "source": [
    "expanded_df.loc[(expanded_df[\"party\"] != 'R')&(expanded_df[\"party\"] != 'D')][\"username\"].value_counts()[:50]"
   ]
  },
  {
   "cell_type": "markdown",
   "metadata": {},
   "source": [
    "To preserve data, we will manually label the politicians that did not have a party listed on the Triage Cancer website."
   ]
  },
  {
   "cell_type": "code",
   "execution_count": 9,
   "metadata": {},
   "outputs": [],
   "source": [
    "expanded_df.loc[(expanded_df[\"username\"] == 'SenatorTomUdall'),\"party\"]=\"D\"\n",
    "expanded_df.loc[(expanded_df[\"username\"] == 'SenatorTomUdall'),\"name\"]=\"Udall, Tom\""
   ]
  },
  {
   "cell_type": "code",
   "execution_count": 10,
   "metadata": {},
   "outputs": [],
   "source": [
    "expanded_df.loc[(expanded_df[\"username\"] == 'mattgaetz'),\"party\"]=\"R\"\n",
    "expanded_df.loc[(expanded_df[\"username\"] == 'mattgaetz'),\"name\"]=\"Gaetz, Matt\""
   ]
  },
  {
   "cell_type": "code",
   "execution_count": 11,
   "metadata": {},
   "outputs": [],
   "source": [
    "expanded_df.loc[(expanded_df[\"username\"] == 'RepDougCollins'),\"party\"]=\"R\"\n",
    "expanded_df.loc[(expanded_df[\"username\"] == 'RepDougCollins'),\"name\"]=\"Collins, Doug\""
   ]
  },
  {
   "cell_type": "code",
   "execution_count": 12,
   "metadata": {},
   "outputs": [],
   "source": [
    "expanded_df.loc[(expanded_df[\"username\"] == 'DougJones'),\"party\"]=\"D\"\n",
    "expanded_df.loc[(expanded_df[\"username\"] == 'DougJones'),\"name\"]=\"Jones, Doug\""
   ]
  },
  {
   "cell_type": "code",
   "execution_count": 13,
   "metadata": {},
   "outputs": [],
   "source": [
    "expanded_df.loc[(expanded_df[\"username\"] == 'TulsiPress'),\"party\"]=\"D\"\n",
    "expanded_df.loc[(expanded_df[\"username\"] == 'TulsiPress'),\"name\"]=\"Gabbard, Tulsi\""
   ]
  },
  {
   "cell_type": "code",
   "execution_count": 14,
   "metadata": {},
   "outputs": [],
   "source": [
    "expanded_df.loc[(expanded_df[\"username\"] == 'SteveKingIA'),\"party\"]=\"R\"\n",
    "expanded_df.loc[(expanded_df[\"username\"] == 'SteveKingIA'),\"name\"]=\"King, Steve\""
   ]
  },
  {
   "cell_type": "code",
   "execution_count": 15,
   "metadata": {},
   "outputs": [],
   "source": [
    "expanded_df.loc[(expanded_df[\"username\"] == 'RepDavids'),\"party\"]=\"D\"\n",
    "expanded_df.loc[(expanded_df[\"username\"] == 'RepDavids'),\"name\"]=\"Davids, Sharice\""
   ]
  },
  {
   "cell_type": "code",
   "execution_count": 16,
   "metadata": {},
   "outputs": [],
   "source": [
    "expanded_df.loc[(expanded_df[\"username\"] == 'SenCoryGardner'),\"party\"]=\"R\"\n",
    "expanded_df.loc[(expanded_df[\"username\"] == 'SenCoryGardner'),\"name\"]=\"Gardner, Cory\""
   ]
  },
  {
   "cell_type": "code",
   "execution_count": 17,
   "metadata": {},
   "outputs": [],
   "source": [
    "expanded_df.loc[(expanded_df[\"username\"] == 'RepCunningham'),\"party\"]=\"D\"\n",
    "expanded_df.loc[(expanded_df[\"username\"] == 'RepCunningham'),\"name\"]=\"Cunningham, Joe\""
   ]
  },
  {
   "cell_type": "code",
   "execution_count": 18,
   "metadata": {},
   "outputs": [],
   "source": [
    "expanded_df.loc[(expanded_df[\"username\"] == 'sendavidperdue'),\"party\"]=\"R\"\n",
    "expanded_df.loc[(expanded_df[\"username\"] == 'sendavidperdue'),\"name\"]=\"Perdue, David\""
   ]
  },
  {
   "cell_type": "code",
   "execution_count": 19,
   "metadata": {},
   "outputs": [],
   "source": [
    "expanded_df.loc[(expanded_df[\"username\"] == 'RepDMP'),\"party\"]=\"D\"\n",
    "expanded_df.loc[(expanded_df[\"username\"] == 'RepDMP'),\"name\"]=\"Mucarsel-Powell, Debbie\""
   ]
  },
  {
   "cell_type": "code",
   "execution_count": 20,
   "metadata": {},
   "outputs": [],
   "source": [
    "expanded_df.loc[(expanded_df[\"username\"] == 'SenatorLoeffler'),\"party\"]=\"R\"\n",
    "expanded_df.loc[(expanded_df[\"username\"] == 'SenatorLoeffler'),\"name\"]=\"Loeffler, Kelly\""
   ]
  },
  {
   "cell_type": "code",
   "execution_count": 21,
   "metadata": {},
   "outputs": [],
   "source": [
    "expanded_df.loc[(expanded_df[\"username\"] == 'repjohnlewis'),\"party\"]=\"D\"\n",
    "expanded_df.loc[(expanded_df[\"username\"] == 'repjohnlewis'),\"name\"]=\"Lewis, John\""
   ]
  },
  {
   "cell_type": "code",
   "execution_count": 22,
   "metadata": {},
   "outputs": [],
   "source": [
    "expanded_df.loc[(expanded_df[\"username\"] == 'HurdOnTheHill'),\"party\"]=\"R\"\n",
    "expanded_df.loc[(expanded_df[\"username\"] == 'HurdOnTheHill'),\"name\"]=\"Hurd, Will\""
   ]
  },
  {
   "cell_type": "code",
   "execution_count": 23,
   "metadata": {},
   "outputs": [],
   "source": [
    "expanded_df.dropna(inplace=True)"
   ]
  },
  {
   "cell_type": "markdown",
   "metadata": {},
   "source": [
    "### Data Preprocessing and EDA"
   ]
  },
  {
   "cell_type": "markdown",
   "metadata": {},
   "source": [
    "When working with text data, there are various techiques that can be employed to preprocess it. Some of these include:\n",
    "\n",
    "- Tokenization: splitting text into individual \"tokens\" (words or symbols based on a predefined pattern)\n",
    "- Removing punctuation and capitalization\n",
    "- Stopword removal: removal of words that are considered irrevelant (ex: and, you, it, have, etc.)\n",
    "- Lemmatization: Condensing words down to their \"lemma\" (ex: running - run)\n",
    "    \n",
    "We will use the NLTK library to perform these preprocessing steps."
   ]
  },
  {
   "cell_type": "code",
   "execution_count": 81,
   "metadata": {},
   "outputs": [],
   "source": [
    "import nltk\n",
    "from nltk import word_tokenize\n",
    "from nltk.corpus import stopwords\n",
    "import string\n",
    "from  nltk import FreqDist\n",
    "from nltk.stem.wordnet import WordNetLemmatizer\n",
    "import re\n",
    "import preprocessor as p\n",
    "import spacy\n",
    "nlp = spacy.load(\"en_core_web_sm\")\n",
    "from wordcloud import WordCloud, ImageColorGenerator\n",
    "import gensim\n",
    "from gensim.utils import simple_preprocess"
   ]
  },
  {
   "cell_type": "markdown",
   "metadata": {},
   "source": [
    "Defining a regex pattern to tokenize the data and also a stopwords list."
   ]
  },
  {
   "cell_type": "code",
   "execution_count": 82,
   "metadata": {},
   "outputs": [],
   "source": [
    "pattern = \"([a-zA-Z]+(?:'[a-z]+)?)\"\n",
    "stopwords_list = stopwords.words(\"english\")"
   ]
  },
  {
   "cell_type": "markdown",
   "metadata": {},
   "source": [
    "We will add some additional words and characters to the stopwords list based on previous results."
   ]
  },
  {
   "cell_type": "code",
   "execution_count": 83,
   "metadata": {},
   "outputs": [],
   "source": [
    "stopwords_list.append(\"&amp\")\n",
    "stopwords_list.append(\"amp\")\n",
    "stopwords_list.append(\"ca\")\n",
    "stopwords_list.append(\"nt\")\n",
    "stopwords_list.append(\"s\")\n",
    "stopwords_list.append(\"'s\")\n",
    "stopwords_list.append(\"ve\")\n",
    "stopwords_list.append(\"w\")\n",
    "stopwords_list.append(\"u\")\n",
    "stopwords_list.append(\"be\")"
   ]
  },
  {
   "cell_type": "markdown",
   "metadata": {},
   "source": [
    "Defining some functions to perform the text preprocessing steps."
   ]
  },
  {
   "cell_type": "code",
   "execution_count": 84,
   "metadata": {},
   "outputs": [],
   "source": [
    "def process_text(text, pattern):\n",
    "    text = p.clean(text)\n",
    "    raw = nltk.regexp_tokenize(text, pattern)\n",
    "    lower_tokens = [w.lower() for w in raw]\n",
    "    words_stopped = [w for w in lower_tokens if w not in stopwords_list]\n",
    "    separator = ' '\n",
    "    sentence = separator.join(words_stopped)\n",
    "    return sentence"
   ]
  },
  {
   "cell_type": "code",
   "execution_count": 85,
   "metadata": {},
   "outputs": [],
   "source": [
    "def lemmatize(text):\n",
    "    w_ls = []\n",
    "    for word in nlp(text):\n",
    "        w_ls.append(word.lemma_)\n",
    "    words_stopped = [w for w in w_ls if w not in stopwords_list]\n",
    "    separator = ' '\n",
    "    sentence = separator.join(words_stopped)\n",
    "    return sentence"
   ]
  },
  {
   "cell_type": "markdown",
   "metadata": {},
   "source": [
    "Creating a new dataframe to store the preprocessed tweets. "
   ]
  },
  {
   "cell_type": "code",
   "execution_count": 29,
   "metadata": {},
   "outputs": [],
   "source": [
    "preprocess = expanded_df.copy()"
   ]
  },
  {
   "cell_type": "code",
   "execution_count": 30,
   "metadata": {},
   "outputs": [],
   "source": [
    "preprocess[\"tokens\"] = preprocess[\"tweet\"].map(lambda x: process_text(x, pattern))"
   ]
  },
  {
   "cell_type": "code",
   "execution_count": 31,
   "metadata": {},
   "outputs": [],
   "source": [
    "preprocess[\"lemmatized\"] = preprocess[\"tokens\"].map(lambda x: lemmatize(x))"
   ]
  },
  {
   "cell_type": "code",
   "execution_count": 32,
   "metadata": {
    "scrolled": true
   },
   "outputs": [
    {
     "data": {
      "text/html": [
       "<div>\n",
       "<style scoped>\n",
       "    .dataframe tbody tr th:only-of-type {\n",
       "        vertical-align: middle;\n",
       "    }\n",
       "\n",
       "    .dataframe tbody tr th {\n",
       "        vertical-align: top;\n",
       "    }\n",
       "\n",
       "    .dataframe thead th {\n",
       "        text-align: right;\n",
       "    }\n",
       "</style>\n",
       "<table border=\"1\" class=\"dataframe\">\n",
       "  <thead>\n",
       "    <tr style=\"text-align: right;\">\n",
       "      <th></th>\n",
       "      <th>id</th>\n",
       "      <th>name</th>\n",
       "      <th>username</th>\n",
       "      <th>date</th>\n",
       "      <th>tweet</th>\n",
       "      <th>characters</th>\n",
       "      <th>language</th>\n",
       "      <th>nlikes</th>\n",
       "      <th>hashtags</th>\n",
       "      <th>party</th>\n",
       "      <th>tokens</th>\n",
       "      <th>lemmatized</th>\n",
       "    </tr>\n",
       "  </thead>\n",
       "  <tbody>\n",
       "    <tr>\n",
       "      <th>0</th>\n",
       "      <td>1358826533310390272</td>\n",
       "      <td>Shelby, Richard</td>\n",
       "      <td>SenShelby</td>\n",
       "      <td>2021-02-08 11:14:25</td>\n",
       "      <td>Although I plan to retire, I am not leaving to...</td>\n",
       "      <td>270</td>\n",
       "      <td>en</td>\n",
       "      <td>154</td>\n",
       "      <td>[]</td>\n",
       "      <td>R</td>\n",
       "      <td>although plan retire leaving today two good ye...</td>\n",
       "      <td>although plan retire leave today two good year...</td>\n",
       "    </tr>\n",
       "    <tr>\n",
       "      <th>1</th>\n",
       "      <td>1358826532450541573</td>\n",
       "      <td>Shelby, Richard</td>\n",
       "      <td>SenShelby</td>\n",
       "      <td>2021-02-08 11:14:25</td>\n",
       "      <td>Today I announce that I will not seek a sevent...</td>\n",
       "      <td>232</td>\n",
       "      <td>en</td>\n",
       "      <td>617</td>\n",
       "      <td>[]</td>\n",
       "      <td>R</td>\n",
       "      <td>today announce seek seventh term senate everyt...</td>\n",
       "      <td>today announce seek seventh term senate everyt...</td>\n",
       "    </tr>\n",
       "    <tr>\n",
       "      <th>2</th>\n",
       "      <td>1358538474639544321</td>\n",
       "      <td>Shelby, Richard</td>\n",
       "      <td>SenShelby</td>\n",
       "      <td>2021-02-07 16:09:47</td>\n",
       "      <td>George Shultz was a great statesman. He held f...</td>\n",
       "      <td>206</td>\n",
       "      <td>en</td>\n",
       "      <td>112</td>\n",
       "      <td>[]</td>\n",
       "      <td>R</td>\n",
       "      <td>george shultz great statesman held four cabine...</td>\n",
       "      <td>george shultz great statesman hold four cabine...</td>\n",
       "    </tr>\n",
       "    <tr>\n",
       "      <th>3</th>\n",
       "      <td>1357132614071689217</td>\n",
       "      <td>Shelby, Richard</td>\n",
       "      <td>SenShelby</td>\n",
       "      <td>2021-02-03 19:03:24</td>\n",
       "      <td>Congratulations to Ann Berry, the new Secretar...</td>\n",
       "      <td>275</td>\n",
       "      <td>en</td>\n",
       "      <td>220</td>\n",
       "      <td>[]</td>\n",
       "      <td>R</td>\n",
       "      <td>congratulations ann berry new secretary senate...</td>\n",
       "      <td>congratulation ann berry new secretary senate ...</td>\n",
       "    </tr>\n",
       "    <tr>\n",
       "      <th>4</th>\n",
       "      <td>1357059443435991046</td>\n",
       "      <td>Shelby, Richard</td>\n",
       "      <td>SenShelby</td>\n",
       "      <td>2021-02-03 14:12:38</td>\n",
       "      <td>Cosponsored a resolution, which just passed in...</td>\n",
       "      <td>279</td>\n",
       "      <td>en</td>\n",
       "      <td>144</td>\n",
       "      <td>[]</td>\n",
       "      <td>R</td>\n",
       "      <td>cosponsored resolution passed senate honoring ...</td>\n",
       "      <td>cosponsor resolution pass senate honor life le...</td>\n",
       "    </tr>\n",
       "  </tbody>\n",
       "</table>\n",
       "</div>"
      ],
      "text/plain": [
       "                    id             name   username                 date  \\\n",
       "0  1358826533310390272  Shelby, Richard  SenShelby  2021-02-08 11:14:25   \n",
       "1  1358826532450541573  Shelby, Richard  SenShelby  2021-02-08 11:14:25   \n",
       "2  1358538474639544321  Shelby, Richard  SenShelby  2021-02-07 16:09:47   \n",
       "3  1357132614071689217  Shelby, Richard  SenShelby  2021-02-03 19:03:24   \n",
       "4  1357059443435991046  Shelby, Richard  SenShelby  2021-02-03 14:12:38   \n",
       "\n",
       "                                               tweet  characters language  \\\n",
       "0  Although I plan to retire, I am not leaving to...         270       en   \n",
       "1  Today I announce that I will not seek a sevent...         232       en   \n",
       "2  George Shultz was a great statesman. He held f...         206       en   \n",
       "3  Congratulations to Ann Berry, the new Secretar...         275       en   \n",
       "4  Cosponsored a resolution, which just passed in...         279       en   \n",
       "\n",
       "   nlikes hashtags party                                             tokens  \\\n",
       "0     154       []     R  although plan retire leaving today two good ye...   \n",
       "1     617       []     R  today announce seek seventh term senate everyt...   \n",
       "2     112       []     R  george shultz great statesman held four cabine...   \n",
       "3     220       []     R  congratulations ann berry new secretary senate...   \n",
       "4     144       []     R  cosponsored resolution passed senate honoring ...   \n",
       "\n",
       "                                          lemmatized  \n",
       "0  although plan retire leave today two good year...  \n",
       "1  today announce seek seventh term senate everyt...  \n",
       "2  george shultz great statesman hold four cabine...  \n",
       "3  congratulation ann berry new secretary senate ...  \n",
       "4  cosponsor resolution pass senate honor life le...  "
      ]
     },
     "execution_count": 32,
     "metadata": {},
     "output_type": "execute_result"
    }
   ],
   "source": [
    "preprocess.head()"
   ]
  },
  {
   "cell_type": "code",
   "execution_count": 37,
   "metadata": {
    "scrolled": true
   },
   "outputs": [
    {
     "data": {
      "text/plain": [
       "trump         53769\n",
       "american      53418\n",
       "today         40148\n",
       "president     39675\n",
       "people        37988\n",
       "need          37478\n",
       "make          36010\n",
       "work          35478\n",
       "must          32322\n",
       "I             31637\n",
       "family        29867\n",
       "get           28304\n",
       "right         27389\n",
       "time          27217\n",
       "vote          27154\n",
       "health        25121\n",
       "year          24776\n",
       "one           24275\n",
       "day           24197\n",
       "bill          23968\n",
       "act           23521\n",
       "country       23009\n",
       "fight         23001\n",
       "congress      22873\n",
       "care          22827\n",
       "take          22709\n",
       "senate        22576\n",
       "house         22149\n",
       "state         21270\n",
       "help          21021\n",
       "go            19712\n",
       "republican    19634\n",
       "pass          19587\n",
       "would         19343\n",
       "support       19199\n",
       "protect       18569\n",
       "thank         17941\n",
       "new           17699\n",
       "america       17648\n",
       "woman         17335\n",
       "say           16521\n",
       "community     16447\n",
       "know          16393\n",
       "like          16123\n",
       "keep          16042\n",
       "call          16036\n",
       "law           15978\n",
       "every         15741\n",
       "continue      15623\n",
       "million       15590\n",
       "dtype: int64"
      ]
     },
     "execution_count": 37,
     "metadata": {},
     "output_type": "execute_result"
    }
   ],
   "source": [
    "preprocess[\"lemmatized\"].str.split(expand=True).stack().value_counts()[:50]"
   ]
  },
  {
   "cell_type": "markdown",
   "metadata": {},
   "source": [
    "We will check for and drop Nan values from the tokenized and lemmatized tweets."
   ]
  },
  {
   "cell_type": "code",
   "execution_count": 60,
   "metadata": {},
   "outputs": [],
   "source": [
    "preprocess.dropna(inplace = True)"
   ]
  },
  {
   "cell_type": "markdown",
   "metadata": {},
   "source": [
    "Exporting the preprocessed dataframe to a csv to avoid repeatedly running code every time the notebook is opened."
   ]
  },
  {
   "cell_type": "code",
   "execution_count": 61,
   "metadata": {},
   "outputs": [],
   "source": [
    "preprocess.to_csv(\"Data/preprocess.csv\", index=False)"
   ]
  },
  {
   "cell_type": "code",
   "execution_count": 4,
   "metadata": {},
   "outputs": [],
   "source": [
    "preprocess = pd.read_csv(\"Data/preprocess.csv\")"
   ]
  },
  {
   "cell_type": "markdown",
   "metadata": {},
   "source": [
    "Creating a dataframe specifically for EDA purposes and splitting the dataframe by political party (\"R\" and \"D\" classes), as the political party of the tweeter will serve the labels for our data."
   ]
  },
  {
   "cell_type": "code",
   "execution_count": 5,
   "metadata": {},
   "outputs": [],
   "source": [
    "eda = preprocess.copy()"
   ]
  },
  {
   "cell_type": "code",
   "execution_count": 6,
   "metadata": {},
   "outputs": [],
   "source": [
    "right = eda[eda[\"party\"] == \"R\"]\n",
    "left = eda[eda[\"party\"] == \"D\"]"
   ]
  },
  {
   "cell_type": "code",
   "execution_count": 66,
   "metadata": {},
   "outputs": [
    {
     "data": {
      "text/html": [
       "<div>\n",
       "<style scoped>\n",
       "    .dataframe tbody tr th:only-of-type {\n",
       "        vertical-align: middle;\n",
       "    }\n",
       "\n",
       "    .dataframe tbody tr th {\n",
       "        vertical-align: top;\n",
       "    }\n",
       "\n",
       "    .dataframe thead th {\n",
       "        text-align: right;\n",
       "    }\n",
       "</style>\n",
       "<table border=\"1\" class=\"dataframe\">\n",
       "  <thead>\n",
       "    <tr style=\"text-align: right;\">\n",
       "      <th></th>\n",
       "      <th>id</th>\n",
       "      <th>characters</th>\n",
       "      <th>nlikes</th>\n",
       "    </tr>\n",
       "  </thead>\n",
       "  <tbody>\n",
       "    <tr>\n",
       "      <th>count</th>\n",
       "      <td>9.857100e+04</td>\n",
       "      <td>98571.000000</td>\n",
       "      <td>98571.000000</td>\n",
       "    </tr>\n",
       "    <tr>\n",
       "      <th>mean</th>\n",
       "      <td>1.135182e+18</td>\n",
       "      <td>195.346380</td>\n",
       "      <td>2227.821377</td>\n",
       "    </tr>\n",
       "    <tr>\n",
       "      <th>std</th>\n",
       "      <td>1.690822e+17</td>\n",
       "      <td>72.691264</td>\n",
       "      <td>6572.643177</td>\n",
       "    </tr>\n",
       "    <tr>\n",
       "      <th>min</th>\n",
       "      <td>6.829092e+17</td>\n",
       "      <td>51.000000</td>\n",
       "      <td>0.000000</td>\n",
       "    </tr>\n",
       "    <tr>\n",
       "      <th>25%</th>\n",
       "      <td>1.023600e+18</td>\n",
       "      <td>135.000000</td>\n",
       "      <td>152.000000</td>\n",
       "    </tr>\n",
       "    <tr>\n",
       "      <th>50%</th>\n",
       "      <td>1.185216e+18</td>\n",
       "      <td>197.000000</td>\n",
       "      <td>377.000000</td>\n",
       "    </tr>\n",
       "    <tr>\n",
       "      <th>75%</th>\n",
       "      <td>1.269321e+18</td>\n",
       "      <td>267.000000</td>\n",
       "      <td>1432.000000</td>\n",
       "    </tr>\n",
       "    <tr>\n",
       "      <th>max</th>\n",
       "      <td>1.359657e+18</td>\n",
       "      <td>500.000000</td>\n",
       "      <td>227274.000000</td>\n",
       "    </tr>\n",
       "  </tbody>\n",
       "</table>\n",
       "</div>"
      ],
      "text/plain": [
       "                 id    characters         nlikes\n",
       "count  9.857100e+04  98571.000000   98571.000000\n",
       "mean   1.135182e+18    195.346380    2227.821377\n",
       "std    1.690822e+17     72.691264    6572.643177\n",
       "min    6.829092e+17     51.000000       0.000000\n",
       "25%    1.023600e+18    135.000000     152.000000\n",
       "50%    1.185216e+18    197.000000     377.000000\n",
       "75%    1.269321e+18    267.000000    1432.000000\n",
       "max    1.359657e+18    500.000000  227274.000000"
      ]
     },
     "execution_count": 66,
     "metadata": {},
     "output_type": "execute_result"
    }
   ],
   "source": [
    "right.describe()"
   ]
  },
  {
   "cell_type": "code",
   "execution_count": 67,
   "metadata": {
    "scrolled": true
   },
   "outputs": [
    {
     "data": {
      "text/html": [
       "<div>\n",
       "<style scoped>\n",
       "    .dataframe tbody tr th:only-of-type {\n",
       "        vertical-align: middle;\n",
       "    }\n",
       "\n",
       "    .dataframe tbody tr th {\n",
       "        vertical-align: top;\n",
       "    }\n",
       "\n",
       "    .dataframe thead th {\n",
       "        text-align: right;\n",
       "    }\n",
       "</style>\n",
       "<table border=\"1\" class=\"dataframe\">\n",
       "  <thead>\n",
       "    <tr style=\"text-align: right;\">\n",
       "      <th></th>\n",
       "      <th>id</th>\n",
       "      <th>characters</th>\n",
       "      <th>nlikes</th>\n",
       "    </tr>\n",
       "  </thead>\n",
       "  <tbody>\n",
       "    <tr>\n",
       "      <th>count</th>\n",
       "      <td>3.034470e+05</td>\n",
       "      <td>303447.000000</td>\n",
       "      <td>3.034470e+05</td>\n",
       "    </tr>\n",
       "    <tr>\n",
       "      <th>mean</th>\n",
       "      <td>1.077435e+18</td>\n",
       "      <td>198.673409</td>\n",
       "      <td>4.572446e+03</td>\n",
       "    </tr>\n",
       "    <tr>\n",
       "      <th>std</th>\n",
       "      <td>1.772615e+17</td>\n",
       "      <td>68.966159</td>\n",
       "      <td>3.151070e+04</td>\n",
       "    </tr>\n",
       "    <tr>\n",
       "      <th>min</th>\n",
       "      <td>6.828041e+17</td>\n",
       "      <td>51.000000</td>\n",
       "      <td>1.200000e+01</td>\n",
       "    </tr>\n",
       "    <tr>\n",
       "      <th>25%</th>\n",
       "      <td>9.258824e+17</td>\n",
       "      <td>139.000000</td>\n",
       "      <td>1.390000e+02</td>\n",
       "    </tr>\n",
       "    <tr>\n",
       "      <th>50%</th>\n",
       "      <td>1.091530e+18</td>\n",
       "      <td>198.000000</td>\n",
       "      <td>3.400000e+02</td>\n",
       "    </tr>\n",
       "    <tr>\n",
       "      <th>75%</th>\n",
       "      <td>1.233545e+18</td>\n",
       "      <td>267.000000</td>\n",
       "      <td>1.531000e+03</td>\n",
       "    </tr>\n",
       "    <tr>\n",
       "      <th>max</th>\n",
       "      <td>1.359659e+18</td>\n",
       "      <td>777.000000</td>\n",
       "      <td>4.281004e+06</td>\n",
       "    </tr>\n",
       "  </tbody>\n",
       "</table>\n",
       "</div>"
      ],
      "text/plain": [
       "                 id     characters        nlikes\n",
       "count  3.034470e+05  303447.000000  3.034470e+05\n",
       "mean   1.077435e+18     198.673409  4.572446e+03\n",
       "std    1.772615e+17      68.966159  3.151070e+04\n",
       "min    6.828041e+17      51.000000  1.200000e+01\n",
       "25%    9.258824e+17     139.000000  1.390000e+02\n",
       "50%    1.091530e+18     198.000000  3.400000e+02\n",
       "75%    1.233545e+18     267.000000  1.531000e+03\n",
       "max    1.359659e+18     777.000000  4.281004e+06"
      ]
     },
     "execution_count": 67,
     "metadata": {},
     "output_type": "execute_result"
    }
   ],
   "source": [
    "left.describe()"
   ]
  },
  {
   "cell_type": "markdown",
   "metadata": {},
   "source": [
    "Looking at the descriptive statistics for the two classes, both has similar average character length of tweets (195 vs 198), but left leaning politicians recieved significantly more likes on average. "
   ]
  },
  {
   "cell_type": "code",
   "execution_count": 68,
   "metadata": {},
   "outputs": [
    {
     "data": {
      "text/plain": [
       "(340.0, 377.0)"
      ]
     },
     "execution_count": 68,
     "metadata": {},
     "output_type": "execute_result"
    }
   ],
   "source": [
    "left[\"nlikes\"].median(), right[\"nlikes\"].median()"
   ]
  },
  {
   "cell_type": "markdown",
   "metadata": {},
   "source": [
    "However, the medians in terms of likes were much more similar."
   ]
  },
  {
   "cell_type": "markdown",
   "metadata": {},
   "source": [
    "We will now look at the most common words per class."
   ]
  },
  {
   "cell_type": "code",
   "execution_count": 69,
   "metadata": {
    "scrolled": true
   },
   "outputs": [
    {
     "data": {
      "text/plain": [
       "american     0.008582\n",
       "today        0.006570\n",
       "work         0.005386\n",
       "president    0.005186\n",
       "people       0.005134\n",
       "time         0.004446\n",
       "need         0.004402\n",
       "make         0.004278\n",
       "great        0.004241\n",
       "vote         0.004052\n",
       "dtype: float64"
      ]
     },
     "execution_count": 69,
     "metadata": {},
     "output_type": "execute_result"
    }
   ],
   "source": [
    "right[\"lemmatized\"].str.split(expand=True).stack().value_counts(normalize=True)[:10]"
   ]
  },
  {
   "cell_type": "code",
   "execution_count": 70,
   "metadata": {},
   "outputs": [
    {
     "data": {
      "text/plain": [
       "trump        0.010182\n",
       "american     0.008277\n",
       "president    0.006524\n",
       "need         0.006320\n",
       "people       0.006193\n",
       "today        0.006183\n",
       "make         0.006057\n",
       "must         0.005694\n",
       "work         0.005596\n",
       "I            0.005356\n",
       "dtype: float64"
      ]
     },
     "execution_count": 70,
     "metadata": {},
     "output_type": "execute_result"
    }
   ],
   "source": [
    "left[\"lemmatized\"].str.split(expand=True).stack().value_counts(normalize=True)[:10]"
   ]
  },
  {
   "cell_type": "markdown",
   "metadata": {},
   "source": [
    "The most common 10 words in each class are fairly similar, albeit in slightly different proportions. The most commonly used word in left leaning tweets was \"Trump\" while in right leaning it was \"american\"."
   ]
  },
  {
   "cell_type": "code",
   "execution_count": 71,
   "metadata": {},
   "outputs": [
    {
     "data": {
      "image/png": "[encoded data removed]",
      "text/plain": [
       "<Figure size 1080x576 with 1 Axes>"
      ]
     },
     "metadata": {
      "needs_background": "light"
     },
     "output_type": "display_data"
    }
   ],
   "source": [
    "plt.figure(figsize=(15,8))\n",
    "sns.barplot(x=left[\"lemmatized\"].str.split(expand=True).stack().value_counts(normalize=True)[:20].index,\n",
    "            y=left[\"lemmatized\"].str.split(expand=True).stack().value_counts(normalize=True)[:20].values)\n",
    "plt.title(\"20 Most Commonly Used Words from Left Wing Tweeters in Congress\")\n",
    "plt.ylabel(\"% Occurence in Tweets\")\n",
    "plt.xticks(rotation=50)\n",
    "plt.show()"
   ]
  },
  {
   "cell_type": "code",
   "execution_count": 72,
   "metadata": {},
   "outputs": [
    {
     "data": {
      "image/png": "[encoded data removed]",
      "text/plain": [
       "<Figure size 1080x576 with 1 Axes>"
      ]
     },
     "metadata": {
      "needs_background": "light"
     },
     "output_type": "display_data"
    }
   ],
   "source": [
    "plt.figure(figsize=(15,8))\n",
    "sns.barplot(x=right[\"lemmatized\"].str.split(expand=True).stack().value_counts(normalize=True)[:20].index,\n",
    "            y=right[\"lemmatized\"].str.split(expand=True).stack().value_counts(normalize=True)[:20].values)\n",
    "plt.title(\"20 Most Commonly Used Words from Right Wing Tweeters in Congress\")\n",
    "plt.ylabel(\"% Occurence in Tweets\")\n",
    "plt.xticks(rotation=50)\n",
    "plt.show()"
   ]
  },
  {
   "cell_type": "markdown",
   "metadata": {},
   "source": [
    "Another way to visualize the most commonly used words for each class is through word clouds, where the more commonly used words are represented in bigger text."
   ]
  },
  {
   "cell_type": "code",
   "execution_count": 74,
   "metadata": {
    "scrolled": true
   },
   "outputs": [
    {
     "data": {
      "image/png": "[encoded data removed]",
      "text/plain": [
       "<Figure size 720x576 with 1 Axes>"
      ]
     },
     "metadata": {
      "needs_background": "light"
     },
     "output_type": "display_data"
    }
   ],
   "source": [
    "plt.figure(figsize=(10, 8))\n",
    "left_text = \" \".join(tweet for tweet in left[\"lemmatized\"])\n",
    "wordcloud_l = WordCloud(background_color=\"white\").generate(left_text)\n",
    "plt.imshow(wordcloud_l, interpolation='bilinear')\n",
    "plt.axis(\"off\")\n",
    "plt.title(\"Left Wing Tweets - Word Cloud\")\n",
    "plt.show()"
   ]
  },
  {
   "cell_type": "code",
   "execution_count": 75,
   "metadata": {
    "scrolled": true
   },
   "outputs": [
    {
     "data": {
      "image/png": "[encoded data removed]",
      "text/plain": [
       "<Figure size 720x576 with 1 Axes>"
      ]
     },
     "metadata": {
      "needs_background": "light"
     },
     "output_type": "display_data"
    }
   ],
   "source": [
    "plt.figure(figsize=(10, 8))\n",
    "right_text = \" \".join(tweet for tweet in right[\"lemmatized\"])\n",
    "wordcloud_r = WordCloud(background_color=\"white\").generate(right_text)\n",
    "plt.imshow(wordcloud_r, interpolation='bilinear')\n",
    "plt.axis(\"off\")\n",
    "plt.title(\"Right Wing Tweets - Word Cloud\")\n",
    "plt.show()"
   ]
  },
  {
   "cell_type": "markdown",
   "metadata": {},
   "source": [
    "We will now perform LDA (latent dirichlet allocation) to form topic clusters out of the words in each class."
   ]
  },
  {
   "cell_type": "code",
   "execution_count": 76,
   "metadata": {},
   "outputs": [],
   "source": [
    "def list_tokens_lemmas(df, col):\n",
    "    tokens_list = []\n",
    "    for sentence in df[col]:\n",
    "        word_list = []\n",
    "        for word in sentence.split(\" \"):\n",
    "            word_list.append(word)\n",
    "        tokens_list.append(word_list)\n",
    "    return tokens_list"
   ]
  },
  {
   "cell_type": "code",
   "execution_count": 77,
   "metadata": {},
   "outputs": [],
   "source": [
    "left_tokens = list_tokens_lemmas(left, \"lemmatized\")\n",
    "right_tokens = list_tokens_lemmas(right, \"lemmatized\")"
   ]
  },
  {
   "cell_type": "code",
   "execution_count": 78,
   "metadata": {},
   "outputs": [],
   "source": [
    "left_dict = gensim.corpora.Dictionary(left_tokens)\n",
    "right_dict = gensim.corpora.Dictionary(right_tokens)"
   ]
  },
  {
   "cell_type": "code",
   "execution_count": 79,
   "metadata": {},
   "outputs": [],
   "source": [
    "left_dict.filter_extremes(no_below=15, no_above=0.1, keep_n= 100000)\n",
    "right_dict.filter_extremes(no_below=15, no_above=0.1, keep_n= 100000)"
   ]
  },
  {
   "cell_type": "code",
   "execution_count": 80,
   "metadata": {},
   "outputs": [],
   "source": [
    "left_corpus = [left_dict.doc2bow(text) for text in left_tokens]\n",
    "right_corpus = [right_dict.doc2bow(text) for text in right_tokens]"
   ]
  },
  {
   "cell_type": "code",
   "execution_count": 81,
   "metadata": {
    "scrolled": true
   },
   "outputs": [
    {
     "data": {
      "text/plain": [
       "[(0,\n",
       "  '0.016*\"pay\" + 0.011*\"worker\" + 0.011*\"tax\" + 0.011*\"work\" + 0.010*\"make\" + 0.009*\"job\" + 0.009*\"climate\" + 0.009*\"family\" + 0.008*\"need\" + 0.008*\"cut\"'),\n",
       " (1,\n",
       "  '0.016*\"vote\" + 0.014*\"I\" + 0.013*\"get\" + 0.013*\"make\" + 0.012*\"today\" + 0.011*\"day\" + 0.009*\"gun\" + 0.008*\"go\" + 0.008*\"time\" + 0.008*\"work\"'),\n",
       " (2,\n",
       "  '0.014*\"woman\" + 0.013*\"country\" + 0.011*\"right\" + 0.011*\"today\" + 0.010*\"fight\" + 0.010*\"year\" + 0.009*\"nation\" + 0.009*\"family\" + 0.009*\"america\" + 0.009*\"stand\"'),\n",
       " (3,\n",
       "  '0.030*\"health\" + 0.029*\"care\" + 0.015*\"need\" + 0.012*\"act\" + 0.011*\"people\" + 0.011*\"million\" + 0.011*\"right\" + 0.010*\"must\" + 0.010*\"family\" + 0.009*\"bill\"'),\n",
       " (4,\n",
       "  '0.028*\"president\" + 0.010*\"donald\" + 0.008*\"must\" + 0.007*\"election\" + 0.007*\"people\" + 0.007*\"republican\" + 0.007*\"say\" + 0.006*\"congress\" + 0.006*\"house\" + 0.006*\"hillary\"')]"
      ]
     },
     "execution_count": 81,
     "metadata": {},
     "output_type": "execute_result"
    }
   ],
   "source": [
    "left_lda =  gensim.models.LdaMulticore(left_corpus, \n",
    "                                   num_topics = 5, \n",
    "                                   id2word = left_dict,                                    \n",
    "                                   passes = 10,\n",
    "                                   workers = 2)\n",
    "left_lda.print_topics()"
   ]
  },
  {
   "cell_type": "markdown",
   "metadata": {},
   "source": [
    "Some of the topic clusters for left leaning tweets may be related to elections, healthcare, legislation, work and taxes."
   ]
  },
  {
   "cell_type": "code",
   "execution_count": 82,
   "metadata": {
    "scrolled": true
   },
   "outputs": [
    {
     "data": {
      "text/plain": [
       "[(0,\n",
       "  '0.015*\"today\" + 0.013*\"president\" + 0.013*\"year\" + 0.013*\"day\" + 0.012*\"great\" + 0.012*\"thank\" + 0.012*\"america\" + 0.011*\"life\" + 0.011*\"nation\" + 0.011*\"honor\"'),\n",
       " (1,\n",
       "  '0.013*\"border\" + 0.011*\"china\" + 0.011*\"act\" + 0.010*\"security\" + 0.009*\"must\" + 0.008*\"support\" + 0.007*\"bill\" + 0.007*\"law\" + 0.007*\"protect\" + 0.007*\"right\"'),\n",
       " (2,\n",
       "  '0.018*\"great\" + 0.017*\"today\" + 0.016*\"join\" + 0.011*\"discuss\" + 0.010*\"thank\" + 0.009*\"morning\" + 0.009*\"texas\" + 0.009*\"watch\" + 0.009*\"tonight\" + 0.009*\"I\"'),\n",
       " (3,\n",
       "  '0.015*\"vote\" + 0.014*\"democrat\" + 0.012*\"president\" + 0.011*\"house\" + 0.009*\"election\" + 0.009*\"people\" + 0.008*\"impeachment\" + 0.008*\"say\" + 0.008*\"senate\" + 0.007*\"trump\"'),\n",
       " (4,\n",
       "  '0.015*\"job\" + 0.014*\"work\" + 0.012*\"need\" + 0.009*\"business\" + 0.009*\"get\" + 0.008*\"help\" + 0.008*\"people\" + 0.008*\"economy\" + 0.007*\"america\" + 0.007*\"year\"')]"
      ]
     },
     "execution_count": 82,
     "metadata": {},
     "output_type": "execute_result"
    }
   ],
   "source": [
    "right_lda =  gensim.models.LdaMulticore(right_corpus, \n",
    "                                   num_topics = 5, \n",
    "                                   id2word = right_dict,                                    \n",
    "                                   passes = 10,\n",
    "                                   workers = 2)\n",
    "right_lda.print_topics()"
   ]
  },
  {
   "cell_type": "markdown",
   "metadata": {},
   "source": [
    "Some topic clusters for right leaning tweets may include elections, national security, international relations and the economy."
   ]
  },
  {
   "cell_type": "markdown",
   "metadata": {},
   "source": [
    "We will now investigate the top and most frequent tweeters from both classes"
   ]
  },
  {
   "cell_type": "code",
   "execution_count": 235,
   "metadata": {},
   "outputs": [
    {
     "name": "stdout",
     "output_type": "stream",
     "text": [
      "Some of the most frequent tweeters in the last five years from the right side include: \n",
      "\n",
      "Rubio, Marco\n",
      "Cruz, Ted\n",
      "Cornyn, John\n",
      "Paul, Rand\n",
      "Blackburn, Marsha\n",
      "\n",
      "Accounting for a total of 28027 tweets\n"
     ]
    }
   ],
   "source": [
    "print(\"Some of the most frequent tweeters in the last five years from the right side include: \\n\")\n",
    "for name in right[\"name\"].value_counts()[:5].index:\n",
    "    print(name)\n",
    "print(\"\\nAccounting for a total of {} tweets\".format(right[\"name\"].value_counts()[:5].sum()))"
   ]
  },
  {
   "cell_type": "code",
   "execution_count": 236,
   "metadata": {},
   "outputs": [
    {
     "name": "stdout",
     "output_type": "stream",
     "text": [
      "Some of the most frequent tweeters in the last five years from the left side include: \n",
      "\n",
      "Padilla, Alex\n",
      "Murphy, Chris\n",
      "Schumer, Chuck\n",
      "Durbin, Richard\n",
      "Klobuchar, Amy\n",
      "\n",
      "Accounting for a total of 42099 tweets\n"
     ]
    }
   ],
   "source": [
    "print(\"Some of the most frequent tweeters in the last five years from the left side include: \\n\")\n",
    "for name in left[\"name\"].value_counts()[:5].index:\n",
    "    print(name)\n",
    "print(\"\\nAccounting for a total of {} tweets\".format(left[\"name\"].value_counts()[:5].sum()))"
   ]
  },
  {
   "cell_type": "code",
   "execution_count": 237,
   "metadata": {},
   "outputs": [
    {
     "name": "stdout",
     "output_type": "stream",
     "text": [
      "Some of the most popular tweeters in the last five years from the right side include: \n",
      "\n",
      "Jordan, Jim\n",
      "Pompeo, Mike\n",
      "Pence, Mike\n",
      "Nunes, Devin\n",
      "McCarthy, Kevin\n",
      "\n",
      "Accounting for an average of 10524.96 likes per tweet\n"
     ]
    }
   ],
   "source": [
    "print(\"Some of the most popular tweeters in the last five years from the right side include: \\n\")\n",
    "for name in right.groupby(\"name\").mean()[\"nlikes\"].sort_values(ascending=False).index[:5]:\n",
    "    print(name)\n",
    "print(\"\\nAccounting for an average of {} likes per tweet\".format(round(right.groupby(\"name\").mean()[\"nlikes\"].sort_values(ascending=False)[:5].values.mean(), 2)))"
   ]
  },
  {
   "cell_type": "code",
   "execution_count": 238,
   "metadata": {},
   "outputs": [
    {
     "name": "stdout",
     "output_type": "stream",
     "text": [
      "Some of the most popular tweeters in the last five years from the left side include: \n",
      "\n",
      "Obama, Barack\n",
      "Biden, Joe\n",
      "Schiff, Adam\n",
      "Lewis, John\n",
      "Clinton, Hillary\n",
      "\n",
      "Accounting for an average of 46698.36 likes per tweet\n"
     ]
    }
   ],
   "source": [
    "print(\"Some of the most popular tweeters in the last five years from the left side include: \\n\")\n",
    "for name in left.groupby(\"name\").mean()[\"nlikes\"].sort_values(ascending=False).index[:5]:\n",
    "    print(name)\n",
    "print(\"\\nAccounting for an average of {} likes per tweet\".format(round(left.groupby(\"name\").mean()[\"nlikes\"].sort_values(ascending=False)[:5].values.mean(), 2)))"
   ]
  },
  {
   "cell_type": "markdown",
   "metadata": {},
   "source": [
    "### Text Prep and Machine Learning Modeling"
   ]
  },
  {
   "cell_type": "markdown",
   "metadata": {},
   "source": [
    "We will now prepare the data and run some Machine Learning classification models. There are a few ways to convert text data to a numerical format so it can be run through machine learning algorithms. Some of the traditional word transformation methods we will use in this section include:\n",
    "\n",
    "- Count Vectorization: Creates \"word count\" vectors for each document. Each vector is the size of the total vocabulary\n",
    "- TF-IDF: Term Frequency Inverse Document Frequency. Words are represented numerically based on their frequency of occurence. Words that occur less frequently are considered more important and therefore carry a heavier weight. \n",
    " \n",
    "We will use SciKit Learn library to create pipelines to vectorize the data and classify it."
   ]
  },
  {
   "cell_type": "code",
   "execution_count": 21,
   "metadata": {},
   "outputs": [],
   "source": [
    "from sklearn.model_selection import train_test_split\n",
    "from sklearn.feature_extraction.text import CountVectorizer\n",
    "from sklearn.pipeline import Pipeline\n",
    "from sklearn.naive_bayes import GaussianNB\n",
    "from mlxtend.preprocessing import DenseTransformer\n",
    "from sklearn.feature_extraction.text import TfidfVectorizer\n",
    "from sklearn.ensemble import RandomForestClassifier\n",
    "from sklearn.linear_model import LogisticRegression\n",
    "from sklearn.metrics import classification_report\n",
    "import gensim.downloader as api\n",
    "from imblearn import under_sampling, over_sampling\n",
    "from imblearn.over_sampling import SMOTE\n",
    "from imblearn.pipeline import Pipeline\n",
    "np.random.seed(42)\n",
    "random_state = 42"
   ]
  },
  {
   "cell_type": "markdown",
   "metadata": {},
   "source": [
    "Before we begin modeling, we divide our dataframe into the class features (lemmatized words in each tweet) and the class label corresponding to the tweet (\"D\" for democrat, \"R\" for republican). We will then perform a train test split so our model can be tested on unseen data."
   ]
  },
  {
   "cell_type": "code",
   "execution_count": 22,
   "metadata": {},
   "outputs": [],
   "source": [
    "X = preprocess[\"lemmatized\"]\n",
    "y = preprocess[\"party\"]"
   ]
  },
  {
   "cell_type": "code",
   "execution_count": 23,
   "metadata": {},
   "outputs": [],
   "source": [
    "X_train, X_test, y_train, y_test = train_test_split(X, y, test_size=0.3, random_state=random_state)"
   ]
  },
  {
   "cell_type": "markdown",
   "metadata": {},
   "source": [
    "We will also develop some functions to return dataframe of training and testing scores. We will be aiming to maximize accuracy and F1 score, to achieve a balance between precision and recall for the classes."
   ]
  },
  {
   "cell_type": "code",
   "execution_count": 109,
   "metadata": {},
   "outputs": [],
   "source": [
    "def return_classification_report(pipeline, X_train, y_train, X_test, y_test):\n",
    "    pipeline.fit(X_train, y_train)\n",
    "    y_train_preds = pipeline.predict(X_train)\n",
    "    y_test_preds = pipeline.predict(X_test)\n",
    "    train = pd.DataFrame(classification_report(y_train, y_train_preds, output_dict=True)).transpose().apply(lambda x: round(x, 2))\n",
    "    test = pd.DataFrame(classification_report(y_test, y_test_preds, output_dict=True)).transpose().apply(lambda x: round(x, 2))\n",
    "    return pd.concat([train, test], axis=1, keys=[\"Train Scores {}\".format(str(pipeline.steps[-1][1]).strip(\"()\")),\n",
    "                                                 \"Test Scores {}\".format(str(pipeline.steps[-1][1]).strip(\"()\"))])"
   ]
  },
  {
   "cell_type": "code",
   "execution_count": 32,
   "metadata": {},
   "outputs": [],
   "source": [
    "def return_classification_report_NN(model, X_train, y_train, X_test, y_test):\n",
    "    y_train_preds = model.predict_classes(X_train)[:, 0]\n",
    "    y_test_preds = model.predict_classes(X_test)[:, 0]\n",
    "    train = pd.DataFrame(classification_report(y_train, y_train_preds, output_dict=True)).transpose().apply(lambda x: round(x, 2))\n",
    "    test = pd.DataFrame(classification_report(y_test, y_test_preds, output_dict=True)).transpose().apply(lambda x: round(x, 2))\n",
    "    return pd.concat([train, test], axis=1, keys=[\"Train Scores Neural Network\",\"Test Scores Neural Network\"])"
   ]
  },
  {
   "cell_type": "code",
   "execution_count": 111,
   "metadata": {},
   "outputs": [],
   "source": [
    "def plot_feature_importances(pipeline, n_features):\n",
    "    n = n_features\n",
    "    feature_ls = list(zip(pipeline[\"t_proc\"].get_feature_names(), pipeline[\"clf\"].feature_importances_))\n",
    "    top_features = sorted(feature_ls, key=lambda x: x[1], reverse=True)[:n]\n",
    "    plt.figure(figsize=(15, 20))\n",
    "    plt.barh(range(n), list(map(lambda x: x[1], top_features)), align='center') \n",
    "    plt.yticks(np.arange(n),list(map(lambda x: x[0], top_features))) \n",
    "    plt.xlabel('Feature importance')\n",
    "    plt.ylabel('Feature')"
   ]
  },
  {
   "cell_type": "code",
   "execution_count": 112,
   "metadata": {},
   "outputs": [],
   "source": [
    "def tokenize(series):\n",
    "    t_series = series.map(lambda x: list(x.split(\" \")))\n",
    "    return list(t_series)"
   ]
  },
  {
   "cell_type": "markdown",
   "metadata": {},
   "source": [
    "#### Bag of Words Methods for Text Processing"
   ]
  },
  {
   "cell_type": "markdown",
   "metadata": {},
   "source": [
    "We will include count vectorization and TF-IDF in our pipelines to represent the tweets in the form of a vector. Due to the large size of the dataset, we will limit the max features to the 1000 most important words. This will help with processing time and memory. We will run some machine learning models including:\n",
    "\n",
    " - Logistic Regression\n",
    " - Random Forest\n",
    " - Naive Bayes"
   ]
  },
  {
   "cell_type": "markdown",
   "metadata": {},
   "source": [
    "##### Count Vectorization"
   ]
  },
  {
   "cell_type": "code",
   "execution_count": 113,
   "metadata": {},
   "outputs": [],
   "source": [
    "pipe_lr1 = Pipeline([('t_proc', CountVectorizer(max_features=1000)),\n",
    "                     ('clf', LogisticRegression())])"
   ]
  },
  {
   "cell_type": "code",
   "execution_count": 114,
   "metadata": {},
   "outputs": [
    {
     "data": {
      "text/html": [
       "<div>\n",
       "<style scoped>\n",
       "    .dataframe tbody tr th:only-of-type {\n",
       "        vertical-align: middle;\n",
       "    }\n",
       "\n",
       "    .dataframe tbody tr th {\n",
       "        vertical-align: top;\n",
       "    }\n",
       "\n",
       "    .dataframe thead tr th {\n",
       "        text-align: left;\n",
       "    }\n",
       "</style>\n",
       "<table border=\"1\" class=\"dataframe\">\n",
       "  <thead>\n",
       "    <tr>\n",
       "      <th></th>\n",
       "      <th colspan=\"4\" halign=\"left\">Train Scores LogisticRegression</th>\n",
       "      <th colspan=\"4\" halign=\"left\">Test Scores LogisticRegression</th>\n",
       "    </tr>\n",
       "    <tr>\n",
       "      <th></th>\n",
       "      <th>precision</th>\n",
       "      <th>recall</th>\n",
       "      <th>f1-score</th>\n",
       "      <th>support</th>\n",
       "      <th>precision</th>\n",
       "      <th>recall</th>\n",
       "      <th>f1-score</th>\n",
       "      <th>support</th>\n",
       "    </tr>\n",
       "  </thead>\n",
       "  <tbody>\n",
       "    <tr>\n",
       "      <th>D</th>\n",
       "      <td>0.82</td>\n",
       "      <td>0.95</td>\n",
       "      <td>0.88</td>\n",
       "      <td>212231.00</td>\n",
       "      <td>0.82</td>\n",
       "      <td>0.95</td>\n",
       "      <td>0.88</td>\n",
       "      <td>91216.00</td>\n",
       "    </tr>\n",
       "    <tr>\n",
       "      <th>R</th>\n",
       "      <td>0.72</td>\n",
       "      <td>0.38</td>\n",
       "      <td>0.50</td>\n",
       "      <td>69181.00</td>\n",
       "      <td>0.71</td>\n",
       "      <td>0.37</td>\n",
       "      <td>0.49</td>\n",
       "      <td>29390.00</td>\n",
       "    </tr>\n",
       "    <tr>\n",
       "      <th>accuracy</th>\n",
       "      <td>0.81</td>\n",
       "      <td>0.81</td>\n",
       "      <td>0.81</td>\n",
       "      <td>0.81</td>\n",
       "      <td>0.81</td>\n",
       "      <td>0.81</td>\n",
       "      <td>0.81</td>\n",
       "      <td>0.81</td>\n",
       "    </tr>\n",
       "    <tr>\n",
       "      <th>macro avg</th>\n",
       "      <td>0.77</td>\n",
       "      <td>0.67</td>\n",
       "      <td>0.69</td>\n",
       "      <td>281412.00</td>\n",
       "      <td>0.77</td>\n",
       "      <td>0.66</td>\n",
       "      <td>0.68</td>\n",
       "      <td>120606.00</td>\n",
       "    </tr>\n",
       "    <tr>\n",
       "      <th>weighted avg</th>\n",
       "      <td>0.80</td>\n",
       "      <td>0.81</td>\n",
       "      <td>0.79</td>\n",
       "      <td>281412.00</td>\n",
       "      <td>0.80</td>\n",
       "      <td>0.81</td>\n",
       "      <td>0.79</td>\n",
       "      <td>120606.00</td>\n",
       "    </tr>\n",
       "  </tbody>\n",
       "</table>\n",
       "</div>"
      ],
      "text/plain": [
       "             Train Scores LogisticRegression                             \\\n",
       "                                   precision recall f1-score    support   \n",
       "D                                       0.82   0.95     0.88  212231.00   \n",
       "R                                       0.72   0.38     0.50   69181.00   \n",
       "accuracy                                0.81   0.81     0.81       0.81   \n",
       "macro avg                               0.77   0.67     0.69  281412.00   \n",
       "weighted avg                            0.80   0.81     0.79  281412.00   \n",
       "\n",
       "             Test Scores LogisticRegression                             \n",
       "                                  precision recall f1-score    support  \n",
       "D                                      0.82   0.95     0.88   91216.00  \n",
       "R                                      0.71   0.37     0.49   29390.00  \n",
       "accuracy                               0.81   0.81     0.81       0.81  \n",
       "macro avg                              0.77   0.66     0.68  120606.00  \n",
       "weighted avg                           0.80   0.81     0.79  120606.00  "
      ]
     },
     "execution_count": 114,
     "metadata": {},
     "output_type": "execute_result"
    }
   ],
   "source": [
    "return_classification_report(pipe_lr1, X_train, y_train, X_test, y_test)"
   ]
  },
  {
   "cell_type": "markdown",
   "metadata": {},
   "source": [
    "The model's accuracy is fair at 81%, but lacks in recall for the \"R\" class (out of all the actual republican tweets, the model was only able to identify 37% of them). To increase the model's ability to distinguish between classes, we will try SMOTING (Synthetic Minority Oversampling TEchnique) the data to rebalance the classes."
   ]
  },
  {
   "cell_type": "code",
   "execution_count": 115,
   "metadata": {},
   "outputs": [],
   "source": [
    "pipe_lr2 = Pipeline([('t_proc', CountVectorizer(max_features=1000)),\n",
    "                    (\"sm\", SMOTE(random_state=random_state)),\n",
    "                     ('clf', LogisticRegression())])"
   ]
  },
  {
   "cell_type": "code",
   "execution_count": 116,
   "metadata": {},
   "outputs": [
    {
     "name": "stderr",
     "output_type": "stream",
     "text": [
      "C:\\Users\\swzoe\\anaconda3\\envs\\learn-env\\lib\\site-packages\\sklearn\\linear_model\\_logistic.py:765: ConvergenceWarning: lbfgs failed to converge (status=1):\n",
      "STOP: TOTAL NO. of ITERATIONS REACHED LIMIT.\n",
      "\n",
      "Increase the number of iterations (max_iter) or scale the data as shown in:\n",
      "    https://scikit-learn.org/stable/modules/preprocessing.html\n",
      "Please also refer to the documentation for alternative solver options:\n",
      "    https://scikit-learn.org/stable/modules/linear_model.html#logistic-regression\n",
      "  extra_warning_msg=_LOGISTIC_SOLVER_CONVERGENCE_MSG)\n"
     ]
    },
    {
     "data": {
      "text/html": [
       "<div>\n",
       "<style scoped>\n",
       "    .dataframe tbody tr th:only-of-type {\n",
       "        vertical-align: middle;\n",
       "    }\n",
       "\n",
       "    .dataframe tbody tr th {\n",
       "        vertical-align: top;\n",
       "    }\n",
       "\n",
       "    .dataframe thead tr th {\n",
       "        text-align: left;\n",
       "    }\n",
       "</style>\n",
       "<table border=\"1\" class=\"dataframe\">\n",
       "  <thead>\n",
       "    <tr>\n",
       "      <th></th>\n",
       "      <th colspan=\"4\" halign=\"left\">Train Scores LogisticRegression</th>\n",
       "      <th colspan=\"4\" halign=\"left\">Test Scores LogisticRegression</th>\n",
       "    </tr>\n",
       "    <tr>\n",
       "      <th></th>\n",
       "      <th>precision</th>\n",
       "      <th>recall</th>\n",
       "      <th>f1-score</th>\n",
       "      <th>support</th>\n",
       "      <th>precision</th>\n",
       "      <th>recall</th>\n",
       "      <th>f1-score</th>\n",
       "      <th>support</th>\n",
       "    </tr>\n",
       "  </thead>\n",
       "  <tbody>\n",
       "    <tr>\n",
       "      <th>D</th>\n",
       "      <td>0.86</td>\n",
       "      <td>0.79</td>\n",
       "      <td>0.82</td>\n",
       "      <td>212231.00</td>\n",
       "      <td>0.86</td>\n",
       "      <td>0.79</td>\n",
       "      <td>0.82</td>\n",
       "      <td>91216.00</td>\n",
       "    </tr>\n",
       "    <tr>\n",
       "      <th>R</th>\n",
       "      <td>0.48</td>\n",
       "      <td>0.60</td>\n",
       "      <td>0.54</td>\n",
       "      <td>69181.00</td>\n",
       "      <td>0.48</td>\n",
       "      <td>0.59</td>\n",
       "      <td>0.53</td>\n",
       "      <td>29390.00</td>\n",
       "    </tr>\n",
       "    <tr>\n",
       "      <th>accuracy</th>\n",
       "      <td>0.74</td>\n",
       "      <td>0.74</td>\n",
       "      <td>0.74</td>\n",
       "      <td>0.74</td>\n",
       "      <td>0.74</td>\n",
       "      <td>0.74</td>\n",
       "      <td>0.74</td>\n",
       "      <td>0.74</td>\n",
       "    </tr>\n",
       "    <tr>\n",
       "      <th>macro avg</th>\n",
       "      <td>0.67</td>\n",
       "      <td>0.70</td>\n",
       "      <td>0.68</td>\n",
       "      <td>281412.00</td>\n",
       "      <td>0.67</td>\n",
       "      <td>0.69</td>\n",
       "      <td>0.68</td>\n",
       "      <td>120606.00</td>\n",
       "    </tr>\n",
       "    <tr>\n",
       "      <th>weighted avg</th>\n",
       "      <td>0.77</td>\n",
       "      <td>0.74</td>\n",
       "      <td>0.75</td>\n",
       "      <td>281412.00</td>\n",
       "      <td>0.76</td>\n",
       "      <td>0.74</td>\n",
       "      <td>0.75</td>\n",
       "      <td>120606.00</td>\n",
       "    </tr>\n",
       "  </tbody>\n",
       "</table>\n",
       "</div>"
      ],
      "text/plain": [
       "             Train Scores LogisticRegression                             \\\n",
       "                                   precision recall f1-score    support   \n",
       "D                                       0.86   0.79     0.82  212231.00   \n",
       "R                                       0.48   0.60     0.54   69181.00   \n",
       "accuracy                                0.74   0.74     0.74       0.74   \n",
       "macro avg                               0.67   0.70     0.68  281412.00   \n",
       "weighted avg                            0.77   0.74     0.75  281412.00   \n",
       "\n",
       "             Test Scores LogisticRegression                             \n",
       "                                  precision recall f1-score    support  \n",
       "D                                      0.86   0.79     0.82   91216.00  \n",
       "R                                      0.48   0.59     0.53   29390.00  \n",
       "accuracy                               0.74   0.74     0.74       0.74  \n",
       "macro avg                              0.67   0.69     0.68  120606.00  \n",
       "weighted avg                           0.76   0.74     0.75  120606.00  "
      ]
     },
     "execution_count": 116,
     "metadata": {},
     "output_type": "execute_result"
    }
   ],
   "source": [
    "return_classification_report(pipe_lr2, X_train, y_train, X_test, y_test)"
   ]
  },
  {
   "cell_type": "markdown",
   "metadata": {},
   "source": [
    "While accuracy has decreased to 74%, recall for the R class has increased to 59%, (out of all the actual republican tweets the model was able to correctly identify 59% of them). The average F1 score has remained the same at 0.68."
   ]
  },
  {
   "cell_type": "markdown",
   "metadata": {},
   "source": [
    "We will now try a random forest classifier to identify feature importances."
   ]
  },
  {
   "cell_type": "code",
   "execution_count": 117,
   "metadata": {},
   "outputs": [],
   "source": [
    "pipe_rf1 = Pipeline([('t_proc', CountVectorizer(max_features=1000)),\n",
    "                    (\"sm\", SMOTE(random_state=random_state)),\n",
    "                     ('to_dense', DenseTransformer()),\n",
    "                     ('clf', RandomForestClassifier(max_depth=20))])"
   ]
  },
  {
   "cell_type": "code",
   "execution_count": 118,
   "metadata": {},
   "outputs": [
    {
     "data": {
      "text/html": [
       "<div>\n",
       "<style scoped>\n",
       "    .dataframe tbody tr th:only-of-type {\n",
       "        vertical-align: middle;\n",
       "    }\n",
       "\n",
       "    .dataframe tbody tr th {\n",
       "        vertical-align: top;\n",
       "    }\n",
       "\n",
       "    .dataframe thead tr th {\n",
       "        text-align: left;\n",
       "    }\n",
       "</style>\n",
       "<table border=\"1\" class=\"dataframe\">\n",
       "  <thead>\n",
       "    <tr>\n",
       "      <th></th>\n",
       "      <th colspan=\"4\" halign=\"left\">Train Scores RandomForestClassifier(max_depth=20</th>\n",
       "      <th colspan=\"4\" halign=\"left\">Test Scores RandomForestClassifier(max_depth=20</th>\n",
       "    </tr>\n",
       "    <tr>\n",
       "      <th></th>\n",
       "      <th>precision</th>\n",
       "      <th>recall</th>\n",
       "      <th>f1-score</th>\n",
       "      <th>support</th>\n",
       "      <th>precision</th>\n",
       "      <th>recall</th>\n",
       "      <th>f1-score</th>\n",
       "      <th>support</th>\n",
       "    </tr>\n",
       "  </thead>\n",
       "  <tbody>\n",
       "    <tr>\n",
       "      <th>D</th>\n",
       "      <td>0.86</td>\n",
       "      <td>0.69</td>\n",
       "      <td>0.77</td>\n",
       "      <td>212231.00</td>\n",
       "      <td>0.85</td>\n",
       "      <td>0.69</td>\n",
       "      <td>0.76</td>\n",
       "      <td>91216.00</td>\n",
       "    </tr>\n",
       "    <tr>\n",
       "      <th>R</th>\n",
       "      <td>0.41</td>\n",
       "      <td>0.66</td>\n",
       "      <td>0.50</td>\n",
       "      <td>69181.00</td>\n",
       "      <td>0.39</td>\n",
       "      <td>0.62</td>\n",
       "      <td>0.48</td>\n",
       "      <td>29390.00</td>\n",
       "    </tr>\n",
       "    <tr>\n",
       "      <th>accuracy</th>\n",
       "      <td>0.68</td>\n",
       "      <td>0.68</td>\n",
       "      <td>0.68</td>\n",
       "      <td>0.68</td>\n",
       "      <td>0.67</td>\n",
       "      <td>0.67</td>\n",
       "      <td>0.67</td>\n",
       "      <td>0.67</td>\n",
       "    </tr>\n",
       "    <tr>\n",
       "      <th>macro avg</th>\n",
       "      <td>0.64</td>\n",
       "      <td>0.67</td>\n",
       "      <td>0.64</td>\n",
       "      <td>281412.00</td>\n",
       "      <td>0.62</td>\n",
       "      <td>0.65</td>\n",
       "      <td>0.62</td>\n",
       "      <td>120606.00</td>\n",
       "    </tr>\n",
       "    <tr>\n",
       "      <th>weighted avg</th>\n",
       "      <td>0.75</td>\n",
       "      <td>0.68</td>\n",
       "      <td>0.70</td>\n",
       "      <td>281412.00</td>\n",
       "      <td>0.74</td>\n",
       "      <td>0.67</td>\n",
       "      <td>0.69</td>\n",
       "      <td>120606.00</td>\n",
       "    </tr>\n",
       "  </tbody>\n",
       "</table>\n",
       "</div>"
      ],
      "text/plain": [
       "             Train Scores RandomForestClassifier(max_depth=20                  \\\n",
       "                                                    precision recall f1-score   \n",
       "D                                                        0.86   0.69     0.77   \n",
       "R                                                        0.41   0.66     0.50   \n",
       "accuracy                                                 0.68   0.68     0.68   \n",
       "macro avg                                                0.64   0.67     0.64   \n",
       "weighted avg                                             0.75   0.68     0.70   \n",
       "\n",
       "                        Test Scores RandomForestClassifier(max_depth=20  \\\n",
       "                support                                       precision   \n",
       "D             212231.00                                            0.85   \n",
       "R              69181.00                                            0.39   \n",
       "accuracy           0.68                                            0.67   \n",
       "macro avg     281412.00                                            0.62   \n",
       "weighted avg  281412.00                                            0.74   \n",
       "\n",
       "                                         \n",
       "             recall f1-score    support  \n",
       "D              0.69     0.76   91216.00  \n",
       "R              0.62     0.48   29390.00  \n",
       "accuracy       0.67     0.67       0.67  \n",
       "macro avg      0.65     0.62  120606.00  \n",
       "weighted avg   0.67     0.69  120606.00  "
      ]
     },
     "execution_count": 118,
     "metadata": {},
     "output_type": "execute_result"
    }
   ],
   "source": [
    "return_classification_report(pipe_rf1, X_train, y_train, X_test, y_test)"
   ]
  },
  {
   "cell_type": "code",
   "execution_count": 119,
   "metadata": {
    "scrolled": true
   },
   "outputs": [
    {
     "data": {
      "image/png": "[encoded data removed]",
      "text/plain": [
       "<Figure size 1080x1440 with 1 Axes>"
      ]
     },
     "metadata": {
      "needs_background": "light"
     },
     "output_type": "display_data"
    }
   ],
   "source": [
    "plot_feature_importances(pipe_rf1, 100)"
   ]
  },
  {
   "cell_type": "markdown",
   "metadata": {},
   "source": [
    "The random forest classifier performed with less accuracy than logistic regression. However, one can identify the most important words in determining a class: \n",
    "- Trump\n",
    "- Health\n",
    "- Fight\n",
    "- Must\n",
    "- Make"
   ]
  },
  {
   "cell_type": "code",
   "execution_count": 120,
   "metadata": {},
   "outputs": [],
   "source": [
    "pipe_nb1 = Pipeline([('t_proc', CountVectorizer(max_features=1000)),\n",
    "                    (\"sm\", SMOTE(random_state=random_state)),\n",
    "                    ('to_dense', DenseTransformer()),\n",
    "                     ('clf', GaussianNB())])"
   ]
  },
  {
   "cell_type": "code",
   "execution_count": 121,
   "metadata": {
    "scrolled": true
   },
   "outputs": [
    {
     "data": {
      "text/html": [
       "<div>\n",
       "<style scoped>\n",
       "    .dataframe tbody tr th:only-of-type {\n",
       "        vertical-align: middle;\n",
       "    }\n",
       "\n",
       "    .dataframe tbody tr th {\n",
       "        vertical-align: top;\n",
       "    }\n",
       "\n",
       "    .dataframe thead tr th {\n",
       "        text-align: left;\n",
       "    }\n",
       "</style>\n",
       "<table border=\"1\" class=\"dataframe\">\n",
       "  <thead>\n",
       "    <tr>\n",
       "      <th></th>\n",
       "      <th colspan=\"4\" halign=\"left\">Train Scores GaussianNB</th>\n",
       "      <th colspan=\"4\" halign=\"left\">Test Scores GaussianNB</th>\n",
       "    </tr>\n",
       "    <tr>\n",
       "      <th></th>\n",
       "      <th>precision</th>\n",
       "      <th>recall</th>\n",
       "      <th>f1-score</th>\n",
       "      <th>support</th>\n",
       "      <th>precision</th>\n",
       "      <th>recall</th>\n",
       "      <th>f1-score</th>\n",
       "      <th>support</th>\n",
       "    </tr>\n",
       "  </thead>\n",
       "  <tbody>\n",
       "    <tr>\n",
       "      <th>D</th>\n",
       "      <td>0.82</td>\n",
       "      <td>0.74</td>\n",
       "      <td>0.78</td>\n",
       "      <td>212231.00</td>\n",
       "      <td>0.82</td>\n",
       "      <td>0.74</td>\n",
       "      <td>0.78</td>\n",
       "      <td>91216.00</td>\n",
       "    </tr>\n",
       "    <tr>\n",
       "      <th>R</th>\n",
       "      <td>0.38</td>\n",
       "      <td>0.49</td>\n",
       "      <td>0.43</td>\n",
       "      <td>69181.00</td>\n",
       "      <td>0.38</td>\n",
       "      <td>0.49</td>\n",
       "      <td>0.42</td>\n",
       "      <td>29390.00</td>\n",
       "    </tr>\n",
       "    <tr>\n",
       "      <th>accuracy</th>\n",
       "      <td>0.68</td>\n",
       "      <td>0.68</td>\n",
       "      <td>0.68</td>\n",
       "      <td>0.68</td>\n",
       "      <td>0.68</td>\n",
       "      <td>0.68</td>\n",
       "      <td>0.68</td>\n",
       "      <td>0.68</td>\n",
       "    </tr>\n",
       "    <tr>\n",
       "      <th>macro avg</th>\n",
       "      <td>0.60</td>\n",
       "      <td>0.62</td>\n",
       "      <td>0.60</td>\n",
       "      <td>281412.00</td>\n",
       "      <td>0.60</td>\n",
       "      <td>0.61</td>\n",
       "      <td>0.60</td>\n",
       "      <td>120606.00</td>\n",
       "    </tr>\n",
       "    <tr>\n",
       "      <th>weighted avg</th>\n",
       "      <td>0.71</td>\n",
       "      <td>0.68</td>\n",
       "      <td>0.69</td>\n",
       "      <td>281412.00</td>\n",
       "      <td>0.71</td>\n",
       "      <td>0.68</td>\n",
       "      <td>0.69</td>\n",
       "      <td>120606.00</td>\n",
       "    </tr>\n",
       "  </tbody>\n",
       "</table>\n",
       "</div>"
      ],
      "text/plain": [
       "             Train Scores GaussianNB                             \\\n",
       "                           precision recall f1-score    support   \n",
       "D                               0.82   0.74     0.78  212231.00   \n",
       "R                               0.38   0.49     0.43   69181.00   \n",
       "accuracy                        0.68   0.68     0.68       0.68   \n",
       "macro avg                       0.60   0.62     0.60  281412.00   \n",
       "weighted avg                    0.71   0.68     0.69  281412.00   \n",
       "\n",
       "             Test Scores GaussianNB                             \n",
       "                          precision recall f1-score    support  \n",
       "D                              0.82   0.74     0.78   91216.00  \n",
       "R                              0.38   0.49     0.42   29390.00  \n",
       "accuracy                       0.68   0.68     0.68       0.68  \n",
       "macro avg                      0.60   0.61     0.60  120606.00  \n",
       "weighted avg                   0.71   0.68     0.69  120606.00  "
      ]
     },
     "execution_count": 121,
     "metadata": {},
     "output_type": "execute_result"
    }
   ],
   "source": [
    "return_classification_report(pipe_nb1, X_train, y_train, X_test, y_test)"
   ]
  },
  {
   "cell_type": "markdown",
   "metadata": {},
   "source": [
    "Naive Bayes performed similarly to Random Forest in terms of accuracy and F1 score."
   ]
  },
  {
   "cell_type": "markdown",
   "metadata": {},
   "source": [
    "##### TF-IDF"
   ]
  },
  {
   "cell_type": "code",
   "execution_count": 122,
   "metadata": {},
   "outputs": [],
   "source": [
    "pipe_lr3 = Pipeline([('t_proc', TfidfVectorizer(max_features=1000)),\n",
    "                     (\"sm\", SMOTE(random_state=random_state)),\n",
    "                     ('clf', LogisticRegression())])"
   ]
  },
  {
   "cell_type": "code",
   "execution_count": 123,
   "metadata": {
    "scrolled": true
   },
   "outputs": [
    {
     "data": {
      "text/html": [
       "<div>\n",
       "<style scoped>\n",
       "    .dataframe tbody tr th:only-of-type {\n",
       "        vertical-align: middle;\n",
       "    }\n",
       "\n",
       "    .dataframe tbody tr th {\n",
       "        vertical-align: top;\n",
       "    }\n",
       "\n",
       "    .dataframe thead tr th {\n",
       "        text-align: left;\n",
       "    }\n",
       "</style>\n",
       "<table border=\"1\" class=\"dataframe\">\n",
       "  <thead>\n",
       "    <tr>\n",
       "      <th></th>\n",
       "      <th colspan=\"4\" halign=\"left\">Train Scores LogisticRegression</th>\n",
       "      <th colspan=\"4\" halign=\"left\">Test Scores LogisticRegression</th>\n",
       "    </tr>\n",
       "    <tr>\n",
       "      <th></th>\n",
       "      <th>precision</th>\n",
       "      <th>recall</th>\n",
       "      <th>f1-score</th>\n",
       "      <th>support</th>\n",
       "      <th>precision</th>\n",
       "      <th>recall</th>\n",
       "      <th>f1-score</th>\n",
       "      <th>support</th>\n",
       "    </tr>\n",
       "  </thead>\n",
       "  <tbody>\n",
       "    <tr>\n",
       "      <th>D</th>\n",
       "      <td>0.87</td>\n",
       "      <td>0.79</td>\n",
       "      <td>0.83</td>\n",
       "      <td>212231.00</td>\n",
       "      <td>0.87</td>\n",
       "      <td>0.79</td>\n",
       "      <td>0.83</td>\n",
       "      <td>91216.00</td>\n",
       "    </tr>\n",
       "    <tr>\n",
       "      <th>R</th>\n",
       "      <td>0.50</td>\n",
       "      <td>0.65</td>\n",
       "      <td>0.56</td>\n",
       "      <td>69181.00</td>\n",
       "      <td>0.49</td>\n",
       "      <td>0.64</td>\n",
       "      <td>0.55</td>\n",
       "      <td>29390.00</td>\n",
       "    </tr>\n",
       "    <tr>\n",
       "      <th>accuracy</th>\n",
       "      <td>0.75</td>\n",
       "      <td>0.75</td>\n",
       "      <td>0.75</td>\n",
       "      <td>0.75</td>\n",
       "      <td>0.75</td>\n",
       "      <td>0.75</td>\n",
       "      <td>0.75</td>\n",
       "      <td>0.75</td>\n",
       "    </tr>\n",
       "    <tr>\n",
       "      <th>macro avg</th>\n",
       "      <td>0.69</td>\n",
       "      <td>0.72</td>\n",
       "      <td>0.70</td>\n",
       "      <td>281412.00</td>\n",
       "      <td>0.68</td>\n",
       "      <td>0.71</td>\n",
       "      <td>0.69</td>\n",
       "      <td>120606.00</td>\n",
       "    </tr>\n",
       "    <tr>\n",
       "      <th>weighted avg</th>\n",
       "      <td>0.78</td>\n",
       "      <td>0.75</td>\n",
       "      <td>0.76</td>\n",
       "      <td>281412.00</td>\n",
       "      <td>0.78</td>\n",
       "      <td>0.75</td>\n",
       "      <td>0.76</td>\n",
       "      <td>120606.00</td>\n",
       "    </tr>\n",
       "  </tbody>\n",
       "</table>\n",
       "</div>"
      ],
      "text/plain": [
       "             Train Scores LogisticRegression                             \\\n",
       "                                   precision recall f1-score    support   \n",
       "D                                       0.87   0.79     0.83  212231.00   \n",
       "R                                       0.50   0.65     0.56   69181.00   \n",
       "accuracy                                0.75   0.75     0.75       0.75   \n",
       "macro avg                               0.69   0.72     0.70  281412.00   \n",
       "weighted avg                            0.78   0.75     0.76  281412.00   \n",
       "\n",
       "             Test Scores LogisticRegression                             \n",
       "                                  precision recall f1-score    support  \n",
       "D                                      0.87   0.79     0.83   91216.00  \n",
       "R                                      0.49   0.64     0.55   29390.00  \n",
       "accuracy                               0.75   0.75     0.75       0.75  \n",
       "macro avg                              0.68   0.71     0.69  120606.00  \n",
       "weighted avg                           0.78   0.75     0.76  120606.00  "
      ]
     },
     "execution_count": 123,
     "metadata": {},
     "output_type": "execute_result"
    }
   ],
   "source": [
    "return_classification_report(pipe_lr3, X_train, y_train, X_test, y_test)"
   ]
  },
  {
   "cell_type": "markdown",
   "metadata": {},
   "source": [
    "The TF-IDF vectorizer performed slightly better than the Count Vectorizer when using Logistic Regression."
   ]
  },
  {
   "cell_type": "code",
   "execution_count": 124,
   "metadata": {},
   "outputs": [],
   "source": [
    "pipe_rf2 = Pipeline([('t_proc',  TfidfVectorizer(max_features=1000)),\n",
    "                    (\"sm\", SMOTE(random_state=random_state)),\n",
    "                     ('to_dense', DenseTransformer()),\n",
    "                     ('clf', RandomForestClassifier(max_depth=20))])"
   ]
  },
  {
   "cell_type": "code",
   "execution_count": 125,
   "metadata": {},
   "outputs": [
    {
     "data": {
      "text/html": [
       "<div>\n",
       "<style scoped>\n",
       "    .dataframe tbody tr th:only-of-type {\n",
       "        vertical-align: middle;\n",
       "    }\n",
       "\n",
       "    .dataframe tbody tr th {\n",
       "        vertical-align: top;\n",
       "    }\n",
       "\n",
       "    .dataframe thead tr th {\n",
       "        text-align: left;\n",
       "    }\n",
       "</style>\n",
       "<table border=\"1\" class=\"dataframe\">\n",
       "  <thead>\n",
       "    <tr>\n",
       "      <th></th>\n",
       "      <th colspan=\"4\" halign=\"left\">Train Scores RandomForestClassifier(max_depth=20</th>\n",
       "      <th colspan=\"4\" halign=\"left\">Test Scores RandomForestClassifier(max_depth=20</th>\n",
       "    </tr>\n",
       "    <tr>\n",
       "      <th></th>\n",
       "      <th>precision</th>\n",
       "      <th>recall</th>\n",
       "      <th>f1-score</th>\n",
       "      <th>support</th>\n",
       "      <th>precision</th>\n",
       "      <th>recall</th>\n",
       "      <th>f1-score</th>\n",
       "      <th>support</th>\n",
       "    </tr>\n",
       "  </thead>\n",
       "  <tbody>\n",
       "    <tr>\n",
       "      <th>D</th>\n",
       "      <td>0.87</td>\n",
       "      <td>0.71</td>\n",
       "      <td>0.78</td>\n",
       "      <td>212231.0</td>\n",
       "      <td>0.86</td>\n",
       "      <td>0.70</td>\n",
       "      <td>0.77</td>\n",
       "      <td>91216.00</td>\n",
       "    </tr>\n",
       "    <tr>\n",
       "      <th>R</th>\n",
       "      <td>0.43</td>\n",
       "      <td>0.68</td>\n",
       "      <td>0.53</td>\n",
       "      <td>69181.0</td>\n",
       "      <td>0.41</td>\n",
       "      <td>0.64</td>\n",
       "      <td>0.50</td>\n",
       "      <td>29390.00</td>\n",
       "    </tr>\n",
       "    <tr>\n",
       "      <th>accuracy</th>\n",
       "      <td>0.70</td>\n",
       "      <td>0.70</td>\n",
       "      <td>0.70</td>\n",
       "      <td>0.7</td>\n",
       "      <td>0.68</td>\n",
       "      <td>0.68</td>\n",
       "      <td>0.68</td>\n",
       "      <td>0.68</td>\n",
       "    </tr>\n",
       "    <tr>\n",
       "      <th>macro avg</th>\n",
       "      <td>0.65</td>\n",
       "      <td>0.69</td>\n",
       "      <td>0.65</td>\n",
       "      <td>281412.0</td>\n",
       "      <td>0.63</td>\n",
       "      <td>0.67</td>\n",
       "      <td>0.63</td>\n",
       "      <td>120606.00</td>\n",
       "    </tr>\n",
       "    <tr>\n",
       "      <th>weighted avg</th>\n",
       "      <td>0.76</td>\n",
       "      <td>0.70</td>\n",
       "      <td>0.72</td>\n",
       "      <td>281412.0</td>\n",
       "      <td>0.75</td>\n",
       "      <td>0.68</td>\n",
       "      <td>0.70</td>\n",
       "      <td>120606.00</td>\n",
       "    </tr>\n",
       "  </tbody>\n",
       "</table>\n",
       "</div>"
      ],
      "text/plain": [
       "             Train Scores RandomForestClassifier(max_depth=20                  \\\n",
       "                                                    precision recall f1-score   \n",
       "D                                                        0.87   0.71     0.78   \n",
       "R                                                        0.43   0.68     0.53   \n",
       "accuracy                                                 0.70   0.70     0.70   \n",
       "macro avg                                                0.65   0.69     0.65   \n",
       "weighted avg                                             0.76   0.70     0.72   \n",
       "\n",
       "                       Test Scores RandomForestClassifier(max_depth=20         \\\n",
       "               support                                       precision recall   \n",
       "D             212231.0                                            0.86   0.70   \n",
       "R              69181.0                                            0.41   0.64   \n",
       "accuracy           0.7                                            0.68   0.68   \n",
       "macro avg     281412.0                                            0.63   0.67   \n",
       "weighted avg  281412.0                                            0.75   0.68   \n",
       "\n",
       "                                  \n",
       "             f1-score    support  \n",
       "D                0.77   91216.00  \n",
       "R                0.50   29390.00  \n",
       "accuracy         0.68       0.68  \n",
       "macro avg        0.63  120606.00  \n",
       "weighted avg     0.70  120606.00  "
      ]
     },
     "execution_count": 125,
     "metadata": {},
     "output_type": "execute_result"
    }
   ],
   "source": [
    "return_classification_report(pipe_rf2, X_train, y_train, X_test, y_test)"
   ]
  },
  {
   "cell_type": "code",
   "execution_count": 126,
   "metadata": {
    "scrolled": true
   },
   "outputs": [
    {
     "data": {
      "image/png": "[encoded data removed]",
      "text/plain": [
       "<Figure size 1080x1440 with 1 Axes>"
      ]
     },
     "metadata": {
      "needs_background": "light"
     },
     "output_type": "display_data"
    }
   ],
   "source": [
    "plot_feature_importances(pipe_rf2, 100)"
   ]
  },
  {
   "cell_type": "markdown",
   "metadata": {},
   "source": [
    "There are slight differences between the feature importances with Count Vectorizer vs TF-IDF. For example, the word democrat was more important when determining a class after using the TF-IDF vectorizer."
   ]
  },
  {
   "cell_type": "code",
   "execution_count": 127,
   "metadata": {},
   "outputs": [],
   "source": [
    "pipe_nb2 = Pipeline([('t_proc', TfidfVectorizer(max_features=1000)),\n",
    "                    (\"sm\", SMOTE(random_state=random_state)),\n",
    "                    ('to_dense', DenseTransformer()),\n",
    "                     ('clf', GaussianNB())])"
   ]
  },
  {
   "cell_type": "code",
   "execution_count": 128,
   "metadata": {},
   "outputs": [
    {
     "data": {
      "text/html": [
       "<div>\n",
       "<style scoped>\n",
       "    .dataframe tbody tr th:only-of-type {\n",
       "        vertical-align: middle;\n",
       "    }\n",
       "\n",
       "    .dataframe tbody tr th {\n",
       "        vertical-align: top;\n",
       "    }\n",
       "\n",
       "    .dataframe thead tr th {\n",
       "        text-align: left;\n",
       "    }\n",
       "</style>\n",
       "<table border=\"1\" class=\"dataframe\">\n",
       "  <thead>\n",
       "    <tr>\n",
       "      <th></th>\n",
       "      <th colspan=\"4\" halign=\"left\">Train Scores GaussianNB</th>\n",
       "      <th colspan=\"4\" halign=\"left\">Test Scores GaussianNB</th>\n",
       "    </tr>\n",
       "    <tr>\n",
       "      <th></th>\n",
       "      <th>precision</th>\n",
       "      <th>recall</th>\n",
       "      <th>f1-score</th>\n",
       "      <th>support</th>\n",
       "      <th>precision</th>\n",
       "      <th>recall</th>\n",
       "      <th>f1-score</th>\n",
       "      <th>support</th>\n",
       "    </tr>\n",
       "  </thead>\n",
       "  <tbody>\n",
       "    <tr>\n",
       "      <th>D</th>\n",
       "      <td>0.86</td>\n",
       "      <td>0.73</td>\n",
       "      <td>0.79</td>\n",
       "      <td>212231.00</td>\n",
       "      <td>0.86</td>\n",
       "      <td>0.73</td>\n",
       "      <td>0.79</td>\n",
       "      <td>91216.00</td>\n",
       "    </tr>\n",
       "    <tr>\n",
       "      <th>R</th>\n",
       "      <td>0.43</td>\n",
       "      <td>0.64</td>\n",
       "      <td>0.52</td>\n",
       "      <td>69181.00</td>\n",
       "      <td>0.43</td>\n",
       "      <td>0.63</td>\n",
       "      <td>0.51</td>\n",
       "      <td>29390.00</td>\n",
       "    </tr>\n",
       "    <tr>\n",
       "      <th>accuracy</th>\n",
       "      <td>0.71</td>\n",
       "      <td>0.71</td>\n",
       "      <td>0.71</td>\n",
       "      <td>0.71</td>\n",
       "      <td>0.71</td>\n",
       "      <td>0.71</td>\n",
       "      <td>0.71</td>\n",
       "      <td>0.71</td>\n",
       "    </tr>\n",
       "    <tr>\n",
       "      <th>macro avg</th>\n",
       "      <td>0.65</td>\n",
       "      <td>0.68</td>\n",
       "      <td>0.65</td>\n",
       "      <td>281412.00</td>\n",
       "      <td>0.65</td>\n",
       "      <td>0.68</td>\n",
       "      <td>0.65</td>\n",
       "      <td>120606.00</td>\n",
       "    </tr>\n",
       "    <tr>\n",
       "      <th>weighted avg</th>\n",
       "      <td>0.76</td>\n",
       "      <td>0.71</td>\n",
       "      <td>0.72</td>\n",
       "      <td>281412.00</td>\n",
       "      <td>0.76</td>\n",
       "      <td>0.71</td>\n",
       "      <td>0.72</td>\n",
       "      <td>120606.00</td>\n",
       "    </tr>\n",
       "  </tbody>\n",
       "</table>\n",
       "</div>"
      ],
      "text/plain": [
       "             Train Scores GaussianNB                             \\\n",
       "                           precision recall f1-score    support   \n",
       "D                               0.86   0.73     0.79  212231.00   \n",
       "R                               0.43   0.64     0.52   69181.00   \n",
       "accuracy                        0.71   0.71     0.71       0.71   \n",
       "macro avg                       0.65   0.68     0.65  281412.00   \n",
       "weighted avg                    0.76   0.71     0.72  281412.00   \n",
       "\n",
       "             Test Scores GaussianNB                             \n",
       "                          precision recall f1-score    support  \n",
       "D                              0.86   0.73     0.79   91216.00  \n",
       "R                              0.43   0.63     0.51   29390.00  \n",
       "accuracy                       0.71   0.71     0.71       0.71  \n",
       "macro avg                      0.65   0.68     0.65  120606.00  \n",
       "weighted avg                   0.76   0.71     0.72  120606.00  "
      ]
     },
     "execution_count": 128,
     "metadata": {},
     "output_type": "execute_result"
    }
   ],
   "source": [
    "return_classification_report(pipe_nb2, X_train, y_train, X_test, y_test)"
   ]
  },
  {
   "cell_type": "markdown",
   "metadata": {},
   "source": [
    "Naive Bayes performed similarly to random forest classifier in terms of accuracy. "
   ]
  },
  {
   "cell_type": "markdown",
   "metadata": {},
   "source": [
    "### Neural Network Modeling"
   ]
  },
  {
   "cell_type": "markdown",
   "metadata": {},
   "source": [
    "We will now perform text classification using a Neural Network. Within the neural network, we will use a text processing technique called Word Embeddings. Word embeddings are a learned numerical representation for words in the form of a vector. Words that are \"close\" to other words in the vector space are considered more similar, which allows the model to detect and interpret semantic relationships. We will use a pretrained word embeddings document from the Stanford NLP Group. \n",
    "\n",
    "We will use the Keras library to vectorize our text and build our model."
   ]
  },
  {
   "cell_type": "code",
   "execution_count": 56,
   "metadata": {},
   "outputs": [],
   "source": [
    "import keras\n",
    "from keras.models import Sequential\n",
    "from keras.layers import Dense, Embedding, Dropout, Activation, GRU, LSTM\n",
    "from keras.callbacks import EarlyStopping, ModelCheckpoint\n",
    "from keras import regularizers\n",
    "from keras.optimizers import SGD\n",
    "from keras.preprocessing.text import Tokenizer\n",
    "from keras.preprocessing.sequence import pad_sequences\n",
    "from keras.layers import Embedding\n",
    "from keras.initializers import Constant\n",
    "from keras.metrics import Precision, Recall\n",
    "from keras.callbacks import EarlyStopping\n",
    "import talos\n",
    "import os"
   ]
  },
  {
   "cell_type": "code",
   "execution_count": 15,
   "metadata": {},
   "outputs": [],
   "source": [
    "embed_dim = 300"
   ]
  },
  {
   "cell_type": "markdown",
   "metadata": {},
   "source": [
    "Reading in the pretrained vector representations of words from the Standford NLP Group, and creating a dictionary with the words and their corresponding embedding."
   ]
  },
  {
   "cell_type": "code",
   "execution_count": 16,
   "metadata": {},
   "outputs": [],
   "source": [
    "embeddings_index = {}\n",
    "f = open(os.path.join('', 'Data/glove.6B.300d.txt'), encoding=\"utf-8\")\n",
    "for line in f:\n",
    "    values = line.split()\n",
    "    word = values[0]\n",
    "    coefs = np.asarray(values[1:])\n",
    "    embeddings_index[word] = coefs\n",
    "f.close()"
   ]
  },
  {
   "cell_type": "markdown",
   "metadata": {},
   "source": [
    "We will now create a vocabulary index based on word frequency with the tokenizer object, and calculate some parameters to be used in our embedding matrix."
   ]
  },
  {
   "cell_type": "code",
   "execution_count": 24,
   "metadata": {},
   "outputs": [],
   "source": [
    "tokenizer = Tokenizer()\n",
    "tokenizer.fit_on_texts(X_train) \n",
    "\n",
    "max_len = max([len(t.split(\" \")) for t in X_train])\n",
    "mean_len = round(np.mean([len(t.split(\" \")) for t in X_train]))\n",
    "total_vocab = len(tokenizer.word_index) + 1"
   ]
  },
  {
   "cell_type": "markdown",
   "metadata": {},
   "source": [
    "Transforming each text into a sequence of integers based on the internal vocabulary index previously created (each word mapped to an integer). We will then pad each sequence to the same length (in this case the mean length of a tweet in the training data)."
   ]
  },
  {
   "cell_type": "code",
   "execution_count": 25,
   "metadata": {},
   "outputs": [],
   "source": [
    "X_train_tokens = tokenizer.texts_to_sequences(X_train)\n",
    "X_test_tokens = tokenizer.texts_to_sequences(X_test)\n",
    "\n",
    "X_train_pad = pad_sequences(X_train_tokens, maxlen=mean_len, padding=\"post\")\n",
    "X_test_pad = pad_sequences(X_test_tokens, maxlen=mean_len, padding=\"post\")"
   ]
  },
  {
   "cell_type": "markdown",
   "metadata": {},
   "source": [
    "Mapping the word embeddings from the pretrained model stored in the embeddings index to the indicies stored in the word index object to create a matrix of vectors with a length of the total vocabulary + 1 and a width as long as the word embedding dimensions (in this case a vector sized 300)."
   ]
  },
  {
   "cell_type": "code",
   "execution_count": 26,
   "metadata": {},
   "outputs": [],
   "source": [
    "word_index = tokenizer.word_index\n",
    "embedding_matrix = np.zeros((total_vocab, embed_dim))\n",
    "for key, val in word_index.items():\n",
    "    if val > total_vocab:\n",
    "        continue\n",
    "    embedding_vector = embeddings_index.get(key)\n",
    "    if embedding_vector is not None:\n",
    "        embedding_matrix[val] = embedding_vector"
   ]
  },
  {
   "cell_type": "markdown",
   "metadata": {},
   "source": [
    "Turning the y train and test variables into binary numbers (1 to represent \"R\" class, 0 to represent \"D\" class)"
   ]
  },
  {
   "cell_type": "code",
   "execution_count": 27,
   "metadata": {},
   "outputs": [],
   "source": [
    "NN_y_train = y_train.map(lambda x: 0 if x == \"D\" else 1)\n",
    "NN_y_test = y_test.map(lambda x: 0 if x == \"D\" else 1)"
   ]
  },
  {
   "cell_type": "markdown",
   "metadata": {},
   "source": [
    "We will now assemble the model and define the embedding layer as the embedding matrix we previously created and set trainable to False, so that the model does not learn from the training data but instead uses the predefined weights passed in the embedding matrix."
   ]
  },
  {
   "cell_type": "code",
   "execution_count": 28,
   "metadata": {
    "scrolled": true
   },
   "outputs": [
    {
     "name": "stdout",
     "output_type": "stream",
     "text": [
      "Model: \"sequential_1\"\n",
      "_________________________________________________________________\n",
      "Layer (type)                 Output Shape              Param #   \n",
      "=================================================================\n",
      "embedding_1 (Embedding)      (None, 16, 300)           16157700  \n",
      "_________________________________________________________________\n",
      "gru_1 (GRU)                  (None, 32)                31968     \n",
      "_________________________________________________________________\n",
      "dense_1 (Dense)              (None, 1)                 33        \n",
      "=================================================================\n",
      "Total params: 16,189,701\n",
      "Trainable params: 32,001\n",
      "Non-trainable params: 16,157,700\n",
      "_________________________________________________________________\n"
     ]
    }
   ],
   "source": [
    "model = Sequential()\n",
    "\n",
    "embedding_layer = Embedding(total_vocab,\n",
    "                           embed_dim,\n",
    "                           embeddings_initializer=Constant(embedding_matrix),\n",
    "                           input_length=mean_len,\n",
    "                           trainable=False)\n",
    "model.add(embedding_layer)\n",
    "model.add(GRU(units=32, dropout=0.2, recurrent_dropout=0.2))\n",
    "model.add(Dense(1, activation='sigmoid'))\n",
    "\n",
    "model.compile(loss='binary_crossentropy', optimizer='adam', metrics=['accuracy'])\n",
    "model.summary()"
   ]
  },
  {
   "cell_type": "markdown",
   "metadata": {},
   "source": [
    "Assigning class weights to deal with class imbalance and configuring early stopping"
   ]
  },
  {
   "cell_type": "code",
   "execution_count": 53,
   "metadata": {},
   "outputs": [],
   "source": [
    "class_weight = {0: 1,\n",
    "                1: 3}\n",
    "callback = EarlyStopping(monitor='loss', patience=5)"
   ]
  },
  {
   "cell_type": "code",
   "execution_count": 30,
   "metadata": {},
   "outputs": [
    {
     "name": "stdout",
     "output_type": "stream",
     "text": [
      "Train on 281412 samples, validate on 120606 samples\n",
      "Epoch 1/32\n",
      " - 96s - loss: 0.8704 - accuracy: 0.6807 - val_loss: 0.5907 - val_accuracy: 0.7094\n",
      "Epoch 2/32\n",
      " - 84s - loss: 0.7889 - accuracy: 0.7304 - val_loss: 0.5707 - val_accuracy: 0.7362\n",
      "Epoch 3/32\n",
      " - 47s - loss: 0.7633 - accuracy: 0.7424 - val_loss: 0.5635 - val_accuracy: 0.7419\n",
      "Epoch 4/32\n",
      " - 43s - loss: 0.7486 - accuracy: 0.7494 - val_loss: 0.5669 - val_accuracy: 0.7312\n",
      "Epoch 5/32\n",
      " - 43s - loss: 0.7379 - accuracy: 0.7547 - val_loss: 0.5628 - val_accuracy: 0.7211\n",
      "Epoch 6/32\n",
      " - 43s - loss: 0.7314 - accuracy: 0.7572 - val_loss: 0.5513 - val_accuracy: 0.7443\n",
      "Epoch 7/32\n",
      " - 43s - loss: 0.7281 - accuracy: 0.7579 - val_loss: 0.5341 - val_accuracy: 0.7805\n",
      "Epoch 8/32\n",
      " - 43s - loss: 0.7232 - accuracy: 0.7624 - val_loss: 0.5618 - val_accuracy: 0.7274\n",
      "Epoch 9/32\n",
      " - 43s - loss: 0.7201 - accuracy: 0.7614 - val_loss: 0.5623 - val_accuracy: 0.7319\n",
      "Epoch 10/32\n",
      " - 43s - loss: 0.7173 - accuracy: 0.7638 - val_loss: 0.5593 - val_accuracy: 0.7189\n",
      "Epoch 11/32\n",
      " - 43s - loss: 0.7134 - accuracy: 0.7654 - val_loss: 0.5536 - val_accuracy: 0.7267\n",
      "Epoch 12/32\n",
      " - 43s - loss: 0.7113 - accuracy: 0.7664 - val_loss: 0.5471 - val_accuracy: 0.7375\n",
      "Epoch 13/32\n",
      " - 43s - loss: 0.7086 - accuracy: 0.7675 - val_loss: 0.5530 - val_accuracy: 0.7300\n",
      "Epoch 14/32\n",
      " - 43s - loss: 0.7087 - accuracy: 0.7667 - val_loss: 0.5409 - val_accuracy: 0.7377\n",
      "Epoch 15/32\n",
      " - 43s - loss: 0.7080 - accuracy: 0.7675 - val_loss: 0.5488 - val_accuracy: 0.7416\n",
      "Epoch 16/32\n",
      " - 43s - loss: 0.7061 - accuracy: 0.7676 - val_loss: 0.5328 - val_accuracy: 0.7622\n",
      "Epoch 17/32\n",
      " - 43s - loss: 0.7026 - accuracy: 0.7687 - val_loss: 0.5379 - val_accuracy: 0.7471\n",
      "Epoch 18/32\n",
      " - 43s - loss: 0.7025 - accuracy: 0.7684 - val_loss: 0.5308 - val_accuracy: 0.7531\n",
      "Epoch 19/32\n",
      " - 43s - loss: 0.6995 - accuracy: 0.7716 - val_loss: 0.5370 - val_accuracy: 0.7424\n",
      "Epoch 20/32\n",
      " - 43s - loss: 0.6991 - accuracy: 0.7706 - val_loss: 0.5451 - val_accuracy: 0.7389\n",
      "Epoch 21/32\n",
      " - 43s - loss: 0.6981 - accuracy: 0.7716 - val_loss: 0.5424 - val_accuracy: 0.7362\n",
      "Epoch 22/32\n",
      " - 43s - loss: 0.6980 - accuracy: 0.7718 - val_loss: 0.5433 - val_accuracy: 0.7349\n",
      "Epoch 23/32\n",
      " - 43s - loss: 0.6954 - accuracy: 0.7713 - val_loss: 0.5305 - val_accuracy: 0.7551\n",
      "Epoch 24/32\n",
      " - 43s - loss: 0.6950 - accuracy: 0.7721 - val_loss: 0.5434 - val_accuracy: 0.7386\n",
      "Epoch 25/32\n",
      " - 48s - loss: 0.6957 - accuracy: 0.7715 - val_loss: 0.5326 - val_accuracy: 0.7477\n",
      "Epoch 26/32\n",
      " - 43s - loss: 0.6948 - accuracy: 0.7723 - val_loss: 0.5375 - val_accuracy: 0.7448\n",
      "Epoch 27/32\n",
      " - 43s - loss: 0.6937 - accuracy: 0.7736 - val_loss: 0.5219 - val_accuracy: 0.7586\n",
      "Epoch 28/32\n",
      " - 43s - loss: 0.6952 - accuracy: 0.7717 - val_loss: 0.5484 - val_accuracy: 0.7266\n",
      "Epoch 29/32\n",
      " - 43s - loss: 0.6920 - accuracy: 0.7742 - val_loss: 0.5269 - val_accuracy: 0.7529\n",
      "Epoch 30/32\n",
      " - 44s - loss: 0.6916 - accuracy: 0.7732 - val_loss: 0.5424 - val_accuracy: 0.7366\n",
      "Epoch 31/32\n",
      " - 45s - loss: 0.6904 - accuracy: 0.7728 - val_loss: 0.5205 - val_accuracy: 0.7554\n",
      "Epoch 32/32\n",
      " - 45s - loss: 0.6928 - accuracy: 0.7732 - val_loss: 0.5376 - val_accuracy: 0.7436\n"
     ]
    }
   ],
   "source": [
    "history = model.fit(X_train_pad, NN_y_train, \n",
    "                   batch_size=100,\n",
    "                   epochs=32,\n",
    "                   verbose=2,\n",
    "                    class_weight=class_weight,\n",
    "                    callbacks = [callback], \n",
    "                   validation_data=(X_test_pad, NN_y_test))"
   ]
  },
  {
   "cell_type": "code",
   "execution_count": 33,
   "metadata": {
    "scrolled": true
   },
   "outputs": [
    {
     "data": {
      "text/html": [
       "<div>\n",
       "<style scoped>\n",
       "    .dataframe tbody tr th:only-of-type {\n",
       "        vertical-align: middle;\n",
       "    }\n",
       "\n",
       "    .dataframe tbody tr th {\n",
       "        vertical-align: top;\n",
       "    }\n",
       "\n",
       "    .dataframe thead tr th {\n",
       "        text-align: left;\n",
       "    }\n",
       "</style>\n",
       "<table border=\"1\" class=\"dataframe\">\n",
       "  <thead>\n",
       "    <tr>\n",
       "      <th></th>\n",
       "      <th colspan=\"4\" halign=\"left\">Train Scores Neural Network</th>\n",
       "      <th colspan=\"4\" halign=\"left\">Test Scores Neural Network</th>\n",
       "    </tr>\n",
       "    <tr>\n",
       "      <th></th>\n",
       "      <th>precision</th>\n",
       "      <th>recall</th>\n",
       "      <th>f1-score</th>\n",
       "      <th>support</th>\n",
       "      <th>precision</th>\n",
       "      <th>recall</th>\n",
       "      <th>f1-score</th>\n",
       "      <th>support</th>\n",
       "    </tr>\n",
       "  </thead>\n",
       "  <tbody>\n",
       "    <tr>\n",
       "      <th>0</th>\n",
       "      <td>0.92</td>\n",
       "      <td>0.75</td>\n",
       "      <td>0.83</td>\n",
       "      <td>212231.00</td>\n",
       "      <td>0.90</td>\n",
       "      <td>0.74</td>\n",
       "      <td>0.81</td>\n",
       "      <td>91216.00</td>\n",
       "    </tr>\n",
       "    <tr>\n",
       "      <th>1</th>\n",
       "      <td>0.51</td>\n",
       "      <td>0.79</td>\n",
       "      <td>0.62</td>\n",
       "      <td>69181.00</td>\n",
       "      <td>0.48</td>\n",
       "      <td>0.76</td>\n",
       "      <td>0.59</td>\n",
       "      <td>29390.00</td>\n",
       "    </tr>\n",
       "    <tr>\n",
       "      <th>accuracy</th>\n",
       "      <td>0.76</td>\n",
       "      <td>0.76</td>\n",
       "      <td>0.76</td>\n",
       "      <td>0.76</td>\n",
       "      <td>0.74</td>\n",
       "      <td>0.74</td>\n",
       "      <td>0.74</td>\n",
       "      <td>0.74</td>\n",
       "    </tr>\n",
       "    <tr>\n",
       "      <th>macro avg</th>\n",
       "      <td>0.71</td>\n",
       "      <td>0.77</td>\n",
       "      <td>0.72</td>\n",
       "      <td>281412.00</td>\n",
       "      <td>0.69</td>\n",
       "      <td>0.75</td>\n",
       "      <td>0.70</td>\n",
       "      <td>120606.00</td>\n",
       "    </tr>\n",
       "    <tr>\n",
       "      <th>weighted avg</th>\n",
       "      <td>0.82</td>\n",
       "      <td>0.76</td>\n",
       "      <td>0.78</td>\n",
       "      <td>281412.00</td>\n",
       "      <td>0.80</td>\n",
       "      <td>0.74</td>\n",
       "      <td>0.76</td>\n",
       "      <td>120606.00</td>\n",
       "    </tr>\n",
       "  </tbody>\n",
       "</table>\n",
       "</div>"
      ],
      "text/plain": [
       "             Train Scores Neural Network                             \\\n",
       "                               precision recall f1-score    support   \n",
       "0                                   0.92   0.75     0.83  212231.00   \n",
       "1                                   0.51   0.79     0.62   69181.00   \n",
       "accuracy                            0.76   0.76     0.76       0.76   \n",
       "macro avg                           0.71   0.77     0.72  281412.00   \n",
       "weighted avg                        0.82   0.76     0.78  281412.00   \n",
       "\n",
       "             Test Scores Neural Network                             \n",
       "                              precision recall f1-score    support  \n",
       "0                                  0.90   0.74     0.81   91216.00  \n",
       "1                                  0.48   0.76     0.59   29390.00  \n",
       "accuracy                           0.74   0.74     0.74       0.74  \n",
       "macro avg                          0.69   0.75     0.70  120606.00  \n",
       "weighted avg                       0.80   0.74     0.76  120606.00  "
      ]
     },
     "execution_count": 33,
     "metadata": {},
     "output_type": "execute_result"
    }
   ],
   "source": [
    "return_classification_report_NN(model, X_train_pad, NN_y_train, X_test_pad, NN_y_test)"
   ]
  },
  {
   "cell_type": "markdown",
   "metadata": {},
   "source": [
    "The model performed with an average accuracy of 74% and a f1 score of 0.7."
   ]
  },
  {
   "cell_type": "markdown",
   "metadata": {},
   "source": [
    "We will now tune the model using Talos, which acts as a kind of gridsearch to find the optimal parameters."
   ]
  },
  {
   "cell_type": "code",
   "execution_count": 60,
   "metadata": {},
   "outputs": [],
   "source": [
    "def NN_model(X_train, y_train, X_test, y_test, params):\n",
    "    model = Sequential()\n",
    "    embedding_layer = Embedding(total_vocab,\n",
    "                           embed_dim,\n",
    "                           embeddings_initializer=Constant(embedding_matrix),\n",
    "                           input_length=mean_len,\n",
    "                           trainable=False)\n",
    "    model.add(embedding_layer)\n",
    "    model.add(params[\"layers\"](units=32, dropout= params[\"dropout\"], recurrent_dropout=0.2))\n",
    "    model.add(Dense(1, activation='sigmoid'))\n",
    "\n",
    "    model.compile(loss = params[\"losses\"], optimizer = params[\"optimizers\"], metrics=['accuracy'])\n",
    "    history = model.fit(X_train, y_train, \n",
    "                   batch_size=100,\n",
    "                   epochs=8,\n",
    "                   verbose=2,\n",
    "                    class_weight= class_weight,\n",
    "                    callbacks = [callback], \n",
    "                   validation_data=(X_test, y_test))\n",
    "    \n",
    "    return history, model"
   ]
  },
  {
   "cell_type": "code",
   "execution_count": 61,
   "metadata": {},
   "outputs": [],
   "source": [
    "p = {\"optimizers\": [\"Nadam\", \"Adam\"],\n",
    "    \"losses\": [\"binary_crossentropy\", \"logcosh\"],\n",
    "     \"layers\": [GRU, LSTM],\n",
    "    \"dropout\": [0.2, 0.5]}"
   ]
  },
  {
   "cell_type": "code",
   "execution_count": 62,
   "metadata": {},
   "outputs": [
    {
     "name": "stderr",
     "output_type": "stream",
     "text": [
      "\r",
      "  0%|          | 0/16 [00:00<?, ?it/s]"
     ]
    },
    {
     "name": "stdout",
     "output_type": "stream",
     "text": [
      "Train on 281412 samples, validate on 120606 samples\n",
      "Epoch 1/8\n",
      " - 48s - loss: 0.8522 - accuracy: 0.6942 - val_loss: 0.6084 - val_accuracy: 0.6702\n",
      "Epoch 2/8\n",
      " - 53s - loss: 0.7838 - accuracy: 0.7343 - val_loss: 0.5911 - val_accuracy: 0.6890\n",
      "Epoch 3/8\n",
      " - 52s - loss: 0.7636 - accuracy: 0.7435 - val_loss: 0.5768 - val_accuracy: 0.7089\n",
      "Epoch 4/8\n",
      " - 50s - loss: 0.7531 - accuracy: 0.7473 - val_loss: 0.5831 - val_accuracy: 0.6940\n",
      "Epoch 5/8\n",
      " - 51s - loss: 0.7458 - accuracy: 0.7499 - val_loss: 0.5719 - val_accuracy: 0.7179\n",
      "Epoch 6/8\n",
      " - 53s - loss: 0.7401 - accuracy: 0.7540 - val_loss: 0.5600 - val_accuracy: 0.7337\n",
      "Epoch 7/8\n",
      " - 51s - loss: 0.7371 - accuracy: 0.7542 - val_loss: 0.5786 - val_accuracy: 0.6852\n",
      "Epoch 8/8\n",
      " - 52s - loss: 0.7313 - accuracy: 0.7576 - val_loss: 0.5468 - val_accuracy: 0.7355\n"
     ]
    },
    {
     "name": "stderr",
     "output_type": "stream",
     "text": [
      "  0%|          | 0/4 [20:25:29<?, ?it/s]\n",
      "  6%|▋         | 1/16 [06:59<1:44:48, 419.27s/it]"
     ]
    },
    {
     "name": "stdout",
     "output_type": "stream",
     "text": [
      "Train on 281412 samples, validate on 120606 samples\n",
      "Epoch 1/8\n",
      " - 57s - loss: 0.8667 - accuracy: 0.6826 - val_loss: 0.5807 - val_accuracy: 0.7315\n",
      "Epoch 2/8\n",
      " - 52s - loss: 0.7850 - accuracy: 0.7330 - val_loss: 0.5801 - val_accuracy: 0.7306\n",
      "Epoch 3/8\n",
      " - 56s - loss: 0.7606 - accuracy: 0.7433 - val_loss: 0.5599 - val_accuracy: 0.7450\n",
      "Epoch 4/8\n",
      " - 57s - loss: 0.7463 - accuracy: 0.7496 - val_loss: 0.5646 - val_accuracy: 0.7355\n",
      "Epoch 5/8\n",
      " - 54s - loss: 0.7357 - accuracy: 0.7546 - val_loss: 0.5584 - val_accuracy: 0.7421\n",
      "Epoch 6/8\n",
      " - 53s - loss: 0.7296 - accuracy: 0.7582 - val_loss: 0.5629 - val_accuracy: 0.7211\n",
      "Epoch 7/8\n",
      " - 54s - loss: 0.7241 - accuracy: 0.7604 - val_loss: 0.5670 - val_accuracy: 0.7187\n",
      "Epoch 8/8\n",
      " - 66s - loss: 0.7199 - accuracy: 0.7612 - val_loss: 0.5289 - val_accuracy: 0.7677\n"
     ]
    },
    {
     "name": "stderr",
     "output_type": "stream",
     "text": [
      "\r",
      " 12%|█▎        | 2/16 [14:37<1:43:08, 442.02s/it]"
     ]
    },
    {
     "name": "stdout",
     "output_type": "stream",
     "text": [
      "Train on 281412 samples, validate on 120606 samples\n",
      "Epoch 1/8\n",
      " - 62s - loss: 0.1371 - accuracy: 0.6987 - val_loss: 0.0943 - val_accuracy: 0.7036\n",
      "Epoch 2/8\n",
      " - 56s - loss: 0.1238 - accuracy: 0.7345 - val_loss: 0.0972 - val_accuracy: 0.6796\n",
      "Epoch 3/8\n",
      " - 58s - loss: 0.1200 - accuracy: 0.7451 - val_loss: 0.0932 - val_accuracy: 0.7203\n",
      "Epoch 4/8\n",
      " - 61s - loss: 0.1181 - accuracy: 0.7505 - val_loss: 0.0927 - val_accuracy: 0.7067\n",
      "Epoch 5/8\n",
      " - 57s - loss: 0.1167 - accuracy: 0.7535 - val_loss: 0.0901 - val_accuracy: 0.7229\n",
      "Epoch 6/8\n",
      " - 58s - loss: 0.1156 - accuracy: 0.7562 - val_loss: 0.0850 - val_accuracy: 0.7594\n",
      "Epoch 7/8\n",
      " - 64s - loss: 0.1150 - accuracy: 0.7568 - val_loss: 0.0853 - val_accuracy: 0.7556\n",
      "Epoch 8/8\n",
      " - 54s - loss: 0.1144 - accuracy: 0.7582 - val_loss: 0.0844 - val_accuracy: 0.7624\n"
     ]
    },
    {
     "name": "stderr",
     "output_type": "stream",
     "text": [
      "\r",
      " 19%|█▉        | 3/16 [22:36<1:39:24, 458.83s/it]"
     ]
    },
    {
     "name": "stdout",
     "output_type": "stream",
     "text": [
      "Train on 281412 samples, validate on 120606 samples\n",
      "Epoch 1/8\n",
      " - 55s - loss: 0.1411 - accuracy: 0.6845 - val_loss: 0.1001 - val_accuracy: 0.6712\n",
      "Epoch 2/8\n",
      " - 57s - loss: 0.1253 - accuracy: 0.7307 - val_loss: 0.0921 - val_accuracy: 0.7326\n",
      "Epoch 3/8\n",
      " - 57s - loss: 0.1203 - accuracy: 0.7432 - val_loss: 0.0884 - val_accuracy: 0.7389\n",
      "Epoch 4/8\n",
      " - 54s - loss: 0.1174 - accuracy: 0.7503 - val_loss: 0.0911 - val_accuracy: 0.7171\n",
      "Epoch 5/8\n",
      " - 55s - loss: 0.1156 - accuracy: 0.7539 - val_loss: 0.0903 - val_accuracy: 0.7290\n",
      "Epoch 6/8\n",
      " - 57s - loss: 0.1139 - accuracy: 0.7595 - val_loss: 0.0872 - val_accuracy: 0.7461\n",
      "Epoch 7/8\n",
      " - 59s - loss: 0.1130 - accuracy: 0.7614 - val_loss: 0.0888 - val_accuracy: 0.7301\n",
      "Epoch 8/8\n",
      " - 55s - loss: 0.1127 - accuracy: 0.7628 - val_loss: 0.0880 - val_accuracy: 0.7363\n"
     ]
    },
    {
     "name": "stderr",
     "output_type": "stream",
     "text": [
      "\r",
      " 25%|██▌       | 4/16 [30:15<1:31:46, 458.90s/it]"
     ]
    },
    {
     "name": "stdout",
     "output_type": "stream",
     "text": [
      "Train on 281412 samples, validate on 120606 samples\n",
      "Epoch 1/8\n",
      " - 59s - loss: 0.8117 - accuracy: 0.7134 - val_loss: 0.4873 - val_accuracy: 0.7563\n",
      "Epoch 2/8\n",
      " - 59s - loss: 0.7241 - accuracy: 0.7595 - val_loss: 0.4605 - val_accuracy: 0.7740\n",
      "Epoch 3/8\n",
      " - 64s - loss: 0.6950 - accuracy: 0.7727 - val_loss: 0.4238 - val_accuracy: 0.7993\n",
      "Epoch 4/8\n",
      " - 58s - loss: 0.6780 - accuracy: 0.7793 - val_loss: 0.4355 - val_accuracy: 0.7883\n",
      "Epoch 5/8\n",
      " - 60s - loss: 0.6677 - accuracy: 0.7827 - val_loss: 0.4426 - val_accuracy: 0.7831\n",
      "Epoch 6/8\n",
      " - 60s - loss: 0.6585 - accuracy: 0.7864 - val_loss: 0.4345 - val_accuracy: 0.7907\n",
      "Epoch 7/8\n",
      " - 58s - loss: 0.6545 - accuracy: 0.7882 - val_loss: 0.4448 - val_accuracy: 0.7844\n",
      "Epoch 8/8\n",
      " - 60s - loss: 0.6481 - accuracy: 0.7903 - val_loss: 0.4343 - val_accuracy: 0.7900\n"
     ]
    },
    {
     "name": "stderr",
     "output_type": "stream",
     "text": [
      "\r",
      " 31%|███▏      | 5/16 [38:21<1:25:59, 469.00s/it]"
     ]
    },
    {
     "name": "stdout",
     "output_type": "stream",
     "text": [
      "Train on 281412 samples, validate on 120606 samples\n",
      "Epoch 1/8\n",
      " - 54s - loss: 0.8372 - accuracy: 0.6998 - val_loss: 0.4628 - val_accuracy: 0.7747\n",
      "Epoch 2/8\n",
      " - 56s - loss: 0.7422 - accuracy: 0.7514 - val_loss: 0.4619 - val_accuracy: 0.7735\n",
      "Epoch 3/8\n",
      " - 53s - loss: 0.7091 - accuracy: 0.7661 - val_loss: 0.4449 - val_accuracy: 0.7823\n",
      "Epoch 4/8\n",
      " - 54s - loss: 0.6900 - accuracy: 0.7733 - val_loss: 0.4405 - val_accuracy: 0.7841\n",
      "Epoch 5/8\n",
      " - 56s - loss: 0.6758 - accuracy: 0.7790 - val_loss: 0.4424 - val_accuracy: 0.7850\n",
      "Epoch 6/8\n",
      " - 59s - loss: 0.6649 - accuracy: 0.7829 - val_loss: 0.4211 - val_accuracy: 0.7982\n",
      "Epoch 7/8\n",
      " - 59s - loss: 0.6568 - accuracy: 0.7860 - val_loss: 0.4212 - val_accuracy: 0.7991\n",
      "Epoch 8/8\n",
      " - 62s - loss: 0.6478 - accuracy: 0.7906 - val_loss: 0.4234 - val_accuracy: 0.7980\n"
     ]
    },
    {
     "name": "stderr",
     "output_type": "stream",
     "text": [
      "\r",
      " 38%|███▊      | 6/16 [46:03<1:17:46, 466.61s/it]"
     ]
    },
    {
     "name": "stdout",
     "output_type": "stream",
     "text": [
      "Train on 281412 samples, validate on 120606 samples\n",
      "Epoch 1/8\n",
      " - 64s - loss: 0.1299 - accuracy: 0.7147 - val_loss: 0.0740 - val_accuracy: 0.7631\n",
      "Epoch 2/8\n",
      " - 59s - loss: 0.1130 - accuracy: 0.7588 - val_loss: 0.0669 - val_accuracy: 0.7888\n",
      "Epoch 3/8\n",
      " - 59s - loss: 0.1080 - accuracy: 0.7715 - val_loss: 0.0705 - val_accuracy: 0.7770\n",
      "Epoch 4/8\n",
      " - 64s - loss: 0.1049 - accuracy: 0.7776 - val_loss: 0.0649 - val_accuracy: 0.7962\n",
      "Epoch 5/8\n",
      " - 64s - loss: 0.1028 - accuracy: 0.7837 - val_loss: 0.0625 - val_accuracy: 0.8062\n",
      "Epoch 6/8\n",
      " - 56s - loss: 0.1016 - accuracy: 0.7859 - val_loss: 0.0657 - val_accuracy: 0.7934\n",
      "Epoch 7/8\n",
      " - 59s - loss: 0.1005 - accuracy: 0.7885 - val_loss: 0.0664 - val_accuracy: 0.7911\n",
      "Epoch 8/8\n",
      " - 65s - loss: 0.0996 - accuracy: 0.7910 - val_loss: 0.0680 - val_accuracy: 0.7857\n"
     ]
    },
    {
     "name": "stderr",
     "output_type": "stream",
     "text": [
      "\r",
      " 44%|████▍     | 7/16 [54:21<1:11:31, 476.81s/it]"
     ]
    },
    {
     "name": "stdout",
     "output_type": "stream",
     "text": [
      "Train on 281412 samples, validate on 120606 samples\n",
      "Epoch 1/8\n",
      " - 55s - loss: 0.1356 - accuracy: 0.6971 - val_loss: 0.0733 - val_accuracy: 0.7687\n",
      "Epoch 2/8\n",
      " - 56s - loss: 0.1170 - accuracy: 0.7497 - val_loss: 0.0729 - val_accuracy: 0.7648\n",
      "Epoch 3/8\n",
      " - 142s - loss: 0.1112 - accuracy: 0.7647 - val_loss: 0.0691 - val_accuracy: 0.7809\n",
      "Epoch 4/8\n",
      " - 204s - loss: 0.1075 - accuracy: 0.7734 - val_loss: 0.0696 - val_accuracy: 0.7800\n",
      "Epoch 5/8\n",
      " - 202s - loss: 0.1050 - accuracy: 0.7786 - val_loss: 0.0681 - val_accuracy: 0.7853\n",
      "Epoch 6/8\n",
      " - 203s - loss: 0.1033 - accuracy: 0.7828 - val_loss: 0.0682 - val_accuracy: 0.7828\n",
      "Epoch 7/8\n",
      " - 194s - loss: 0.1018 - accuracy: 0.7854 - val_loss: 0.0646 - val_accuracy: 0.7974\n",
      "Epoch 8/8\n",
      " - 207s - loss: 0.1006 - accuracy: 0.7884 - val_loss: 0.0649 - val_accuracy: 0.7969\n"
     ]
    },
    {
     "name": "stderr",
     "output_type": "stream",
     "text": [
      "\r",
      " 50%|█████     | 8/16 [1:15:49<1:37:59, 734.96s/it]"
     ]
    },
    {
     "name": "stdout",
     "output_type": "stream",
     "text": [
      "Train on 281412 samples, validate on 120606 samples\n",
      "Epoch 1/8\n",
      " - 165s - loss: 0.9156 - accuracy: 0.6509 - val_loss: 0.6143 - val_accuracy: 0.6741\n",
      "Epoch 2/8\n",
      " - 171s - loss: 0.8601 - accuracy: 0.6914 - val_loss: 0.6220 - val_accuracy: 0.6446\n",
      "Epoch 3/8\n",
      " - 202s - loss: 0.8441 - accuracy: 0.7007 - val_loss: 0.5847 - val_accuracy: 0.6967\n",
      "Epoch 4/8\n",
      " - 178s - loss: 0.8377 - accuracy: 0.7063 - val_loss: 0.5815 - val_accuracy: 0.7072\n",
      "Epoch 5/8\n",
      " - 193s - loss: 0.8325 - accuracy: 0.7083 - val_loss: 0.5758 - val_accuracy: 0.7011\n",
      "Epoch 6/8\n",
      " - 200s - loss: 0.8301 - accuracy: 0.7096 - val_loss: 0.5610 - val_accuracy: 0.7220\n",
      "Epoch 7/8\n",
      " - 200s - loss: 0.8255 - accuracy: 0.7111 - val_loss: 0.5711 - val_accuracy: 0.7111\n",
      "Epoch 8/8\n",
      " - 201s - loss: 0.8230 - accuracy: 0.7136 - val_loss: 0.6102 - val_accuracy: 0.6335\n"
     ]
    },
    {
     "name": "stderr",
     "output_type": "stream",
     "text": [
      "\r",
      " 56%|█████▋    | 9/16 [1:41:28<1:55:03, 986.27s/it]"
     ]
    },
    {
     "name": "stdout",
     "output_type": "stream",
     "text": [
      "Train on 281412 samples, validate on 120606 samples\n",
      "Epoch 1/8\n",
      " - 189s - loss: 0.9264 - accuracy: 0.6402 - val_loss: 0.5856 - val_accuracy: 0.7216\n",
      "Epoch 2/8\n",
      " - 194s - loss: 0.8592 - accuracy: 0.6912 - val_loss: 0.5836 - val_accuracy: 0.7219\n",
      "Epoch 3/8\n",
      " - 166s - loss: 0.8391 - accuracy: 0.7031 - val_loss: 0.5787 - val_accuracy: 0.7244\n",
      "Epoch 4/8\n",
      " - 201s - loss: 0.8274 - accuracy: 0.7105 - val_loss: 0.5593 - val_accuracy: 0.7414\n",
      "Epoch 5/8\n",
      " - 164s - loss: 0.8180 - accuracy: 0.7136 - val_loss: 0.5721 - val_accuracy: 0.7238\n",
      "Epoch 6/8\n",
      " - 190s - loss: 0.8115 - accuracy: 0.7177 - val_loss: 0.5635 - val_accuracy: 0.7252\n",
      "Epoch 7/8\n",
      " - 201s - loss: 0.8074 - accuracy: 0.7200 - val_loss: 0.5631 - val_accuracy: 0.7356\n",
      "Epoch 8/8\n",
      " - 195s - loss: 0.8048 - accuracy: 0.7209 - val_loss: 0.5780 - val_accuracy: 0.7065\n"
     ]
    },
    {
     "name": "stderr",
     "output_type": "stream",
     "text": [
      "\r",
      " 62%|██████▎   | 10/16 [2:06:56<1:55:22, 1153.68s/it]"
     ]
    },
    {
     "name": "stdout",
     "output_type": "stream",
     "text": [
      "Train on 281412 samples, validate on 120606 samples\n",
      "Epoch 1/8\n",
      " - 192s - loss: 0.1499 - accuracy: 0.6545 - val_loss: 0.0978 - val_accuracy: 0.6979\n",
      "Epoch 2/8\n",
      " - 162s - loss: 0.1384 - accuracy: 0.6960 - val_loss: 0.0914 - val_accuracy: 0.7283\n",
      "Epoch 3/8\n",
      " - 203s - loss: 0.1357 - accuracy: 0.7030 - val_loss: 0.0860 - val_accuracy: 0.7520\n",
      "Epoch 4/8\n",
      " - 200s - loss: 0.1342 - accuracy: 0.7101 - val_loss: 0.0943 - val_accuracy: 0.7029\n",
      "Epoch 5/8\n",
      " - 202s - loss: 0.1331 - accuracy: 0.7112 - val_loss: 0.0904 - val_accuracy: 0.7228\n",
      "Epoch 6/8\n",
      " - 202s - loss: 0.1330 - accuracy: 0.7117 - val_loss: 0.0896 - val_accuracy: 0.7367\n",
      "Epoch 7/8\n",
      " - 186s - loss: 0.1321 - accuracy: 0.7133 - val_loss: 0.0884 - val_accuracy: 0.7392\n",
      "Epoch 8/8\n",
      " - 173s - loss: 0.1318 - accuracy: 0.7137 - val_loss: 0.0893 - val_accuracy: 0.7343\n"
     ]
    },
    {
     "name": "stderr",
     "output_type": "stream",
     "text": [
      "\r",
      " 69%|██████▉   | 11/16 [2:32:43<1:46:10, 1274.10s/it]"
     ]
    },
    {
     "name": "stdout",
     "output_type": "stream",
     "text": [
      "Train on 281412 samples, validate on 120606 samples\n",
      "Epoch 1/8\n",
      " - 138s - loss: 0.1530 - accuracy: 0.6432 - val_loss: 0.0962 - val_accuracy: 0.7178\n",
      "Epoch 2/8\n",
      " - 190s - loss: 0.1393 - accuracy: 0.6944 - val_loss: 0.0947 - val_accuracy: 0.7144\n",
      "Epoch 3/8\n",
      " - 163s - loss: 0.1346 - accuracy: 0.7077 - val_loss: 0.0943 - val_accuracy: 0.7160\n",
      "Epoch 4/8\n",
      " - 199s - loss: 0.1320 - accuracy: 0.7130 - val_loss: 0.0950 - val_accuracy: 0.6995\n",
      "Epoch 5/8\n",
      " - 200s - loss: 0.1305 - accuracy: 0.7168 - val_loss: 0.0940 - val_accuracy: 0.7004\n",
      "Epoch 6/8\n",
      " - 200s - loss: 0.1295 - accuracy: 0.7200 - val_loss: 0.0938 - val_accuracy: 0.7027\n",
      "Epoch 7/8\n",
      " - 139s - loss: 0.1288 - accuracy: 0.7208 - val_loss: 0.0926 - val_accuracy: 0.7079\n",
      "Epoch 8/8\n",
      " - 201s - loss: 0.1286 - accuracy: 0.7227 - val_loss: 0.0915 - val_accuracy: 0.7235\n"
     ]
    },
    {
     "name": "stderr",
     "output_type": "stream",
     "text": [
      "\r",
      " 75%|███████▌  | 12/16 [2:57:03<1:28:42, 1330.50s/it]"
     ]
    },
    {
     "name": "stdout",
     "output_type": "stream",
     "text": [
      "Train on 281412 samples, validate on 120606 samples\n",
      "Epoch 1/8\n",
      " - 206s - loss: 0.8727 - accuracy: 0.6787 - val_loss: 0.4789 - val_accuracy: 0.7704\n",
      "Epoch 2/8\n",
      " - 218s - loss: 0.7966 - accuracy: 0.7241 - val_loss: 0.4547 - val_accuracy: 0.7810\n",
      "Epoch 3/8\n",
      " - 218s - loss: 0.7765 - accuracy: 0.7344 - val_loss: 0.4554 - val_accuracy: 0.7756\n",
      "Epoch 4/8\n",
      " - 218s - loss: 0.7639 - accuracy: 0.7394 - val_loss: 0.4610 - val_accuracy: 0.7672\n",
      "Epoch 5/8\n",
      " - 218s - loss: 0.7581 - accuracy: 0.7424 - val_loss: 0.4286 - val_accuracy: 0.7973\n",
      "Epoch 6/8\n",
      " - 217s - loss: 0.7523 - accuracy: 0.7457 - val_loss: 0.4549 - val_accuracy: 0.7753\n",
      "Epoch 7/8\n",
      " - 217s - loss: 0.7467 - accuracy: 0.7477 - val_loss: 0.4472 - val_accuracy: 0.7821\n",
      "Epoch 8/8\n",
      " - 214s - loss: 0.7450 - accuracy: 0.7482 - val_loss: 0.4598 - val_accuracy: 0.7710\n"
     ]
    },
    {
     "name": "stderr",
     "output_type": "stream",
     "text": [
      "\r",
      " 81%|████████▏ | 13/16 [3:26:17<1:12:56, 1458.84s/it]"
     ]
    },
    {
     "name": "stdout",
     "output_type": "stream",
     "text": [
      "Train on 281412 samples, validate on 120606 samples\n",
      "Epoch 1/8\n",
      " - 210s - loss: 0.8952 - accuracy: 0.6642 - val_loss: 0.5016 - val_accuracy: 0.7479\n",
      "Epoch 2/8\n",
      " - 208s - loss: 0.8115 - accuracy: 0.7159 - val_loss: 0.4699 - val_accuracy: 0.7714\n",
      "Epoch 3/8\n",
      " - 208s - loss: 0.7854 - accuracy: 0.7286 - val_loss: 0.4725 - val_accuracy: 0.7638\n",
      "Epoch 4/8\n",
      " - 206s - loss: 0.7700 - accuracy: 0.7372 - val_loss: 0.4595 - val_accuracy: 0.7739\n",
      "Epoch 5/8\n",
      " - 206s - loss: 0.7600 - accuracy: 0.7418 - val_loss: 0.4441 - val_accuracy: 0.7839\n",
      "Epoch 6/8\n",
      " - 209s - loss: 0.7511 - accuracy: 0.7456 - val_loss: 0.4497 - val_accuracy: 0.7780\n",
      "Epoch 7/8\n",
      " - 209s - loss: 0.7481 - accuracy: 0.7469 - val_loss: 0.4322 - val_accuracy: 0.7905\n",
      "Epoch 8/8\n",
      " - 208s - loss: 0.7427 - accuracy: 0.7500 - val_loss: 0.4510 - val_accuracy: 0.7783\n"
     ]
    },
    {
     "name": "stderr",
     "output_type": "stream",
     "text": [
      "\r",
      " 88%|████████▊ | 14/16 [3:54:29<50:58, 1529.23s/it]  "
     ]
    },
    {
     "name": "stdout",
     "output_type": "stream",
     "text": [
      "Train on 281412 samples, validate on 120606 samples\n",
      "Epoch 1/8\n",
      " - 204s - loss: 0.1422 - accuracy: 0.6796 - val_loss: 0.0741 - val_accuracy: 0.7651\n",
      "Epoch 2/8\n",
      " - 201s - loss: 0.1270 - accuracy: 0.7231 - val_loss: 0.0725 - val_accuracy: 0.7701\n",
      "Epoch 3/8\n",
      " - 197s - loss: 0.1232 - accuracy: 0.7336 - val_loss: 0.0747 - val_accuracy: 0.7603\n",
      "Epoch 4/8\n",
      " - 205s - loss: 0.1211 - accuracy: 0.7387 - val_loss: 0.0734 - val_accuracy: 0.7650\n",
      "Epoch 5/8\n",
      " - 205s - loss: 0.1195 - accuracy: 0.7431 - val_loss: 0.0686 - val_accuracy: 0.7830\n",
      "Epoch 6/8\n",
      " - 204s - loss: 0.1191 - accuracy: 0.7443 - val_loss: 0.0685 - val_accuracy: 0.7841\n",
      "Epoch 7/8\n",
      " - 205s - loss: 0.1186 - accuracy: 0.7462 - val_loss: 0.0672 - val_accuracy: 0.7898\n",
      "Epoch 8/8\n",
      " - 205s - loss: 0.1177 - accuracy: 0.7484 - val_loss: 0.0680 - val_accuracy: 0.7869\n"
     ]
    },
    {
     "name": "stderr",
     "output_type": "stream",
     "text": [
      "\r",
      " 94%|█████████▍| 15/16 [4:22:03<26:06, 1566.76s/it]"
     ]
    },
    {
     "name": "stdout",
     "output_type": "stream",
     "text": [
      "Train on 281412 samples, validate on 120606 samples\n",
      "Epoch 1/8\n",
      " - 209s - loss: 0.1474 - accuracy: 0.6623 - val_loss: 0.0816 - val_accuracy: 0.7342\n",
      "Epoch 2/8\n",
      " - 209s - loss: 0.1303 - accuracy: 0.7146 - val_loss: 0.0755 - val_accuracy: 0.7565\n",
      "Epoch 3/8\n",
      " - 207s - loss: 0.1252 - accuracy: 0.7285 - val_loss: 0.0742 - val_accuracy: 0.7626\n",
      "Epoch 4/8\n",
      " - 205s - loss: 0.1222 - accuracy: 0.7357 - val_loss: 0.0702 - val_accuracy: 0.7783\n",
      "Epoch 5/8\n",
      " - 208s - loss: 0.1201 - accuracy: 0.7423 - val_loss: 0.0715 - val_accuracy: 0.7725\n",
      "Epoch 6/8\n",
      " - 209s - loss: 0.1190 - accuracy: 0.7442 - val_loss: 0.0725 - val_accuracy: 0.7711\n",
      "Epoch 7/8\n",
      " - 210s - loss: 0.1181 - accuracy: 0.7464 - val_loss: 0.0682 - val_accuracy: 0.7846\n",
      "Epoch 8/8\n",
      " - 180s - loss: 0.1168 - accuracy: 0.7501 - val_loss: 0.0662 - val_accuracy: 0.7921\n"
     ]
    },
    {
     "name": "stderr",
     "output_type": "stream",
     "text": [
      "100%|██████████| 16/16 [4:49:33<00:00, 1085.82s/it]\n"
     ]
    }
   ],
   "source": [
    "t = talos.Scan(x=X_train_pad, y=NN_y_train,\n",
    "           model=NN_model, \n",
    "           experiment_name = 'NN_gs',\n",
    "           params=p,\n",
    "            x_val = X_test_pad,\n",
    "            y_val = NN_y_test)"
   ]
  },
  {
   "cell_type": "code",
   "execution_count": 63,
   "metadata": {
    "scrolled": true
   },
   "outputs": [
    {
     "data": {
      "text/html": [
       "<div>\n",
       "<style scoped>\n",
       "    .dataframe tbody tr th:only-of-type {\n",
       "        vertical-align: middle;\n",
       "    }\n",
       "\n",
       "    .dataframe tbody tr th {\n",
       "        vertical-align: top;\n",
       "    }\n",
       "\n",
       "    .dataframe thead th {\n",
       "        text-align: right;\n",
       "    }\n",
       "</style>\n",
       "<table border=\"1\" class=\"dataframe\">\n",
       "  <thead>\n",
       "    <tr style=\"text-align: right;\">\n",
       "      <th></th>\n",
       "      <th>start</th>\n",
       "      <th>end</th>\n",
       "      <th>duration</th>\n",
       "      <th>round_epochs</th>\n",
       "      <th>val_loss</th>\n",
       "      <th>val_accuracy</th>\n",
       "      <th>loss</th>\n",
       "      <th>accuracy</th>\n",
       "      <th>dropout</th>\n",
       "      <th>layers</th>\n",
       "      <th>losses</th>\n",
       "      <th>optimizers</th>\n",
       "    </tr>\n",
       "  </thead>\n",
       "  <tbody>\n",
       "    <tr>\n",
       "      <th>0</th>\n",
       "      <td>03/04/21-181420</td>\n",
       "      <td>03/04/21-182111</td>\n",
       "      <td>410.932261</td>\n",
       "      <td>8</td>\n",
       "      <td>0.546841</td>\n",
       "      <td>0.735527</td>\n",
       "      <td>0.731325</td>\n",
       "      <td>0.757569</td>\n",
       "      <td>0.2</td>\n",
       "      <td>&lt;class 'keras.layers.recurrent.GRU'&gt;</td>\n",
       "      <td>binary_crossentropy</td>\n",
       "      <td>Nadam</td>\n",
       "    </tr>\n",
       "    <tr>\n",
       "      <th>1</th>\n",
       "      <td>03/04/21-182119</td>\n",
       "      <td>03/04/21-182848</td>\n",
       "      <td>449.325450</td>\n",
       "      <td>8</td>\n",
       "      <td>0.528910</td>\n",
       "      <td>0.767731</td>\n",
       "      <td>0.719927</td>\n",
       "      <td>0.761240</td>\n",
       "      <td>0.2</td>\n",
       "      <td>&lt;class 'keras.layers.recurrent.GRU'&gt;</td>\n",
       "      <td>binary_crossentropy</td>\n",
       "      <td>Adam</td>\n",
       "    </tr>\n",
       "    <tr>\n",
       "      <th>2</th>\n",
       "      <td>03/04/21-182857</td>\n",
       "      <td>03/04/21-183648</td>\n",
       "      <td>471.481067</td>\n",
       "      <td>8</td>\n",
       "      <td>0.084352</td>\n",
       "      <td>0.762408</td>\n",
       "      <td>0.114363</td>\n",
       "      <td>0.758162</td>\n",
       "      <td>0.2</td>\n",
       "      <td>&lt;class 'keras.layers.recurrent.GRU'&gt;</td>\n",
       "      <td>logcosh</td>\n",
       "      <td>Nadam</td>\n",
       "    </tr>\n",
       "    <tr>\n",
       "      <th>3</th>\n",
       "      <td>03/04/21-183656</td>\n",
       "      <td>03/04/21-184427</td>\n",
       "      <td>451.627621</td>\n",
       "      <td>8</td>\n",
       "      <td>0.088039</td>\n",
       "      <td>0.736332</td>\n",
       "      <td>0.112655</td>\n",
       "      <td>0.762800</td>\n",
       "      <td>0.2</td>\n",
       "      <td>&lt;class 'keras.layers.recurrent.GRU'&gt;</td>\n",
       "      <td>logcosh</td>\n",
       "      <td>Adam</td>\n",
       "    </tr>\n",
       "    <tr>\n",
       "      <th>4</th>\n",
       "      <td>03/04/21-184435</td>\n",
       "      <td>03/04/21-185234</td>\n",
       "      <td>479.699069</td>\n",
       "      <td>8</td>\n",
       "      <td>0.434272</td>\n",
       "      <td>0.790044</td>\n",
       "      <td>0.648067</td>\n",
       "      <td>0.790339</td>\n",
       "      <td>0.2</td>\n",
       "      <td>&lt;class 'keras.layers.recurrent.LSTM'&gt;</td>\n",
       "      <td>binary_crossentropy</td>\n",
       "      <td>Nadam</td>\n",
       "    </tr>\n",
       "    <tr>\n",
       "      <th>5</th>\n",
       "      <td>03/04/21-185242</td>\n",
       "      <td>03/04/21-190015</td>\n",
       "      <td>453.774988</td>\n",
       "      <td>8</td>\n",
       "      <td>0.423420</td>\n",
       "      <td>0.798045</td>\n",
       "      <td>0.647812</td>\n",
       "      <td>0.790567</td>\n",
       "      <td>0.2</td>\n",
       "      <td>&lt;class 'keras.layers.recurrent.LSTM'&gt;</td>\n",
       "      <td>binary_crossentropy</td>\n",
       "      <td>Adam</td>\n",
       "    </tr>\n",
       "    <tr>\n",
       "      <th>6</th>\n",
       "      <td>03/04/21-190024</td>\n",
       "      <td>03/04/21-190834</td>\n",
       "      <td>490.631693</td>\n",
       "      <td>8</td>\n",
       "      <td>0.067981</td>\n",
       "      <td>0.785724</td>\n",
       "      <td>0.099608</td>\n",
       "      <td>0.791025</td>\n",
       "      <td>0.2</td>\n",
       "      <td>&lt;class 'keras.layers.recurrent.LSTM'&gt;</td>\n",
       "      <td>logcosh</td>\n",
       "      <td>Nadam</td>\n",
       "    </tr>\n",
       "    <tr>\n",
       "      <th>7</th>\n",
       "      <td>03/04/21-190841</td>\n",
       "      <td>03/04/21-192946</td>\n",
       "      <td>1264.597223</td>\n",
       "      <td>8</td>\n",
       "      <td>0.064888</td>\n",
       "      <td>0.796876</td>\n",
       "      <td>0.100568</td>\n",
       "      <td>0.788371</td>\n",
       "      <td>0.2</td>\n",
       "      <td>&lt;class 'keras.layers.recurrent.LSTM'&gt;</td>\n",
       "      <td>logcosh</td>\n",
       "      <td>Adam</td>\n",
       "    </tr>\n",
       "    <tr>\n",
       "      <th>8</th>\n",
       "      <td>03/04/21-193009</td>\n",
       "      <td>03/04/21-195525</td>\n",
       "      <td>1515.387301</td>\n",
       "      <td>8</td>\n",
       "      <td>0.610203</td>\n",
       "      <td>0.633493</td>\n",
       "      <td>0.823038</td>\n",
       "      <td>0.713644</td>\n",
       "      <td>0.5</td>\n",
       "      <td>&lt;class 'keras.layers.recurrent.GRU'&gt;</td>\n",
       "      <td>binary_crossentropy</td>\n",
       "      <td>Nadam</td>\n",
       "    </tr>\n",
       "    <tr>\n",
       "      <th>9</th>\n",
       "      <td>03/04/21-195548</td>\n",
       "      <td>03/04/21-202053</td>\n",
       "      <td>1505.178576</td>\n",
       "      <td>8</td>\n",
       "      <td>0.578041</td>\n",
       "      <td>0.706482</td>\n",
       "      <td>0.804763</td>\n",
       "      <td>0.720925</td>\n",
       "      <td>0.5</td>\n",
       "      <td>&lt;class 'keras.layers.recurrent.GRU'&gt;</td>\n",
       "      <td>binary_crossentropy</td>\n",
       "      <td>Adam</td>\n",
       "    </tr>\n",
       "    <tr>\n",
       "      <th>10</th>\n",
       "      <td>03/04/21-202117</td>\n",
       "      <td>03/04/21-204641</td>\n",
       "      <td>1524.872069</td>\n",
       "      <td>8</td>\n",
       "      <td>0.089279</td>\n",
       "      <td>0.734317</td>\n",
       "      <td>0.131804</td>\n",
       "      <td>0.713690</td>\n",
       "      <td>0.5</td>\n",
       "      <td>&lt;class 'keras.layers.recurrent.GRU'&gt;</td>\n",
       "      <td>logcosh</td>\n",
       "      <td>Nadam</td>\n",
       "    </tr>\n",
       "    <tr>\n",
       "      <th>11</th>\n",
       "      <td>03/04/21-204704</td>\n",
       "      <td>03/04/21-211100</td>\n",
       "      <td>1436.061479</td>\n",
       "      <td>8</td>\n",
       "      <td>0.091489</td>\n",
       "      <td>0.723471</td>\n",
       "      <td>0.128575</td>\n",
       "      <td>0.722737</td>\n",
       "      <td>0.5</td>\n",
       "      <td>&lt;class 'keras.layers.recurrent.GRU'&gt;</td>\n",
       "      <td>logcosh</td>\n",
       "      <td>Adam</td>\n",
       "    </tr>\n",
       "    <tr>\n",
       "      <th>12</th>\n",
       "      <td>03/04/21-211123</td>\n",
       "      <td>03/04/21-214015</td>\n",
       "      <td>1731.557229</td>\n",
       "      <td>8</td>\n",
       "      <td>0.459777</td>\n",
       "      <td>0.771015</td>\n",
       "      <td>0.745022</td>\n",
       "      <td>0.748205</td>\n",
       "      <td>0.5</td>\n",
       "      <td>&lt;class 'keras.layers.recurrent.LSTM'&gt;</td>\n",
       "      <td>binary_crossentropy</td>\n",
       "      <td>Nadam</td>\n",
       "    </tr>\n",
       "    <tr>\n",
       "      <th>13</th>\n",
       "      <td>03/04/21-214037</td>\n",
       "      <td>03/04/21-220826</td>\n",
       "      <td>1668.914253</td>\n",
       "      <td>8</td>\n",
       "      <td>0.451001</td>\n",
       "      <td>0.778278</td>\n",
       "      <td>0.742703</td>\n",
       "      <td>0.749954</td>\n",
       "      <td>0.5</td>\n",
       "      <td>&lt;class 'keras.layers.recurrent.LSTM'&gt;</td>\n",
       "      <td>binary_crossentropy</td>\n",
       "      <td>Adam</td>\n",
       "    </tr>\n",
       "    <tr>\n",
       "      <th>14</th>\n",
       "      <td>03/04/21-220849</td>\n",
       "      <td>03/04/21-223601</td>\n",
       "      <td>1631.610568</td>\n",
       "      <td>8</td>\n",
       "      <td>0.067995</td>\n",
       "      <td>0.786876</td>\n",
       "      <td>0.117690</td>\n",
       "      <td>0.748390</td>\n",
       "      <td>0.5</td>\n",
       "      <td>&lt;class 'keras.layers.recurrent.LSTM'&gt;</td>\n",
       "      <td>logcosh</td>\n",
       "      <td>Nadam</td>\n",
       "    </tr>\n",
       "    <tr>\n",
       "      <th>15</th>\n",
       "      <td>03/04/21-223623</td>\n",
       "      <td>03/04/21-230346</td>\n",
       "      <td>1642.535203</td>\n",
       "      <td>8</td>\n",
       "      <td>0.066233</td>\n",
       "      <td>0.792108</td>\n",
       "      <td>0.116822</td>\n",
       "      <td>0.750149</td>\n",
       "      <td>0.5</td>\n",
       "      <td>&lt;class 'keras.layers.recurrent.LSTM'&gt;</td>\n",
       "      <td>logcosh</td>\n",
       "      <td>Adam</td>\n",
       "    </tr>\n",
       "  </tbody>\n",
       "</table>\n",
       "</div>"
      ],
      "text/plain": [
       "              start              end     duration  round_epochs  val_loss  \\\n",
       "0   03/04/21-181420  03/04/21-182111   410.932261             8  0.546841   \n",
       "1   03/04/21-182119  03/04/21-182848   449.325450             8  0.528910   \n",
       "2   03/04/21-182857  03/04/21-183648   471.481067             8  0.084352   \n",
       "3   03/04/21-183656  03/04/21-184427   451.627621             8  0.088039   \n",
       "4   03/04/21-184435  03/04/21-185234   479.699069             8  0.434272   \n",
       "5   03/04/21-185242  03/04/21-190015   453.774988             8  0.423420   \n",
       "6   03/04/21-190024  03/04/21-190834   490.631693             8  0.067981   \n",
       "7   03/04/21-190841  03/04/21-192946  1264.597223             8  0.064888   \n",
       "8   03/04/21-193009  03/04/21-195525  1515.387301             8  0.610203   \n",
       "9   03/04/21-195548  03/04/21-202053  1505.178576             8  0.578041   \n",
       "10  03/04/21-202117  03/04/21-204641  1524.872069             8  0.089279   \n",
       "11  03/04/21-204704  03/04/21-211100  1436.061479             8  0.091489   \n",
       "12  03/04/21-211123  03/04/21-214015  1731.557229             8  0.459777   \n",
       "13  03/04/21-214037  03/04/21-220826  1668.914253             8  0.451001   \n",
       "14  03/04/21-220849  03/04/21-223601  1631.610568             8  0.067995   \n",
       "15  03/04/21-223623  03/04/21-230346  1642.535203             8  0.066233   \n",
       "\n",
       "    val_accuracy      loss  accuracy  dropout  \\\n",
       "0       0.735527  0.731325  0.757569      0.2   \n",
       "1       0.767731  0.719927  0.761240      0.2   \n",
       "2       0.762408  0.114363  0.758162      0.2   \n",
       "3       0.736332  0.112655  0.762800      0.2   \n",
       "4       0.790044  0.648067  0.790339      0.2   \n",
       "5       0.798045  0.647812  0.790567      0.2   \n",
       "6       0.785724  0.099608  0.791025      0.2   \n",
       "7       0.796876  0.100568  0.788371      0.2   \n",
       "8       0.633493  0.823038  0.713644      0.5   \n",
       "9       0.706482  0.804763  0.720925      0.5   \n",
       "10      0.734317  0.131804  0.713690      0.5   \n",
       "11      0.723471  0.128575  0.722737      0.5   \n",
       "12      0.771015  0.745022  0.748205      0.5   \n",
       "13      0.778278  0.742703  0.749954      0.5   \n",
       "14      0.786876  0.117690  0.748390      0.5   \n",
       "15      0.792108  0.116822  0.750149      0.5   \n",
       "\n",
       "                                   layers               losses optimizers  \n",
       "0    <class 'keras.layers.recurrent.GRU'>  binary_crossentropy      Nadam  \n",
       "1    <class 'keras.layers.recurrent.GRU'>  binary_crossentropy       Adam  \n",
       "2    <class 'keras.layers.recurrent.GRU'>              logcosh      Nadam  \n",
       "3    <class 'keras.layers.recurrent.GRU'>              logcosh       Adam  \n",
       "4   <class 'keras.layers.recurrent.LSTM'>  binary_crossentropy      Nadam  \n",
       "5   <class 'keras.layers.recurrent.LSTM'>  binary_crossentropy       Adam  \n",
       "6   <class 'keras.layers.recurrent.LSTM'>              logcosh      Nadam  \n",
       "7   <class 'keras.layers.recurrent.LSTM'>              logcosh       Adam  \n",
       "8    <class 'keras.layers.recurrent.GRU'>  binary_crossentropy      Nadam  \n",
       "9    <class 'keras.layers.recurrent.GRU'>  binary_crossentropy       Adam  \n",
       "10   <class 'keras.layers.recurrent.GRU'>              logcosh      Nadam  \n",
       "11   <class 'keras.layers.recurrent.GRU'>              logcosh       Adam  \n",
       "12  <class 'keras.layers.recurrent.LSTM'>  binary_crossentropy      Nadam  \n",
       "13  <class 'keras.layers.recurrent.LSTM'>  binary_crossentropy       Adam  \n",
       "14  <class 'keras.layers.recurrent.LSTM'>              logcosh      Nadam  \n",
       "15  <class 'keras.layers.recurrent.LSTM'>              logcosh       Adam  "
      ]
     },
     "execution_count": 63,
     "metadata": {},
     "output_type": "execute_result"
    }
   ],
   "source": [
    "t.data"
   ]
  },
  {
   "cell_type": "markdown",
   "metadata": {},
   "source": [
    "It appears that the best parameters for the model are LSTM, a dropout of 0.2, binary crossentropy loss and Adam optimizer. We will fit a new model using these parameters."
   ]
  },
  {
   "cell_type": "code",
   "execution_count": 65,
   "metadata": {},
   "outputs": [
    {
     "name": "stdout",
     "output_type": "stream",
     "text": [
      "Model: \"sequential_1\"\n",
      "_________________________________________________________________\n",
      "Layer (type)                 Output Shape              Param #   \n",
      "=================================================================\n",
      "embedding_1 (Embedding)      (None, 16, 300)           16157700  \n",
      "_________________________________________________________________\n",
      "lstm_1 (LSTM)                (None, 32)                42624     \n",
      "_________________________________________________________________\n",
      "dense_1 (Dense)              (None, 1)                 33        \n",
      "=================================================================\n",
      "Total params: 16,200,357\n",
      "Trainable params: 42,657\n",
      "Non-trainable params: 16,157,700\n",
      "_________________________________________________________________\n"
     ]
    }
   ],
   "source": [
    "model2 = Sequential()\n",
    "\n",
    "embedding_layer2 = Embedding(total_vocab,\n",
    "                           embed_dim,\n",
    "                           embeddings_initializer=Constant(embedding_matrix),\n",
    "                           input_length=mean_len,\n",
    "                           trainable=False)\n",
    "model2.add(embedding_layer)\n",
    "model2.add(LSTM(units=32, dropout=0.2, recurrent_dropout=0.2))\n",
    "model2.add(Dense(1, activation='sigmoid'))\n",
    "\n",
    "model2.compile(loss='binary_crossentropy', optimizer='Adam', metrics=['accuracy'])\n",
    "model2.summary()"
   ]
  },
  {
   "cell_type": "code",
   "execution_count": 66,
   "metadata": {},
   "outputs": [
    {
     "name": "stdout",
     "output_type": "stream",
     "text": [
      "Train on 281412 samples, validate on 120606 samples\n",
      "Epoch 1/32\n",
      " - 51s - loss: 0.8359 - accuracy: 0.7013 - val_loss: 0.4746 - val_accuracy: 0.7637\n",
      "Epoch 2/32\n",
      " - 54s - loss: 0.7408 - accuracy: 0.7522 - val_loss: 0.4788 - val_accuracy: 0.7594\n",
      "Epoch 3/32\n",
      " - 55s - loss: 0.7093 - accuracy: 0.7651 - val_loss: 0.4365 - val_accuracy: 0.7877\n",
      "Epoch 4/32\n",
      " - 57s - loss: 0.6911 - accuracy: 0.7717 - val_loss: 0.4501 - val_accuracy: 0.7799\n",
      "Epoch 5/32\n",
      " - 60s - loss: 0.6779 - accuracy: 0.7784 - val_loss: 0.4318 - val_accuracy: 0.7914\n",
      "Epoch 6/32\n",
      " - 55s - loss: 0.6663 - accuracy: 0.7820 - val_loss: 0.4395 - val_accuracy: 0.7864\n",
      "Epoch 7/32\n",
      " - 62s - loss: 0.6608 - accuracy: 0.7848 - val_loss: 0.4263 - val_accuracy: 0.7952\n",
      "Epoch 8/32\n",
      " - 57s - loss: 0.6519 - accuracy: 0.7881 - val_loss: 0.4238 - val_accuracy: 0.7986\n",
      "Epoch 9/32\n",
      " - 97s - loss: 0.6462 - accuracy: 0.7909 - val_loss: 0.4153 - val_accuracy: 0.8012\n",
      "Epoch 10/32\n",
      " - 95s - loss: 0.6420 - accuracy: 0.7918 - val_loss: 0.4182 - val_accuracy: 0.7989\n",
      "Epoch 11/32\n",
      " - 54s - loss: 0.6374 - accuracy: 0.7931 - val_loss: 0.4365 - val_accuracy: 0.7878\n",
      "Epoch 12/32\n",
      " - 54s - loss: 0.6349 - accuracy: 0.7953 - val_loss: 0.4222 - val_accuracy: 0.7968\n",
      "Epoch 13/32\n",
      " - 54s - loss: 0.6314 - accuracy: 0.7957 - val_loss: 0.4095 - val_accuracy: 0.8074\n",
      "Epoch 14/32\n",
      " - 54s - loss: 0.6291 - accuracy: 0.7964 - val_loss: 0.4456 - val_accuracy: 0.7816\n",
      "Epoch 15/32\n",
      " - 54s - loss: 0.6258 - accuracy: 0.7982 - val_loss: 0.4317 - val_accuracy: 0.7913\n",
      "Epoch 16/32\n",
      " - 54s - loss: 0.6239 - accuracy: 0.8002 - val_loss: 0.4350 - val_accuracy: 0.7907\n",
      "Epoch 17/32\n",
      " - 54s - loss: 0.6221 - accuracy: 0.7993 - val_loss: 0.4145 - val_accuracy: 0.8032\n",
      "Epoch 18/32\n",
      " - 54s - loss: 0.6188 - accuracy: 0.8011 - val_loss: 0.4248 - val_accuracy: 0.7952\n",
      "Epoch 19/32\n",
      " - 53s - loss: 0.6193 - accuracy: 0.8012 - val_loss: 0.4126 - val_accuracy: 0.8044\n",
      "Epoch 20/32\n",
      " - 62s - loss: 0.6165 - accuracy: 0.8018 - val_loss: 0.4309 - val_accuracy: 0.7926\n",
      "Epoch 21/32\n",
      " - 55s - loss: 0.6146 - accuracy: 0.8028 - val_loss: 0.4246 - val_accuracy: 0.7968\n",
      "Epoch 22/32\n",
      " - 54s - loss: 0.6131 - accuracy: 0.8030 - val_loss: 0.4245 - val_accuracy: 0.7965\n",
      "Epoch 23/32\n",
      " - 55s - loss: 0.6112 - accuracy: 0.8034 - val_loss: 0.4242 - val_accuracy: 0.7970\n",
      "Epoch 24/32\n",
      " - 56s - loss: 0.6123 - accuracy: 0.8032 - val_loss: 0.4160 - val_accuracy: 0.8025\n",
      "Epoch 25/32\n",
      " - 58s - loss: 0.6098 - accuracy: 0.8046 - val_loss: 0.4367 - val_accuracy: 0.7887\n",
      "Epoch 26/32\n",
      " - 55s - loss: 0.6073 - accuracy: 0.8045 - val_loss: 0.4277 - val_accuracy: 0.7940\n",
      "Epoch 27/32\n",
      " - 55s - loss: 0.6087 - accuracy: 0.8051 - val_loss: 0.4129 - val_accuracy: 0.8036\n",
      "Epoch 28/32\n",
      " - 54s - loss: 0.6071 - accuracy: 0.8054 - val_loss: 0.4204 - val_accuracy: 0.8005\n",
      "Epoch 29/32\n",
      " - 54s - loss: 0.6063 - accuracy: 0.8055 - val_loss: 0.4300 - val_accuracy: 0.7920\n",
      "Epoch 30/32\n",
      " - 54s - loss: 0.6045 - accuracy: 0.8058 - val_loss: 0.4086 - val_accuracy: 0.8067\n",
      "Epoch 31/32\n",
      " - 56s - loss: 0.6036 - accuracy: 0.8066 - val_loss: 0.4166 - val_accuracy: 0.8014\n",
      "Epoch 32/32\n",
      " - 55s - loss: 0.6041 - accuracy: 0.8058 - val_loss: 0.4272 - val_accuracy: 0.7957\n"
     ]
    }
   ],
   "source": [
    "history2 = model2.fit(X_train_pad, NN_y_train, \n",
    "                   batch_size=100,\n",
    "                   epochs=32,\n",
    "                   verbose=2,\n",
    "                    class_weight=class_weight,\n",
    "                    callbacks = [callback], \n",
    "                   validation_data=(X_test_pad, NN_y_test))"
   ]
  },
  {
   "cell_type": "code",
   "execution_count": 67,
   "metadata": {},
   "outputs": [
    {
     "data": {
      "text/html": [
       "<div>\n",
       "<style scoped>\n",
       "    .dataframe tbody tr th:only-of-type {\n",
       "        vertical-align: middle;\n",
       "    }\n",
       "\n",
       "    .dataframe tbody tr th {\n",
       "        vertical-align: top;\n",
       "    }\n",
       "\n",
       "    .dataframe thead tr th {\n",
       "        text-align: left;\n",
       "    }\n",
       "</style>\n",
       "<table border=\"1\" class=\"dataframe\">\n",
       "  <thead>\n",
       "    <tr>\n",
       "      <th></th>\n",
       "      <th colspan=\"4\" halign=\"left\">Train Scores Neural Network</th>\n",
       "      <th colspan=\"4\" halign=\"left\">Test Scores Neural Network</th>\n",
       "    </tr>\n",
       "    <tr>\n",
       "      <th></th>\n",
       "      <th>precision</th>\n",
       "      <th>recall</th>\n",
       "      <th>f1-score</th>\n",
       "      <th>support</th>\n",
       "      <th>precision</th>\n",
       "      <th>recall</th>\n",
       "      <th>f1-score</th>\n",
       "      <th>support</th>\n",
       "    </tr>\n",
       "  </thead>\n",
       "  <tbody>\n",
       "    <tr>\n",
       "      <th>0</th>\n",
       "      <td>0.95</td>\n",
       "      <td>0.82</td>\n",
       "      <td>0.88</td>\n",
       "      <td>212231.00</td>\n",
       "      <td>0.92</td>\n",
       "      <td>0.80</td>\n",
       "      <td>0.86</td>\n",
       "      <td>91216.0</td>\n",
       "    </tr>\n",
       "    <tr>\n",
       "      <th>1</th>\n",
       "      <td>0.61</td>\n",
       "      <td>0.86</td>\n",
       "      <td>0.72</td>\n",
       "      <td>69181.00</td>\n",
       "      <td>0.56</td>\n",
       "      <td>0.79</td>\n",
       "      <td>0.65</td>\n",
       "      <td>29390.0</td>\n",
       "    </tr>\n",
       "    <tr>\n",
       "      <th>accuracy</th>\n",
       "      <td>0.83</td>\n",
       "      <td>0.83</td>\n",
       "      <td>0.83</td>\n",
       "      <td>0.83</td>\n",
       "      <td>0.80</td>\n",
       "      <td>0.80</td>\n",
       "      <td>0.80</td>\n",
       "      <td>0.8</td>\n",
       "    </tr>\n",
       "    <tr>\n",
       "      <th>macro avg</th>\n",
       "      <td>0.78</td>\n",
       "      <td>0.84</td>\n",
       "      <td>0.80</td>\n",
       "      <td>281412.00</td>\n",
       "      <td>0.74</td>\n",
       "      <td>0.79</td>\n",
       "      <td>0.75</td>\n",
       "      <td>120606.0</td>\n",
       "    </tr>\n",
       "    <tr>\n",
       "      <th>weighted avg</th>\n",
       "      <td>0.87</td>\n",
       "      <td>0.83</td>\n",
       "      <td>0.84</td>\n",
       "      <td>281412.00</td>\n",
       "      <td>0.83</td>\n",
       "      <td>0.80</td>\n",
       "      <td>0.81</td>\n",
       "      <td>120606.0</td>\n",
       "    </tr>\n",
       "  </tbody>\n",
       "</table>\n",
       "</div>"
      ],
      "text/plain": [
       "             Train Scores Neural Network                             \\\n",
       "                               precision recall f1-score    support   \n",
       "0                                   0.95   0.82     0.88  212231.00   \n",
       "1                                   0.61   0.86     0.72   69181.00   \n",
       "accuracy                            0.83   0.83     0.83       0.83   \n",
       "macro avg                           0.78   0.84     0.80  281412.00   \n",
       "weighted avg                        0.87   0.83     0.84  281412.00   \n",
       "\n",
       "             Test Scores Neural Network                            \n",
       "                              precision recall f1-score   support  \n",
       "0                                  0.92   0.80     0.86   91216.0  \n",
       "1                                  0.56   0.79     0.65   29390.0  \n",
       "accuracy                           0.80   0.80     0.80       0.8  \n",
       "macro avg                          0.74   0.79     0.75  120606.0  \n",
       "weighted avg                       0.83   0.80     0.81  120606.0  "
      ]
     },
     "execution_count": 67,
     "metadata": {},
     "output_type": "execute_result"
    }
   ],
   "source": [
    "return_classification_report_NN(model2, X_train_pad, NN_y_train, X_test_pad, NN_y_test)"
   ]
  },
  {
   "cell_type": "markdown",
   "metadata": {},
   "source": [
    "The model's accuracy increased to 80% and the F1 score increased as well to 0.75. This appears to be the best performing model."
   ]
  },
  {
   "cell_type": "markdown",
   "metadata": {},
   "source": [
    "### Prediction Function"
   ]
  },
  {
   "cell_type": "markdown",
   "metadata": {},
   "source": [
    "We will now create a prediction function where a user can enter a tweet and the final model will return a prediction of whether the tweet could be potentially right or left biased."
   ]
  },
  {
   "cell_type": "code",
   "execution_count": 128,
   "metadata": {},
   "outputs": [],
   "source": [
    "def predict_class_NN(maximum_len=mean_len):\n",
    "    test_sample = str(input(\"Please enter a tweet: \\n\"))\n",
    "    proc = process_text(test_sample, pattern)\n",
    "    lem = [lemmatize(proc)]\n",
    "    test_tokens = tokenizer.texts_to_sequences(lem)\n",
    "    test_pad = pad_sequences(test_tokens, maxlen=maximum_len)\n",
    "    output = model2.predict_classes(test_pad)\n",
    "    if output[0] == 1:\n",
    "        return \"Potentially Right Biased\"\n",
    "    else:\n",
    "        return \"Potentially Left Biased\""
   ]
  },
  {
   "cell_type": "code",
   "execution_count": 129,
   "metadata": {},
   "outputs": [
    {
     "name": "stdout",
     "output_type": "stream",
     "text": [
      "Please enter a tweet: \n",
      "Joe Biden’s been President for 43 days. It’s only going to get worse.\n"
     ]
    },
    {
     "data": {
      "text/plain": [
       "'Potentially Right Biased'"
      ]
     },
     "execution_count": 129,
     "metadata": {},
     "output_type": "execute_result"
    }
   ],
   "source": [
    "predict_class_NN()"
   ]
  },
  {
   "cell_type": "code",
   "execution_count": 131,
   "metadata": {
    "scrolled": true
   },
   "outputs": [
    {
     "name": "stdout",
     "output_type": "stream",
     "text": [
      "Please enter a tweet: \n",
      "Conservative Dems have fought so the Biden admin sends fewer & less generous relief checks than the Trump admin did.  It’s a move that makes little-to-no political or economic sense, and targets an element of relief that is most tangibly felt by everyday people. An own-goal.\n"
     ]
    },
    {
     "data": {
      "text/plain": [
       "'Potentially Left Biased'"
      ]
     },
     "execution_count": 131,
     "metadata": {},
     "output_type": "execute_result"
    }
   ],
   "source": [
    "predict_class_NN()"
   ]
  },
  {
   "cell_type": "markdown",
   "metadata": {},
   "source": [
    "### Post Modeling EDA"
   ]
  },
  {
   "cell_type": "markdown",
   "metadata": {},
   "source": [
    "We will now examine some of the missclassified and correctly classified tweets."
   ]
  },
  {
   "cell_type": "code",
   "execution_count": 181,
   "metadata": {},
   "outputs": [],
   "source": [
    "def predict_probs_NN(df, maximum_len = mean_len):\n",
    "    df_samp = df.sample(1000).reset_index()\n",
    "    test_tokens = tokenizer.texts_to_sequences(df_samp[\"lemmatized\"])\n",
    "    test_pad = pad_sequences(test_tokens, maxlen=maximum_len)\n",
    "    output_p =model2.predict(test_pad)\n",
    "    p_reshape = pd.Series(output_p.reshape(output_p.shape[0], ))\n",
    "    output_c = model2.predict_classes(test_pad)\n",
    "    c_reshape =pd.Series(output_c.reshape(output_c.shape[0], ))\n",
    "    df_new = pd.concat([df_samp[\"tweet\"], p_reshape, c_reshape, df_samp[\"party\"]], keys=[\"Tweet\", \"Probability\", \"Prediction\", \"Real\"], axis=1)\n",
    "    df_new[\"Prediction\"] = df_new[\"Prediction\"].map(lambda x: \"R\" if x == 1 else \"D\")\n",
    "    return df_new"
   ]
  },
  {
   "cell_type": "code",
   "execution_count": 183,
   "metadata": {},
   "outputs": [],
   "source": [
    "sample_preds = predict_probs_NN(preprocess)"
   ]
  },
  {
   "cell_type": "code",
   "execution_count": 231,
   "metadata": {},
   "outputs": [
    {
     "name": "stdout",
     "output_type": "stream",
     "text": [
      "['It’s a charade anyway – Democratic leader Chuck Schumer controls Nelson’s vote. Senator Nelson’s entire campaign is funded by the Democrat leaders and special interests in Washington. Schumer and Pelosi own Nelson’s vote… he doesn’t even have the option of voting with Florida.']\n"
     ]
    }
   ],
   "source": [
    "print(sample_preds[sample_preds[\"Probability\"] == sample_preds[\"Probability\"].max()][\"Tweet\"].values)"
   ]
  },
  {
   "cell_type": "code",
   "execution_count": 232,
   "metadata": {},
   "outputs": [
    {
     "name": "stdout",
     "output_type": "stream",
     "text": [
      "['Don’t let the NRA fool you: an overwhelming 97% of Americans support universal background checks to confront gun violence. We owe it to every victim, survivor, their families, and our communities to be stronger and louder than the gun lobby.  https://t.co/XzBXuuZ6Cd']\n"
     ]
    }
   ],
   "source": [
    "print(sample_preds[sample_preds[\"Probability\"] == sample_preds[\"Probability\"].min()][\"Tweet\"].values)"
   ]
  },
  {
   "cell_type": "code",
   "execution_count": 228,
   "metadata": {},
   "outputs": [],
   "source": [
    "missclassified = sample_preds[sample_preds[\"Prediction\"] != sample_preds[\"Real\"]]"
   ]
  },
  {
   "cell_type": "code",
   "execution_count": 233,
   "metadata": {},
   "outputs": [
    {
     "name": "stdout",
     "output_type": "stream",
     "text": [
      "['Even conservatives acknowledge that Turkey is becoming an autocracy. Erdogan is setting the country back 100 years.  https://t.co/OJyUAeeBuy']\n"
     ]
    }
   ],
   "source": [
    "print(missclassified[missclassified[\"Probability\"] == missclassified[\"Probability\"].max()][\"Tweet\"].values)"
   ]
  },
  {
   "cell_type": "code",
   "execution_count": 234,
   "metadata": {},
   "outputs": [
    {
     "name": "stdout",
     "output_type": "stream",
     "text": [
      "['Trump: Responsibly Restrained on Foreign Policy.  https://t.co/hjZGyTDWwa']\n"
     ]
    }
   ],
   "source": [
    "print(missclassified[missclassified[\"Probability\"] == missclassified[\"Probability\"].min()][\"Tweet\"].values)"
   ]
  }
 ],
 "metadata": {
  "kernelspec": {
   "display_name": "Python 3",
   "language": "python",
   "name": "python3"
  },
  "language_info": {
   "codemirror_mode": {
    "name": "ipython",
    "version": 3
   },
   "file_extension": ".py",
   "mimetype": "text/x-python",
   "name": "python",
   "nbconvert_exporter": "python",
   "pygments_lexer": "ipython3",
   "version": "3.6.9"
  },
  "toc": {
   "base_numbering": 1,
   "nav_menu": {},
   "number_sections": true,
   "sideBar": true,
   "skip_h1_title": false,
   "title_cell": "Table of Contents",
   "title_sidebar": "Contents",
   "toc_cell": false,
   "toc_position": {
    "height": "590px",
    "left": "149px",
    "top": "700.778px",
    "width": "165px"
   },
   "toc_section_display": true,
   "toc_window_display": true
  }
 },
 "nbformat": 4,
 "nbformat_minor": 4
}
